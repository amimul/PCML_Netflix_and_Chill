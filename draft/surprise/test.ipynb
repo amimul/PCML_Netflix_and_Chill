{
 "cells": [
  {
   "cell_type": "code",
   "execution_count": 7,
   "metadata": {
    "collapsed": true
   },
   "outputs": [],
   "source": [
    "from surprise import *\n",
    "from helpers import *"
   ]
  },
  {
   "cell_type": "code",
   "execution_count": 9,
   "metadata": {
    "collapsed": true
   },
   "outputs": [],
   "source": [
    "reader = Reader(line_format='user item rating', sep=',')\n",
    "data = Dataset.load_from_file('train.csv', reader=reader)\n"
   ]
  },
  {
   "cell_type": "code",
   "execution_count": 10,
   "metadata": {
    "collapsed": false
   },
   "outputs": [
    {
     "name": "stdout",
     "output_type": "stream",
     "text": [
      "Evaluating RMSE of algorithm SlopeOne.\n",
      "\n",
      "------------\n",
      "Fold 1\n",
      "RMSE: 1.0003\n",
      "------------\n",
      "Fold 2\n",
      "RMSE: 0.9994\n",
      "------------\n",
      "Fold 3\n",
      "RMSE: 1.0026\n",
      "------------\n",
      "Fold 4\n",
      "RMSE: 0.9992\n",
      "------------\n",
      "Fold 5\n",
      "RMSE: 0.9997\n",
      "------------\n",
      "------------\n",
      "Mean RMSE: 1.0002\n",
      "------------\n",
      "------------\n"
     ]
    }
   ],
   "source": [
    "algo = SlopeOne()\n",
    "perf = evaluate(algo, data, measures=['RMSE'])"
   ]
  },
  {
   "cell_type": "code",
   "execution_count": 28,
   "metadata": {
    "collapsed": false,
    "scrolled": false
   },
   "outputs": [
    {
     "name": "stdout",
     "output_type": "stream",
     "text": [
      "Evaluating RMSE of algorithm SVD.\n",
      "\n",
      "------------\n",
      "Fold 1\n",
      "RMSE: 1.0003\n",
      "------------\n",
      "Fold 2\n",
      "RMSE: 0.9999\n",
      "------------\n",
      "Fold 3\n",
      "RMSE: 1.0018\n",
      "------------\n",
      "Fold 4\n",
      "RMSE: 0.9996\n",
      "------------\n",
      "Fold 5\n",
      "RMSE: 1.0005\n",
      "------------\n",
      "------------\n",
      "Mean RMSE: 1.0004\n",
      "------------\n",
      "------------\n"
     ]
    }
   ],
   "source": [
    "algo = SVD(n_epochs=30)\n",
    "perf = evaluate(algo, data, measures=['RMSE'])"
   ]
  },
  {
   "cell_type": "code",
   "execution_count": null,
   "metadata": {
    "collapsed": true
   },
   "outputs": [],
   "source": []
  }
 ],
 "metadata": {
  "anaconda-cloud": {},
  "kernelspec": {
   "display_name": "Python [conda root]",
   "language": "python",
   "name": "conda-root-py"
  },
  "language_info": {
   "codemirror_mode": {
    "name": "ipython",
    "version": 3
   },
   "file_extension": ".py",
   "mimetype": "text/x-python",
   "name": "python",
   "nbconvert_exporter": "python",
   "pygments_lexer": "ipython3",
   "version": "3.5.2"
  }
 },
 "nbformat": 4,
 "nbformat_minor": 1
}
