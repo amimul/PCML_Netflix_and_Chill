{
 "cells": [
  {
   "cell_type": "code",
   "execution_count": 20,
   "metadata": {
    "collapsed": false
   },
   "outputs": [],
   "source": [
    "# Import the fucking useful libraries =)\n",
    "import pandas as pd\n",
    "import numpy as np\n",
    "\n",
    "import os\n",
    "import matplotlib.pyplot as plt\n",
    "import random\n",
    "from IPython import display\n",
    "from helpers import *\n",
    "from sklearn.linear_model import Ridge\n",
    "\n",
    "%matplotlib inline\n",
    "%reload_ext autoreload\n",
    "%autoreload 2\n",
    "\n",
    "# There's a lot of columns in the DF. \n",
    "# Therefore, we add this option so that we can see more columns\n",
    "pd.options.display.max_columns = 100"
   ]
  },
  {
   "cell_type": "code",
   "execution_count": 21,
   "metadata": {
    "collapsed": true
   },
   "outputs": [],
   "source": [
    "# Define here the data set\n",
    "dataset = '../data/data_train.csv'"
   ]
  },
  {
   "cell_type": "code",
   "execution_count": 22,
   "metadata": {
    "collapsed": false
   },
   "outputs": [
    {
     "name": "stdout",
     "output_type": "stream",
     "text": [
      "Load the dataset\n"
     ]
    }
   ],
   "source": [
    "data = prepare_data(dataset)\n",
    "data = data.drop('Id', axis=1)"
   ]
  },
  {
   "cell_type": "code",
   "execution_count": 23,
   "metadata": {
    "collapsed": false
   },
   "outputs": [
    {
     "data": {
      "text/html": [
       "<div>\n",
       "<table border=\"1\" class=\"dataframe\">\n",
       "  <thead>\n",
       "    <tr style=\"text-align: right;\">\n",
       "      <th></th>\n",
       "      <th>Prediction</th>\n",
       "      <th>UserID</th>\n",
       "      <th>MovieID</th>\n",
       "    </tr>\n",
       "  </thead>\n",
       "  <tbody>\n",
       "    <tr>\n",
       "      <th>0</th>\n",
       "      <td>4</td>\n",
       "      <td>43</td>\n",
       "      <td>0</td>\n",
       "    </tr>\n",
       "    <tr>\n",
       "      <th>1</th>\n",
       "      <td>3</td>\n",
       "      <td>60</td>\n",
       "      <td>0</td>\n",
       "    </tr>\n",
       "    <tr>\n",
       "      <th>2</th>\n",
       "      <td>4</td>\n",
       "      <td>66</td>\n",
       "      <td>0</td>\n",
       "    </tr>\n",
       "    <tr>\n",
       "      <th>3</th>\n",
       "      <td>3</td>\n",
       "      <td>71</td>\n",
       "      <td>0</td>\n",
       "    </tr>\n",
       "    <tr>\n",
       "      <th>4</th>\n",
       "      <td>5</td>\n",
       "      <td>85</td>\n",
       "      <td>0</td>\n",
       "    </tr>\n",
       "  </tbody>\n",
       "</table>\n",
       "</div>"
      ],
      "text/plain": [
       "   Prediction  UserID  MovieID\n",
       "0           4      43        0\n",
       "1           3      60        0\n",
       "2           4      66        0\n",
       "3           3      71        0\n",
       "4           5      85        0"
      ]
     },
     "execution_count": 23,
     "metadata": {},
     "output_type": "execute_result"
    }
   ],
   "source": [
    "data.head()\n"
   ]
  },
  {
   "cell_type": "code",
   "execution_count": 24,
   "metadata": {
    "collapsed": false
   },
   "outputs": [
    {
     "name": "stderr",
     "output_type": "stream",
     "text": [
      "/home/gael/anaconda3/lib/python3.5/site-packages/ipykernel/__main__.py:4: FutureWarning: sort(columns=....) is deprecated, use sort_values(by=.....)\n"
     ]
    }
   ],
   "source": [
    "# Shuffle the data\n",
    "rowID = np.array(data.index)\n",
    "np.random.shuffle(rowID)\n",
    "shuffled = data.ix[rowID].sort('UserID').set_index('UserID')"
   ]
  },
  {
   "cell_type": "code",
   "execution_count": 25,
   "metadata": {
    "collapsed": true
   },
   "outputs": [],
   "source": [
    "## Split the train and test set for each user\n",
    "def split(user):\n",
    "    df = shuffled.ix[user]\n",
    "    N = len(df)\n",
    "    Ntest = int(N/3)\n",
    "    Ntrain = N - Ntest\n",
    "    train = df.head(Ntrain)\n",
    "    test = df.tail(Ntest)\n",
    "    return train, test"
   ]
  },
  {
   "cell_type": "code",
   "execution_count": 26,
   "metadata": {
    "collapsed": false
   },
   "outputs": [],
   "source": [
    "## Create the train and test sets for all users\n",
    "for user in shuffled.index.unique():\n",
    "    if user == 0:\n",
    "        train, test = split(user)\n",
    "    else:\n",
    "        a, b = split(user)\n",
    "        train = train.append(a)\n",
    "        test = test.append(b)\n",
    "train.reset_index(inplace=True)\n",
    "test.reset_index(inplace=True)"
   ]
  },
  {
   "cell_type": "code",
   "execution_count": 27,
   "metadata": {
    "collapsed": false
   },
   "outputs": [
    {
     "name": "stdout",
     "output_type": "stream",
     "text": [
      "training matrix = (10000, 1000)\n",
      "test matrix = (10000, 1000)\n"
     ]
    }
   ],
   "source": [
    "rating_train = train.pivot(index='UserID', columns='MovieID').Prediction\n",
    "rating_test = test.pivot(index='UserID', columns='MovieID').Prediction\n",
    "userID, movieID = rating_train.index, rating_train.columns\n",
    "Nu, Nm = len(userID), len(movieID)\n",
    "\n",
    "print('training matrix =', rating_train.shape)\n",
    "print('test matrix =', rating_test.shape)"
   ]
  },
  {
   "cell_type": "code",
   "execution_count": 67,
   "metadata": {
    "collapsed": false
   },
   "outputs": [
    {
     "name": "stdout",
     "output_type": "stream",
     "text": [
      "(10000, 20) (1000, 20)\n"
     ]
    }
   ],
   "source": [
    "## number of movie features\n",
    "n = 20\n",
    "\n",
    "## Matrix of user preferences\n",
    "U = pd.DataFrame(np.random.rand(Nu, n), index=userID, columns=range(1, n+1))\n",
    "\n",
    "## Matrix of movie features\n",
    "M = pd.DataFrame(np.random.rand(Nm, n), index=movieID, columns=range(1, n+1))\n",
    "\n",
    "U0, M0 = U.copy(), M.copy()\n",
    "print(U.shape, M.shape)"
   ]
  },
  {
   "cell_type": "code",
   "execution_count": 58,
   "metadata": {
    "collapsed": true
   },
   "outputs": [],
   "source": [
    "def CVerror(alpha):\n",
    "    bestFit = {'U': U0, 'M': M0, 'error': np.inf}\n",
    "    fitUM(bestFit, alpha)\n",
    "    U_opt, M_opt, train_error = bestFit['U'], bestFit['M'], bestFit['error']\n",
    "    pred = predict(U_opt, M_opt)\n",
    "    train_error = rmse(rating_train, pred)\n",
    "    CV_error = rmse(rating_test, pred)\n",
    "    return train_error, CV_error"
   ]
  },
  {
   "cell_type": "code",
   "execution_count": 59,
   "metadata": {
    "collapsed": true
   },
   "outputs": [],
   "source": [
    "def rmse(y, yhat):\n",
    "    err = (y - yhat) ** 2\n",
    "    return np.sqrt(np.mean(err.mean(skipna=True)))"
   ]
  },
  {
   "cell_type": "code",
   "execution_count": 73,
   "metadata": {
    "collapsed": false
   },
   "outputs": [],
   "source": [
    "## Fit the user preferences (U)\n",
    "def fitU(error_history, bestFit, alpha=1):  \n",
    "    ## Join ratings and movie features\n",
    "    Udata = train.set_index('MovieID').join(M).sort('UserID').set_index('UserID')\n",
    "    ## Function for fitting individual users\n",
    "    model = Ridge(fit_intercept=False, alpha=alpha)\n",
    "    def Ufit(i):\n",
    "        df = Udata.ix[i]\n",
    "        print(df)\n",
    "        asd\n",
    "        X = df.drop('Prediction', axis=1)\n",
    "        y = df.Prediction\n",
    "        model.fit(X, y)\n",
    "        return model.coef_\n",
    "    ## Fit all users\n",
    "    for i in userID:\n",
    "        U.ix[i] = Ufit(i)\n",
    "    ## Calculate the error\n",
    "    pred = predict(U, M)\n",
    "    error = rmse(rating_train, pred)\n",
    "    error_history.append(error)\n",
    "    delta = bestFit['error'] - error\n",
    "    if delta > 0:\n",
    "        bestFit['U'] = U\n",
    "        bestFit['M'] = M\n",
    "        bestFit['error'] = error\n",
    "    return delta\n",
    "\n",
    "## Fit the movie features (M)\n",
    "def fitM(error_history, bestFit, alpha=1):\n",
    "    ## Join ratings and user preferences\n",
    "    Mdata = train.set_index('UserID').join(U).sort('MovieID').set_index('MovieID')\n",
    "    ## Function for fitting individual movies\n",
    "    model = Ridge(fit_intercept=False, alpha=alpha)\n",
    "    def Mfit(j):\n",
    "        df = Mdata.ix[j]\n",
    "        X = df.drop('Prediction', axis=1)\n",
    "        y = df.Prediction\n",
    "        model.fit(X, y)\n",
    "        return model.coef_\n",
    "    ## Fit all movies \n",
    "    for j in movieID:\n",
    "        M.ix[j] = Mfit(j)\n",
    "    ## Calculate the error\n",
    "    pred = predict(U, M)\n",
    "    error = rmse(rating_train, pred)\n",
    "    error_history.append(error)\n",
    "    delta = bestFit['error'] - error\n",
    "    if delta > 0:\n",
    "        bestFit['U'] = U\n",
    "        bestFit['M'] = M\n",
    "        bestFit['error'] = error\n",
    "    return delta\n",
    "\n",
    "## Predict the ratings (U dot M)\n",
    "def predict(U, M):\n",
    "    pred = U.dot(M.T)\n",
    "    pred[pred > 5] = 5\n",
    "    pred[pred < 1] = 1\n",
    "    return pred\n",
    "\n",
    "## Repeat the optimization until convergence\n",
    "def fitUM(bestFit, alpha=1, tol=0.05):\n",
    "    U, M = U0.copy(), M0.copy()\n",
    "    error_history = []\n",
    "    delta = fitU(error_history, bestFit, alpha=alpha)\n",
    "    tolerance = tol\n",
    "    while delta > tolerance:\n",
    "        delta = fitM(error_history, bestFit, alpha=alpha)\n",
    "        if delta > tolerance:\n",
    "            delta = fitU(error_history, bestFit, alpha=alpha)\n",
    "    return error_history"
   ]
  },
  {
   "cell_type": "code",
   "execution_count": 61,
   "metadata": {
    "collapsed": false
   },
   "outputs": [],
   "source": [
    "alphas = range(10,30)"
   ]
  },
  {
   "cell_type": "code",
   "execution_count": 62,
   "metadata": {
    "collapsed": false
   },
   "outputs": [
    {
     "name": "stdout",
     "output_type": "stream",
     "text": [
      "Start for alpha = 10\n"
     ]
    },
    {
     "name": "stderr",
     "output_type": "stream",
     "text": [
      "/home/gael/anaconda3/lib/python3.5/site-packages/ipykernel/__main__.py:4: FutureWarning: sort(columns=....) is deprecated, use sort_values(by=.....)\n",
      "/home/gael/anaconda3/lib/python3.5/site-packages/ipykernel/__main__.py:30: FutureWarning: sort(columns=....) is deprecated, use sort_values(by=.....)\n"
     ]
    },
    {
     "name": "stdout",
     "output_type": "stream",
     "text": [
      "Start for alpha = 11\n",
      "Start for alpha = 12\n",
      "Start for alpha = 13\n",
      "Start for alpha = 14\n",
      "Start for alpha = 15\n",
      "Start for alpha = 16\n",
      "Start for alpha = 17\n",
      "Start for alpha = 18\n",
      "Start for alpha = 19\n",
      "Start for alpha = 20\n",
      "Start for alpha = 21\n",
      "Start for alpha = 22\n",
      "Start for alpha = 23\n",
      "Start for alpha = 24\n",
      "Start for alpha = 25\n",
      "Start for alpha = 26\n",
      "Start for alpha = 27\n",
      "Start for alpha = 28\n",
      "Start for alpha = 29\n"
     ]
    }
   ],
   "source": [
    "train_errors, CV_errors = [], []\n",
    "for alpha in alphas:\n",
    "    print(\"Start for alpha =\", alpha)\n",
    "    err1, err2 = CVerror(alpha)\n",
    "    train_errors.append(err1)\n",
    "    CV_errors.append(err2)"
   ]
  },
  {
   "cell_type": "code",
   "execution_count": 63,
   "metadata": {
    "collapsed": false
   },
   "outputs": [
    {
     "data": {
      "image/png": "[encoded data removed]",
      "text/plain": [
       "<matplotlib.figure.Figure at 0x7f8da48ba908>"
      ]
     },
     "metadata": {},
     "output_type": "display_data"
    }
   ],
   "source": [
    "ax = plt.gca()\n",
    "plt.plot(alphas, train_errors, '-o', label='training')\n",
    "plt.plot(alphas, CV_errors, '-o', color='r', label='cross-validation')\n",
    "plt.xlabel('Regularization Parameter')\n",
    "plt.ylabel('Error (RMSE)')\n",
    "plt.title('Model Optimization')\n",
    "plt.legend(loc='upper center', bbox_to_anchor=(0.5, -0.05), fancybox=True, ncol=2)\n",
    "plt.show()"
   ]
  },
  {
   "cell_type": "code",
   "execution_count": 64,
   "metadata": {
    "collapsed": false
   },
   "outputs": [
    {
     "data": {
      "text/plain": [
       "1.044487330406223"
      ]
     },
     "execution_count": 64,
     "metadata": {},
     "output_type": "execute_result"
    }
   ],
   "source": [
    "np.min(CV_errors)"
   ]
  },
  {
   "cell_type": "code",
   "execution_count": 68,
   "metadata": {
    "collapsed": false
   },
   "outputs": [],
   "source": [
    "alpha = alphas[np.argmin(CV_errors)]\n",
    "alpha = 19\n"
   ]
  },
  {
   "cell_type": "code",
   "execution_count": 74,
   "metadata": {
    "collapsed": false
   },
   "outputs": [
    {
     "name": "stdout",
     "output_type": "stream",
     "text": [
      "        Prediction         1         2         3         4         5  \\\n",
      "UserID                                                                 \n",
      "0                5  0.810392  0.521788  0.226250  0.274181  0.982686   \n",
      "0                5  0.450515  0.358695  0.875065  0.169919  0.262437   \n",
      "0                4  0.746447  0.279331  0.920004  0.686461  0.438469   \n",
      "0                3  0.627732  0.302029  0.778721  0.603090  0.554393   \n",
      "0                2  0.737246  0.031578  0.503159  0.154567  0.178410   \n",
      "0                5  0.542773  0.126423  0.019278  0.599662  0.873723   \n",
      "0                5  0.635283  0.240513  0.377407  0.710253  0.772004   \n",
      "0                5  0.654664  0.490617  0.475063  0.999256  0.451453   \n",
      "0                5  0.501132  0.843814  0.728559  0.961268  0.331791   \n",
      "0                4  0.534674  0.342458  0.047638  0.265266  0.048836   \n",
      "0                5  0.412647  0.880310  0.842058  0.943482  0.995730   \n",
      "0                2  0.762302  0.765538  0.837038  0.375476  0.949314   \n",
      "0                4  0.558898  0.967301  0.060569  0.092821  0.348152   \n",
      "0                5  0.493912  0.873489  0.658374  0.807570  0.737507   \n",
      "0                2  0.825364  0.180826  0.967714  0.798135  0.432252   \n",
      "0                4  0.467309  0.339814  0.104825  0.818882  0.676310   \n",
      "\n",
      "               6         7         8         9        10        11        12  \\\n",
      "UserID                                                                         \n",
      "0       0.955697  0.620322  0.874436  0.582614  0.499635  0.097829  0.324842   \n",
      "0       0.300991  0.207387  0.757378  0.404738  0.770432  0.949533  0.860613   \n",
      "0       0.830874  0.619743  0.897576  0.367647  0.724491  0.305574  0.174548   \n",
      "0       0.151696  0.741996  0.228402  0.074214  0.918248  0.036125  0.855463   \n",
      "0       0.869950  0.376791  0.508562  0.559654  0.002616  0.771388  0.056029   \n",
      "0       0.453760  0.521552  0.307526  0.193208  0.681912  0.152573  0.630186   \n",
      "0       0.759203  0.118927  0.956113  0.385850  0.826407  0.865978  0.225151   \n",
      "0       0.280246  0.576324  0.400980  0.536421  0.871251  0.986134  0.797961   \n",
      "0       0.238220  0.227071  0.907871  0.509264  0.522924  0.566570  0.793707   \n",
      "0       0.093471  0.149414  0.325955  0.035949  0.391118  0.645918  0.306500   \n",
      "0       0.192833  0.911752  0.077841  0.146219  0.482882  0.621602  0.659706   \n",
      "0       0.584580  0.910830  0.499120  0.134146  0.304715  0.886256  0.311369   \n",
      "0       0.424598  0.687654  0.964219  0.229371  0.662719  0.652862  0.447260   \n",
      "0       0.228505  0.927838  0.450873  0.143660  0.075166  0.599282  0.521892   \n",
      "0       0.710568  0.241564  0.759664  0.807001  0.364448  0.980825  0.640657   \n",
      "0       0.070831  0.241188  0.159615  0.274850  0.230507  0.372983  0.998527   \n",
      "\n",
      "              13        14        15        16        17        18        19  \\\n",
      "UserID                                                                         \n",
      "0       0.774295  0.108172  0.634104  0.092845  0.786984  0.345456  0.188261   \n",
      "0       0.144697  0.335927  0.916920  0.736159  0.258191  0.600179  0.155798   \n",
      "0       0.831325  0.055351  0.766480  0.867510  0.556478  0.455686  0.513624   \n",
      "0       0.044059  0.506682  0.596061  0.489334  0.576070  0.612797  0.258213   \n",
      "0       0.126504  0.413356  0.477125  0.566781  0.035300  0.567174  0.982735   \n",
      "0       0.948786  0.798484  0.920252  0.039410  0.248218  0.603319  0.168672   \n",
      "0       0.499003  0.096956  0.886057  0.729096  0.178116  0.825126  0.617901   \n",
      "0       0.381024  0.884061  0.754316  0.058200  0.343963  0.710421  0.914982   \n",
      "0       0.350189  0.873408  0.497008  0.512322  0.845100  0.728644  0.472573   \n",
      "0       0.728534  0.830945  0.544351  0.912910  0.503793  0.462187  0.571812   \n",
      "0       0.922792  0.566405  0.374563  0.792913  0.205728  0.280392  0.623884   \n",
      "0       0.111421  0.285717  0.176078  0.366798  0.087793  0.936828  0.755494   \n",
      "0       0.987827  0.329511  0.771457  0.833968  0.660962  0.925655  0.163142   \n",
      "0       0.571173  0.181026  0.784988  0.343312  0.015786  0.428194  0.450848   \n",
      "0       0.650298  0.024575  0.687375  0.315685  0.474483  0.600044  0.800192   \n",
      "0       0.262210  0.391740  0.204715  0.611475  0.711268  0.478201  0.024062   \n",
      "\n",
      "              20  \n",
      "UserID            \n",
      "0       0.900380  \n",
      "0       0.586621  \n",
      "0       0.545119  \n",
      "0       0.581112  \n",
      "0       0.628241  \n",
      "0       0.832805  \n",
      "0       0.116194  \n",
      "0       0.750921  \n",
      "0       0.376575  \n",
      "0       0.808555  \n",
      "0       0.433971  \n",
      "0       0.562857  \n",
      "0       0.438082  \n",
      "0       0.956851  \n",
      "0       0.166577  \n",
      "0       0.830013  \n"
     ]
    },
    {
     "name": "stderr",
     "output_type": "stream",
     "text": [
      "/home/gael/anaconda3/lib/python3.5/site-packages/ipykernel/__main__.py:4: FutureWarning: sort(columns=....) is deprecated, use sort_values(by=.....)\n"
     ]
    },
    {
     "ename": "NameError",
     "evalue": "name 'asd' is not defined",
     "output_type": "error",
     "traceback": [
      "\u001b[0;31m---------------------------------------------------------------------------\u001b[0m",
      "\u001b[0;31mNameError\u001b[0m                                 Traceback (most recent call last)",
      "\u001b[0;32m<ipython-input-74-244a96a7ee6f>\u001b[0m in \u001b[0;36m<module>\u001b[0;34m()\u001b[0m\n\u001b[1;32m      4\u001b[0m \u001b[0merror_history\u001b[0m \u001b[0;34m=\u001b[0m \u001b[0;34m[\u001b[0m\u001b[0;34m]\u001b[0m\u001b[0;34m\u001b[0m\u001b[0m\n\u001b[1;32m      5\u001b[0m \u001b[0mbestFit\u001b[0m \u001b[0;34m=\u001b[0m \u001b[0;34m{\u001b[0m\u001b[0;34m'U'\u001b[0m\u001b[0;34m:\u001b[0m \u001b[0mU0\u001b[0m\u001b[0;34m,\u001b[0m \u001b[0;34m'M'\u001b[0m\u001b[0;34m:\u001b[0m \u001b[0mM0\u001b[0m\u001b[0;34m,\u001b[0m \u001b[0;34m'error'\u001b[0m\u001b[0;34m:\u001b[0m \u001b[0mnp\u001b[0m\u001b[0;34m.\u001b[0m\u001b[0minf\u001b[0m\u001b[0;34m}\u001b[0m\u001b[0;34m\u001b[0m\u001b[0m\n\u001b[0;32m----> 6\u001b[0;31m \u001b[0mfitUM\u001b[0m\u001b[0;34m(\u001b[0m\u001b[0mbestFit\u001b[0m\u001b[0;34m,\u001b[0m \u001b[0malpha\u001b[0m\u001b[0;34m)\u001b[0m\u001b[0;34m\u001b[0m\u001b[0m\n\u001b[0m\u001b[1;32m      7\u001b[0m \u001b[0mU_opt\u001b[0m\u001b[0;34m,\u001b[0m \u001b[0mM_opt\u001b[0m\u001b[0;34m,\u001b[0m \u001b[0merror\u001b[0m \u001b[0;34m=\u001b[0m \u001b[0mbestFit\u001b[0m\u001b[0;34m[\u001b[0m\u001b[0;34m'U'\u001b[0m\u001b[0;34m]\u001b[0m\u001b[0;34m,\u001b[0m \u001b[0mbestFit\u001b[0m\u001b[0;34m[\u001b[0m\u001b[0;34m'M'\u001b[0m\u001b[0;34m]\u001b[0m\u001b[0;34m,\u001b[0m \u001b[0mbestFit\u001b[0m\u001b[0;34m[\u001b[0m\u001b[0;34m'error'\u001b[0m\u001b[0;34m]\u001b[0m\u001b[0;34m\u001b[0m\u001b[0m\n\u001b[1;32m      8\u001b[0m \u001b[0mpred\u001b[0m \u001b[0;34m=\u001b[0m \u001b[0mpredict\u001b[0m\u001b[0;34m(\u001b[0m\u001b[0mU_opt\u001b[0m\u001b[0;34m,\u001b[0m \u001b[0mM_opt\u001b[0m\u001b[0;34m)\u001b[0m\u001b[0;34m\u001b[0m\u001b[0m\n",
      "\u001b[0;32m<ipython-input-73-dcb808366aa7>\u001b[0m in \u001b[0;36mfitUM\u001b[0;34m(bestFit, alpha, tol)\u001b[0m\n\u001b[1;32m     64\u001b[0m     \u001b[0mU\u001b[0m\u001b[0;34m,\u001b[0m \u001b[0mM\u001b[0m \u001b[0;34m=\u001b[0m \u001b[0mU0\u001b[0m\u001b[0;34m.\u001b[0m\u001b[0mcopy\u001b[0m\u001b[0;34m(\u001b[0m\u001b[0;34m)\u001b[0m\u001b[0;34m,\u001b[0m \u001b[0mM0\u001b[0m\u001b[0;34m.\u001b[0m\u001b[0mcopy\u001b[0m\u001b[0;34m(\u001b[0m\u001b[0;34m)\u001b[0m\u001b[0;34m\u001b[0m\u001b[0m\n\u001b[1;32m     65\u001b[0m     \u001b[0merror_history\u001b[0m \u001b[0;34m=\u001b[0m \u001b[0;34m[\u001b[0m\u001b[0;34m]\u001b[0m\u001b[0;34m\u001b[0m\u001b[0m\n\u001b[0;32m---> 66\u001b[0;31m     \u001b[0mdelta\u001b[0m \u001b[0;34m=\u001b[0m \u001b[0mfitU\u001b[0m\u001b[0;34m(\u001b[0m\u001b[0merror_history\u001b[0m\u001b[0;34m,\u001b[0m \u001b[0mbestFit\u001b[0m\u001b[0;34m,\u001b[0m \u001b[0malpha\u001b[0m\u001b[0;34m=\u001b[0m\u001b[0malpha\u001b[0m\u001b[0;34m)\u001b[0m\u001b[0;34m\u001b[0m\u001b[0m\n\u001b[0m\u001b[1;32m     67\u001b[0m     \u001b[0mtolerance\u001b[0m \u001b[0;34m=\u001b[0m \u001b[0mtol\u001b[0m\u001b[0;34m\u001b[0m\u001b[0m\n\u001b[1;32m     68\u001b[0m     \u001b[0;32mwhile\u001b[0m \u001b[0mdelta\u001b[0m \u001b[0;34m>\u001b[0m \u001b[0mtolerance\u001b[0m\u001b[0;34m:\u001b[0m\u001b[0;34m\u001b[0m\u001b[0m\n",
      "\u001b[0;32m<ipython-input-73-dcb808366aa7>\u001b[0m in \u001b[0;36mfitU\u001b[0;34m(error_history, bestFit, alpha)\u001b[0m\n\u001b[1;32m     15\u001b[0m     \u001b[0;31m## Fit all users\u001b[0m\u001b[0;34m\u001b[0m\u001b[0;34m\u001b[0m\u001b[0m\n\u001b[1;32m     16\u001b[0m     \u001b[0;32mfor\u001b[0m \u001b[0mi\u001b[0m \u001b[0;32min\u001b[0m \u001b[0muserID\u001b[0m\u001b[0;34m:\u001b[0m\u001b[0;34m\u001b[0m\u001b[0m\n\u001b[0;32m---> 17\u001b[0;31m         \u001b[0mU\u001b[0m\u001b[0;34m.\u001b[0m\u001b[0mix\u001b[0m\u001b[0;34m[\u001b[0m\u001b[0mi\u001b[0m\u001b[0;34m]\u001b[0m \u001b[0;34m=\u001b[0m \u001b[0mUfit\u001b[0m\u001b[0;34m(\u001b[0m\u001b[0mi\u001b[0m\u001b[0;34m)\u001b[0m\u001b[0;34m\u001b[0m\u001b[0m\n\u001b[0m\u001b[1;32m     18\u001b[0m     \u001b[0;31m## Calculate the error\u001b[0m\u001b[0;34m\u001b[0m\u001b[0;34m\u001b[0m\u001b[0m\n\u001b[1;32m     19\u001b[0m     \u001b[0mpred\u001b[0m \u001b[0;34m=\u001b[0m \u001b[0mpredict\u001b[0m\u001b[0;34m(\u001b[0m\u001b[0mU\u001b[0m\u001b[0;34m,\u001b[0m \u001b[0mM\u001b[0m\u001b[0;34m)\u001b[0m\u001b[0;34m\u001b[0m\u001b[0m\n",
      "\u001b[0;32m<ipython-input-73-dcb808366aa7>\u001b[0m in \u001b[0;36mUfit\u001b[0;34m(i)\u001b[0m\n\u001b[1;32m      8\u001b[0m         \u001b[0mdf\u001b[0m \u001b[0;34m=\u001b[0m \u001b[0mUdata\u001b[0m\u001b[0;34m.\u001b[0m\u001b[0mix\u001b[0m\u001b[0;34m[\u001b[0m\u001b[0mi\u001b[0m\u001b[0;34m]\u001b[0m\u001b[0;34m\u001b[0m\u001b[0m\n\u001b[1;32m      9\u001b[0m         \u001b[0mprint\u001b[0m\u001b[0;34m(\u001b[0m\u001b[0mdf\u001b[0m\u001b[0;34m)\u001b[0m\u001b[0;34m\u001b[0m\u001b[0m\n\u001b[0;32m---> 10\u001b[0;31m         \u001b[0masd\u001b[0m\u001b[0;34m\u001b[0m\u001b[0m\n\u001b[0m\u001b[1;32m     11\u001b[0m         \u001b[0mX\u001b[0m \u001b[0;34m=\u001b[0m \u001b[0mdf\u001b[0m\u001b[0;34m.\u001b[0m\u001b[0mdrop\u001b[0m\u001b[0;34m(\u001b[0m\u001b[0;34m'Prediction'\u001b[0m\u001b[0;34m,\u001b[0m \u001b[0maxis\u001b[0m\u001b[0;34m=\u001b[0m\u001b[0;36m1\u001b[0m\u001b[0;34m)\u001b[0m\u001b[0;34m\u001b[0m\u001b[0m\n\u001b[1;32m     12\u001b[0m         \u001b[0my\u001b[0m \u001b[0;34m=\u001b[0m \u001b[0mdf\u001b[0m\u001b[0;34m.\u001b[0m\u001b[0mPrediction\u001b[0m\u001b[0;34m\u001b[0m\u001b[0m\n",
      "\u001b[0;31mNameError\u001b[0m: name 'asd' is not defined"
     ]
    }
   ],
   "source": [
    "U = pd.DataFrame(np.random.rand(Nu, n), index=userID, columns=range(1, n+1))\n",
    "M = pd.DataFrame(np.random.rand(Nm, n), index=movieID, columns=range(1, n+1))\n",
    "U0, M0 = U.copy(), M.copy()\n",
    "error_history = []\n",
    "bestFit = {'U': U0, 'M': M0, 'error': np.inf}\n",
    "fitUM(bestFit, alpha)\n",
    "U_opt, M_opt, error = bestFit['U'], bestFit['M'], bestFit['error']\n",
    "pred = predict(U_opt, M_opt)\n",
    "print('Model RMSE =', error)"
   ]
  },
  {
   "cell_type": "code",
   "execution_count": 160,
   "metadata": {
    "collapsed": true
   },
   "outputs": [],
   "source": [
    "def jitter(y, yhat, title=''):\n",
    "    pred = np.round(yhat)\n",
    "    pred[pred > 5] = 5\n",
    "    pred[pred < 1] = 1\n",
    "    def noise():\n",
    "        return np.random.randn(len(y)) * 0.1\n",
    "    y_jitter = y + noise() \n",
    "    yhat_jitter = pred + noise() \n",
    "    plt.scatter(y_jitter, yhat_jitter)\n",
    "    plt.xlabel('Actual Rating')\n",
    "    plt.ylabel('Predicted Rating')\n",
    "    plt.title(title)\n",
    "    plt.axis('image')\n",
    "    plt.grid()\n",
    "    plt.show()"
   ]
  },
  {
   "cell_type": "code",
   "execution_count": 41,
   "metadata": {
    "collapsed": false
   },
   "outputs": [
    {
     "data": {
      "text/plain": [
       "(10000, 1000)"
      ]
     },
     "execution_count": 41,
     "metadata": {},
     "output_type": "execute_result"
    }
   ],
   "source": [
    "mat = U_opt.dot(M_opt.T)\n",
    "mat.shape"
   ]
  },
  {
   "cell_type": "markdown",
   "metadata": {},
   "source": [
    "# Testing"
   ]
  },
  {
   "cell_type": "code",
   "execution_count": 38,
   "metadata": {
    "collapsed": false
   },
   "outputs": [
    {
     "name": "stdout",
     "output_type": "stream",
     "text": [
      "Load the dataset\n"
     ]
    }
   ],
   "source": [
    "# Test data\n",
    "dataset_test = '../data/sampleSubmission.csv'\n",
    "data_test = prepare_data(dataset_test)"
   ]
  },
  {
   "cell_type": "code",
   "execution_count": 39,
   "metadata": {
    "collapsed": false,
    "scrolled": true
   },
   "outputs": [
    {
     "data": {
      "text/html": [
       "<div>\n",
       "<table border=\"1\" class=\"dataframe\">\n",
       "  <thead>\n",
       "    <tr style=\"text-align: right;\">\n",
       "      <th></th>\n",
       "      <th>Id</th>\n",
       "      <th>Prediction</th>\n",
       "      <th>UserID</th>\n",
       "      <th>MovieID</th>\n",
       "    </tr>\n",
       "  </thead>\n",
       "  <tbody>\n",
       "    <tr>\n",
       "      <th>0</th>\n",
       "      <td>r37_c1</td>\n",
       "      <td>3</td>\n",
       "      <td>36</td>\n",
       "      <td>0</td>\n",
       "    </tr>\n",
       "    <tr>\n",
       "      <th>1</th>\n",
       "      <td>r73_c1</td>\n",
       "      <td>3</td>\n",
       "      <td>72</td>\n",
       "      <td>0</td>\n",
       "    </tr>\n",
       "    <tr>\n",
       "      <th>2</th>\n",
       "      <td>r156_c1</td>\n",
       "      <td>3</td>\n",
       "      <td>155</td>\n",
       "      <td>0</td>\n",
       "    </tr>\n",
       "    <tr>\n",
       "      <th>3</th>\n",
       "      <td>r160_c1</td>\n",
       "      <td>3</td>\n",
       "      <td>159</td>\n",
       "      <td>0</td>\n",
       "    </tr>\n",
       "    <tr>\n",
       "      <th>4</th>\n",
       "      <td>r248_c1</td>\n",
       "      <td>3</td>\n",
       "      <td>247</td>\n",
       "      <td>0</td>\n",
       "    </tr>\n",
       "  </tbody>\n",
       "</table>\n",
       "</div>"
      ],
      "text/plain": [
       "        Id  Prediction  UserID  MovieID\n",
       "0   r37_c1           3      36        0\n",
       "1   r73_c1           3      72        0\n",
       "2  r156_c1           3     155        0\n",
       "3  r160_c1           3     159        0\n",
       "4  r248_c1           3     247        0"
      ]
     },
     "execution_count": 39,
     "metadata": {},
     "output_type": "execute_result"
    }
   ],
   "source": [
    "data_test.head()"
   ]
  },
  {
   "cell_type": "code",
   "execution_count": 42,
   "metadata": {
    "collapsed": false,
    "scrolled": false
   },
   "outputs": [
    {
     "name": "stdout",
     "output_type": "stream",
     "text": [
      "10000/1176952 done!\n",
      "20000/1176952 done!\n",
      "30000/1176952 done!\n",
      "40000/1176952 done!\n",
      "50000/1176952 done!\n",
      "60000/1176952 done!\n",
      "70000/1176952 done!\n",
      "80000/1176952 done!\n",
      "90000/1176952 done!\n",
      "100000/1176952 done!\n",
      "110000/1176952 done!\n",
      "120000/1176952 done!\n",
      "130000/1176952 done!\n",
      "140000/1176952 done!\n",
      "150000/1176952 done!\n",
      "160000/1176952 done!\n",
      "170000/1176952 done!\n",
      "180000/1176952 done!\n",
      "190000/1176952 done!\n",
      "200000/1176952 done!\n",
      "210000/1176952 done!\n",
      "220000/1176952 done!\n",
      "230000/1176952 done!\n",
      "240000/1176952 done!\n",
      "250000/1176952 done!\n",
      "260000/1176952 done!\n",
      "270000/1176952 done!\n",
      "280000/1176952 done!\n",
      "290000/1176952 done!\n",
      "300000/1176952 done!\n",
      "310000/1176952 done!\n",
      "320000/1176952 done!\n",
      "330000/1176952 done!\n",
      "340000/1176952 done!\n",
      "350000/1176952 done!\n",
      "360000/1176952 done!\n",
      "370000/1176952 done!\n",
      "380000/1176952 done!\n",
      "390000/1176952 done!\n",
      "400000/1176952 done!\n",
      "410000/1176952 done!\n",
      "420000/1176952 done!\n",
      "430000/1176952 done!\n",
      "440000/1176952 done!\n",
      "450000/1176952 done!\n",
      "460000/1176952 done!\n",
      "470000/1176952 done!\n",
      "480000/1176952 done!\n",
      "490000/1176952 done!\n",
      "500000/1176952 done!\n",
      "510000/1176952 done!\n",
      "520000/1176952 done!\n",
      "530000/1176952 done!\n",
      "540000/1176952 done!\n",
      "550000/1176952 done!\n",
      "560000/1176952 done!\n",
      "570000/1176952 done!\n",
      "580000/1176952 done!\n",
      "590000/1176952 done!\n",
      "600000/1176952 done!\n",
      "610000/1176952 done!\n",
      "620000/1176952 done!\n",
      "630000/1176952 done!\n",
      "640000/1176952 done!\n",
      "650000/1176952 done!\n",
      "660000/1176952 done!\n",
      "670000/1176952 done!\n",
      "680000/1176952 done!\n",
      "690000/1176952 done!\n",
      "700000/1176952 done!\n",
      "710000/1176952 done!\n",
      "720000/1176952 done!\n",
      "730000/1176952 done!\n",
      "740000/1176952 done!\n",
      "750000/1176952 done!\n",
      "760000/1176952 done!\n",
      "770000/1176952 done!\n",
      "780000/1176952 done!\n",
      "790000/1176952 done!\n",
      "800000/1176952 done!\n",
      "810000/1176952 done!\n",
      "820000/1176952 done!\n",
      "830000/1176952 done!\n",
      "840000/1176952 done!\n",
      "850000/1176952 done!\n",
      "860000/1176952 done!\n",
      "870000/1176952 done!\n",
      "880000/1176952 done!\n",
      "890000/1176952 done!\n",
      "900000/1176952 done!\n",
      "910000/1176952 done!\n",
      "920000/1176952 done!\n",
      "930000/1176952 done!\n",
      "940000/1176952 done!\n",
      "950000/1176952 done!\n",
      "960000/1176952 done!\n",
      "970000/1176952 done!\n",
      "980000/1176952 done!\n",
      "990000/1176952 done!\n",
      "1000000/1176952 done!\n",
      "1010000/1176952 done!\n",
      "1020000/1176952 done!\n",
      "1030000/1176952 done!\n",
      "1040000/1176952 done!\n",
      "1050000/1176952 done!\n",
      "1060000/1176952 done!\n",
      "1070000/1176952 done!\n",
      "1080000/1176952 done!\n",
      "1090000/1176952 done!\n",
      "1100000/1176952 done!\n",
      "1110000/1176952 done!\n",
      "1120000/1176952 done!\n",
      "1130000/1176952 done!\n",
      "1140000/1176952 done!\n",
      "1150000/1176952 done!\n",
      "1160000/1176952 done!\n",
      "1170000/1176952 done!\n"
     ]
    }
   ],
   "source": [
    "predictions = []\n",
    "for i in range(len(data_test)):\n",
    "    dd = data_test.iloc[i]\n",
    "    predictions.append(mat[dd.MovieID][dd.UserID])\n",
    "    if (i+1)%10000 == 0:\n",
    "        print(\"%i/%i done!\"%(i+1, len(data_test)))"
   ]
  },
  {
   "cell_type": "code",
   "execution_count": 43,
   "metadata": {
    "collapsed": true
   },
   "outputs": [],
   "source": [
    "for i in range(len(predictions)):\n",
    "    if predictions[i] > 5:\n",
    "        predictions[i] = 5\n",
    "    elif predictions[i] < 1:\n",
    "        predictions[i] = 1"
   ]
  },
  {
   "cell_type": "code",
   "execution_count": 44,
   "metadata": {
    "collapsed": false
   },
   "outputs": [
    {
     "data": {
      "text/html": [
       "<div>\n",
       "<table border=\"1\" class=\"dataframe\">\n",
       "  <thead>\n",
       "    <tr style=\"text-align: right;\">\n",
       "      <th></th>\n",
       "      <th>Id</th>\n",
       "      <th>Prediction</th>\n",
       "      <th>UserID</th>\n",
       "      <th>MovieID</th>\n",
       "    </tr>\n",
       "  </thead>\n",
       "  <tbody>\n",
       "    <tr>\n",
       "      <th>0</th>\n",
       "      <td>r37_c1</td>\n",
       "      <td>3.160444</td>\n",
       "      <td>36</td>\n",
       "      <td>0</td>\n",
       "    </tr>\n",
       "    <tr>\n",
       "      <th>1</th>\n",
       "      <td>r73_c1</td>\n",
       "      <td>2.830633</td>\n",
       "      <td>72</td>\n",
       "      <td>0</td>\n",
       "    </tr>\n",
       "    <tr>\n",
       "      <th>2</th>\n",
       "      <td>r156_c1</td>\n",
       "      <td>3.454183</td>\n",
       "      <td>155</td>\n",
       "      <td>0</td>\n",
       "    </tr>\n",
       "    <tr>\n",
       "      <th>3</th>\n",
       "      <td>r160_c1</td>\n",
       "      <td>3.186285</td>\n",
       "      <td>159</td>\n",
       "      <td>0</td>\n",
       "    </tr>\n",
       "    <tr>\n",
       "      <th>4</th>\n",
       "      <td>r248_c1</td>\n",
       "      <td>3.098738</td>\n",
       "      <td>247</td>\n",
       "      <td>0</td>\n",
       "    </tr>\n",
       "  </tbody>\n",
       "</table>\n",
       "</div>"
      ],
      "text/plain": [
       "        Id  Prediction  UserID  MovieID\n",
       "0   r37_c1    3.160444      36        0\n",
       "1   r73_c1    2.830633      72        0\n",
       "2  r156_c1    3.454183     155        0\n",
       "3  r160_c1    3.186285     159        0\n",
       "4  r248_c1    3.098738     247        0"
      ]
     },
     "execution_count": 44,
     "metadata": {},
     "output_type": "execute_result"
    }
   ],
   "source": [
    "data_test['Prediction'] = predictions\n",
    "data_test.head()"
   ]
  },
  {
   "cell_type": "code",
   "execution_count": 45,
   "metadata": {
    "collapsed": false
   },
   "outputs": [],
   "source": [
    "data_test = data_test.drop(['UserID', 'MovieID'], axis=1)"
   ]
  },
  {
   "cell_type": "code",
   "execution_count": 46,
   "metadata": {
    "collapsed": true
   },
   "outputs": [],
   "source": [
    "data_test.to_csv('collaborative_filtering.csv', index=False)"
   ]
  },
  {
   "cell_type": "code",
   "execution_count": 47,
   "metadata": {
    "collapsed": false
   },
   "outputs": [
    {
     "data": {
      "text/html": [
       "<div>\n",
       "<table border=\"1\" class=\"dataframe\">\n",
       "  <thead>\n",
       "    <tr style=\"text-align: right;\">\n",
       "      <th></th>\n",
       "      <th>Id</th>\n",
       "      <th>Prediction</th>\n",
       "    </tr>\n",
       "  </thead>\n",
       "  <tbody>\n",
       "    <tr>\n",
       "      <th>0</th>\n",
       "      <td>r37_c1</td>\n",
       "      <td>3.160444</td>\n",
       "    </tr>\n",
       "    <tr>\n",
       "      <th>1</th>\n",
       "      <td>r73_c1</td>\n",
       "      <td>2.830633</td>\n",
       "    </tr>\n",
       "    <tr>\n",
       "      <th>2</th>\n",
       "      <td>r156_c1</td>\n",
       "      <td>3.454183</td>\n",
       "    </tr>\n",
       "    <tr>\n",
       "      <th>3</th>\n",
       "      <td>r160_c1</td>\n",
       "      <td>3.186285</td>\n",
       "    </tr>\n",
       "    <tr>\n",
       "      <th>4</th>\n",
       "      <td>r248_c1</td>\n",
       "      <td>3.098738</td>\n",
       "    </tr>\n",
       "  </tbody>\n",
       "</table>\n",
       "</div>"
      ],
      "text/plain": [
       "        Id  Prediction\n",
       "0   r37_c1    3.160444\n",
       "1   r73_c1    2.830633\n",
       "2  r156_c1    3.454183\n",
       "3  r160_c1    3.186285\n",
       "4  r248_c1    3.098738"
      ]
     },
     "execution_count": 47,
     "metadata": {},
     "output_type": "execute_result"
    }
   ],
   "source": [
    "data_test.head()"
   ]
  },
  {
   "cell_type": "code",
   "execution_count": null,
   "metadata": {
    "collapsed": true
   },
   "outputs": [],
   "source": []
  }
 ],
 "metadata": {
  "anaconda-cloud": {},
  "kernelspec": {
   "display_name": "Python [conda root]",
   "language": "python",
   "name": "conda-root-py"
  },
  "language_info": {
   "codemirror_mode": {
    "name": "ipython",
    "version": 3
   },
   "file_extension": ".py",
   "mimetype": "text/x-python",
   "name": "python",
   "nbconvert_exporter": "python",
   "pygments_lexer": "ipython3",
   "version": "3.5.2"
  }
 },
 "nbformat": 4,
 "nbformat_minor": 1
}
