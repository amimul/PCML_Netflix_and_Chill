{
 "cells": [
  {
   "cell_type": "markdown",
   "metadata": {},
   "source": [
    "# Introduction\n",
    "\n",
    "In this notebook, we will implement the standard method of Collaborative Filtering with the Pareto Dominance. It is inspired by this paper: \n",
    "http://www.sciencedirect.com/science/article/pii/S0020025513002004"
   ]
  },
  {
   "cell_type": "code",
   "execution_count": 1,
   "metadata": {
    "collapsed": false
   },
   "outputs": [],
   "source": [
    "# Import the fucking useful libraries =)\n",
    "import pandas as pd\n",
    "import numpy as np\n",
    "\n",
    "import os\n",
    "import matplotlib.pyplot as plt\n",
    "from helpers_CF_and_PD import *\n",
    "import scipy.stats as sp\n",
    "import scipy.spatial.distance as spsd\n",
    "from operator import itemgetter\n",
    "import random\n",
    "from IPython import display\n",
    "\n",
    "%matplotlib inline\n",
    "%load_ext autoreload\n",
    "%autoreload 2\n",
    "\n",
    "# There's a lot of columns in the DF. \n",
    "# Therefore, we add this option so that we can see more columns\n",
    "pd.options.display.max_columns = 100"
   ]
  },
  {
   "cell_type": "code",
   "execution_count": 2,
   "metadata": {
    "collapsed": true
   },
   "outputs": [],
   "source": [
    "# Define here the data set\n",
    "dataset = '../data/data_train.csv'"
   ]
  },
  {
   "cell_type": "markdown",
   "metadata": {},
   "source": [
    "# Load the data and prepare them\n"
   ]
  },
  {
   "cell_type": "code",
   "execution_count": 3,
   "metadata": {
    "collapsed": false
   },
   "outputs": [
    {
     "name": "stdout",
     "output_type": "stream",
     "text": [
      "Load the dataset\n",
      "Prepare the variables\n"
     ]
    }
   ],
   "source": [
    "data = prepare_data(dataset)\n",
    "# Prepare the data\n",
    "U, I, R, I_u = variables(data)"
   ]
  },
  {
   "cell_type": "markdown",
   "metadata": {
    "collapsed": true
   },
   "source": [
    "Get the sets of non-dominated users. (Already calculated)"
   ]
  },
  {
   "cell_type": "code",
   "execution_count": 4,
   "metadata": {
    "collapsed": false
   },
   "outputs": [],
   "source": [
    "# Folder for the preprocessing file\n",
    "folder = \"./pickles/\"\n",
    "\n",
    "non_dom_users_file = folder + \"C/non-dominated-users.pickle\"\n",
    "\n",
    "# Get the file\n",
    "C = get_pickle(non_dom_users_file)"
   ]
  },
  {
   "cell_type": "markdown",
   "metadata": {},
   "source": [
    "# Make some tests\n",
    "\n",
    "In order to make sure that the preprocessing is correct, we need to plot some graph"
   ]
  },
  {
   "cell_type": "code",
   "execution_count": null,
   "metadata": {
    "collapsed": false
   },
   "outputs": [],
   "source": [
    "# We define an array of values equals to number of candidates over number of items rated\n",
    "c_over_ir = []\n",
    "nbr_cand = []\n",
    "nbr_itms = []\n",
    "for usr in U:\n",
    "    c_over_ir.append(len(C[usr])/len(I_u[usr]))\n",
    "    nbr_cand.append(len(C[usr]))\n",
    "    nbr_itms.append(len(I_u[usr]))\n",
    "len(c_over_ir)"
   ]
  },
  {
   "cell_type": "code",
   "execution_count": null,
   "metadata": {
    "collapsed": false
   },
   "outputs": [],
   "source": [
    "n, bins, patches = plt.hist(c_over_ir, 50, facecolor='black', alpha=0.75)\n",
    "plt.xlabel('Number of candidates / Number of items rated')\n",
    "plt.ylabel('Number of users')"
   ]
  },
  {
   "cell_type": "code",
   "execution_count": null,
   "metadata": {
    "collapsed": false
   },
   "outputs": [],
   "source": [
    "n, bins, patches = plt.hist(nbr_cand, 50, facecolor='black', alpha=0.75)\n",
    "plt.xlabel('Number of candidates')\n",
    "plt.ylabel('Number of users')"
   ]
  },
  {
   "cell_type": "code",
   "execution_count": null,
   "metadata": {
    "collapsed": false
   },
   "outputs": [],
   "source": [
    "n, bins, patches = plt.hist(nbr_itms, 50, facecolor='black', alpha=0.75)\n",
    "plt.xlabel('Number of items rated')\n",
    "plt.ylabel('Number of users')"
   ]
  },
  {
   "cell_type": "code",
   "execution_count": null,
   "metadata": {
    "collapsed": false
   },
   "outputs": [],
   "source": [
    "nbr_itms.index(min(nbr_itms))"
   ]
  },
  {
   "cell_type": "code",
   "execution_count": null,
   "metadata": {
    "collapsed": false
   },
   "outputs": [],
   "source": [
    "len(C[480])"
   ]
  },
  {
   "cell_type": "code",
   "execution_count": null,
   "metadata": {
    "collapsed": false
   },
   "outputs": [],
   "source": [
    "nbr_cand.index(min(nbr_cand))"
   ]
  },
  {
   "cell_type": "code",
   "execution_count": null,
   "metadata": {
    "collapsed": false
   },
   "outputs": [],
   "source": [
    "nbr_itms[3677]"
   ]
  },
  {
   "cell_type": "markdown",
   "metadata": {},
   "source": [
    "Difficult to say if it worked or not.. But it seems ok... =)"
   ]
  },
  {
   "cell_type": "markdown",
   "metadata": {},
   "source": [
    "# Nearest Neighbors\n",
    "\n",
    "Now, we create the list of arrays of nearest neighbors for each user using the three different functions"
   ]
  },
  {
   "cell_type": "code",
   "execution_count": null,
   "metadata": {
    "collapsed": true
   },
   "outputs": [],
   "source": [
    "%%time\n",
    "NN_pearson_file, sim_pearson_file = nearest_neighbors(folder, R, U, I_u, \"pearson\", subset=C)\n"
   ]
  },
  {
   "cell_type": "code",
   "execution_count": null,
   "metadata": {
    "collapsed": true
   },
   "outputs": [],
   "source": [
    "%%time\n",
    "NN_cosine_file, sim_cosine_file = nearest_neighbors(folder, R, U, I_u, \"cosine\", subset=C)\n"
   ]
  },
  {
   "cell_type": "code",
   "execution_count": null,
   "metadata": {
    "collapsed": false
   },
   "outputs": [],
   "source": [
    "%%time\n",
    "NN_msd_file, sim_msd_file = nearest_neighbors(folder, R, U, I_u, \"msd\", subset=C)\n"
   ]
  },
  {
   "cell_type": "code",
   "execution_count": null,
   "metadata": {
    "collapsed": true
   },
   "outputs": [],
   "source": [
    "NN_pearson_file = folder + \"NN_pearson.pickle\"\n",
    "NN_cosine_file = folder + \"NN_cosine.pickle\"\n",
    "NN_msd_file = folder + \"NN_msd.pickle\"\n",
    "NN_files = [NN_pearson_file, NN_cosine_file, NN_msd_file]\n",
    "\n",
    "sim_pearson_file = folder + \"sim_pearson.pickle\"\n",
    "sim_cosine_file = folder + \"sim_cosine.pickle\"\n",
    "sim_msd_file = folder + \"sim_msd.pickle\"\n",
    "sim_files = [sim_pearson_file, sim_cosine_file, sim_msd_file]\n"
   ]
  },
  {
   "cell_type": "markdown",
   "metadata": {},
   "source": [
    "# Training\n",
    "\n",
    "Now, we just have to do the training. First, we cut into training and testing data."
   ]
  },
  {
   "cell_type": "code",
   "execution_count": 5,
   "metadata": {
    "collapsed": false
   },
   "outputs": [],
   "source": [
    "# Before having the train and testing set, we need to unload the memory a bit\n",
    "del C\n",
    "del U\n",
    "del I\n",
    "del R\n",
    "del I_u"
   ]
  },
  {
   "cell_type": "code",
   "execution_count": 6,
   "metadata": {
    "collapsed": false
   },
   "outputs": [],
   "source": [
    "def training_validation(data, p_value=0.1):\n",
    "    validation_array = []\n",
    "    train_array = []\n",
    "    for i in range(len(data)):\n",
    "        if random.random() < p_value:\n",
    "            validation_array.append(data.iloc[i])\n",
    "        else:\n",
    "            train_array.append(data.iloc[i])\n",
    "            \n",
    "    variables = list(train_array[0].keys())\n",
    "    \n",
    "    train = pd.DataFrame([[getattr(i,j) for j in variables] for i in train_array], columns = variables)\n",
    "    validation = pd.DataFrame([[getattr(i,j) for j in variables] for i in validation_array], columns = variables)\n",
    "\n",
    "    return train, validation            "
   ]
  },
  {
   "cell_type": "code",
   "execution_count": 7,
   "metadata": {
    "collapsed": false
   },
   "outputs": [],
   "source": [
    "train, validation = training_validation(data, p_value=0.01)"
   ]
  },
  {
   "cell_type": "code",
   "execution_count": 8,
   "metadata": {
    "collapsed": false
   },
   "outputs": [
    {
     "name": "stdout",
     "output_type": "stream",
     "text": [
      "Prepare the variables\n"
     ]
    }
   ],
   "source": [
    "# Create training matrices\n",
    "U_train, I_train, R_train, I_u_train = variables(data)"
   ]
  },
  {
   "cell_type": "code",
   "execution_count": 9,
   "metadata": {
    "collapsed": true
   },
   "outputs": [],
   "source": [
    "KK = [50, 100, 150, 200, 250, 300, 350, 400, 450, 500, 600, 700, 800, 900, 1000, 2000]"
   ]
  },
  {
   "cell_type": "code",
   "execution_count": 10,
   "metadata": {
    "collapsed": false
   },
   "outputs": [],
   "source": [
    "def rmse(a,b):\n",
    "    return np.sqrt(np.mean((np.array(a)-np.array(b))**2))\n",
    "\n",
    "def mean(i, R, R_G):\n",
    "    if len(R_G) == 0:\n",
    "        ratings = R[:,i]\n",
    "        return np.mean(ratings[ratings!=np.inf])\n",
    "    else:\n",
    "        return np.mean(R_G)\n",
    "    \n",
    "def weighted_mean(u, i, neigh, sim, R, R_G):\n",
    "    if len(R_G) == 0:\n",
    "        ratings = R[:,i]\n",
    "        return np.mean(ratings[ratings!=np.inf])\n",
    "    else:\n",
    "        return np.sum(sim*R_G)/sum(sim)\n",
    "    \n",
    "def deviation_from_mean(u, i, neigh, sim, R, R_G):\n",
    "    if len(R_G) == 0:\n",
    "        ratings = R[:,i]\n",
    "        return np.mean(ratings[ratings!=np.inf])\n",
    "    else:\n",
    "        ratings = R[u,:]\n",
    "        rating_u_mean = np.mean(ratings[ratings!=np.inf])\n",
    "        deviation = 0\n",
    "        for i in range(len(R_G)):\n",
    "            rate_n = R[neigh[i],:]\n",
    "            deviation += sim[i]*(R_G[i]-np.mean(rate_n[rate_n!=np.inf]))\n",
    "        \n",
    "        return rating_u_mean + deviation/np.sum(sim)"
   ]
  },
  {
   "cell_type": "code",
   "execution_count": 12,
   "metadata": {
    "collapsed": false,
    "scrolled": true
   },
   "outputs": [
    {
     "data": {
      "image/png": "[encoded data removed]",
      "text/plain": [
       "<matplotlib.figure.Figure at 0x7f60b4c8d400>"
      ]
     },
     "metadata": {},
     "output_type": "display_data"
    }
   ],
   "source": [
    "# Test for MSD\n",
    "RMSE = np.zeros((3, len(KK)))\n",
    "\n",
    "for idx, k in enumerate(KK):\n",
    "    n = len(validation)\n",
    "    ratings = np.zeros((3, n))\n",
    "    pred = np.zeros(n)\n",
    "    prev_usr = 99999\n",
    "    for i in range(n):\n",
    "        pred[i] = validation.iloc[i].loc[\"Prediction\"]\n",
    "        usr = validation.iloc[i].loc[\"UserID\"]\n",
    "        movie = validation.iloc[i].loc[\"MovieID\"]\n",
    "        # KNN\n",
    "        if usr != prev_usr:\n",
    "            NN = get_pickle(folder + \"NN/NN_\" + str(usr) + \"_msd.pickle\")\n",
    "            similarity = get_pickle(folder + \"sim/sim_\" + str(usr) + \"_msd.pickle\")\n",
    "        \n",
    "        prev_usr = usr\n",
    "        \n",
    "        if k>len(NN):\n",
    "            neigh = np.array(NN)\n",
    "            sim = np.array(similarity)\n",
    "        else:\n",
    "            neigh = np.array(NN[:k])\n",
    "            sim = np.array(similarity[:k])\n",
    "        \n",
    "        # Prepare Ratings of G\n",
    "        R_G = R_train[neigh, movie]          \n",
    "        G = R_G!=np.inf\n",
    "        R_G = R_G[G]\n",
    "        neigh = neigh[G]\n",
    "        sim = sim[G]\n",
    "        # Put ratings\n",
    "        ratings[0,i] = mean(movie, R_train, R_G)\n",
    "        ratings[1,i] = weighted_mean(usr, movie, neigh, sim, R_train, R_G)\n",
    "        ratings[2,i] = deviation_from_mean(usr, movie, neigh, sim, R_train, R_G)\n",
    "        #if (i+1)%1000 == 0:\n",
    "        #    print(\"%i/%i done!\"%(i+1, n))\n",
    "    RMSE[0, idx] = rmse(ratings[0,:], pred)\n",
    "    RMSE[1, idx] = rmse(ratings[1,:], pred)\n",
    "    RMSE[2, idx] = rmse(ratings[2,:], pred)\n",
    "    plt.gca().cla() \n",
    "    plt.plot(KK, RMSE[0,:], label='Mean')\n",
    "    plt.plot(KK, RMSE[1,:], label='Weighted-Mean')\n",
    "    plt.plot(KK, RMSE[2,:], label='Deviation from Mean')\n",
    "    plt.xlabel(\"k\")\n",
    "    plt.ylabel(\"RMSE\")\n",
    "    plt.legend(loc='upper center', bbox_to_anchor=(0.5, -0.05),\n",
    "          fancybox=True, ncol=3)\n",
    "    display.display(plt.gcf())\n",
    "    display.clear_output(wait=True)"
   ]
  },
  {
   "cell_type": "code",
   "execution_count": 13,
   "metadata": {
    "collapsed": false
   },
   "outputs": [
    {
     "data": {
      "text/plain": [
       "array([ 0.63969886,  0.63915856,  0.65762036])"
      ]
     },
     "execution_count": 13,
     "metadata": {},
     "output_type": "execute_result"
    }
   ],
   "source": [
    "np.min(RMSE, axis=1)"
   ]
  },
  {
   "cell_type": "code",
   "execution_count": 18,
   "metadata": {
    "collapsed": false
   },
   "outputs": [
    {
     "data": {
      "text/plain": [
       "250"
      ]
     },
     "execution_count": 18,
     "metadata": {},
     "output_type": "execute_result"
    }
   ],
   "source": [
    "best_k = KK[np.argmin(RMSE[1,:])]\n",
    "best_k"
   ]
  },
  {
   "cell_type": "markdown",
   "metadata": {},
   "source": [
    "# Testing\n",
    "\n",
    "Load the test data and apply the Recommendation"
   ]
  },
  {
   "cell_type": "code",
   "execution_count": 51,
   "metadata": {
    "collapsed": false
   },
   "outputs": [
    {
     "name": "stdout",
     "output_type": "stream",
     "text": [
      "Load the dataset\n",
      "Load the dataset\n",
      "Prepare the variables\n"
     ]
    }
   ],
   "source": [
    "# Test data\n",
    "dataset_test = '../../data/sampleSubmission.csv'\n",
    "data_test = prepare_data(dataset_test)\n",
    "\n",
    "# Training data\n",
    "data = prepare_data(dataset)\n",
    "# Prepare the data\n",
    "U, I, R, I_u = variables(data)"
   ]
  },
  {
   "cell_type": "code",
   "execution_count": 52,
   "metadata": {
    "collapsed": false
   },
   "outputs": [
    {
     "data": {
      "text/html": [
       "<div>\n",
       "<table border=\"1\" class=\"dataframe\">\n",
       "  <thead>\n",
       "    <tr style=\"text-align: right;\">\n",
       "      <th></th>\n",
       "      <th>Id</th>\n",
       "      <th>Prediction</th>\n",
       "      <th>UserID</th>\n",
       "      <th>MovieID</th>\n",
       "    </tr>\n",
       "  </thead>\n",
       "  <tbody>\n",
       "    <tr>\n",
       "      <th>0</th>\n",
       "      <td>r37_c1</td>\n",
       "      <td>3</td>\n",
       "      <td>36</td>\n",
       "      <td>0</td>\n",
       "    </tr>\n",
       "    <tr>\n",
       "      <th>1</th>\n",
       "      <td>r73_c1</td>\n",
       "      <td>3</td>\n",
       "      <td>72</td>\n",
       "      <td>0</td>\n",
       "    </tr>\n",
       "    <tr>\n",
       "      <th>2</th>\n",
       "      <td>r156_c1</td>\n",
       "      <td>3</td>\n",
       "      <td>155</td>\n",
       "      <td>0</td>\n",
       "    </tr>\n",
       "    <tr>\n",
       "      <th>3</th>\n",
       "      <td>r160_c1</td>\n",
       "      <td>3</td>\n",
       "      <td>159</td>\n",
       "      <td>0</td>\n",
       "    </tr>\n",
       "    <tr>\n",
       "      <th>4</th>\n",
       "      <td>r248_c1</td>\n",
       "      <td>3</td>\n",
       "      <td>247</td>\n",
       "      <td>0</td>\n",
       "    </tr>\n",
       "  </tbody>\n",
       "</table>\n",
       "</div>"
      ],
      "text/plain": [
       "        Id  Prediction  UserID  MovieID\n",
       "0   r37_c1           3      36        0\n",
       "1   r73_c1           3      72        0\n",
       "2  r156_c1           3     155        0\n",
       "3  r160_c1           3     159        0\n",
       "4  r248_c1           3     247        0"
      ]
     },
     "execution_count": 52,
     "metadata": {},
     "output_type": "execute_result"
    }
   ],
   "source": [
    "data_test.head()"
   ]
  },
  {
   "cell_type": "code",
   "execution_count": 53,
   "metadata": {
    "collapsed": false,
    "scrolled": true
   },
   "outputs": [
    {
     "name": "stderr",
     "output_type": "stream",
     "text": [
      "/home/gael/anaconda3/lib/python3.5/site-packages/ipykernel/__main__.py:1: FutureWarning: sort(columns=....) is deprecated, use sort_values(by=.....)\n",
      "  if __name__ == '__main__':\n"
     ]
    },
    {
     "data": {
      "text/html": [
       "<div>\n",
       "<table border=\"1\" class=\"dataframe\">\n",
       "  <thead>\n",
       "    <tr style=\"text-align: right;\">\n",
       "      <th></th>\n",
       "      <th>Id</th>\n",
       "      <th>Prediction</th>\n",
       "      <th>UserID</th>\n",
       "      <th>MovieID</th>\n",
       "    </tr>\n",
       "  </thead>\n",
       "  <tbody>\n",
       "    <tr>\n",
       "      <th>598694</th>\n",
       "      <td>r1_c499</td>\n",
       "      <td>3</td>\n",
       "      <td>0</td>\n",
       "      <td>498</td>\n",
       "    </tr>\n",
       "    <tr>\n",
       "      <th>307346</th>\n",
       "      <td>r1_c256</td>\n",
       "      <td>3</td>\n",
       "      <td>0</td>\n",
       "      <td>255</td>\n",
       "    </tr>\n",
       "    <tr>\n",
       "      <th>528307</th>\n",
       "      <td>r1_c455</td>\n",
       "      <td>3</td>\n",
       "      <td>0</td>\n",
       "      <td>454</td>\n",
       "    </tr>\n",
       "    <tr>\n",
       "      <th>350308</th>\n",
       "      <td>r1_c297</td>\n",
       "      <td>3</td>\n",
       "      <td>0</td>\n",
       "      <td>296</td>\n",
       "    </tr>\n",
       "    <tr>\n",
       "      <th>902759</th>\n",
       "      <td>r1_c706</td>\n",
       "      <td>3</td>\n",
       "      <td>0</td>\n",
       "      <td>705</td>\n",
       "    </tr>\n",
       "  </tbody>\n",
       "</table>\n",
       "</div>"
      ],
      "text/plain": [
       "             Id  Prediction  UserID  MovieID\n",
       "598694  r1_c499           3       0      498\n",
       "307346  r1_c256           3       0      255\n",
       "528307  r1_c455           3       0      454\n",
       "350308  r1_c297           3       0      296\n",
       "902759  r1_c706           3       0      705"
      ]
     },
     "execution_count": 53,
     "metadata": {},
     "output_type": "execute_result"
    }
   ],
   "source": [
    "data_test = data_test.sort([\"UserID\"])\n",
    "data_test.head()"
   ]
  },
  {
   "cell_type": "code",
   "execution_count": 54,
   "metadata": {
    "collapsed": false,
    "scrolled": true
   },
   "outputs": [
    {
     "name": "stdout",
     "output_type": "stream",
     "text": [
      "100000/1176952 done!\n",
      "200000/1176952 done!\n",
      "300000/1176952 done!\n",
      "400000/1176952 done!\n",
      "500000/1176952 done!\n",
      "600000/1176952 done!\n",
      "700000/1176952 done!\n",
      "800000/1176952 done!\n",
      "900000/1176952 done!\n",
      "1000000/1176952 done!\n",
      "1100000/1176952 done!\n",
      "All done!\n"
     ]
    }
   ],
   "source": [
    "pred = []\n",
    "prev_usr = 99999\n",
    "done = 0\n",
    "best_k = 1000\n",
    "for i in range(len(data)):\n",
    "    usr = data_test.iloc[i].loc[\"UserID\"]\n",
    "    movie = data_test.iloc[i].loc[\"MovieID\"]\n",
    "        \n",
    "    # KNN\n",
    "    if usr != prev_usr:\n",
    "        NN = get_pickle(folder + \"NN/NN_\" + str(usr) + \"_msd.pickle\")\n",
    "        similarity = get_pickle(folder + \"sim/sim_\" + str(usr) + \"_msd.pickle\")\n",
    "\n",
    "    prev_usr = usr\n",
    "\n",
    "    if k>len(NN):\n",
    "        neigh = np.array(NN)\n",
    "        sim = np.array(similarity)\n",
    "    else:\n",
    "        neigh = np.array(NN[:k])\n",
    "        sim = np.array(similarity[:k])\n",
    "\n",
    "    # Prepare Ratings of G\n",
    "    R_G = R_train[neigh, movie]          \n",
    "    G = R_G!=np.inf\n",
    "    R_G = R_G[G]\n",
    "    neigh = neigh[G]\n",
    "    sim = sim[G]\n",
    "    \n",
    "    pred.append(deviation_from_mean(usr, movie, neigh, sim, R_train, R_G))\n",
    "    done += 1\n",
    "    if (done)%100000 == 0:\n",
    "        print(\"%i/%i done!\"%(done, len(data_test)))\n",
    "print(\"All done!\")"
   ]
  },
  {
   "cell_type": "code",
   "execution_count": 58,
   "metadata": {
    "collapsed": false
   },
   "outputs": [],
   "source": [
    "for i in range(len(pred)):\n",
    "    if pred[i] > 5:\n",
    "        pred[i] = 5\n",
    "    elif pred[i] < 1:\n",
    "        pred[i] = 1\n",
    "    else:\n",
    "        pred[i] = round(pred[i])\n"
   ]
  },
  {
   "cell_type": "code",
   "execution_count": 59,
   "metadata": {
    "collapsed": false
   },
   "outputs": [
    {
     "name": "stderr",
     "output_type": "stream",
     "text": [
      "/home/gael/anaconda3/lib/python3.5/site-packages/ipykernel/__main__.py:2: FutureWarning: sort(columns=....) is deprecated, use sort_values(by=.....)\n",
      "  from ipykernel import kernelapp as app\n"
     ]
    },
    {
     "data": {
      "text/html": [
       "<div>\n",
       "<table border=\"1\" class=\"dataframe\">\n",
       "  <thead>\n",
       "    <tr style=\"text-align: right;\">\n",
       "      <th></th>\n",
       "      <th>Id</th>\n",
       "      <th>Prediction</th>\n",
       "      <th>UserID</th>\n",
       "      <th>MovieID</th>\n",
       "    </tr>\n",
       "  </thead>\n",
       "  <tbody>\n",
       "    <tr>\n",
       "      <th>0</th>\n",
       "      <td>r37_c1</td>\n",
       "      <td>4.0</td>\n",
       "      <td>36</td>\n",
       "      <td>0</td>\n",
       "    </tr>\n",
       "    <tr>\n",
       "      <th>1</th>\n",
       "      <td>r73_c1</td>\n",
       "      <td>5.0</td>\n",
       "      <td>72</td>\n",
       "      <td>0</td>\n",
       "    </tr>\n",
       "    <tr>\n",
       "      <th>2</th>\n",
       "      <td>r156_c1</td>\n",
       "      <td>4.0</td>\n",
       "      <td>155</td>\n",
       "      <td>0</td>\n",
       "    </tr>\n",
       "    <tr>\n",
       "      <th>3</th>\n",
       "      <td>r160_c1</td>\n",
       "      <td>4.0</td>\n",
       "      <td>159</td>\n",
       "      <td>0</td>\n",
       "    </tr>\n",
       "    <tr>\n",
       "      <th>4</th>\n",
       "      <td>r248_c1</td>\n",
       "      <td>4.0</td>\n",
       "      <td>247</td>\n",
       "      <td>0</td>\n",
       "    </tr>\n",
       "  </tbody>\n",
       "</table>\n",
       "</div>"
      ],
      "text/plain": [
       "        Id  Prediction  UserID  MovieID\n",
       "0   r37_c1         4.0      36        0\n",
       "1   r73_c1         5.0      72        0\n",
       "2  r156_c1         4.0     155        0\n",
       "3  r160_c1         4.0     159        0\n",
       "4  r248_c1         4.0     247        0"
      ]
     },
     "execution_count": 59,
     "metadata": {},
     "output_type": "execute_result"
    }
   ],
   "source": [
    "data_test['Prediction'] = pred\n",
    "data_test = data_test.sort([\"MovieID\", \"UserID\"])\n",
    "data_test.head()"
   ]
  },
  {
   "cell_type": "code",
   "execution_count": 60,
   "metadata": {
    "collapsed": false
   },
   "outputs": [],
   "source": [
    "data_test = data_test.drop(['UserID', 'MovieID'], axis=1)"
   ]
  },
  {
   "cell_type": "code",
   "execution_count": 61,
   "metadata": {
    "collapsed": true
   },
   "outputs": [],
   "source": [
    "data_test.to_csv('pred_PD_CF.csv', index=False)"
   ]
  },
  {
   "cell_type": "code",
   "execution_count": 62,
   "metadata": {
    "collapsed": false
   },
   "outputs": [
    {
     "data": {
      "text/html": [
       "<div>\n",
       "<table border=\"1\" class=\"dataframe\">\n",
       "  <thead>\n",
       "    <tr style=\"text-align: right;\">\n",
       "      <th></th>\n",
       "      <th>Id</th>\n",
       "      <th>Prediction</th>\n",
       "    </tr>\n",
       "  </thead>\n",
       "  <tbody>\n",
       "    <tr>\n",
       "      <th>0</th>\n",
       "      <td>r37_c1</td>\n",
       "      <td>4.0</td>\n",
       "    </tr>\n",
       "    <tr>\n",
       "      <th>1</th>\n",
       "      <td>r73_c1</td>\n",
       "      <td>5.0</td>\n",
       "    </tr>\n",
       "    <tr>\n",
       "      <th>2</th>\n",
       "      <td>r156_c1</td>\n",
       "      <td>4.0</td>\n",
       "    </tr>\n",
       "    <tr>\n",
       "      <th>3</th>\n",
       "      <td>r160_c1</td>\n",
       "      <td>4.0</td>\n",
       "    </tr>\n",
       "    <tr>\n",
       "      <th>4</th>\n",
       "      <td>r248_c1</td>\n",
       "      <td>4.0</td>\n",
       "    </tr>\n",
       "  </tbody>\n",
       "</table>\n",
       "</div>"
      ],
      "text/plain": [
       "        Id  Prediction\n",
       "0   r37_c1         4.0\n",
       "1   r73_c1         5.0\n",
       "2  r156_c1         4.0\n",
       "3  r160_c1         4.0\n",
       "4  r248_c1         4.0"
      ]
     },
     "execution_count": 62,
     "metadata": {},
     "output_type": "execute_result"
    }
   ],
   "source": [
    "data_test.head()"
   ]
  },
  {
   "cell_type": "code",
   "execution_count": null,
   "metadata": {
    "collapsed": true
   },
   "outputs": [],
   "source": []
  }
 ],
 "metadata": {
  "anaconda-cloud": {},
  "kernelspec": {
   "display_name": "Python [conda root]",
   "language": "python",
   "name": "conda-root-py"
  },
  "language_info": {
   "codemirror_mode": {
    "name": "ipython",
    "version": 3
   },
   "file_extension": ".py",
   "mimetype": "text/x-python",
   "name": "python",
   "nbconvert_exporter": "python",
   "pygments_lexer": "ipython3",
   "version": "3.5.2"
  }
 },
 "nbformat": 4,
 "nbformat_minor": 1
}
