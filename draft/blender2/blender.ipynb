{
 "cells": [
  {
   "cell_type": "code",
   "execution_count": 77,
   "metadata": {
    "collapsed": false
   },
   "outputs": [],
   "source": [
    "import pandas as pd\n",
    "import numpy as np\n",
    "import os\n",
    "import matplotlib.pyplot as plt\n",
    "import itertools\n",
    "from pyspark.mllib.recommendation import ALS\n",
    "from pyspark.sql.functions import col\n",
    "import math\n",
    "import random\n",
    "import itertools\n",
    "import copy\n",
    "from joblib import Parallel, delayed\n",
    "import multiprocessing\n",
    "import pickle\n",
    "import scipy.optimize as sco\n",
    "\n",
    "from cross_validator import *\n",
    "from models.als import *\n",
    "from models.means import *\n",
    "from models.medians import *\n",
    "from models.helpers_scipy import *\n",
    "from models.MF_RR import *\n",
    "from models.MF_SGD import *\n",
    "from models.pyfm import *\n",
    "from models.surprise_models import *\n",
    "from helpers import *\n",
    "\n",
    "%matplotlib inline\n",
    "%reload_ext autoreload\n",
    "%autoreload 2\n",
    "\n",
    "pd.options.display.max_columns = 100\n",
    "sc.setCheckpointDir('./checkpoint/')"
   ]
  },
  {
   "cell_type": "code",
   "execution_count": 78,
   "metadata": {
    "collapsed": false,
    "scrolled": true
   },
   "outputs": [
    {
     "data": {
      "text/html": [
       "<div>\n",
       "<table border=\"1\" class=\"dataframe\">\n",
       "  <thead>\n",
       "    <tr style=\"text-align: right;\">\n",
       "      <th></th>\n",
       "      <th>User</th>\n",
       "      <th>Movie</th>\n",
       "      <th>Rating</th>\n",
       "    </tr>\n",
       "  </thead>\n",
       "  <tbody>\n",
       "    <tr>\n",
       "      <th>0</th>\n",
       "      <td>44</td>\n",
       "      <td>1</td>\n",
       "      <td>4</td>\n",
       "    </tr>\n",
       "    <tr>\n",
       "      <th>1</th>\n",
       "      <td>61</td>\n",
       "      <td>1</td>\n",
       "      <td>3</td>\n",
       "    </tr>\n",
       "    <tr>\n",
       "      <th>2</th>\n",
       "      <td>67</td>\n",
       "      <td>1</td>\n",
       "      <td>4</td>\n",
       "    </tr>\n",
       "    <tr>\n",
       "      <th>3</th>\n",
       "      <td>72</td>\n",
       "      <td>1</td>\n",
       "      <td>3</td>\n",
       "    </tr>\n",
       "    <tr>\n",
       "      <th>4</th>\n",
       "      <td>86</td>\n",
       "      <td>1</td>\n",
       "      <td>5</td>\n",
       "    </tr>\n",
       "  </tbody>\n",
       "</table>\n",
       "</div>"
      ],
      "text/plain": [
       "   User  Movie  Rating\n",
       "0    44      1       4\n",
       "1    61      1       3\n",
       "2    67      1       4\n",
       "3    72      1       3\n",
       "4    86      1       5"
      ]
     },
     "execution_count": 78,
     "metadata": {},
     "output_type": "execute_result"
    }
   ],
   "source": [
    "df = load_csv()\n",
    "df.head()"
   ]
  },
  {
   "cell_type": "code",
   "execution_count": 79,
   "metadata": {
    "collapsed": false
   },
   "outputs": [
    {
     "data": {
      "text/plain": [
       "30"
      ]
     },
     "execution_count": 79,
     "metadata": {},
     "output_type": "execute_result"
    }
   ],
   "source": [
    "models = {\n",
    "    'global_mean': {\n",
    "        'function': global_mean,\n",
    "        'params': {}    \n",
    "    },\n",
    "    'global_median': {\n",
    "        'function': global_median,\n",
    "        'params': {}    \n",
    "    },     \n",
    "    'user_mean': {\n",
    "        'function': user_mean,\n",
    "        'params': {}\n",
    "    },\n",
    "    'user_median': {\n",
    "        'function': user_median,\n",
    "        'params': {}\n",
    "    },    \n",
    "    'movie_mean': {\n",
    "        'function': movie_mean,\n",
    "        'params': {}\n",
    "    }, \n",
    "    'movie_mean_rescaled': {\n",
    "        'function': movie_mean_rescaled,\n",
    "        'params': {}\n",
    "    },  \n",
    "    'movie_median': {\n",
    "        'function': movie_median,\n",
    "        'params': {}\n",
    "    },    \n",
    "    'movie_median_rescaled': {\n",
    "        'function': movie_median_rescaled,\n",
    "        'params': {}\n",
    "    },\n",
    "    'movie_mean_deviation_user': {\n",
    "        'function': movie_mean_deviation_user,\n",
    "        'params': {}\n",
    "    },\n",
    "    'movie_mean_deviation_user_rescaled': {\n",
    "        'function': movie_mean_deviation_user_rescaled,\n",
    "        'params': {}\n",
    "    },    \n",
    "    'movie_median_deviation_user': {\n",
    "        'function': movie_median_deviation_user,\n",
    "        'params': {}\n",
    "    },\n",
    "    'movie_median_deviation_user_rescaled': {\n",
    "        'function': movie_median_deviation_user_rescaled,\n",
    "        'params': {}\n",
    "    },    \n",
    "    'als': {\n",
    "        'function': predictions_ALS,\n",
    "        'params': {\n",
    "            'spark_context': sc,\n",
    "            'rank': 8,\n",
    "            'lambda_': 0.081, \n",
    "            'iterations': 24, \n",
    "            'nonnegative': True\n",
    "        }\n",
    "    },\n",
    "    'als_rescaled': {\n",
    "        'function': predictions_ALS_rescaled,\n",
    "        'params': {\n",
    "            'spark_context': sc,\n",
    "            'rank': 8,\n",
    "            'lambda_': 0.081, \n",
    "            'iterations': 24, \n",
    "            'nonnegative': True\n",
    "        }\n",
    "    },    \n",
    "    'mf_rr': {\n",
    "        'function': mf_RR,\n",
    "        'params': {\n",
    "            'movie_features':20, \n",
    "            'alpha':19\n",
    "        }  \n",
    "    },\n",
    "    'mf_rr_rescaled': {\n",
    "        'function': mf_RR_rescaled,\n",
    "        'params': {\n",
    "            'movie_features':20, \n",
    "            'alpha':19\n",
    "        }  \n",
    "    },    \n",
    "    'mf_sgd': {\n",
    "        'function': mf_SGD,\n",
    "        'params': {\n",
    "            'gamma': 0.004,\n",
    "            'n_features': 20,\n",
    "            'n_iter': 20,\n",
    "            'init_method': 'global_mean'\n",
    "        }\n",
    "    },  \n",
    "    'mf_sgd_rescaled': {\n",
    "        'function': mf_SGD_rescaled,\n",
    "        'params': {\n",
    "            'gamma': 0.004,\n",
    "            'n_features': 20,\n",
    "            'n_iter': 20,\n",
    "            'init_method': 'global_mean'\n",
    "        }\n",
    "    },    \n",
    "    'pyfm': {\n",
    "        'function': pyfm,\n",
    "        'params': {\n",
    "            'num_factors': 20,\n",
    "            'num_iter': 200,\n",
    "            'init_lr': 0.001,\n",
    "        }\n",
    "    },\n",
    "    'pyfm_rescaled': {\n",
    "        'function': pyfm_rescaled,\n",
    "        'params': {\n",
    "            'num_factors': 20,\n",
    "            'num_iter': 200,\n",
    "            'init_lr': 0.001,\n",
    "        }\n",
    "    },\n",
    "    'knn_ib': {\n",
    "        'function': knn,\n",
    "        'params': {\n",
    "            'k': 60,\n",
    "            'sim_options': {\n",
    "                'name': 'pearson_baseline',\n",
    "                'user_based': False\n",
    "            }\n",
    "        }\n",
    "    },\n",
    "    'knn_ib_rescaled': {\n",
    "        'function': knn_rescaled,\n",
    "        'params': {\n",
    "            'k': 60,\n",
    "            'sim_options': {\n",
    "                'name': 'pearson_baseline',\n",
    "                'user_based': False\n",
    "            }\n",
    "        }\n",
    "    },\n",
    "    'knn_ub': {\n",
    "        'function': knn,\n",
    "        'params': {\n",
    "            'k': 300,\n",
    "            'sim_options': {\n",
    "                'name': 'pearson_baseline',\n",
    "                'user_based': True\n",
    "            }\n",
    "        }\n",
    "    },\n",
    "    'knn_ub_rescaled': {\n",
    "        'function': knn_rescaled,\n",
    "        'params': {\n",
    "            'k': 300,\n",
    "            'sim_options': {\n",
    "                'name': 'pearson_baseline',\n",
    "                'user_based': True\n",
    "            }\n",
    "        }\n",
    "    },    \n",
    "    'svd': {\n",
    "        'function': svd,\n",
    "        'params': {\n",
    "            'n_epochs': 30,\n",
    "            'lr_all': 0.001,\n",
    "            'reg_all': 0.001\n",
    "        }\n",
    "    },\n",
    "    'svd_rescaled': {\n",
    "        'function': svd_rescaled,\n",
    "        'params': {\n",
    "            'n_epochs': 30,\n",
    "            'lr_all': 0.001,\n",
    "            'reg_all': 0.001\n",
    "        }\n",
    "    },\n",
    "    'slope_one': {\n",
    "        'function': slope_one,\n",
    "        'params': {}\n",
    "    },\n",
    "    'slope_one_rescaled': {\n",
    "        'function': slope_one_rescaled,\n",
    "        'params': {}\n",
    "    },\n",
    "    'baseline': {\n",
    "        'function': baseline,\n",
    "        'params': {}\n",
    "    },\n",
    "    'baseline_rescaled': {\n",
    "        'function': baseline_rescaled,\n",
    "        'params': {}\n",
    "    }   \n",
    "}\n",
    "\n",
    "#to_pop = ['mf_rr', 'global_median', 'movie_median_deviation_user', \n",
    "#            'movie_median_deviation_user_rescaled', 'user_median', \n",
    "#            'movie_mean_rescaled', 'mf_rr_rescaled', 'user_mean', \n",
    "#            'mf_sgd', 'movie_median', 'movie_mean', 'movie_median_rescaled',\n",
    "#            'slope_one_rescaled', 'baseline_rescaled', 'slope_one', \n",
    "#            'movie_mean_deviation_user_rescaled', 'global_mean']\n",
    "#for i in to_pop:\n",
    "#    models.pop(i)\n",
    "len(models)"
   ]
  },
  {
   "cell_type": "code",
   "execution_count": 91,
   "metadata": {
    "collapsed": true
   },
   "outputs": [],
   "source": [
    "def eval_(x, cv, models):\n",
    "    dict_try = {}\n",
    "    for idx, key in enumerate(model_names):\n",
    "        dict_try[key] = x[idx] \n",
    "        \n",
    "    return cv.evaluate_blending(dict_try)\n",
    "\n",
    "def test_blending(cv, best_dict):\n",
    "    cv.evaluation_all_models()\n",
    "        \n",
    "    print()\n",
    "    rmse = cv.evaluate_blending(best_dict)\n",
    "    print(\"Best blending: %s\"%best_dict)\n",
    "    print(\"RMSE best blending: %.5f\"%rmse)"
   ]
  },
  {
   "cell_type": "code",
   "execution_count": 93,
   "metadata": {
    "collapsed": false
   },
   "outputs": [],
   "source": [
    "cv = CrossValidator()\n",
    "#cv.shuffle_indices_and_store(df, 5)\n",
    "a = cv.load_indices()\n",
    "b = cv.define_ground_truth(df)"
   ]
  },
  {
   "cell_type": "code",
   "execution_count": 88,
   "metadata": {
    "collapsed": true
   },
   "outputs": [
    {
     "name": "stdout",
     "output_type": "stream",
     "text": [
      "Ceil Variation for model mf_rr\n",
      "Ceil Variation for model slope_one_rescaled\n",
      "Ceil Variation for model movie_mean_deviation_user\n",
      "Ceil Variation for model mf_sgd_rescaled\n",
      "Ceil Variation for model movie_mean_rescaled\n",
      "Ceil Variation for model als_rescaled\n",
      "Ceil Variation for model mf_rr_rescaled\n",
      "Ceil Variation for model user_mean\n",
      "Ceil Variation for model knn_ib_rescaled\n",
      "Ceil Variation for model mf_sgd\n",
      "Ceil Variation for model als\n",
      "Ceil Variation for model pyfm_rescaled\n",
      "Ceil Variation for model baseline\n",
      "Ceil Variation for model movie_mean\n",
      "Ceil Variation for model knn_ub\n",
      "Ceil Variation for model svd_rescaled\n",
      "Ceil Variation for model baseline_rescaled\n",
      "Ceil Variation for model slope_one\n",
      "Ceil Variation for model svd\n",
      "Ceil Variation for model movie_mean_deviation_user_rescaled\n",
      "Ceil Variation for model pyfm\n",
      "Ceil Variation for model knn_ib\n",
      "Ceil Variation for model knn_ub_rescaled\n",
      "Round Variation for model mf_rr\n",
      "Round Variation for model slope_one_rescaled\n",
      "Round Variation for model movie_mean_deviation_user\n",
      "Round Variation for model mf_sgd_rescaled\n",
      "Round Variation for model movie_mean_rescaled\n",
      "Round Variation for model als_rescaled\n",
      "Round Variation for model mf_rr_rescaled\n",
      "Round Variation for model user_mean\n",
      "Round Variation for model knn_ib_rescaled\n",
      "Round Variation for model mf_sgd\n",
      "Round Variation for model als\n",
      "Round Variation for model pyfm_rescaled\n",
      "Round Variation for model baseline\n",
      "Round Variation for model movie_mean\n",
      "Round Variation for model knn_ub\n",
      "Round Variation for model svd_rescaled\n",
      "Round Variation for model baseline_rescaled\n",
      "Round Variation for model slope_one\n",
      "Round Variation for model svd\n",
      "Round Variation for model movie_mean_deviation_user_rescaled\n",
      "Round Variation for model pyfm\n",
      "Round Variation for model knn_ib\n",
      "Round Variation for model knn_ub_rescaled\n",
      "Floor Variation for model mf_rr\n",
      "Floor Variation for model slope_one_rescaled\n",
      "Floor Variation for model movie_mean_deviation_user\n",
      "Floor Variation for model mf_sgd_rescaled\n",
      "Floor Variation for model movie_mean_rescaled\n",
      "Floor Variation for model als_rescaled\n",
      "Floor Variation for model mf_rr_rescaled\n",
      "Floor Variation for model user_mean\n",
      "Floor Variation for model knn_ib_rescaled\n",
      "Floor Variation for model mf_sgd\n",
      "Floor Variation for model als\n",
      "Floor Variation for model pyfm_rescaled\n",
      "Floor Variation for model baseline\n",
      "Floor Variation for model movie_mean\n",
      "Floor Variation for model knn_ub\n",
      "Floor Variation for model svd_rescaled\n",
      "Floor Variation for model baseline_rescaled\n",
      "Floor Variation for model slope_one\n",
      "Floor Variation for model svd\n",
      "Floor Variation for model movie_mean_deviation_user_rescaled\n",
      "Floor Variation for model pyfm\n",
      "Floor Variation for model knn_ib\n",
      "Floor Variation for model knn_ub_rescaled\n"
     ]
    }
   ],
   "source": [
    "variations = ['mf_rr', 'slope_one_rescaled', 'movie_mean_deviation_user', \n",
    " 'mf_sgd_rescaled', 'movie_mean_rescaled', 'als_rescaled',\n",
    " 'mf_rr_rescaled', 'user_mean', 'knn_ib_rescaled',\n",
    " 'mf_sgd', 'als', 'pyfm_rescaled', 'baseline', 'movie_mean', \n",
    " 'knn_ub', 'svd_rescaled', 'baseline_rescaled', 'slope_one',\n",
    " 'svd', 'movie_mean_deviation_user_rescaled', 'pyfm', 'knn_ib', \n",
    " 'knn_ub_rescaled']\n",
    "var_ceil = cv.models_ceil(variations)\n",
    "var_round = cv.models_round(variations)\n",
    "var_floor = cv.models_floor(variations)"
   ]
  },
  {
   "cell_type": "code",
   "execution_count": 98,
   "metadata": {
    "collapsed": false
   },
   "outputs": [
    {
     "data": {
      "text/plain": [
       "30"
      ]
     },
     "execution_count": 98,
     "metadata": {},
     "output_type": "execute_result"
    }
   ],
   "source": [
    "model_names = list(models.keys())\n",
    "len(model_names)"
   ]
  },
  {
   "cell_type": "code",
   "execution_count": 102,
   "metadata": {
    "collapsed": false
   },
   "outputs": [
    {
     "data": {
      "text/plain": [
       "99"
      ]
     },
     "execution_count": 102,
     "metadata": {},
     "output_type": "execute_result"
    }
   ],
   "source": [
    "model_names = list(models.keys())\n",
    "model_names.extend(var_ceil)\n",
    "model_names.extend(var_round)\n",
    "model_names.extend(var_floor)\n",
    "len(model_names)"
   ]
  },
  {
   "cell_type": "code",
   "execution_count": 61,
   "metadata": {
    "collapsed": false,
    "scrolled": true
   },
   "outputs": [
    {
     "name": "stdout",
     "output_type": "stream",
     "text": [
      "Predict and store for Model mf_rr (1/30)\n",
      "Predict and store for Model slope_one_rescaled (2/30)\n",
      "Predict and store for Model movie_mean_deviation_user (3/30)\n",
      "Predict and store for Model knn_ib (4/30)\n",
      "Predict and store for Model movie_median_deviation_user (5/30)\n",
      "Predict and store for Model movie_median_deviation_user_rescaled (6/30)\n",
      "Predict and store for Model mf_sgd_rescaled (7/30)\n",
      "Predict and store for Model movie_median_rescaled (8/30)\n",
      "Predict and store for Model movie_mean_rescaled (9/30)\n",
      "Predict and store for Model global_mean (10/30)\n",
      "Predict and store for Model mf_rr_rescaled (11/30)\n",
      "Predict and store for Model user_mean (12/30)\n",
      "Predict and store for Model knn_ib_rescaled (13/30)\n",
      "Predict and store for Model mf_sgd (14/30)\n",
      "Predict and store for Model als (15/30)\n",
      "Predict and store for Model pyfm_rescaled (16/30)\n",
      "Predict and store for Model baseline (17/30)\n",
      "Predict and store for Model movie_median (18/30)\n",
      "Predict and store for Model movie_mean (19/30)\n",
      "Predict and store for Model user_median (20/30)\n",
      "Predict and store for Model knn_ub (21/30)\n",
      "Predict and store for Model svd_rescaled (22/30)\n",
      "Predict and store for Model global_median (23/30)\n",
      "Predict and store for Model baseline_rescaled (24/30)\n",
      "Predict and store for Model slope_one (25/30)\n",
      "Predict and store for Model svd (26/30)\n",
      "Predict and store for Model movie_mean_deviation_user_rescaled (27/30)\n",
      "Predict and store for Model pyfm (28/30)\n",
      "Predict and store for Model knn_ub_rescaled (29/30)\n",
      "Predict and store for Model als_rescaled (30/30)\n"
     ]
    }
   ],
   "source": [
    "for idx, mdl in enumerate(models.keys()):\n",
    "        print(\"Predict and store for Model %s (%i/%i)\"%(mdl, idx+1, len(models.keys())))\n",
    "        cv.k_fold_predictions_and_store(df, models[mdl]['function'], mdl, override=False, **models[mdl]['params'])"
   ]
  },
  {
   "cell_type": "code",
   "execution_count": 103,
   "metadata": {
    "collapsed": false
   },
   "outputs": [],
   "source": [
    "a = cv.load_predictions(model_names)"
   ]
  },
  {
   "cell_type": "code",
   "execution_count": 104,
   "metadata": {
    "collapsed": false
   },
   "outputs": [
    {
     "name": "stdout",
     "output_type": "stream",
     "text": [
      "Optimization terminated successfully.    (Exit mode 0)\n",
      "            Current function value: 0.959536335331\n",
      "            Iterations: 153\n",
      "            Function evaluations: 15457\n",
      "            Gradient evaluations: 153\n"
     ]
    }
   ],
   "source": [
    "x0 = 1/len(model_names)*np.ones(len(model_names))\n",
    "res = sco.minimize(eval_, x0, method='SLSQP', args=(cv, model_names), \n",
    "                   options={'maxiter':1000, 'disp':True})"
   ]
  },
  {
   "cell_type": "code",
   "execution_count": 105,
   "metadata": {
    "collapsed": false
   },
   "outputs": [
    {
     "data": {
      "text/plain": [
       "array([  3.85128979e-02,   3.51114521e-01,   9.93604205e-01,\n",
       "         1.09702320e-02,   9.43857913e-01,   9.46737735e-01,\n",
       "         2.93620595e-01,  -9.31365627e-01,  -8.89941645e-01,\n",
       "         1.48610139e+00,   4.60640904e-02,  -3.72358040e+00,\n",
       "         2.54812688e-01,  -9.10853898e-01,   3.57351430e-01,\n",
       "         3.23975217e-02,  -6.49204830e-01,  -9.33969630e-01,\n",
       "        -8.84082550e-01,   5.24114406e-03,   2.01655740e-01,\n",
       "        -1.96694890e-02,   1.54695770e+00,  -5.58355628e-01,\n",
       "         1.44034690e-01,   7.01306575e-01,   9.87334079e-01,\n",
       "         1.21662282e-01,   5.64814846e-02,   2.60001063e-01,\n",
       "        -6.66018997e-02,   2.47621530e-01,   1.95726476e-01,\n",
       "         1.97424487e-01,   1.90317604e-01,   1.93613991e-01,\n",
       "         1.91538914e-01,   6.86803137e-03,   2.02512408e-01,\n",
       "         1.81948019e-01,   1.95794447e-01,   1.92873981e-01,\n",
       "        -5.32517197e-02,  -7.62636618e-02,  -2.51344175e-02,\n",
       "         1.90055003e-01,   1.93180771e-01,  -5.19309049e-02,\n",
       "         7.09684053e-02,   1.90807610e-01,   3.17663770e-02,\n",
       "         4.88649738e-02,   1.93673337e-01,  -4.02488331e-03,\n",
       "         9.75225531e-02,  -1.07278967e-02,  -9.37372380e-04,\n",
       "         8.21391881e-03,   6.18696330e-03,  -8.35379026e-03,\n",
       "        -8.16192921e-03,  -1.52021060e-02,   4.99595645e-03,\n",
       "        -6.38728045e-03,   5.94582064e-04,   3.42630502e-03,\n",
       "         2.49258156e-04,   6.08280556e-03,  -5.42607597e-03,\n",
       "        -1.02826208e-03,  -1.04903448e-01,  -6.20131960e-04,\n",
       "        -1.50227535e-03,  -9.44298228e-03,   7.19501811e-03,\n",
       "         6.12063970e-03,   6.56952884e-02,  -1.36326947e-01,\n",
       "        -1.87979240e-01,  -1.86346989e-01,  -1.93467582e-01,\n",
       "        -1.90171438e-01,  -1.92182753e-01,  -8.15231439e-03,\n",
       "        -1.81225465e-01,  -2.01840061e-01,  -1.87890695e-01,\n",
       "        -1.90929805e-01,   7.11546172e-02,   8.21252727e-02,\n",
       "         1.89942941e-02,  -1.93725237e-01,  -1.90564328e-01,\n",
       "        -6.58843732e-02,  -6.87956023e-02,  -1.92857360e-01,\n",
       "        -4.38559408e-02,  -6.56897387e-02,  -1.90300707e-01])"
      ]
     },
     "execution_count": 105,
     "metadata": {},
     "output_type": "execute_result"
    }
   ],
   "source": [
    "res.x"
   ]
  },
  {
   "cell_type": "code",
   "execution_count": 107,
   "metadata": {
    "collapsed": false
   },
   "outputs": [],
   "source": [
    "best_dict = {}\n",
    "for idx, key in enumerate(model_names):\n",
    "    best_dict[key] = res.x[idx]"
   ]
  },
  {
   "cell_type": "code",
   "execution_count": 108,
   "metadata": {
    "collapsed": false
   },
   "outputs": [
    {
     "name": "stdout",
     "output_type": "stream",
     "text": [
      "RMSE for  slope_one_rescaled_floor  :  1.15161837872\n",
      "RMSE for  mf_rr_round  :  1.06745574065\n",
      "RMSE for  knn_ib_ceil  :  1.14748801189\n",
      "RMSE for  knn_ib  :  0.990312758998\n",
      "RMSE for  movie_median_deviation_user  :  1.0722079529\n",
      "RMSE for  baseline_rescaled  :  1.00039580028\n",
      "RMSE for  user_mean_round  :  1.11853771201\n",
      "RMSE for  movie_mean_deviation_user_floor  :  1.13645873656\n",
      "RMSE for  knn_ib_rescaled_ceil  :  1.15125142814\n",
      "RMSE for  svd_floor  :  1.15605369052\n",
      "RMSE for  mf_rr_ceil  :  1.11296041146\n",
      "RMSE for  knn_ib_rescaled  :  0.99043827713\n",
      "RMSE for  movie_mean_deviation_user_ceil  :  1.16440383778\n",
      "RMSE for  als_rescaled_floor  :  1.18647554649\n",
      "RMSE for  movie_mean_deviation_user_rescaled_ceil  :  1.20419331534\n",
      "RMSE for  mf_sgd_ceil  :  1.15688643073\n",
      "RMSE for  slope_one_rescaled_round  :  1.04216644865\n",
      "RMSE for  movie_mean_rescaled_floor  :  1.15598296989\n",
      "RMSE for  mf_sgd_rescaled_ceil  :  1.15621175699\n",
      "RMSE for  movie_mean_deviation_user_rescaled  :  1.04494088282\n",
      "RMSE for  mf_rr  :  1.02774839578\n",
      "RMSE for  pyfm_rescaled_round  :  1.03094800684\n",
      "RMSE for  pyfm_round  :  1.0304705299\n",
      "RMSE for  knn_ub_rescaled_ceil  :  1.15606676733\n",
      "RMSE for  movie_mean_deviation_user_rescaled_floor  :  1.18301875832\n",
      "RMSE for  knn_ub_round  :  1.03458889523\n",
      "RMSE for  movie_mean_deviation_user_rescaled_round  :  1.08462921703\n",
      "RMSE for  user_mean_floor  :  1.2676941751\n",
      "RMSE for  mf_rr_rescaled_round  :  1.06738800685\n",
      "RMSE for  svd_rescaled_round  :  1.04026222639\n",
      "RMSE for  pyfm_ceil  :  1.13681861142\n",
      "RMSE for  knn_ub_rescaled_round  :  1.03557458892\n",
      "RMSE for  svd_round  :  1.04023661465\n",
      "RMSE for  baseline_floor  :  1.14756448783\n",
      "RMSE for  svd_ceil  :  1.14678074666\n",
      "RMSE for  mf_sgd_round  :  1.04224668061\n",
      "RMSE for  knn_ib_rescaled_floor  :  1.13934958804\n",
      "RMSE for  knn_ib_rescaled_round  :  1.0328207653\n",
      "RMSE for  movie_median  :  1.09968357705\n",
      "RMSE for  baseline_rescaled_round  :  1.04231743611\n",
      "RMSE for  pyfm_rescaled_floor  :  1.14872883327\n",
      "RMSE for  slope_one_ceil  :  1.15285953591\n",
      "RMSE for  svd_rescaled  :  0.998400266617\n",
      "RMSE for  global_median  :  1.12811994776\n",
      "RMSE for  pyfm_rescaled  :  0.988636991204\n",
      "RMSE for  mf_rr_rescaled_floor  :  1.23740347009\n",
      "RMSE for  als_round  :  1.03111202352\n",
      "RMSE for  movie_mean_rescaled_ceil  :  1.16119072173\n",
      "RMSE for  als_rescaled  :  0.989033893185\n",
      "RMSE for  pyfm_rescaled_ceil  :  1.13981752607\n",
      "RMSE for  knn_ub_ceil  :  1.15481312482\n",
      "RMSE for  mf_rr_floor  :  1.23877181456\n",
      "RMSE for  baseline  :  0.999257378352\n",
      "RMSE for  movie_mean_rescaled_round  :  1.04722673438\n",
      "RMSE for  baseline_ceil  :  1.15645554524\n",
      "RMSE for  knn_ib_floor  :  1.13955757947\n",
      "RMSE for  knn_ub_rescaled_floor  :  1.14030748771\n",
      "RMSE for  user_mean_ceil  :  1.22883624042\n",
      "RMSE for  mf_sgd_rescaled_floor  :  1.15102345566\n",
      "RMSE for  mf_rr_rescaled  :  1.02746150517\n",
      "RMSE for  mf_sgd  :  1.00080284886\n",
      "RMSE for  als  :  0.9887407042\n",
      "RMSE for  knn_ub_floor  :  1.13782433562\n",
      "RMSE for  slope_one_round  :  1.04208370116\n",
      "RMSE for  movie_mean_round  :  1.06946373127\n",
      "RMSE for  movie_mean  :  1.03043151776\n",
      "RMSE for  pyfm_floor  :  1.14794690147\n",
      "RMSE for  movie_median_rescaled  :  1.0226743167\n",
      "RMSE for  movie_mean_deviation_user  :  0.996612661275\n",
      "RMSE for  als_ceil  :  1.09900950303\n",
      "RMSE for  baseline_round  :  1.04125424323\n",
      "RMSE for  svd  :  0.99835151007\n",
      "RMSE for  baseline_rescaled_ceil  :  1.15799506911\n",
      "RMSE for  knn_ub_rescaled  :  0.993513686466\n",
      "RMSE for  als_rescaled_ceil  :  1.10005025657\n",
      "RMSE for  mf_rr_rescaled_ceil  :  1.11684013168\n",
      "RMSE for  movie_mean_ceil  :  1.18645973565\n",
      "RMSE for  mf_sgd_rescaled_round  :  1.04183987003\n",
      "RMSE for  svd_rescaled_ceil  :  1.14963422235\n",
      "RMSE for  movie_mean_floor  :  1.17499569319\n",
      "RMSE for  slope_one_rescaled_ceil  :  1.15653422503\n",
      "RMSE for  als_floor  :  1.18665008995\n",
      "RMSE for  movie_median_deviation_user_rescaled  :  1.06465213764\n",
      "RMSE for  als_rescaled_round  :  1.03127860629\n",
      "RMSE for  mf_sgd_floor  :  1.15266361438\n",
      "RMSE for  movie_mean_rescaled  :  1.00562209798\n",
      "RMSE for  slope_one_floor  :  1.15160768096\n",
      "RMSE for  mf_sgd_rescaled  :  0.999931853884\n",
      "RMSE for  user_mean  :  1.09516860129\n",
      "RMSE for  movie_mean_deviation_user_round  :  1.03882075367\n",
      "RMSE for  knn_ub  :  0.992444624574\n",
      "RMSE for  global_mean  :  1.11905704579\n",
      "RMSE for  knn_ib_round  :  1.0327854692\n",
      "RMSE for  user_median  :  1.15146416557\n",
      "RMSE for  slope_one  :  1.00010502221\n",
      "RMSE for  baseline_rescaled_floor  :  1.14990000733\n",
      "RMSE for  slope_one_rescaled  :  1.00032081157\n",
      "RMSE for  svd_rescaled_floor  :  1.15557986138\n",
      "RMSE for  pyfm  :  0.988022379113\n",
      "\n",
      "Best blending: {'slope_one_rescaled_floor': -0.1363269473336407, 'mf_rr_round': -0.0040248833099510951, 'knn_ib_ceil': 0.04886497382430792, 'knn_ib': 0.010970232035646449, 'movie_median_deviation_user': 0.94385791302247302, 'baseline_rescaled': -0.55835562758115953, 'user_mean_round': -0.0081619292115642905, 'movie_mean_deviation_user_floor': -0.18797924014497394, 'knn_ib_rescaled_ceil': 0.20251240773706464, 'svd_floor': -0.068795602254573859, 'mf_rr_ceil': -0.066601899661828654, 'knn_ib_rescaled': 0.25481268788093075, 'movie_mean_deviation_user_ceil': 0.19572647618803635, 'als_rescaled_floor': -0.19017143783843865, 'movie_mean_deviation_user_rescaled_ceil': 0.19080761020779352, 'mf_sgd_ceil': 0.18194801885753314, 'slope_one_rescaled_round': 0.097522553130978837, 'movie_mean_rescaled_floor': -0.19346758184818866, 'mf_sgd_rescaled_ceil': 0.19742448746041394, 'movie_mean_deviation_user_rescaled': 0.98733407874906942, 'mf_rr': 0.038512897871112707, 'pyfm_rescaled_round': 0.00059458206406389565, 'pyfm_round': -0.0094429822827009641, 'knn_ub_rescaled_ceil': 0.19367333672658593, 'movie_mean_deviation_user_rescaled_floor': -0.19285735976490803, 'knn_ub_round': 0.0060828055556181593, 'movie_mean_deviation_user_rescaled_round': -0.001502275352840499, 'user_mean_floor': -0.0081523143868682674, 'mf_rr_rescaled_round': -0.0083537902553052386, 'svd_rescaled_round': -0.0054260759715882515, 'pyfm_ceil': 0.031766376958516869, 'knn_ub_rescaled_round': 0.0061206396964036828, 'svd_round': -0.00062013195974861685, 'baseline_floor': 0.071154617150432822, 'svd_ceil': 0.070968405322315409, 'mf_sgd_round': 0.0049959564459902909, 'knn_ib_rescaled_floor': -0.18122546499139433, 'knn_ib_rescaled_round': -0.015202106025197492, 'movie_median': -0.93396963039349279, 'baseline_rescaled_round': -0.0010282620818919917, 'pyfm_rescaled_floor': -0.19092980535116463, 'slope_one_ceil': -0.051930904889520346, 'svd_rescaled': -0.019669489011419843, 'global_median': 1.5469576982845559, 'pyfm_rescaled': 0.032397521659114095, 'mf_rr_rescaled_floor': -0.192182753014667, 'als_round': -0.0063872804529640555, 'movie_mean_rescaled_ceil': 0.19031760385423194, 'als_rescaled': 0.26000106293264763, 'pyfm_rescaled_ceil': 0.19287398107366424, 'knn_ub_ceil': -0.025134417547477125, 'mf_rr_floor': 0.065695288445045463, 'baseline': -0.6492048300090677, 'movie_mean_rescaled_round': 0.0082139188146875819, 'baseline_ceil': -0.053251719725461041, 'knn_ib_floor': -0.065689738699765479, 'knn_ub_rescaled_floor': -0.1903007065018763, 'user_mean_ceil': 0.0068680313666580244, 'mf_sgd_rescaled_floor': -0.1863469886634932, 'mf_rr_rescaled': 0.046064090416609915, 'mf_sgd': -0.91085389844141529, 'als': 0.35735143010018666, 'knn_ub_floor': 0.018994294101592441, 'slope_one_round': -0.10490344845813712, 'movie_mean_round': 0.00024925815626128601, 'movie_mean': -0.8840825502446551, 'pyfm_floor': -0.043855940755115522, 'movie_median_rescaled': -0.93136562744270901, 'movie_mean_deviation_user': 0.9936042049059407, 'als_ceil': 0.19579444654454084, 'baseline_round': 0.0034263050233808573, 'svd': 0.70130657535665275, 'baseline_rescaled_ceil': 0.19318077124008251, 'knn_ub_rescaled': 0.056481484567778413, 'als_rescaled_ceil': 0.19361399096602511, 'mf_rr_rescaled_ceil': 0.19153891405318221, 'movie_mean_ceil': -0.076263661759132656, 'mf_sgd_rescaled_round': -0.00093737238002113447, 'svd_rescaled_ceil': 0.19005500256277297, 'movie_mean_floor': 0.082125272684061529, 'slope_one_rescaled_ceil': 0.24762152983923108, 'als_floor': -0.18789069514271431, 'movie_median_deviation_user_rescaled': 0.9467377350834999, 'als_rescaled_round': 0.0061869632951149899, 'mf_sgd_floor': -0.20184006072121907, 'movie_mean_rescaled': -0.88994164505499052, 'slope_one_floor': -0.065884373151195441, 'mf_sgd_rescaled': 0.29362059510386862, 'user_mean': -3.7235803964213714, 'movie_mean_deviation_user_round': -0.010727896745865585, 'knn_ub': 0.20165574022600732, 'global_mean': 1.4861013923477242, 'knn_ib_round': 0.0071950181077919629, 'user_median': 0.0052411440573912555, 'slope_one': 0.14403468967390903, 'baseline_rescaled_floor': -0.1905643280514159, 'slope_one_rescaled': 0.35111452111599717, 'svd_rescaled_floor': -0.19372523700812455, 'pyfm': 0.12166228188992831}\n",
      "RMSE best blending: 0.95954\n"
     ]
    }
   ],
   "source": [
    "test_blending(cv, best_dict)"
   ]
  },
  {
   "cell_type": "code",
   "execution_count": 109,
   "metadata": {
    "collapsed": false
   },
   "outputs": [
    {
     "data": {
      "text/plain": [
       "0.25482250644021026"
      ]
     },
     "execution_count": 109,
     "metadata": {},
     "output_type": "execute_result"
    }
   ],
   "source": [
    "sum(res.x)"
   ]
  },
  {
   "cell_type": "code",
   "execution_count": null,
   "metadata": {
    "collapsed": true
   },
   "outputs": [],
   "source": []
  }
 ],
 "metadata": {
  "anaconda-cloud": {},
  "kernelspec": {
   "display_name": "Python [conda root]",
   "language": "python",
   "name": "conda-root-py"
  },
  "language_info": {
   "codemirror_mode": {
    "name": "ipython",
    "version": 3
   },
   "file_extension": ".py",
   "mimetype": "text/x-python",
   "name": "python",
   "nbconvert_exporter": "python",
   "pygments_lexer": "ipython3",
   "version": "3.5.2"
  }
 },
 "nbformat": 4,
 "nbformat_minor": 1
}
