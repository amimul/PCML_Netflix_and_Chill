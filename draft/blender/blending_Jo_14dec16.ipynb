{
 "cells": [
  {
   "cell_type": "code",
   "execution_count": 1,
   "metadata": {
    "collapsed": false
   },
   "outputs": [
    {
     "data": {
      "text/plain": [
       "<pyspark.context.SparkContext at 0x10500f400>"
      ]
     },
     "execution_count": 1,
     "metadata": {},
     "output_type": "execute_result"
    }
   ],
   "source": [
    "sc"
   ]
  },
  {
   "cell_type": "code",
   "execution_count": 2,
   "metadata": {
    "collapsed": false
   },
   "outputs": [
    {
     "ename": "ImportError",
     "evalue": "No module named 'rescaler'",
     "output_type": "error",
     "traceback": [
      "\u001b[0;31m---------------------------------------------------------------------------\u001b[0m",
      "\u001b[0;31mImportError\u001b[0m                               Traceback (most recent call last)",
      "\u001b[0;32m<ipython-input-2-c42d5b5a45ad>\u001b[0m in \u001b[0;36m<module>\u001b[0;34m()\u001b[0m\n\u001b[1;32m     22\u001b[0m \u001b[0;32mfrom\u001b[0m \u001b[0mmodels\u001b[0m\u001b[0;34m.\u001b[0m\u001b[0mhelpers\u001b[0m \u001b[0;32mimport\u001b[0m \u001b[0;34m*\u001b[0m\u001b[0;34m\u001b[0m\u001b[0m\n\u001b[1;32m     23\u001b[0m \u001b[0;32mfrom\u001b[0m \u001b[0mmodels\u001b[0m\u001b[0;34m.\u001b[0m\u001b[0mcollaborative_filtering\u001b[0m \u001b[0;32mimport\u001b[0m \u001b[0;34m*\u001b[0m\u001b[0;34m\u001b[0m\u001b[0m\n\u001b[0;32m---> 24\u001b[0;31m \u001b[0;32mfrom\u001b[0m \u001b[0mmodels\u001b[0m\u001b[0;34m.\u001b[0m\u001b[0mMF_SGD\u001b[0m \u001b[0;32mimport\u001b[0m \u001b[0;34m*\u001b[0m\u001b[0;34m\u001b[0m\u001b[0m\n\u001b[0m\u001b[1;32m     25\u001b[0m \u001b[0;34m\u001b[0m\u001b[0m\n\u001b[1;32m     26\u001b[0m \u001b[0mget_ipython\u001b[0m\u001b[0;34m(\u001b[0m\u001b[0;34m)\u001b[0m\u001b[0;34m.\u001b[0m\u001b[0mmagic\u001b[0m\u001b[0;34m(\u001b[0m\u001b[0;34m'matplotlib inline'\u001b[0m\u001b[0;34m)\u001b[0m\u001b[0;34m\u001b[0m\u001b[0m\n",
      "\u001b[0;32m/Users/joachimmuth/Documents/EPFL/PCML/PCML_Netflix_and_Chill/blender/models/MF_SGD.py\u001b[0m in \u001b[0;36m<module>\u001b[0;34m()\u001b[0m\n\u001b[1;32m     18\u001b[0m \u001b[0;32mfrom\u001b[0m \u001b[0mmodels\u001b[0m\u001b[0;34m.\u001b[0m\u001b[0mhelpers\u001b[0m \u001b[0;32mimport\u001b[0m \u001b[0;34m*\u001b[0m\u001b[0;34m\u001b[0m\u001b[0m\n\u001b[1;32m     19\u001b[0m \u001b[0;32mfrom\u001b[0m \u001b[0mmodels\u001b[0m\u001b[0;34m.\u001b[0m\u001b[0mmeans\u001b[0m \u001b[0;32mimport\u001b[0m \u001b[0;34m*\u001b[0m\u001b[0;34m\u001b[0m\u001b[0m\n\u001b[0;32m---> 20\u001b[0;31m \u001b[0;32mfrom\u001b[0m \u001b[0mrescaler\u001b[0m \u001b[0;32mimport\u001b[0m \u001b[0mRescaler\u001b[0m\u001b[0;34m\u001b[0m\u001b[0m\n\u001b[0m\u001b[1;32m     21\u001b[0m \u001b[0;34m\u001b[0m\u001b[0m\n\u001b[1;32m     22\u001b[0m \u001b[0;34m\u001b[0m\u001b[0m\n",
      "\u001b[0;31mImportError\u001b[0m: No module named 'rescaler'"
     ]
    }
   ],
   "source": [
    "import pandas as pd\n",
    "import numpy as np\n",
    "import os\n",
    "import matplotlib.pyplot as plt\n",
    "import itertools\n",
    "from pyspark.mllib.recommendation import ALS\n",
    "from pyspark.sql.functions import col\n",
    "import math\n",
    "import random\n",
    "import itertools\n",
    "import copy\n",
    "from joblib import Parallel, delayed\n",
    "import multiprocessing\n",
    "import pickle\n",
    "import scipy.optimize as sco\n",
    "\n",
    "from cross_validation import KFoldIndexes,CrossValidation\n",
    "from cross_validation_blending import CrossValidationBlending\n",
    "from models.als import predictions_ALS\n",
    "from models.means import *\n",
    "from models.medians import *\n",
    "from models.helpers import *\n",
    "from models.collaborative_filtering import *\n",
    "from models.MF_SGD import *\n",
    "\n",
    "%matplotlib inline\n",
    "%load_ext autoreload\n",
    "%autoreload 2\n",
    "\n",
    "pd.options.display.max_columns = 100\n",
    "sc.setCheckpointDir('./checkpoint/')\n"
   ]
  },
  {
   "cell_type": "code",
   "execution_count": 3,
   "metadata": {
    "collapsed": true
   },
   "outputs": [],
   "source": [
    "dic = {'coucou': 4, 'coucou2' : 6}"
   ]
  },
  {
   "cell_type": "code",
   "execution_count": 5,
   "metadata": {
    "collapsed": false
   },
   "outputs": [
    {
     "name": "stdout",
     "output_type": "stream",
     "text": [
      "coucou\n",
      "coucou2\n"
     ]
    }
   ],
   "source": [
    "for i in dic.keys():\n",
    "    print(i)"
   ]
  },
  {
   "cell_type": "code",
   "execution_count": 15,
   "metadata": {
    "collapsed": false
   },
   "outputs": [
    {
     "data": {
      "text/plain": [
       "4"
      ]
     },
     "execution_count": 15,
     "metadata": {},
     "output_type": "execute_result"
    }
   ],
   "source": [
    "list(dic.values())[0]"
   ]
  },
  {
   "cell_type": "code",
   "execution_count": 3,
   "metadata": {
    "collapsed": false
   },
   "outputs": [
    {
     "data": {
      "text/html": [
       "<div>\n",
       "<table border=\"1\" class=\"dataframe\">\n",
       "  <thead>\n",
       "    <tr style=\"text-align: right;\">\n",
       "      <th></th>\n",
       "      <th>User</th>\n",
       "      <th>Movie</th>\n",
       "      <th>Rating</th>\n",
       "    </tr>\n",
       "  </thead>\n",
       "  <tbody>\n",
       "    <tr>\n",
       "      <th>0</th>\n",
       "      <td>44</td>\n",
       "      <td>1</td>\n",
       "      <td>4</td>\n",
       "    </tr>\n",
       "    <tr>\n",
       "      <th>1</th>\n",
       "      <td>61</td>\n",
       "      <td>1</td>\n",
       "      <td>3</td>\n",
       "    </tr>\n",
       "    <tr>\n",
       "      <th>2</th>\n",
       "      <td>67</td>\n",
       "      <td>1</td>\n",
       "      <td>4</td>\n",
       "    </tr>\n",
       "    <tr>\n",
       "      <th>3</th>\n",
       "      <td>72</td>\n",
       "      <td>1</td>\n",
       "      <td>3</td>\n",
       "    </tr>\n",
       "    <tr>\n",
       "      <th>4</th>\n",
       "      <td>86</td>\n",
       "      <td>1</td>\n",
       "      <td>5</td>\n",
       "    </tr>\n",
       "  </tbody>\n",
       "</table>\n",
       "</div>"
      ],
      "text/plain": [
       "   User  Movie  Rating\n",
       "0    44      1       4\n",
       "1    61      1       3\n",
       "2    67      1       4\n",
       "3    72      1       3\n",
       "4    86      1       5"
      ]
     },
     "execution_count": 3,
     "metadata": {},
     "output_type": "execute_result"
    }
   ],
   "source": [
    "train = load_csv()\n",
    "train.head()"
   ]
  },
  {
   "cell_type": "code",
   "execution_count": 4,
   "metadata": {
    "collapsed": false
   },
   "outputs": [],
   "source": [
    "models = {\n",
    "    'global_mean': {\n",
    "        'compute_predictions': True,\n",
    "        'function': global_mean,\n",
    "        'params': {}    \n",
    "    },\n",
    "    'user_mean': {\n",
    "        'compute_predictions': True,\n",
    "        'function': user_mean,\n",
    "        'params': {}\n",
    "    },\n",
    "    'movie_mean': {\n",
    "        'compute_predictions': True,\n",
    "        'function': movie_mean,\n",
    "        'params': {}\n",
    "    },\n",
    "    'global_median': {\n",
    "        'compute_predictions': True,\n",
    "        'function': global_median,\n",
    "        'params': {}    \n",
    "    },  \n",
    "    'user_median': {\n",
    "        'compute_predictions': True,\n",
    "        'function': user_median,\n",
    "        'params': {}\n",
    "    },\n",
    "    'movie_median': {\n",
    "        'compute_predictions': True,\n",
    "        'function': movie_median,\n",
    "        'params': {}\n",
    "    }\n",
    "}\n",
    "\n",
    "models2 = {\n",
    "    'movie_mean_deviation_user': {\n",
    "        'compute_predictions': True,\n",
    "        'function': movie_mean_deviation_user,\n",
    "        'params': {}\n",
    "    },\n",
    "    'movie_median_deviation_user': {\n",
    "        'compute_predictions': True,\n",
    "        'function': movie_median_deviation_user,\n",
    "        'params': {}\n",
    "    }\n",
    "}\n",
    "\n",
    "models3 = {\n",
    "    'als': {\n",
    "        'compute_predictions': True,\n",
    "        'function': predictions_ALS,\n",
    "        'params': {\n",
    "            'spark_context': sc,\n",
    "            'rank': 8,\n",
    "            'lambda_': 0.081, \n",
    "            'iterations': 24, \n",
    "            'nonnegative': True\n",
    "        }\n",
    "    },\n",
    "    'collab_filt': {\n",
    "        'compute_predictions': True,\n",
    "        'function': collaborative_filtering,\n",
    "        'params': {\n",
    "            'movie_features':20, \n",
    "            'alpha':19\n",
    "        }  \n",
    "    },\n",
    "    'mf_sgd': {\n",
    "        'compute_predictions': True,\n",
    "        'function': matrix_factorization_SGD,\n",
    "        'params': {\n",
    "            'gamma': 0.004,\n",
    "            'n_features': 20,\n",
    "            'n_iter': 20,\n",
    "            'init_method': 'global_mean'\n",
    "        }\n",
    "    }\n",
    "}\n",
    "\n",
    "models4 = {\n",
    "    'global_mean': {\n",
    "        'compute_predictions': True,\n",
    "        'function': global_mean,\n",
    "        'params': {}    \n",
    "    },  \n",
    "    'mf_sgd': {\n",
    "        'compute_predictions': True,\n",
    "        'function': matrix_factorization_SGD,\n",
    "        'params': {\n",
    "            'gamma': 0.004,\n",
    "            'n_features': 20,\n",
    "            'n_iter': 20,\n",
    "            'init_method': 'global_mean'\n",
    "        }\n",
    "    }   \n",
    "}\n",
    "\n",
    "# add by Jo\n",
    "models5 = {\n",
    "        'mf_sgd_rescale': {\n",
    "        'compute_predictions': True,\n",
    "        'function': matrix_factorization_SGD_rescaling,\n",
    "        'params': {\n",
    "            'gamma': 0.004,\n",
    "            'n_features': 20,\n",
    "            'n_iter': 20,\n",
    "            'init_method': 'global_mean'\n",
    "        }\n",
    "    }\n",
    "}\n",
    "\n",
    "models = dict(models, **models2)\n",
    "\n",
    "models = dict(models, **models3)\n",
    "\n",
    "# add by Jo\n",
    "models = dict(models, **models5)"
   ]
  },
  {
   "cell_type": "code",
   "execution_count": 5,
   "metadata": {
    "collapsed": false
   },
   "outputs": [],
   "source": [
    "def prepare_blending(data, k_folds, models):\n",
    "    blending = CrossValidationBlending(data, k_folds)\n",
    "    for key in models.keys():\n",
    "        blending.add_model(models[key]['function'], key)\n",
    "    return blending\n",
    "\n",
    "def add_param_blending(blending, models):\n",
    "    for key in models.keys():\n",
    "        blending.add_params_for_model(key, models[key]['params'], compute_predictions=models[key]['compute_predictions'])\n",
    "        \n",
    "    return blending\n",
    "\n",
    "def test_blending(blending, best_dict, models):\n",
    "    dict_try = {}\n",
    "    for key in models.keys():\n",
    "        dict_try[key] = 0\n",
    "        \n",
    "    for key in models.keys():\n",
    "        dict_test = dict_try.copy()\n",
    "        dict_test[key] = 1\n",
    "        rmse = blending.evaluate_blending(dict_test)\n",
    "        print(\"RMSE for model %s: %.5f\"%(key, rmse))\n",
    "        \n",
    "    print()\n",
    "    rmse = blending.evaluate_blending(best_dict)\n",
    "    print(\"Best blending: %s\"%best_dict)\n",
    "    print(\"RMSE best blending: %.5f\"%rmse)\n",
    "    \n",
    "def prediction(train, blending, best_dict, output):\n",
    "    test = pd.read_csv('../data/sampleSubmission.csv')\n",
    "    test_prep = test\n",
    "    test_prep['User'] = test_prep['Id'].apply(lambda x: int(x.split('_')[0][1:]))\n",
    "    test_prep['Movie'] = test_prep['Id'].apply(lambda x: int(x.split('_')[1][1:]))\n",
    "    test_prep['Rating'] = test_prep['Prediction']\n",
    "    test_prep = test_prep.drop(['Prediction', 'Id'], axis=1)\n",
    "    \n",
    "    pred = blending.evaluate_blending_for_validation(best_dict, train, test_prep)\n",
    "    for i in range(len(pred)):\n",
    "        if pred[i] > 5:\n",
    "            pred[i] = 5\n",
    "        elif pred[i] < 1:\n",
    "            pred[i] = 1\n",
    "    \n",
    "    test.Rating=pred\n",
    "    test['Prediction']=test.Rating\n",
    "    test = test.drop(['User', 'Movie', 'Rating'], axis=1)\n",
    "    test.to_csv(output, index=False)\n",
    "    \n",
    "def eval_(x, blending, models):\n",
    "    dict_try = {}\n",
    "    for idx, key in enumerate(models.keys()):\n",
    "        dict_try[key] = x[idx] \n",
    "        \n",
    "    return blending.evaluate_blending(dict_try)"
   ]
  },
  {
   "cell_type": "code",
   "execution_count": 6,
   "metadata": {
    "collapsed": false
   },
   "outputs": [],
   "source": [
    "blending = prepare_blending(train, 0, models)"
   ]
  },
  {
   "cell_type": "code",
   "execution_count": 7,
   "metadata": {
    "collapsed": false,
    "scrolled": true
   },
   "outputs": [
    {
     "name": "stdout",
     "output_type": "stream",
     "text": [
      "[USER_MEAN] applying\n",
      "[USER_MEAN] done\n",
      "[USER_MEAN] applying\n",
      "[USER_MEAN] done\n",
      "[USER_MEAN] applying\n",
      "[USER_MEAN] done\n",
      "[USER_MEAN] applying\n",
      "[USER_MEAN] done\n",
      "[USER_MEAN] applying\n",
      "[USER_MEAN] done\n",
      "[MF-SGD] gamma=0.004, features=20, iterations=20\n",
      "[MF-SGD] RMSE on train set: 0.9881823330973184\n",
      "[MF-SGD] Done\n",
      "[MF-SGD] gamma=0.004, features=20, iterations=20\n",
      "[MF-SGD] RMSE on train set: 0.9888665117215252\n",
      "[MF-SGD] Done\n",
      "[MF-SGD] gamma=0.004, features=20, iterations=20\n",
      "[MF-SGD] RMSE on train set: 0.988032696198208\n",
      "[MF-SGD] Done\n",
      "[MF-SGD] gamma=0.004, features=20, iterations=20\n",
      "[MF-SGD] RMSE on train set: 0.9882358187270177\n",
      "[MF-SGD] Done\n",
      "[MF-SGD] gamma=0.004, features=20, iterations=20\n",
      "[MF-SGD] RMSE on train set: 0.9885613620582535\n",
      "[MF-SGD] Done\n",
      "[MF-SGD] gamma=0.004, features=20, iterations=20\n",
      "[MF-SGD] RMSE on train set: 0.9896312575084751\n",
      "[MF-SGD] Done\n",
      "[MF-SGD] gamma=0.004, features=20, iterations=20\n",
      "[MF-SGD] RMSE on train set: 0.990308439228692\n",
      "[MF-SGD] Done\n",
      "[MF-SGD] gamma=0.004, features=20, iterations=20\n",
      "[MF-SGD] RMSE on train set: 0.989448981630556\n",
      "[MF-SGD] Done\n",
      "[MF-SGD] gamma=0.004, features=20, iterations=20\n",
      "[MF-SGD] RMSE on train set: 0.9896548867590685\n",
      "[MF-SGD] Done\n",
      "[MF-SGD] gamma=0.004, features=20, iterations=20\n",
      "[MF-SGD] RMSE on train set: 0.9899779993642437\n",
      "[MF-SGD] Done\n",
      "[ALS] applying\n",
      "[ALS] done\n",
      "[ALS] applying\n",
      "[ALS] done\n",
      "[ALS] applying\n",
      "[ALS] done\n",
      "[ALS] applying\n",
      "[ALS] done\n",
      "[ALS] applying\n",
      "[ALS] done\n",
      "[MOVIE_MEAN_DEVIATION_USER] applying\n",
      "[MOVIE_MEAN_DEVIATION_USER] done\n",
      "[MOVIE_MEAN_DEVIATION_USER] applying\n",
      "[MOVIE_MEAN_DEVIATION_USER] done\n",
      "[MOVIE_MEAN_DEVIATION_USER] applying\n",
      "[MOVIE_MEAN_DEVIATION_USER] done\n",
      "[MOVIE_MEAN_DEVIATION_USER] applying\n",
      "[MOVIE_MEAN_DEVIATION_USER] done\n",
      "[MOVIE_MEAN_DEVIATION_USER] applying\n",
      "[MOVIE_MEAN_DEVIATION_USER] done\n",
      "[MOVIE_MEDIAN] applying\n",
      "[MOVIE_MEDIAN] done\n",
      "[MOVIE_MEDIAN] applying\n",
      "[MOVIE_MEDIAN] done\n",
      "[MOVIE_MEDIAN] applying\n",
      "[MOVIE_MEDIAN] done\n",
      "[MOVIE_MEDIAN] applying\n",
      "[MOVIE_MEDIAN] done\n",
      "[MOVIE_MEDIAN] applying\n",
      "[MOVIE_MEDIAN] done\n",
      "[MOVIE_MEAN] applying\n",
      "[MOVIE_MEAN] done\n",
      "[MOVIE_MEAN] applying\n",
      "[MOVIE_MEAN] done\n",
      "[MOVIE_MEAN] applying\n",
      "[MOVIE_MEAN] done\n",
      "[MOVIE_MEAN] applying\n",
      "[MOVIE_MEAN] done\n",
      "[MOVIE_MEAN] applying\n",
      "[MOVIE_MEAN] done\n",
      "[MOVIE_MEDIAN_DEVIATION_USER] applying\n",
      "[MOVIE_MEDIAN_DEVIATION_USER] done\n",
      "[MOVIE_MEDIAN_DEVIATION_USER] applying\n",
      "[MOVIE_MEDIAN_DEVIATION_USER] done\n",
      "[MOVIE_MEDIAN_DEVIATION_USER] applying\n",
      "[MOVIE_MEDIAN_DEVIATION_USER] done\n",
      "[MOVIE_MEDIAN_DEVIATION_USER] applying\n",
      "[MOVIE_MEDIAN_DEVIATION_USER] done\n",
      "[MOVIE_MEDIAN_DEVIATION_USER] applying\n",
      "[MOVIE_MEDIAN_DEVIATION_USER] done\n",
      "[USER_MEDIAN] applying\n",
      "[USER_MEDIAN] done\n",
      "[USER_MEDIAN] applying\n",
      "[USER_MEDIAN] done\n",
      "[USER_MEDIAN] applying\n",
      "[USER_MEDIAN] done\n",
      "[USER_MEDIAN] applying\n",
      "[USER_MEDIAN] done\n",
      "[USER_MEDIAN] applying\n",
      "[USER_MEDIAN] done\n",
      "[COLLABORATIVE FILTERING] applying\n"
     ]
    },
    {
     "name": "stderr",
     "output_type": "stream",
     "text": [
      "/Users/joachimmuth/Documents/EPFL/PCML/PCML_Netflix_and_Chill/blender/models/collaborative_filtering.py:61: FutureWarning: sort(columns=....) is deprecated, use sort_values(by=.....)\n",
      "  Udata = train.set_index('Movie').join(M).sort('User').set_index('User')\n",
      "/Users/joachimmuth/Documents/EPFL/PCML/PCML_Netflix_and_Chill/blender/models/collaborative_filtering.py:90: FutureWarning: sort(columns=....) is deprecated, use sort_values(by=.....)\n",
      "  Mdata = train.set_index('User').join(U).sort('Movie').set_index('Movie')\n"
     ]
    },
    {
     "name": "stdout",
     "output_type": "stream",
     "text": [
      "[COLLABORATIVE FILTERING] done\n",
      "[COLLABORATIVE FILTERING] applying\n",
      "[COLLABORATIVE FILTERING] done\n",
      "[COLLABORATIVE FILTERING] applying\n",
      "[COLLABORATIVE FILTERING] done\n",
      "[COLLABORATIVE FILTERING] applying\n",
      "[COLLABORATIVE FILTERING] done\n",
      "[COLLABORATIVE FILTERING] applying\n",
      "[COLLABORATIVE FILTERING] done\n",
      "[GLOBAL_MEDIAN] applying\n",
      "[GLOBAL_MEDIAN] done\n",
      "[GLOBAL_MEDIAN] applying\n",
      "[GLOBAL_MEDIAN] done\n",
      "[GLOBAL_MEDIAN] applying\n",
      "[GLOBAL_MEDIAN] done\n",
      "[GLOBAL_MEDIAN] applying\n",
      "[GLOBAL_MEDIAN] done\n",
      "[GLOBAL_MEDIAN] applying\n",
      "[GLOBAL_MEDIAN] done\n",
      "[GLOBAL_MEAN] applying\n",
      "[GLOBAL_MEAN] done\n",
      "[GLOBAL_MEAN] applying\n",
      "[GLOBAL_MEAN] done\n",
      "[GLOBAL_MEAN] applying\n",
      "[GLOBAL_MEAN] done\n",
      "[GLOBAL_MEAN] applying\n",
      "[GLOBAL_MEAN] done\n",
      "[GLOBAL_MEAN] applying\n",
      "[GLOBAL_MEAN] done\n"
     ]
    }
   ],
   "source": [
    "blending = add_param_blending(blending, models)"
   ]
  },
  {
   "cell_type": "code",
   "execution_count": 8,
   "metadata": {
    "collapsed": false
   },
   "outputs": [
    {
     "data": {
      "text/plain": [
       "1.09519862793485"
      ]
     },
     "execution_count": 8,
     "metadata": {},
     "output_type": "execute_result"
    }
   ],
   "source": [
    "x0 = np.zeros(len(models.keys()))\n",
    "x0[0]=1\n",
    "eval_(x0, blending, models)"
   ]
  },
  {
   "cell_type": "code",
   "execution_count": 12,
   "metadata": {
    "collapsed": false
   },
   "outputs": [
    {
     "data": {
      "text/plain": [
       "dict_keys(['user_mean', 'mf_sgd_rescale', 'mf_sgd', 'als', 'movie_mean_deviation_user', 'movie_median', 'movie_mean', 'movie_median_deviation_user', 'user_median', 'collab_filt', 'global_median', 'global_mean'])"
      ]
     },
     "execution_count": 12,
     "metadata": {},
     "output_type": "execute_result"
    }
   ],
   "source": [
    "models.keys()"
   ]
  },
  {
   "cell_type": "code",
   "execution_count": 13,
   "metadata": {
    "collapsed": false
   },
   "outputs": [
    {
     "name": "stdout",
     "output_type": "stream",
     "text": [
      "Warning: Maximum number of iterations has been exceeded.\n"
     ]
    }
   ],
   "source": [
    "# x0 = [-3.50217241, -0.34302467,  1.03720384, -0.32505441, -4.12058282,\n",
    "#         0.61916421,  4.08423545, -0.02151008,  0.06576934,  3.88763932,\n",
    "#        -0.51662585]\n",
    "\n",
    "x0 = [-3.50217241, -0.17, -0.17,  1.03720384, -0.32505441, -4.12058282,\n",
    "        0.61916421,  4.08423545, -0.02151008,  0.06576934,  3.88763932,\n",
    "       -0.51662585]\n",
    "res = sco.minimize(eval_, x0, method='Nelder-Mead', args=(blending, models), options={'maxiter':1000, 'disp':True})"
   ]
  },
  {
   "cell_type": "code",
   "execution_count": 14,
   "metadata": {
    "collapsed": false
   },
   "outputs": [
    {
     "data": {
      "text/plain": [
       " final_simplex: (array([[-3.67733253, -0.06728784, -0.0386203 ,  0.89273835, -0.4326688 ,\n",
       "        -4.29733004,  0.58294735,  4.29873608, -0.00498556,  0.07109685,\n",
       "         4.16579753, -0.64503052],\n",
       "       [-3.67668175, -0.0672939 , -0.03871486,  0.89252079, -0.43169848,\n",
       "        -4.29645175,  0.58257805,  4.29762429, -0.00481035,  0.07107838,\n",
       "         4.16302734, -0.64299572],\n",
       "       [-3.67698695, -0.06687656, -0.03883351,  0.89257757, -0.43152897,\n",
       "        -4.29699774,  0.58262729,  4.29800586, -0.00505886,  0.07066465,\n",
       "         4.1633293 , -0.64277033],\n",
       "       [-3.67638212, -0.06752715, -0.03878493,  0.89259771, -0.4317922 ,\n",
       "        -4.29665143,  0.58278727,  4.29780694, -0.00495888,  0.0709262 ,\n",
       "         4.16331042, -0.6431626 ],\n",
       "       [-3.67804203, -0.06701696, -0.03816157,  0.89253696, -0.43355941,\n",
       "        -4.29886145,  0.58296496,  4.30044059, -0.00518296,  0.07101605,\n",
       "         4.1688766 , -0.64706042],\n",
       "       [-3.67653582, -0.06739016, -0.03870795,  0.89245872, -0.43162301,\n",
       "        -4.29625567,  0.58259625,  4.29745016, -0.0047721 ,  0.07108986,\n",
       "         4.16259364, -0.64271738],\n",
       "       [-3.67780989, -0.06665995, -0.03835912,  0.89255291, -0.43257592,\n",
       "        -4.29824959,  0.58262666,  4.29940881, -0.00516189,  0.07079183,\n",
       "         4.16657605, -0.64509949],\n",
       "       [-3.67710166, -0.06738262, -0.03849973,  0.89280172, -0.43252429,\n",
       "        -4.29691063,  0.58274634,  4.29810598, -0.00486239,  0.0712669 ,\n",
       "         4.1651781 , -0.64469148],\n",
       "       [-3.6775286 , -0.06683005, -0.03834491,  0.89249048, -0.43247963,\n",
       "        -4.29802143,  0.58249932,  4.29924421, -0.00506404,  0.07094263,\n",
       "         4.16616262, -0.64502597],\n",
       "       [-3.67672875, -0.06735835, -0.03881137,  0.89249445, -0.43199532,\n",
       "        -4.29715489,  0.58283062,  4.29862985, -0.00502227,  0.07087381,\n",
       "         4.16425795, -0.64387386],\n",
       "       [-3.67586757, -0.0679154 , -0.03902231,  0.89261504, -0.4315777 ,\n",
       "        -4.29609636,  0.5828784 ,  4.29749611, -0.00486753,  0.07104134,\n",
       "         4.1623702 , -0.64285026],\n",
       "       [-3.67679062, -0.06726126, -0.03854031,  0.89230294, -0.43176432,\n",
       "        -4.29637995,  0.58268759,  4.29749824, -0.00477859,  0.07100825,\n",
       "         4.16274734, -0.64255772],\n",
       "       [-3.6772918 , -0.06705894, -0.03852215,  0.89247455, -0.43239007,\n",
       "        -4.29765618,  0.58290997,  4.29889676, -0.00510696,  0.07076591,\n",
       "         4.16536925, -0.64427902]]), array([ 0.96277179,  0.9627718 ,  0.9627718 ,  0.96277181,  0.96277182,\n",
       "        0.96277182,  0.96277182,  0.96277182,  0.96277182,  0.96277182,\n",
       "        0.96277182,  0.96277182,  0.96277183]))\n",
       "           fun: 0.96277179280123404\n",
       "       message: 'Maximum number of iterations has been exceeded.'\n",
       "          nfev: 1408\n",
       "           nit: 1000\n",
       "        status: 2\n",
       "       success: False\n",
       "             x: array([-3.67733253, -0.06728784, -0.0386203 ,  0.89273835, -0.4326688 ,\n",
       "       -4.29733004,  0.58294735,  4.29873608, -0.00498556,  0.07109685,\n",
       "        4.16579753, -0.64503052])"
      ]
     },
     "execution_count": 14,
     "metadata": {},
     "output_type": "execute_result"
    }
   ],
   "source": [
    "res"
   ]
  },
  {
   "cell_type": "code",
   "execution_count": 15,
   "metadata": {
    "collapsed": false
   },
   "outputs": [
    {
     "data": {
      "text/plain": [
       "{'als': 0.89273834619373038,\n",
       " 'collab_filt': 0.071096854713773971,\n",
       " 'global_mean': -0.6450305175665445,\n",
       " 'global_median': 4.1657975331095347,\n",
       " 'mf_sgd': -0.038620299655287627,\n",
       " 'mf_sgd_rescale': -0.067287844047187018,\n",
       " 'movie_mean': 0.58294734803419068,\n",
       " 'movie_mean_deviation_user': -0.43266880016189613,\n",
       " 'movie_median': -4.2973300370745839,\n",
       " 'movie_median_deviation_user': 4.2987360771658558,\n",
       " 'user_mean': -3.6773325300577424,\n",
       " 'user_median': -0.0049855566007924942}"
      ]
     },
     "execution_count": 15,
     "metadata": {},
     "output_type": "execute_result"
    }
   ],
   "source": [
    "dict_opt = {}\n",
    "for idx, key in enumerate(models.keys()):\n",
    "    dict_opt[key] = res.x[idx]\n",
    "dict_opt"
   ]
  },
  {
   "cell_type": "code",
   "execution_count": 16,
   "metadata": {
    "collapsed": false
   },
   "outputs": [
    {
     "name": "stdout",
     "output_type": "stream",
     "text": [
      "RMSE for model user_mean: 1.09520\n",
      "RMSE for model mf_sgd_rescale: 0.99981\n",
      "RMSE for model mf_sgd: 1.00052\n",
      "RMSE for model als: 0.98861\n",
      "RMSE for model movie_mean_deviation_user: 0.99653\n",
      "RMSE for model movie_median: 1.09963\n",
      "RMSE for model movie_mean: 1.03045\n",
      "RMSE for model movie_median_deviation_user: 1.05793\n",
      "RMSE for model user_median: 1.15163\n",
      "RMSE for model collab_filt: 1.02733\n",
      "RMSE for model global_median: 1.12812\n",
      "RMSE for model global_mean: 1.11906\n",
      "\n",
      "Best blending: {'user_mean': -3.6773325300577424, 'mf_sgd_rescale': -0.067287844047187018, 'mf_sgd': -0.038620299655287627, 'als': 0.89273834619373038, 'movie_mean_deviation_user': -0.43266880016189613, 'movie_median': -4.2973300370745839, 'movie_mean': 0.58294734803419068, 'movie_median_deviation_user': 4.2987360771658558, 'user_median': -0.0049855566007924942, 'collab_filt': 0.071096854713773971, 'global_median': 4.1657975331095347, 'global_mean': -0.6450305175665445}\n",
      "RMSE best blending: 0.96277\n"
     ]
    }
   ],
   "source": [
    "test_blending(blending, dict_opt, models)"
   ]
  },
  {
   "cell_type": "code",
   "execution_count": 19,
   "metadata": {
    "collapsed": true
   },
   "outputs": [],
   "source": [
    "# i don't know if it works... to clear sp context order to avoid error in 'prediction' method\n",
    "sqlContext = SQLContext.getOrCreate(SparkContext.getOrCreate())\n",
    "\n",
    "sqlContext.clearCache()"
   ]
  },
  {
   "cell_type": "code",
   "execution_count": 20,
   "metadata": {
    "collapsed": false,
    "scrolled": false
   },
   "outputs": [
    {
     "name": "stdout",
     "output_type": "stream",
     "text": [
      "[USER_MEAN] applying\n",
      "[USER_MEAN] done\n",
      "[MF-SGD] gamma=0.004, features=20, iterations=20\n",
      "[MF-SGD] RMSE on train set: 0.9895411617478957\n",
      "[MF-SGD] Done\n",
      "[MF-SGD] gamma=0.004, features=20, iterations=20\n",
      "[MF-SGD] RMSE on train set: 0.9908975630629757\n",
      "[MF-SGD] Done\n",
      "[ALS] applying\n"
     ]
    },
    {
     "ename": "Py4JJavaError",
     "evalue": "An error occurred while calling o875.collectToPython.\n: org.apache.spark.SparkException: Job aborted due to stage failure: Task 0 in stage 1647.0 failed 1 times, most recent failure: Lost task 0.0 in stage 1647.0 (TID 4272, localhost): TaskResultLost (result lost from block manager)\nDriver stacktrace:\n\tat org.apache.spark.scheduler.DAGScheduler.org$apache$spark$scheduler$DAGScheduler$$failJobAndIndependentStages(DAGScheduler.scala:1454)\n\tat org.apache.spark.scheduler.DAGScheduler$$anonfun$abortStage$1.apply(DAGScheduler.scala:1442)\n\tat org.apache.spark.scheduler.DAGScheduler$$anonfun$abortStage$1.apply(DAGScheduler.scala:1441)\n\tat scala.collection.mutable.ResizableArray$class.foreach(ResizableArray.scala:59)\n\tat scala.collection.mutable.ArrayBuffer.foreach(ArrayBuffer.scala:48)\n\tat org.apache.spark.scheduler.DAGScheduler.abortStage(DAGScheduler.scala:1441)\n\tat org.apache.spark.scheduler.DAGScheduler$$anonfun$handleTaskSetFailed$1.apply(DAGScheduler.scala:811)\n\tat org.apache.spark.scheduler.DAGScheduler$$anonfun$handleTaskSetFailed$1.apply(DAGScheduler.scala:811)\n\tat scala.Option.foreach(Option.scala:257)\n\tat org.apache.spark.scheduler.DAGScheduler.handleTaskSetFailed(DAGScheduler.scala:811)\n\tat org.apache.spark.scheduler.DAGSchedulerEventProcessLoop.doOnReceive(DAGScheduler.scala:1667)\n\tat org.apache.spark.scheduler.DAGSchedulerEventProcessLoop.onReceive(DAGScheduler.scala:1622)\n\tat org.apache.spark.scheduler.DAGSchedulerEventProcessLoop.onReceive(DAGScheduler.scala:1611)\n\tat org.apache.spark.util.EventLoop$$anon$1.run(EventLoop.scala:48)\n\tat org.apache.spark.scheduler.DAGScheduler.runJob(DAGScheduler.scala:632)\n\tat org.apache.spark.SparkContext.runJob(SparkContext.scala:1873)\n\tat org.apache.spark.SparkContext.runJob(SparkContext.scala:1886)\n\tat org.apache.spark.SparkContext.runJob(SparkContext.scala:1899)\n\tat org.apache.spark.SparkContext.runJob(SparkContext.scala:1913)\n\tat org.apache.spark.rdd.RDD$$anonfun$collect$1.apply(RDD.scala:912)\n\tat org.apache.spark.rdd.RDDOperationScope$.withScope(RDDOperationScope.scala:151)\n\tat org.apache.spark.rdd.RDDOperationScope$.withScope(RDDOperationScope.scala:112)\n\tat org.apache.spark.rdd.RDD.withScope(RDD.scala:358)\n\tat org.apache.spark.rdd.RDD.collect(RDD.scala:911)\n\tat org.apache.spark.sql.execution.SparkPlan.executeCollect(SparkPlan.scala:290)\n\tat org.apache.spark.sql.Dataset$$anonfun$collectToPython$1.apply$mcI$sp(Dataset.scala:2526)\n\tat org.apache.spark.sql.Dataset$$anonfun$collectToPython$1.apply(Dataset.scala:2523)\n\tat org.apache.spark.sql.Dataset$$anonfun$collectToPython$1.apply(Dataset.scala:2523)\n\tat org.apache.spark.sql.execution.SQLExecution$.withNewExecutionId(SQLExecution.scala:57)\n\tat org.apache.spark.sql.Dataset.withNewExecutionId(Dataset.scala:2546)\n\tat org.apache.spark.sql.Dataset.collectToPython(Dataset.scala:2523)\n\tat sun.reflect.NativeMethodAccessorImpl.invoke0(Native Method)\n\tat sun.reflect.NativeMethodAccessorImpl.invoke(NativeMethodAccessorImpl.java:62)\n\tat sun.reflect.DelegatingMethodAccessorImpl.invoke(DelegatingMethodAccessorImpl.java:43)\n\tat java.lang.reflect.Method.invoke(Method.java:497)\n\tat py4j.reflection.MethodInvoker.invoke(MethodInvoker.java:237)\n\tat py4j.reflection.ReflectionEngine.invoke(ReflectionEngine.java:357)\n\tat py4j.Gateway.invoke(Gateway.java:280)\n\tat py4j.commands.AbstractCommand.invokeMethod(AbstractCommand.java:132)\n\tat py4j.commands.CallCommand.execute(CallCommand.java:79)\n\tat py4j.GatewayConnection.run(GatewayConnection.java:214)\n\tat java.lang.Thread.run(Thread.java:745)\n",
     "output_type": "error",
     "traceback": [
      "\u001b[0;31m-------------------------------------------------------------------\u001b[0m",
      "\u001b[0;31mPy4JJavaError\u001b[0m                     Traceback (most recent call last)",
      "\u001b[0;32m<ipython-input-20-9f3f0595e1bf>\u001b[0m in \u001b[0;36m<module>\u001b[0;34m()\u001b[0m\n\u001b[0;32m----> 1\u001b[0;31m \u001b[0mprediction\u001b[0m\u001b[0;34m(\u001b[0m\u001b[0mtrain\u001b[0m\u001b[0;34m,\u001b[0m \u001b[0mblending\u001b[0m\u001b[0;34m,\u001b[0m \u001b[0mdict_opt\u001b[0m\u001b[0;34m,\u001b[0m \u001b[0;34m'pred_blending.csv'\u001b[0m\u001b[0;34m)\u001b[0m\u001b[0;34m\u001b[0m\u001b[0m\n\u001b[0m",
      "\u001b[0;32m<ipython-input-5-8c5516269c14>\u001b[0m in \u001b[0;36mprediction\u001b[0;34m(train, blending, best_dict, output)\u001b[0m\n\u001b[1;32m     35\u001b[0m     \u001b[0mtest_prep\u001b[0m \u001b[0;34m=\u001b[0m \u001b[0mtest_prep\u001b[0m\u001b[0;34m.\u001b[0m\u001b[0mdrop\u001b[0m\u001b[0;34m(\u001b[0m\u001b[0;34m[\u001b[0m\u001b[0;34m'Prediction'\u001b[0m\u001b[0;34m,\u001b[0m \u001b[0;34m'Id'\u001b[0m\u001b[0;34m]\u001b[0m\u001b[0;34m,\u001b[0m \u001b[0maxis\u001b[0m\u001b[0;34m=\u001b[0m\u001b[0;36m1\u001b[0m\u001b[0;34m)\u001b[0m\u001b[0;34m\u001b[0m\u001b[0m\n\u001b[1;32m     36\u001b[0m \u001b[0;34m\u001b[0m\u001b[0m\n\u001b[0;32m---> 37\u001b[0;31m     \u001b[0mpred\u001b[0m \u001b[0;34m=\u001b[0m \u001b[0mblending\u001b[0m\u001b[0;34m.\u001b[0m\u001b[0mevaluate_blending_for_validation\u001b[0m\u001b[0;34m(\u001b[0m\u001b[0mbest_dict\u001b[0m\u001b[0;34m,\u001b[0m \u001b[0mtrain\u001b[0m\u001b[0;34m,\u001b[0m \u001b[0mtest_prep\u001b[0m\u001b[0;34m)\u001b[0m\u001b[0;34m\u001b[0m\u001b[0m\n\u001b[0m\u001b[1;32m     38\u001b[0m     \u001b[0;32mfor\u001b[0m \u001b[0mi\u001b[0m \u001b[0;32min\u001b[0m \u001b[0mrange\u001b[0m\u001b[0;34m(\u001b[0m\u001b[0mlen\u001b[0m\u001b[0;34m(\u001b[0m\u001b[0mpred\u001b[0m\u001b[0;34m)\u001b[0m\u001b[0;34m)\u001b[0m\u001b[0;34m:\u001b[0m\u001b[0;34m\u001b[0m\u001b[0m\n\u001b[1;32m     39\u001b[0m         \u001b[0;32mif\u001b[0m \u001b[0mpred\u001b[0m\u001b[0;34m[\u001b[0m\u001b[0mi\u001b[0m\u001b[0;34m]\u001b[0m \u001b[0;34m>\u001b[0m \u001b[0;36m5\u001b[0m\u001b[0;34m:\u001b[0m\u001b[0;34m\u001b[0m\u001b[0m\n",
      "\u001b[0;32m/Users/joachimmuth/Documents/EPFL/PCML/PCML_Netflix_and_Chill/blender/cross_validation_blending.py\u001b[0m in \u001b[0;36mevaluate_blending_for_validation\u001b[0;34m(self, blending_dict, train, validation)\u001b[0m\n\u001b[1;32m    156\u001b[0m                 \u001b[0mfunction\u001b[0m\u001b[0;34m=\u001b[0m\u001b[0mself\u001b[0m\u001b[0;34m.\u001b[0m\u001b[0mmodels\u001b[0m\u001b[0;34m[\u001b[0m\u001b[0mmodel_name\u001b[0m\u001b[0;34m]\u001b[0m\u001b[0;34m\u001b[0m\u001b[0m\n\u001b[1;32m    157\u001b[0m                 \u001b[0marguments\u001b[0m\u001b[0;34m=\u001b[0m\u001b[0mself\u001b[0m\u001b[0;34m.\u001b[0m\u001b[0mparams\u001b[0m\u001b[0;34m[\u001b[0m\u001b[0mmodel_name\u001b[0m\u001b[0;34m]\u001b[0m\u001b[0;34m\u001b[0m\u001b[0m\n\u001b[0;32m--> 158\u001b[0;31m                 \u001b[0mpredictions_model\u001b[0m\u001b[0;34m=\u001b[0m\u001b[0mfunction\u001b[0m\u001b[0;34m(\u001b[0m\u001b[0mtrain\u001b[0m\u001b[0;34m,\u001b[0m\u001b[0mvalidation\u001b[0m\u001b[0;34m,\u001b[0m\u001b[0;34m**\u001b[0m\u001b[0marguments\u001b[0m\u001b[0;34m)\u001b[0m\u001b[0;34m\u001b[0m\u001b[0m\n\u001b[0m\u001b[1;32m    159\u001b[0m                 \u001b[0;32mif\u001b[0m \u001b[0mcont\u001b[0m\u001b[0;34m==\u001b[0m\u001b[0;36m0\u001b[0m\u001b[0;34m:\u001b[0m\u001b[0;34m\u001b[0m\u001b[0m\n\u001b[1;32m    160\u001b[0m                     \u001b[0mpredictions\u001b[0m\u001b[0;34m=\u001b[0m\u001b[0mnp\u001b[0m\u001b[0;34m.\u001b[0m\u001b[0marray\u001b[0m\u001b[0;34m(\u001b[0m\u001b[0mblending_dict\u001b[0m\u001b[0;34m[\u001b[0m\u001b[0mmodel_name\u001b[0m\u001b[0;34m]\u001b[0m\u001b[0;34m*\u001b[0m\u001b[0mpredictions_model\u001b[0m\u001b[0;34m.\u001b[0m\u001b[0mRating\u001b[0m\u001b[0;34m)\u001b[0m\u001b[0;34m\u001b[0m\u001b[0m\n",
      "\u001b[0;32m/Users/joachimmuth/Documents/EPFL/PCML/PCML_Netflix_and_Chill/blender/models/als.py\u001b[0m in \u001b[0;36mpredictions_ALS\u001b[0;34m(train_set, test_set, spark_context, **arg)\u001b[0m\n\u001b[1;32m     30\u001b[0m \u001b[0;34m\u001b[0m\u001b[0m\n\u001b[1;32m     31\u001b[0m     \u001b[0;31m# Convert to Pandas\u001b[0m\u001b[0;34m\u001b[0m\u001b[0;34m\u001b[0m\u001b[0m\n\u001b[0;32m---> 32\u001b[0;31m     \u001b[0mpred_df\u001b[0m \u001b[0;34m=\u001b[0m \u001b[0mpredictions\u001b[0m\u001b[0;34m.\u001b[0m\u001b[0mtoDF\u001b[0m\u001b[0;34m(\u001b[0m\u001b[0;34m)\u001b[0m\u001b[0;34m.\u001b[0m\u001b[0mtoPandas\u001b[0m\u001b[0;34m(\u001b[0m\u001b[0;34m)\u001b[0m\u001b[0;34m\u001b[0m\u001b[0m\n\u001b[0m\u001b[1;32m     33\u001b[0m \u001b[0;34m\u001b[0m\u001b[0m\n\u001b[1;32m     34\u001b[0m     \u001b[0;31m# Post processing database\u001b[0m\u001b[0;34m\u001b[0m\u001b[0;34m\u001b[0m\u001b[0m\n",
      "\u001b[0;32m/usr/local/Cellar/apache-spark/2.0.2/libexec/python/pyspark/sql/dataframe.py\u001b[0m in \u001b[0;36mtoPandas\u001b[0;34m(self)\u001b[0m\n\u001b[1;32m   1440\u001b[0m         \"\"\"\n\u001b[1;32m   1441\u001b[0m         \u001b[0;32mimport\u001b[0m \u001b[0mpandas\u001b[0m \u001b[0;32mas\u001b[0m \u001b[0mpd\u001b[0m\u001b[0;34m\u001b[0m\u001b[0m\n\u001b[0;32m-> 1442\u001b[0;31m         \u001b[0;32mreturn\u001b[0m \u001b[0mpd\u001b[0m\u001b[0;34m.\u001b[0m\u001b[0mDataFrame\u001b[0m\u001b[0;34m.\u001b[0m\u001b[0mfrom_records\u001b[0m\u001b[0;34m(\u001b[0m\u001b[0mself\u001b[0m\u001b[0;34m.\u001b[0m\u001b[0mcollect\u001b[0m\u001b[0;34m(\u001b[0m\u001b[0;34m)\u001b[0m\u001b[0;34m,\u001b[0m \u001b[0mcolumns\u001b[0m\u001b[0;34m=\u001b[0m\u001b[0mself\u001b[0m\u001b[0;34m.\u001b[0m\u001b[0mcolumns\u001b[0m\u001b[0;34m)\u001b[0m\u001b[0;34m\u001b[0m\u001b[0m\n\u001b[0m\u001b[1;32m   1443\u001b[0m \u001b[0;34m\u001b[0m\u001b[0m\n\u001b[1;32m   1444\u001b[0m     \u001b[0;31m##########################################################################################\u001b[0m\u001b[0;34m\u001b[0m\u001b[0;34m\u001b[0m\u001b[0m\n",
      "\u001b[0;32m/usr/local/Cellar/apache-spark/2.0.2/libexec/python/pyspark/sql/dataframe.py\u001b[0m in \u001b[0;36mcollect\u001b[0;34m(self)\u001b[0m\n\u001b[1;32m    308\u001b[0m         \"\"\"\n\u001b[1;32m    309\u001b[0m         \u001b[0;32mwith\u001b[0m \u001b[0mSCCallSiteSync\u001b[0m\u001b[0;34m(\u001b[0m\u001b[0mself\u001b[0m\u001b[0;34m.\u001b[0m\u001b[0m_sc\u001b[0m\u001b[0;34m)\u001b[0m \u001b[0;32mas\u001b[0m \u001b[0mcss\u001b[0m\u001b[0;34m:\u001b[0m\u001b[0;34m\u001b[0m\u001b[0m\n\u001b[0;32m--> 310\u001b[0;31m             \u001b[0mport\u001b[0m \u001b[0;34m=\u001b[0m \u001b[0mself\u001b[0m\u001b[0;34m.\u001b[0m\u001b[0m_jdf\u001b[0m\u001b[0;34m.\u001b[0m\u001b[0mcollectToPython\u001b[0m\u001b[0;34m(\u001b[0m\u001b[0;34m)\u001b[0m\u001b[0;34m\u001b[0m\u001b[0m\n\u001b[0m\u001b[1;32m    311\u001b[0m         \u001b[0;32mreturn\u001b[0m \u001b[0mlist\u001b[0m\u001b[0;34m(\u001b[0m\u001b[0m_load_from_socket\u001b[0m\u001b[0;34m(\u001b[0m\u001b[0mport\u001b[0m\u001b[0;34m,\u001b[0m \u001b[0mBatchedSerializer\u001b[0m\u001b[0;34m(\u001b[0m\u001b[0mPickleSerializer\u001b[0m\u001b[0;34m(\u001b[0m\u001b[0;34m)\u001b[0m\u001b[0;34m)\u001b[0m\u001b[0;34m)\u001b[0m\u001b[0;34m)\u001b[0m\u001b[0;34m\u001b[0m\u001b[0m\n\u001b[1;32m    312\u001b[0m \u001b[0;34m\u001b[0m\u001b[0m\n",
      "\u001b[0;32m/usr/local/Cellar/apache-spark/2.0.2/libexec/python/lib/py4j-0.10.3-src.zip/py4j/java_gateway.py\u001b[0m in \u001b[0;36m__call__\u001b[0;34m(self, *args)\u001b[0m\n\u001b[1;32m   1131\u001b[0m         \u001b[0manswer\u001b[0m \u001b[0;34m=\u001b[0m \u001b[0mself\u001b[0m\u001b[0;34m.\u001b[0m\u001b[0mgateway_client\u001b[0m\u001b[0;34m.\u001b[0m\u001b[0msend_command\u001b[0m\u001b[0;34m(\u001b[0m\u001b[0mcommand\u001b[0m\u001b[0;34m)\u001b[0m\u001b[0;34m\u001b[0m\u001b[0m\n\u001b[1;32m   1132\u001b[0m         return_value = get_return_value(\n\u001b[0;32m-> 1133\u001b[0;31m             answer, self.gateway_client, self.target_id, self.name)\n\u001b[0m\u001b[1;32m   1134\u001b[0m \u001b[0;34m\u001b[0m\u001b[0m\n\u001b[1;32m   1135\u001b[0m         \u001b[0;32mfor\u001b[0m \u001b[0mtemp_arg\u001b[0m \u001b[0;32min\u001b[0m \u001b[0mtemp_args\u001b[0m\u001b[0;34m:\u001b[0m\u001b[0;34m\u001b[0m\u001b[0m\n",
      "\u001b[0;32m/usr/local/Cellar/apache-spark/2.0.2/libexec/python/pyspark/sql/utils.py\u001b[0m in \u001b[0;36mdeco\u001b[0;34m(*a, **kw)\u001b[0m\n\u001b[1;32m     61\u001b[0m     \u001b[0;32mdef\u001b[0m \u001b[0mdeco\u001b[0m\u001b[0;34m(\u001b[0m\u001b[0;34m*\u001b[0m\u001b[0ma\u001b[0m\u001b[0;34m,\u001b[0m \u001b[0;34m**\u001b[0m\u001b[0mkw\u001b[0m\u001b[0;34m)\u001b[0m\u001b[0;34m:\u001b[0m\u001b[0;34m\u001b[0m\u001b[0m\n\u001b[1;32m     62\u001b[0m         \u001b[0;32mtry\u001b[0m\u001b[0;34m:\u001b[0m\u001b[0;34m\u001b[0m\u001b[0m\n\u001b[0;32m---> 63\u001b[0;31m             \u001b[0;32mreturn\u001b[0m \u001b[0mf\u001b[0m\u001b[0;34m(\u001b[0m\u001b[0;34m*\u001b[0m\u001b[0ma\u001b[0m\u001b[0;34m,\u001b[0m \u001b[0;34m**\u001b[0m\u001b[0mkw\u001b[0m\u001b[0;34m)\u001b[0m\u001b[0;34m\u001b[0m\u001b[0m\n\u001b[0m\u001b[1;32m     64\u001b[0m         \u001b[0;32mexcept\u001b[0m \u001b[0mpy4j\u001b[0m\u001b[0;34m.\u001b[0m\u001b[0mprotocol\u001b[0m\u001b[0;34m.\u001b[0m\u001b[0mPy4JJavaError\u001b[0m \u001b[0;32mas\u001b[0m \u001b[0me\u001b[0m\u001b[0;34m:\u001b[0m\u001b[0;34m\u001b[0m\u001b[0m\n\u001b[1;32m     65\u001b[0m             \u001b[0ms\u001b[0m \u001b[0;34m=\u001b[0m \u001b[0me\u001b[0m\u001b[0;34m.\u001b[0m\u001b[0mjava_exception\u001b[0m\u001b[0;34m.\u001b[0m\u001b[0mtoString\u001b[0m\u001b[0;34m(\u001b[0m\u001b[0;34m)\u001b[0m\u001b[0;34m\u001b[0m\u001b[0m\n",
      "\u001b[0;32m/usr/local/Cellar/apache-spark/2.0.2/libexec/python/lib/py4j-0.10.3-src.zip/py4j/protocol.py\u001b[0m in \u001b[0;36mget_return_value\u001b[0;34m(answer, gateway_client, target_id, name)\u001b[0m\n\u001b[1;32m    317\u001b[0m                 raise Py4JJavaError(\n\u001b[1;32m    318\u001b[0m                     \u001b[0;34m\"An error occurred while calling {0}{1}{2}.\\n\"\u001b[0m\u001b[0;34m.\u001b[0m\u001b[0;34m\u001b[0m\u001b[0m\n\u001b[0;32m--> 319\u001b[0;31m                     format(target_id, \".\", name), value)\n\u001b[0m\u001b[1;32m    320\u001b[0m             \u001b[0;32melse\u001b[0m\u001b[0;34m:\u001b[0m\u001b[0;34m\u001b[0m\u001b[0m\n\u001b[1;32m    321\u001b[0m                 raise Py4JError(\n",
      "\u001b[0;31mPy4JJavaError\u001b[0m: An error occurred while calling o875.collectToPython.\n: org.apache.spark.SparkException: Job aborted due to stage failure: Task 0 in stage 1647.0 failed 1 times, most recent failure: Lost task 0.0 in stage 1647.0 (TID 4272, localhost): TaskResultLost (result lost from block manager)\nDriver stacktrace:\n\tat org.apache.spark.scheduler.DAGScheduler.org$apache$spark$scheduler$DAGScheduler$$failJobAndIndependentStages(DAGScheduler.scala:1454)\n\tat org.apache.spark.scheduler.DAGScheduler$$anonfun$abortStage$1.apply(DAGScheduler.scala:1442)\n\tat org.apache.spark.scheduler.DAGScheduler$$anonfun$abortStage$1.apply(DAGScheduler.scala:1441)\n\tat scala.collection.mutable.ResizableArray$class.foreach(ResizableArray.scala:59)\n\tat scala.collection.mutable.ArrayBuffer.foreach(ArrayBuffer.scala:48)\n\tat org.apache.spark.scheduler.DAGScheduler.abortStage(DAGScheduler.scala:1441)\n\tat org.apache.spark.scheduler.DAGScheduler$$anonfun$handleTaskSetFailed$1.apply(DAGScheduler.scala:811)\n\tat org.apache.spark.scheduler.DAGScheduler$$anonfun$handleTaskSetFailed$1.apply(DAGScheduler.scala:811)\n\tat scala.Option.foreach(Option.scala:257)\n\tat org.apache.spark.scheduler.DAGScheduler.handleTaskSetFailed(DAGScheduler.scala:811)\n\tat org.apache.spark.scheduler.DAGSchedulerEventProcessLoop.doOnReceive(DAGScheduler.scala:1667)\n\tat org.apache.spark.scheduler.DAGSchedulerEventProcessLoop.onReceive(DAGScheduler.scala:1622)\n\tat org.apache.spark.scheduler.DAGSchedulerEventProcessLoop.onReceive(DAGScheduler.scala:1611)\n\tat org.apache.spark.util.EventLoop$$anon$1.run(EventLoop.scala:48)\n\tat org.apache.spark.scheduler.DAGScheduler.runJob(DAGScheduler.scala:632)\n\tat org.apache.spark.SparkContext.runJob(SparkContext.scala:1873)\n\tat org.apache.spark.SparkContext.runJob(SparkContext.scala:1886)\n\tat org.apache.spark.SparkContext.runJob(SparkContext.scala:1899)\n\tat org.apache.spark.SparkContext.runJob(SparkContext.scala:1913)\n\tat org.apache.spark.rdd.RDD$$anonfun$collect$1.apply(RDD.scala:912)\n\tat org.apache.spark.rdd.RDDOperationScope$.withScope(RDDOperationScope.scala:151)\n\tat org.apache.spark.rdd.RDDOperationScope$.withScope(RDDOperationScope.scala:112)\n\tat org.apache.spark.rdd.RDD.withScope(RDD.scala:358)\n\tat org.apache.spark.rdd.RDD.collect(RDD.scala:911)\n\tat org.apache.spark.sql.execution.SparkPlan.executeCollect(SparkPlan.scala:290)\n\tat org.apache.spark.sql.Dataset$$anonfun$collectToPython$1.apply$mcI$sp(Dataset.scala:2526)\n\tat org.apache.spark.sql.Dataset$$anonfun$collectToPython$1.apply(Dataset.scala:2523)\n\tat org.apache.spark.sql.Dataset$$anonfun$collectToPython$1.apply(Dataset.scala:2523)\n\tat org.apache.spark.sql.execution.SQLExecution$.withNewExecutionId(SQLExecution.scala:57)\n\tat org.apache.spark.sql.Dataset.withNewExecutionId(Dataset.scala:2546)\n\tat org.apache.spark.sql.Dataset.collectToPython(Dataset.scala:2523)\n\tat sun.reflect.NativeMethodAccessorImpl.invoke0(Native Method)\n\tat sun.reflect.NativeMethodAccessorImpl.invoke(NativeMethodAccessorImpl.java:62)\n\tat sun.reflect.DelegatingMethodAccessorImpl.invoke(DelegatingMethodAccessorImpl.java:43)\n\tat java.lang.reflect.Method.invoke(Method.java:497)\n\tat py4j.reflection.MethodInvoker.invoke(MethodInvoker.java:237)\n\tat py4j.reflection.ReflectionEngine.invoke(ReflectionEngine.java:357)\n\tat py4j.Gateway.invoke(Gateway.java:280)\n\tat py4j.commands.AbstractCommand.invokeMethod(AbstractCommand.java:132)\n\tat py4j.commands.CallCommand.execute(CallCommand.java:79)\n\tat py4j.GatewayConnection.run(GatewayConnection.java:214)\n\tat java.lang.Thread.run(Thread.java:745)\n"
     ]
    }
   ],
   "source": [
    "prediction(train, blending, dict_opt, 'pred_blending.csv')"
   ]
  },
  {
   "cell_type": "code",
   "execution_count": 31,
   "metadata": {
    "collapsed": false
   },
   "outputs": [
    {
     "data": {
      "text/html": [
       "<div>\n",
       "<table border=\"1\" class=\"dataframe\">\n",
       "  <thead>\n",
       "    <tr style=\"text-align: right;\">\n",
       "      <th></th>\n",
       "      <th>Id</th>\n",
       "      <th>Prediction</th>\n",
       "    </tr>\n",
       "  </thead>\n",
       "  <tbody>\n",
       "    <tr>\n",
       "      <th>0</th>\n",
       "      <td>r37_c1</td>\n",
       "      <td>3.283646</td>\n",
       "    </tr>\n",
       "    <tr>\n",
       "      <th>1</th>\n",
       "      <td>r73_c1</td>\n",
       "      <td>3.175412</td>\n",
       "    </tr>\n",
       "    <tr>\n",
       "      <th>2</th>\n",
       "      <td>r156_c1</td>\n",
       "      <td>3.805759</td>\n",
       "    </tr>\n",
       "    <tr>\n",
       "      <th>3</th>\n",
       "      <td>r160_c1</td>\n",
       "      <td>3.381214</td>\n",
       "    </tr>\n",
       "    <tr>\n",
       "      <th>4</th>\n",
       "      <td>r248_c1</td>\n",
       "      <td>3.702791</td>\n",
       "    </tr>\n",
       "  </tbody>\n",
       "</table>\n",
       "</div>"
      ],
      "text/plain": [
       "        Id  Prediction\n",
       "0   r37_c1    3.283646\n",
       "1   r73_c1    3.175412\n",
       "2  r156_c1    3.805759\n",
       "3  r160_c1    3.381214\n",
       "4  r248_c1    3.702791"
      ]
     },
     "execution_count": 31,
     "metadata": {},
     "output_type": "execute_result"
    }
   ],
   "source": [
    "df = pd.read_csv('pred_blending_Jo.csv')\n",
    "df.head()\n"
   ]
  },
  {
   "cell_type": "code",
   "execution_count": 32,
   "metadata": {
    "collapsed": false,
    "scrolled": true
   },
   "outputs": [],
   "source": [
    "pred = list(df.Prediction)"
   ]
  },
  {
   "cell_type": "code",
   "execution_count": 33,
   "metadata": {
    "collapsed": false
   },
   "outputs": [
    {
     "data": {
      "text/plain": [
       "(array([  5.00000000e+01,   9.20000000e+01,   1.94000000e+02,\n",
       "          5.07000000e+02,   1.26600000e+03,   2.75100000e+03,\n",
       "          5.68900000e+03,   1.06040000e+04,   1.98780000e+04,\n",
       "          3.41270000e+04,   5.71770000e+04,   8.86940000e+04,\n",
       "          1.23696000e+05,   1.54814000e+05,   1.74385000e+05,\n",
       "          1.73022000e+05,   1.47484000e+05,   1.02678000e+05,\n",
       "          5.39810000e+04,   2.58630000e+04]),\n",
       " array([ 1. ,  1.2,  1.4,  1.6,  1.8,  2. ,  2.2,  2.4,  2.6,  2.8,  3. ,\n",
       "         3.2,  3.4,  3.6,  3.8,  4. ,  4.2,  4.4,  4.6,  4.8,  5. ]),\n",
       " <a list of 20 Patch objects>)"
      ]
     },
     "execution_count": 33,
     "metadata": {},
     "output_type": "execute_result"
    },
    {
     "data": {
      "image/png": "[encoded data removed]",
      "text/plain": [
       "<matplotlib.figure.Figure at 0x7fa8965dcf98>"
      ]
     },
     "metadata": {},
     "output_type": "display_data"
    }
   ],
   "source": [
    "plt.hist(pred, bins=20)"
   ]
  },
  {
   "cell_type": "code",
   "execution_count": null,
   "metadata": {
    "collapsed": true
   },
   "outputs": [],
   "source": []
  }
 ],
 "metadata": {
  "anaconda-cloud": {},
  "kernelspec": {
   "display_name": "Python [conda root]",
   "language": "python",
   "name": "conda-root-py"
  },
  "language_info": {
   "codemirror_mode": {
    "name": "ipython",
    "version": 3
   },
   "file_extension": ".py",
   "mimetype": "text/x-python",
   "name": "python",
   "nbconvert_exporter": "python",
   "pygments_lexer": "ipython3",
   "version": "3.5.2"
  }
 },
 "nbformat": 4,
 "nbformat_minor": 1
}
