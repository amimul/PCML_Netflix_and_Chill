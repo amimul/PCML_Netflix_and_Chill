{
 "cells": [
  {
   "cell_type": "code",
   "execution_count": 1,
   "metadata": {
    "collapsed": false
   },
   "outputs": [],
   "source": [
    "# Import the fucking useful libraries =)\n",
    "import pandas as pd\n",
    "import numpy as np\n",
    "\n",
    "import os\n",
    "import matplotlib.pyplot as plt\n",
    "import scipy.stats as sp\n",
    "import scipy.spatial.distance as spsd\n",
    "from operator import itemgetter\n",
    "import random\n",
    "from IPython import display\n",
    "from helpers import *\n",
    "import pickle\n",
    "from joblib import Parallel, delayed\n",
    "\n",
    "%matplotlib inline\n",
    "%reload_ext autoreload\n",
    "%autoreload 2\n",
    "\n",
    "# There's a lot of columns in the DF. \n",
    "# Therefore, we add this option so that we can see more columns\n",
    "pd.options.display.max_columns = 100"
   ]
  },
  {
   "cell_type": "code",
   "execution_count": 2,
   "metadata": {
    "collapsed": true
   },
   "outputs": [],
   "source": [
    "# Define here the data set\n",
    "dataset = '../data/data_train.csv'"
   ]
  },
  {
   "cell_type": "code",
   "execution_count": 3,
   "metadata": {
    "collapsed": false
   },
   "outputs": [
    {
     "name": "stdout",
     "output_type": "stream",
     "text": [
      "Load the dataset\n"
     ]
    }
   ],
   "source": [
    "data = prepare_data(dataset)"
   ]
  },
  {
   "cell_type": "code",
   "execution_count": 4,
   "metadata": {
    "collapsed": false,
    "scrolled": true
   },
   "outputs": [
    {
     "data": {
      "text/html": [
       "<div>\n",
       "<table border=\"1\" class=\"dataframe\">\n",
       "  <thead>\n",
       "    <tr style=\"text-align: right;\">\n",
       "      <th></th>\n",
       "      <th>Id</th>\n",
       "      <th>Prediction</th>\n",
       "      <th>UserID</th>\n",
       "      <th>MovieID</th>\n",
       "    </tr>\n",
       "  </thead>\n",
       "  <tbody>\n",
       "    <tr>\n",
       "      <th>0</th>\n",
       "      <td>r44_c1</td>\n",
       "      <td>4</td>\n",
       "      <td>43</td>\n",
       "      <td>0</td>\n",
       "    </tr>\n",
       "    <tr>\n",
       "      <th>1</th>\n",
       "      <td>r61_c1</td>\n",
       "      <td>3</td>\n",
       "      <td>60</td>\n",
       "      <td>0</td>\n",
       "    </tr>\n",
       "    <tr>\n",
       "      <th>2</th>\n",
       "      <td>r67_c1</td>\n",
       "      <td>4</td>\n",
       "      <td>66</td>\n",
       "      <td>0</td>\n",
       "    </tr>\n",
       "    <tr>\n",
       "      <th>3</th>\n",
       "      <td>r72_c1</td>\n",
       "      <td>3</td>\n",
       "      <td>71</td>\n",
       "      <td>0</td>\n",
       "    </tr>\n",
       "    <tr>\n",
       "      <th>4</th>\n",
       "      <td>r86_c1</td>\n",
       "      <td>5</td>\n",
       "      <td>85</td>\n",
       "      <td>0</td>\n",
       "    </tr>\n",
       "  </tbody>\n",
       "</table>\n",
       "</div>"
      ],
      "text/plain": [
       "       Id  Prediction  UserID  MovieID\n",
       "0  r44_c1           4      43        0\n",
       "1  r61_c1           3      60        0\n",
       "2  r67_c1           4      66        0\n",
       "3  r72_c1           3      71        0\n",
       "4  r86_c1           5      85        0"
      ]
     },
     "execution_count": 4,
     "metadata": {},
     "output_type": "execute_result"
    }
   ],
   "source": [
    "data.head()\n"
   ]
  },
  {
   "cell_type": "code",
   "execution_count": 35,
   "metadata": {
    "collapsed": false,
    "scrolled": true
   },
   "outputs": [
    {
     "name": "stdout",
     "output_type": "stream",
     "text": [
      "Prepare the variables\n"
     ]
    }
   ],
   "source": [
    "U, I, R, U_i = variables(data)"
   ]
  },
  {
   "cell_type": "markdown",
   "metadata": {},
   "source": [
    "# Nearest Neighbors"
   ]
  },
  {
   "cell_type": "code",
   "execution_count": 11,
   "metadata": {
    "collapsed": true
   },
   "outputs": [],
   "source": [
    "folder = \"./pickles/\"\n"
   ]
  },
  {
   "cell_type": "code",
   "execution_count": 10,
   "metadata": {
    "collapsed": false
   },
   "outputs": [
    {
     "name": "stdout",
     "output_type": "stream",
     "text": [
      "Start Calculating Nearest Neighbors for method msd\n",
      "  100/1000 done!\n",
      "  200/1000 done!\n",
      "  300/1000 done!\n",
      "  400/1000 done!\n",
      "  500/1000 done!\n",
      "  600/1000 done!\n",
      "  700/1000 done!\n",
      "  800/1000 done!\n",
      "  900/1000 done!\n",
      "  1000/1000 done!\n",
      "CPU times: user 4min 47s, sys: 228 ms, total: 4min 47s\n",
      "Wall time: 4min 47s\n"
     ]
    }
   ],
   "source": [
    "%%time\n",
    "nearest_neighbors(folder, R, I, U_i, method=\"msd\")"
   ]
  },
  {
   "cell_type": "code",
   "execution_count": 40,
   "metadata": {
    "collapsed": false
   },
   "outputs": [
    {
     "name": "stdout",
     "output_type": "stream",
     "text": [
      "Start Calculating Nearest Neighbors for method pearson\n",
      "  100/1000 done!\n",
      "  200/1000 done!\n",
      "  300/1000 done!\n",
      "  400/1000 done!\n",
      "  500/1000 done!\n",
      "  600/1000 done!\n",
      "  700/1000 done!\n",
      "  800/1000 done!\n",
      "  900/1000 done!\n",
      "  1000/1000 done!\n",
      "CPU times: user 5min 28s, sys: 288 ms, total: 5min 28s\n",
      "Wall time: 5min 28s\n"
     ]
    }
   ],
   "source": [
    "%%time\n",
    "nearest_neighbors(folder, R, I, U_i, method=\"pearson\")"
   ]
  },
  {
   "cell_type": "code",
   "execution_count": 12,
   "metadata": {
    "collapsed": false
   },
   "outputs": [
    {
     "name": "stdout",
     "output_type": "stream",
     "text": [
      "Start Calculating Nearest Neighbors for method cosine\n",
      "  100/1000 done!\n",
      "  200/1000 done!\n",
      "  300/1000 done!\n",
      "  400/1000 done!\n",
      "  500/1000 done!\n",
      "  600/1000 done!\n",
      "  700/1000 done!\n",
      "  800/1000 done!\n",
      "  900/1000 done!\n",
      "  1000/1000 done!\n",
      "CPU times: user 4min 43s, sys: 132 ms, total: 4min 43s\n",
      "Wall time: 4min 43s\n"
     ]
    }
   ],
   "source": [
    "%%time\n",
    "nearest_neighbors(folder, R, I, U_i, method=\"cosine\")"
   ]
  },
  {
   "cell_type": "markdown",
   "metadata": {
    "collapsed": true
   },
   "source": [
    "# Training"
   ]
  },
  {
   "cell_type": "code",
   "execution_count": 8,
   "metadata": {
    "collapsed": false
   },
   "outputs": [],
   "source": [
    "# Before having the train and testing set, we need to unload the memory a bit\n",
    "del U\n",
    "del I\n",
    "del R\n",
    "del U_i"
   ]
  },
  {
   "cell_type": "code",
   "execution_count": 10,
   "metadata": {
    "collapsed": true
   },
   "outputs": [],
   "source": [
    "def training_validation(data, p_value=0.1):\n",
    "    validation_array = []\n",
    "    train_array = []\n",
    "    for i in range(len(data)):\n",
    "        if random.random() < p_value:\n",
    "            validation_array.append(data.iloc[i])\n",
    "        else:\n",
    "            train_array.append(data.iloc[i])\n",
    "            \n",
    "    variables = list(train_array[0].keys())\n",
    "    \n",
    "    train = pd.DataFrame([[getattr(i,j) for j in variables] for i in train_array], columns = variables)\n",
    "    validation = pd.DataFrame([[getattr(i,j) for j in variables] for i in validation_array], columns = variables)\n",
    "\n",
    "    return train, validation  "
   ]
  },
  {
   "cell_type": "code",
   "execution_count": 11,
   "metadata": {
    "collapsed": true
   },
   "outputs": [],
   "source": [
    "train, validation = training_validation(data, p_value=0.01)\n",
    "\n"
   ]
  },
  {
   "cell_type": "code",
   "execution_count": 13,
   "metadata": {
    "collapsed": false
   },
   "outputs": [
    {
     "name": "stdout",
     "output_type": "stream",
     "text": [
      "Prepare the variables\n"
     ]
    }
   ],
   "source": [
    "# Create training matrices\n",
    "U_train, I_train, R_train, U_i_train = variables(train)"
   ]
  },
  {
   "cell_type": "code",
   "execution_count": 14,
   "metadata": {
    "collapsed": true
   },
   "outputs": [],
   "source": [
    "KK = [50, 100, 150, 200, 250, 300, 350, 400, 450, 500, 600, 700, 800, 900, 1000]"
   ]
  },
  {
   "cell_type": "code",
   "execution_count": 15,
   "metadata": {
    "collapsed": true
   },
   "outputs": [],
   "source": [
    "def rmse(a,b):\n",
    "    return np.sqrt(np.mean((np.array(a)-np.array(b))**2))\n",
    "\n",
    "def mean(i, R, R_G):\n",
    "    if len(R_G) == 0:\n",
    "        ratings = R[:,i]\n",
    "        return np.mean(ratings[ratings!=np.inf])\n",
    "    else:\n",
    "        return np.mean(R_G)\n",
    "    \n",
    "def weighted_mean(i, sim, R, R_G):\n",
    "    if len(R_G) == 0:\n",
    "        ratings = R[:,i]\n",
    "        return np.mean(ratings[ratings!=np.inf])\n",
    "    else:\n",
    "        return np.dot(sim, R_G)/np.sum(sim)\n",
    "    \n",
    "def deviation_from_mean(i, neigh, sim, R, R_G):\n",
    "    if len(R_G) == 0:\n",
    "        ratings = R[:,i]\n",
    "        return np.mean(ratings[ratings!=np.inf])\n",
    "    else:\n",
    "        ratings = R[:,i]\n",
    "        rating_i_mean = np.mean(ratings[ratings!=np.inf])\n",
    "        r=R[:,neigh]\n",
    "        r[r==np.inf] = np.nan\n",
    "        mean_ = np.nanmean(r, axis=0)\n",
    "        deviation = np.dot(sim, R_G-mean_)\n",
    "        \n",
    "        return rating_i_mean + deviation/np.sum(sim)"
   ]
  },
  {
   "cell_type": "code",
   "execution_count": 16,
   "metadata": {
    "collapsed": false
   },
   "outputs": [],
   "source": [
    "folder = \"./pickles/\"\n",
    "model = \"msd\"\n",
    "NN = []\n",
    "similarity = []\n",
    "for itm in range(1000):\n",
    "    filename = folder + \"NN_\" + str(itm) + \"_\" + model + \".pickle\"\n",
    "    NN.append(pickle.load(open(filename, \"rb\")))\n",
    "    filename = folder + \"sim_\" + str(itm) + \"_\" + model + \".pickle\"\n",
    "    similarity.append(pickle.load(open(filename, \"rb\")))"
   ]
  },
  {
   "cell_type": "code",
   "execution_count": 17,
   "metadata": {
    "collapsed": false
   },
   "outputs": [
    {
     "name": "stderr",
     "output_type": "stream",
     "text": [
      "/home/gael/anaconda3/lib/python3.5/site-packages/ipykernel/__main__.py:1: FutureWarning: sort(columns=....) is deprecated, use sort_values(by=.....)\n",
      "  if __name__ == '__main__':\n"
     ]
    },
    {
     "data": {
      "text/html": [
       "<div>\n",
       "<table border=\"1\" class=\"dataframe\">\n",
       "  <thead>\n",
       "    <tr style=\"text-align: right;\">\n",
       "      <th></th>\n",
       "      <th>Id</th>\n",
       "      <th>Prediction</th>\n",
       "      <th>UserID</th>\n",
       "      <th>MovieID</th>\n",
       "    </tr>\n",
       "  </thead>\n",
       "  <tbody>\n",
       "    <tr>\n",
       "      <th>0</th>\n",
       "      <td>r114_c1</td>\n",
       "      <td>3</td>\n",
       "      <td>113</td>\n",
       "      <td>0</td>\n",
       "    </tr>\n",
       "    <tr>\n",
       "      <th>1</th>\n",
       "      <td>r9264_c1</td>\n",
       "      <td>4</td>\n",
       "      <td>9263</td>\n",
       "      <td>0</td>\n",
       "    </tr>\n",
       "    <tr>\n",
       "      <th>2</th>\n",
       "      <td>r302_c2</td>\n",
       "      <td>4</td>\n",
       "      <td>301</td>\n",
       "      <td>1</td>\n",
       "    </tr>\n",
       "    <tr>\n",
       "      <th>3</th>\n",
       "      <td>r1636_c2</td>\n",
       "      <td>4</td>\n",
       "      <td>1635</td>\n",
       "      <td>1</td>\n",
       "    </tr>\n",
       "    <tr>\n",
       "      <th>4</th>\n",
       "      <td>r1117_c3</td>\n",
       "      <td>4</td>\n",
       "      <td>1116</td>\n",
       "      <td>2</td>\n",
       "    </tr>\n",
       "  </tbody>\n",
       "</table>\n",
       "</div>"
      ],
      "text/plain": [
       "         Id  Prediction  UserID  MovieID\n",
       "0   r114_c1           3     113        0\n",
       "1  r9264_c1           4    9263        0\n",
       "2   r302_c2           4     301        1\n",
       "3  r1636_c2           4    1635        1\n",
       "4  r1117_c3           4    1116        2"
      ]
     },
     "execution_count": 17,
     "metadata": {},
     "output_type": "execute_result"
    }
   ],
   "source": [
    "validation = validation.sort(\"MovieID\")\n",
    "validation.head()"
   ]
  },
  {
   "cell_type": "code",
   "execution_count": 18,
   "metadata": {
    "collapsed": false,
    "scrolled": false
   },
   "outputs": [
    {
     "ename": "KeyboardInterrupt",
     "evalue": "",
     "output_type": "error",
     "traceback": [
      "\u001b[0;31m---------------------------------------------------------------------------\u001b[0m",
      "\u001b[0;31mKeyboardInterrupt\u001b[0m                         Traceback (most recent call last)",
      "\u001b[0;32m<ipython-input-18-724258c01201>\u001b[0m in \u001b[0;36m<module>\u001b[0;34m()\u001b[0m\n\u001b[1;32m     22\u001b[0m         \u001b[0msim\u001b[0m \u001b[0;34m=\u001b[0m \u001b[0msim\u001b[0m\u001b[0;34m[\u001b[0m\u001b[0mG\u001b[0m\u001b[0;34m]\u001b[0m\u001b[0;34m\u001b[0m\u001b[0m\n\u001b[1;32m     23\u001b[0m         \u001b[0;31m# Put ratings\u001b[0m\u001b[0;34m\u001b[0m\u001b[0;34m\u001b[0m\u001b[0m\n\u001b[0;32m---> 24\u001b[0;31m         \u001b[0mratings\u001b[0m\u001b[0;34m[\u001b[0m\u001b[0mi\u001b[0m\u001b[0;34m]\u001b[0m \u001b[0;34m=\u001b[0m \u001b[0mdeviation_from_mean\u001b[0m\u001b[0;34m(\u001b[0m\u001b[0mmovie\u001b[0m\u001b[0;34m,\u001b[0m \u001b[0mneigh\u001b[0m\u001b[0;34m,\u001b[0m \u001b[0msim\u001b[0m\u001b[0;34m,\u001b[0m \u001b[0mR_train\u001b[0m\u001b[0;34m,\u001b[0m \u001b[0mR_G\u001b[0m\u001b[0;34m)\u001b[0m\u001b[0;34m\u001b[0m\u001b[0m\n\u001b[0m\u001b[1;32m     25\u001b[0m         \u001b[0;31m#if (i+1)%1000 == 0:\u001b[0m\u001b[0;34m\u001b[0m\u001b[0;34m\u001b[0m\u001b[0m\n\u001b[1;32m     26\u001b[0m         \u001b[0;31m#    print(\"%i/%i done!\"%(i+1, n))\u001b[0m\u001b[0;34m\u001b[0m\u001b[0;34m\u001b[0m\u001b[0m\n",
      "\u001b[0;32m<ipython-input-15-6a46e371f672>\u001b[0m in \u001b[0;36mdeviation_from_mean\u001b[0;34m(i, neigh, sim, R, R_G)\u001b[0m\n\u001b[1;32m     25\u001b[0m         \u001b[0mr\u001b[0m\u001b[0;34m=\u001b[0m\u001b[0mR\u001b[0m\u001b[0;34m[\u001b[0m\u001b[0;34m:\u001b[0m\u001b[0;34m,\u001b[0m\u001b[0mneigh\u001b[0m\u001b[0;34m]\u001b[0m\u001b[0;34m\u001b[0m\u001b[0m\n\u001b[1;32m     26\u001b[0m         \u001b[0mr\u001b[0m\u001b[0;34m[\u001b[0m\u001b[0mr\u001b[0m\u001b[0;34m==\u001b[0m\u001b[0mnp\u001b[0m\u001b[0;34m.\u001b[0m\u001b[0minf\u001b[0m\u001b[0;34m]\u001b[0m \u001b[0;34m=\u001b[0m \u001b[0mnp\u001b[0m\u001b[0;34m.\u001b[0m\u001b[0mnan\u001b[0m\u001b[0;34m\u001b[0m\u001b[0m\n\u001b[0;32m---> 27\u001b[0;31m         \u001b[0mmean_\u001b[0m \u001b[0;34m=\u001b[0m \u001b[0mnp\u001b[0m\u001b[0;34m.\u001b[0m\u001b[0mnanmean\u001b[0m\u001b[0;34m(\u001b[0m\u001b[0mr\u001b[0m\u001b[0;34m,\u001b[0m \u001b[0maxis\u001b[0m\u001b[0;34m=\u001b[0m\u001b[0;36m0\u001b[0m\u001b[0;34m)\u001b[0m\u001b[0;34m\u001b[0m\u001b[0m\n\u001b[0m\u001b[1;32m     28\u001b[0m         \u001b[0mdeviation\u001b[0m \u001b[0;34m=\u001b[0m \u001b[0mnp\u001b[0m\u001b[0;34m.\u001b[0m\u001b[0mdot\u001b[0m\u001b[0;34m(\u001b[0m\u001b[0msim\u001b[0m\u001b[0;34m,\u001b[0m \u001b[0mR_G\u001b[0m\u001b[0;34m-\u001b[0m\u001b[0mmean_\u001b[0m\u001b[0;34m)\u001b[0m\u001b[0;34m\u001b[0m\u001b[0m\n\u001b[1;32m     29\u001b[0m \u001b[0;34m\u001b[0m\u001b[0m\n",
      "\u001b[0;32m/home/gael/anaconda3/lib/python3.5/site-packages/numpy/lib/nanfunctions.py\u001b[0m in \u001b[0;36mnanmean\u001b[0;34m(a, axis, dtype, out, keepdims)\u001b[0m\n\u001b[1;32m    653\u001b[0m \u001b[0;34m\u001b[0m\u001b[0m\n\u001b[1;32m    654\u001b[0m     \"\"\"\n\u001b[0;32m--> 655\u001b[0;31m     \u001b[0marr\u001b[0m\u001b[0;34m,\u001b[0m \u001b[0mmask\u001b[0m \u001b[0;34m=\u001b[0m \u001b[0m_replace_nan\u001b[0m\u001b[0;34m(\u001b[0m\u001b[0ma\u001b[0m\u001b[0;34m,\u001b[0m \u001b[0;36m0\u001b[0m\u001b[0;34m)\u001b[0m\u001b[0;34m\u001b[0m\u001b[0m\n\u001b[0m\u001b[1;32m    656\u001b[0m     \u001b[0;32mif\u001b[0m \u001b[0mmask\u001b[0m \u001b[0;32mis\u001b[0m \u001b[0;32mNone\u001b[0m\u001b[0;34m:\u001b[0m\u001b[0;34m\u001b[0m\u001b[0m\n\u001b[1;32m    657\u001b[0m         \u001b[0;32mreturn\u001b[0m \u001b[0mnp\u001b[0m\u001b[0;34m.\u001b[0m\u001b[0mmean\u001b[0m\u001b[0;34m(\u001b[0m\u001b[0marr\u001b[0m\u001b[0;34m,\u001b[0m \u001b[0maxis\u001b[0m\u001b[0;34m=\u001b[0m\u001b[0maxis\u001b[0m\u001b[0;34m,\u001b[0m \u001b[0mdtype\u001b[0m\u001b[0;34m=\u001b[0m\u001b[0mdtype\u001b[0m\u001b[0;34m,\u001b[0m \u001b[0mout\u001b[0m\u001b[0;34m=\u001b[0m\u001b[0mout\u001b[0m\u001b[0;34m,\u001b[0m \u001b[0mkeepdims\u001b[0m\u001b[0;34m=\u001b[0m\u001b[0mkeepdims\u001b[0m\u001b[0;34m)\u001b[0m\u001b[0;34m\u001b[0m\u001b[0m\n",
      "\u001b[0;32m/home/gael/anaconda3/lib/python3.5/site-packages/numpy/lib/nanfunctions.py\u001b[0m in \u001b[0;36m_replace_nan\u001b[0;34m(a, val)\u001b[0m\n\u001b[1;32m     68\u001b[0m \u001b[0;34m\u001b[0m\u001b[0m\n\u001b[1;32m     69\u001b[0m     \u001b[0mmask\u001b[0m \u001b[0;34m=\u001b[0m \u001b[0mnp\u001b[0m\u001b[0;34m.\u001b[0m\u001b[0misnan\u001b[0m\u001b[0;34m(\u001b[0m\u001b[0ma\u001b[0m\u001b[0;34m)\u001b[0m\u001b[0;34m\u001b[0m\u001b[0m\n\u001b[0;32m---> 70\u001b[0;31m     \u001b[0mnp\u001b[0m\u001b[0;34m.\u001b[0m\u001b[0mcopyto\u001b[0m\u001b[0;34m(\u001b[0m\u001b[0ma\u001b[0m\u001b[0;34m,\u001b[0m \u001b[0mval\u001b[0m\u001b[0;34m,\u001b[0m \u001b[0mwhere\u001b[0m\u001b[0;34m=\u001b[0m\u001b[0mmask\u001b[0m\u001b[0;34m)\u001b[0m\u001b[0;34m\u001b[0m\u001b[0m\n\u001b[0m\u001b[1;32m     71\u001b[0m     \u001b[0;32mreturn\u001b[0m \u001b[0ma\u001b[0m\u001b[0;34m,\u001b[0m \u001b[0mmask\u001b[0m\u001b[0;34m\u001b[0m\u001b[0m\n\u001b[1;32m     72\u001b[0m \u001b[0;34m\u001b[0m\u001b[0m\n",
      "\u001b[0;31mKeyboardInterrupt\u001b[0m: "
     ]
    },
    {
     "data": {
      "image/png": "[encoded data removed]",
      "text/plain": [
       "<matplotlib.figure.Figure at 0x7f1bd695ce80>"
      ]
     },
     "metadata": {},
     "output_type": "display_data"
    }
   ],
   "source": [
    "# Test for MSD\n",
    "RMSE = np.zeros(len(KK))\n",
    "\n",
    "for idx, k in enumerate(KK):\n",
    "    n = len(validation)\n",
    "    ratings = np.zeros(n)\n",
    "    pred = np.zeros(n)\n",
    "    prev_movie = 99999\n",
    "    for i in range(n):\n",
    "        pred[i] = validation.iloc[i].loc[\"Prediction\"]\n",
    "        usr = validation.iloc[i].loc[\"UserID\"]\n",
    "        movie = validation.iloc[i].loc[\"MovieID\"]\n",
    "        \n",
    "        neigh = np.array(NN[movie][:k])\n",
    "        sim = np.array(similarity[movie][:k])\n",
    "        \n",
    "        # Prepare Ratings of G\n",
    "        R_G = R_train[usr, neigh]\n",
    "        G = R_G!=np.inf\n",
    "        R_G = R_G[G]\n",
    "        neigh = neigh[G]\n",
    "        sim = sim[G]\n",
    "        # Put ratings\n",
    "        ratings[i] = deviation_from_mean(movie, neigh, sim, R_train, R_G)\n",
    "        #if (i+1)%1000 == 0:\n",
    "        #    print(\"%i/%i done!\"%(i+1, n))\n",
    "    RMSE[idx] = rmse(ratings, pred)\n",
    "    plt.gca().cla() \n",
    "    plt.plot(KK, RMSE, label='Deviation from Mean')\n",
    "    plt.xlabel(\"k\")\n",
    "    plt.ylabel(\"RMSE\")\n",
    "    plt.legend(loc='upper center', bbox_to_anchor=(0.5, -0.05),\n",
    "          fancybox=True, ncol=3)\n",
    "    display.display(plt.gcf())\n",
    "    display.clear_output(wait=True)"
   ]
  },
  {
   "cell_type": "code",
   "execution_count": 19,
   "metadata": {
    "collapsed": false
   },
   "outputs": [
    {
     "data": {
      "text/plain": [
       "array([ 1.05103163,  1.00539574,  0.99455411,  0.99161419,  0.99141528,\n",
       "        0.98988773,  0.98929063,  0.99068676,  0.9917977 ,  0.99265679,\n",
       "        0.        ,  0.        ,  0.        ,  0.        ,  0.        ])"
      ]
     },
     "execution_count": 19,
     "metadata": {},
     "output_type": "execute_result"
    }
   ],
   "source": [
    "RMSE"
   ]
  },
  {
   "cell_type": "code",
   "execution_count": 20,
   "metadata": {
    "collapsed": false
   },
   "outputs": [
    {
     "data": {
      "text/plain": [
       "350"
      ]
     },
     "execution_count": 20,
     "metadata": {},
     "output_type": "execute_result"
    }
   ],
   "source": [
    "best_k = KK[np.argmin(RMSE[RMSE != 0.0])]\n",
    "best_k"
   ]
  },
  {
   "cell_type": "code",
   "execution_count": 4,
   "metadata": {
    "collapsed": true
   },
   "outputs": [],
   "source": [
    "best_k = 500"
   ]
  },
  {
   "cell_type": "markdown",
   "metadata": {
    "collapsed": true
   },
   "source": [
    "# Testing"
   ]
  },
  {
   "cell_type": "code",
   "execution_count": 5,
   "metadata": {
    "collapsed": false
   },
   "outputs": [
    {
     "name": "stdout",
     "output_type": "stream",
     "text": [
      "Load the dataset\n",
      "Load the dataset\n",
      "Prepare the variables\n"
     ]
    }
   ],
   "source": [
    "# Test data\n",
    "dataset_test = '../data/sampleSubmission.csv'\n",
    "data_test = prepare_data(dataset_test)\n",
    "\n",
    "# Training data\n",
    "data = prepare_data(dataset)\n",
    "# Prepare the data\n",
    "U, I, R, U_i = variables(data)"
   ]
  },
  {
   "cell_type": "code",
   "execution_count": 6,
   "metadata": {
    "collapsed": false
   },
   "outputs": [
    {
     "data": {
      "text/html": [
       "<div>\n",
       "<table border=\"1\" class=\"dataframe\">\n",
       "  <thead>\n",
       "    <tr style=\"text-align: right;\">\n",
       "      <th></th>\n",
       "      <th>Id</th>\n",
       "      <th>Prediction</th>\n",
       "      <th>UserID</th>\n",
       "      <th>MovieID</th>\n",
       "    </tr>\n",
       "  </thead>\n",
       "  <tbody>\n",
       "    <tr>\n",
       "      <th>0</th>\n",
       "      <td>r37_c1</td>\n",
       "      <td>3</td>\n",
       "      <td>36</td>\n",
       "      <td>0</td>\n",
       "    </tr>\n",
       "    <tr>\n",
       "      <th>1</th>\n",
       "      <td>r73_c1</td>\n",
       "      <td>3</td>\n",
       "      <td>72</td>\n",
       "      <td>0</td>\n",
       "    </tr>\n",
       "    <tr>\n",
       "      <th>2</th>\n",
       "      <td>r156_c1</td>\n",
       "      <td>3</td>\n",
       "      <td>155</td>\n",
       "      <td>0</td>\n",
       "    </tr>\n",
       "    <tr>\n",
       "      <th>3</th>\n",
       "      <td>r160_c1</td>\n",
       "      <td>3</td>\n",
       "      <td>159</td>\n",
       "      <td>0</td>\n",
       "    </tr>\n",
       "    <tr>\n",
       "      <th>4</th>\n",
       "      <td>r248_c1</td>\n",
       "      <td>3</td>\n",
       "      <td>247</td>\n",
       "      <td>0</td>\n",
       "    </tr>\n",
       "  </tbody>\n",
       "</table>\n",
       "</div>"
      ],
      "text/plain": [
       "        Id  Prediction  UserID  MovieID\n",
       "0   r37_c1           3      36        0\n",
       "1   r73_c1           3      72        0\n",
       "2  r156_c1           3     155        0\n",
       "3  r160_c1           3     159        0\n",
       "4  r248_c1           3     247        0"
      ]
     },
     "execution_count": 6,
     "metadata": {},
     "output_type": "execute_result"
    }
   ],
   "source": [
    "data_test.head()"
   ]
  },
  {
   "cell_type": "code",
   "execution_count": 7,
   "metadata": {
    "collapsed": false,
    "scrolled": true
   },
   "outputs": [],
   "source": [
    "def pred(data):\n",
    "    usr = data.loc[\"UserID\"]\n",
    "    movie = data.loc[\"MovieID\"]  \n",
    "    \n",
    "    neigh = np.array(NN[movie][:best_k])\n",
    "    sim = np.array(similarity[movie][:best_k])\n",
    "    \n",
    "    # Prepare Ratings of G\n",
    "    R_G = R_train[usr, neigh]\n",
    "    G = R_G!=np.inf\n",
    "    R_G = R_G[G]\n",
    "    neigh = neigh[G]\n",
    "    sim = sim[G]\n",
    "    \n",
    "    val = deviation_from_mean(movie, neigh, sim, R_train, R_G)\n",
    "    \n",
    "    return val"
   ]
  },
  {
   "cell_type": "code",
   "execution_count": 8,
   "metadata": {
    "collapsed": false
   },
   "outputs": [],
   "source": [
    "nbr_jobs = 8"
   ]
  },
  {
   "cell_type": "code",
   "execution_count": 9,
   "metadata": {
    "collapsed": false,
    "scrolled": true
   },
   "outputs": [
    {
     "ename": "JoblibNameError",
     "evalue": "JoblibNameError\n___________________________________________________________________________\nMultiprocessing exception:\n...........................................................................\n/home/gael/anaconda3/lib/python3.5/runpy.py in _run_module_as_main(mod_name='ipykernel.__main__', alter_argv=1)\n    179         sys.exit(msg)\n    180     main_globals = sys.modules[\"__main__\"].__dict__\n    181     if alter_argv:\n    182         sys.argv[0] = mod_spec.origin\n    183     return _run_code(code, main_globals, None,\n--> 184                      \"__main__\", mod_spec)\n        mod_spec = ModuleSpec(name='ipykernel.__main__', loader=<_f...b/python3.5/site-packages/ipykernel/__main__.py')\n    185 \n    186 def run_module(mod_name, init_globals=None,\n    187                run_name=None, alter_sys=False):\n    188     \"\"\"Execute a module's code without importing it\n\n...........................................................................\n/home/gael/anaconda3/lib/python3.5/runpy.py in _run_code(code=<code object <module> at 0x7f1c0d0f4030, file \"/...3.5/site-packages/ipykernel/__main__.py\", line 1>, run_globals={'__builtins__': <module 'builtins' (built-in)>, '__cached__': '/home/gael/anaconda3/lib/python3.5/site-packages/ipykernel/__pycache__/__main__.cpython-35.pyc', '__doc__': None, '__file__': '/home/gael/anaconda3/lib/python3.5/site-packages/ipykernel/__main__.py', '__loader__': <_frozen_importlib_external.SourceFileLoader object>, '__name__': '__main__', '__package__': 'ipykernel', '__spec__': ModuleSpec(name='ipykernel.__main__', loader=<_f...b/python3.5/site-packages/ipykernel/__main__.py'), 'app': <module 'ipykernel.kernelapp' from '/home/gael/a.../python3.5/site-packages/ipykernel/kernelapp.py'>}, init_globals=None, mod_name='__main__', mod_spec=ModuleSpec(name='ipykernel.__main__', loader=<_f...b/python3.5/site-packages/ipykernel/__main__.py'), pkg_name='ipykernel', script_name=None)\n     80                        __cached__ = cached,\n     81                        __doc__ = None,\n     82                        __loader__ = loader,\n     83                        __package__ = pkg_name,\n     84                        __spec__ = mod_spec)\n---> 85     exec(code, run_globals)\n        code = <code object <module> at 0x7f1c0d0f4030, file \"/...3.5/site-packages/ipykernel/__main__.py\", line 1>\n        run_globals = {'__builtins__': <module 'builtins' (built-in)>, '__cached__': '/home/gael/anaconda3/lib/python3.5/site-packages/ipykernel/__pycache__/__main__.cpython-35.pyc', '__doc__': None, '__file__': '/home/gael/anaconda3/lib/python3.5/site-packages/ipykernel/__main__.py', '__loader__': <_frozen_importlib_external.SourceFileLoader object>, '__name__': '__main__', '__package__': 'ipykernel', '__spec__': ModuleSpec(name='ipykernel.__main__', loader=<_f...b/python3.5/site-packages/ipykernel/__main__.py'), 'app': <module 'ipykernel.kernelapp' from '/home/gael/a.../python3.5/site-packages/ipykernel/kernelapp.py'>}\n     86     return run_globals\n     87 \n     88 def _run_module_code(code, init_globals=None,\n     89                     mod_name=None, mod_spec=None,\n\n...........................................................................\n/home/gael/anaconda3/lib/python3.5/site-packages/ipykernel/__main__.py in <module>()\n      1 \n      2 \n----> 3 \n      4 if __name__ == '__main__':\n      5     from ipykernel import kernelapp as app\n      6     app.launch_new_instance()\n      7 \n      8 \n      9 \n     10 \n\n...........................................................................\n/home/gael/anaconda3/lib/python3.5/site-packages/traitlets/config/application.py in launch_instance(cls=<class 'ipykernel.kernelapp.IPKernelApp'>, argv=None, **kwargs={})\n    648 \n    649         If a global instance already exists, this reinitializes and starts it\n    650         \"\"\"\n    651         app = cls.instance(**kwargs)\n    652         app.initialize(argv)\n--> 653         app.start()\n        app.start = <bound method IPKernelApp.start of <ipykernel.kernelapp.IPKernelApp object>>\n    654 \n    655 #-----------------------------------------------------------------------------\n    656 # utility functions, for convenience\n    657 #-----------------------------------------------------------------------------\n\n...........................................................................\n/home/gael/anaconda3/lib/python3.5/site-packages/ipykernel/kernelapp.py in start(self=<ipykernel.kernelapp.IPKernelApp object>)\n    469             return self.subapp.start()\n    470         if self.poller is not None:\n    471             self.poller.start()\n    472         self.kernel.start()\n    473         try:\n--> 474             ioloop.IOLoop.instance().start()\n    475         except KeyboardInterrupt:\n    476             pass\n    477 \n    478 launch_new_instance = IPKernelApp.launch_instance\n\n...........................................................................\n/home/gael/anaconda3/lib/python3.5/site-packages/zmq/eventloop/ioloop.py in start(self=<zmq.eventloop.ioloop.ZMQIOLoop object>)\n    157             PollIOLoop.configure(ZMQIOLoop)\n    158         return PollIOLoop.current(*args, **kwargs)\n    159     \n    160     def start(self):\n    161         try:\n--> 162             super(ZMQIOLoop, self).start()\n        self.start = <bound method ZMQIOLoop.start of <zmq.eventloop.ioloop.ZMQIOLoop object>>\n    163         except ZMQError as e:\n    164             if e.errno == ETERM:\n    165                 # quietly return on ETERM\n    166                 pass\n\n...........................................................................\n/home/gael/anaconda3/lib/python3.5/site-packages/tornado/ioloop.py in start(self=<zmq.eventloop.ioloop.ZMQIOLoop object>)\n    882                 self._events.update(event_pairs)\n    883                 while self._events:\n    884                     fd, events = self._events.popitem()\n    885                     try:\n    886                         fd_obj, handler_func = self._handlers[fd]\n--> 887                         handler_func(fd_obj, events)\n        handler_func = <function wrap.<locals>.null_wrapper>\n        fd_obj = <zmq.sugar.socket.Socket object>\n        events = 1\n    888                     except (OSError, IOError) as e:\n    889                         if errno_from_exception(e) == errno.EPIPE:\n    890                             # Happens when the client closes the connection\n    891                             pass\n\n...........................................................................\n/home/gael/anaconda3/lib/python3.5/site-packages/tornado/stack_context.py in null_wrapper(*args=(<zmq.sugar.socket.Socket object>, 1), **kwargs={})\n    270         # Fast path when there are no active contexts.\n    271         def null_wrapper(*args, **kwargs):\n    272             try:\n    273                 current_state = _state.contexts\n    274                 _state.contexts = cap_contexts[0]\n--> 275                 return fn(*args, **kwargs)\n        args = (<zmq.sugar.socket.Socket object>, 1)\n        kwargs = {}\n    276             finally:\n    277                 _state.contexts = current_state\n    278         null_wrapper._wrapped = True\n    279         return null_wrapper\n\n...........................................................................\n/home/gael/anaconda3/lib/python3.5/site-packages/zmq/eventloop/zmqstream.py in _handle_events(self=<zmq.eventloop.zmqstream.ZMQStream object>, fd=<zmq.sugar.socket.Socket object>, events=1)\n    435             # dispatch events:\n    436             if events & IOLoop.ERROR:\n    437                 gen_log.error(\"got POLLERR event on ZMQStream, which doesn't make sense\")\n    438                 return\n    439             if events & IOLoop.READ:\n--> 440                 self._handle_recv()\n        self._handle_recv = <bound method ZMQStream._handle_recv of <zmq.eventloop.zmqstream.ZMQStream object>>\n    441                 if not self.socket:\n    442                     return\n    443             if events & IOLoop.WRITE:\n    444                 self._handle_send()\n\n...........................................................................\n/home/gael/anaconda3/lib/python3.5/site-packages/zmq/eventloop/zmqstream.py in _handle_recv(self=<zmq.eventloop.zmqstream.ZMQStream object>)\n    467                 gen_log.error(\"RECV Error: %s\"%zmq.strerror(e.errno))\n    468         else:\n    469             if self._recv_callback:\n    470                 callback = self._recv_callback\n    471                 # self._recv_callback = None\n--> 472                 self._run_callback(callback, msg)\n        self._run_callback = <bound method ZMQStream._run_callback of <zmq.eventloop.zmqstream.ZMQStream object>>\n        callback = <function wrap.<locals>.null_wrapper>\n        msg = [<zmq.sugar.frame.Frame object>, <zmq.sugar.frame.Frame object>, <zmq.sugar.frame.Frame object>, <zmq.sugar.frame.Frame object>, <zmq.sugar.frame.Frame object>, <zmq.sugar.frame.Frame object>, <zmq.sugar.frame.Frame object>]\n    473                 \n    474         # self.update_state()\n    475         \n    476 \n\n...........................................................................\n/home/gael/anaconda3/lib/python3.5/site-packages/zmq/eventloop/zmqstream.py in _run_callback(self=<zmq.eventloop.zmqstream.ZMQStream object>, callback=<function wrap.<locals>.null_wrapper>, *args=([<zmq.sugar.frame.Frame object>, <zmq.sugar.frame.Frame object>, <zmq.sugar.frame.Frame object>, <zmq.sugar.frame.Frame object>, <zmq.sugar.frame.Frame object>, <zmq.sugar.frame.Frame object>, <zmq.sugar.frame.Frame object>],), **kwargs={})\n    409         close our socket.\"\"\"\n    410         try:\n    411             # Use a NullContext to ensure that all StackContexts are run\n    412             # inside our blanket exception handler rather than outside.\n    413             with stack_context.NullContext():\n--> 414                 callback(*args, **kwargs)\n        callback = <function wrap.<locals>.null_wrapper>\n        args = ([<zmq.sugar.frame.Frame object>, <zmq.sugar.frame.Frame object>, <zmq.sugar.frame.Frame object>, <zmq.sugar.frame.Frame object>, <zmq.sugar.frame.Frame object>, <zmq.sugar.frame.Frame object>, <zmq.sugar.frame.Frame object>],)\n        kwargs = {}\n    415         except:\n    416             gen_log.error(\"Uncaught exception, closing connection.\",\n    417                           exc_info=True)\n    418             # Close the socket on an uncaught exception from a user callback\n\n...........................................................................\n/home/gael/anaconda3/lib/python3.5/site-packages/tornado/stack_context.py in null_wrapper(*args=([<zmq.sugar.frame.Frame object>, <zmq.sugar.frame.Frame object>, <zmq.sugar.frame.Frame object>, <zmq.sugar.frame.Frame object>, <zmq.sugar.frame.Frame object>, <zmq.sugar.frame.Frame object>, <zmq.sugar.frame.Frame object>],), **kwargs={})\n    270         # Fast path when there are no active contexts.\n    271         def null_wrapper(*args, **kwargs):\n    272             try:\n    273                 current_state = _state.contexts\n    274                 _state.contexts = cap_contexts[0]\n--> 275                 return fn(*args, **kwargs)\n        args = ([<zmq.sugar.frame.Frame object>, <zmq.sugar.frame.Frame object>, <zmq.sugar.frame.Frame object>, <zmq.sugar.frame.Frame object>, <zmq.sugar.frame.Frame object>, <zmq.sugar.frame.Frame object>, <zmq.sugar.frame.Frame object>],)\n        kwargs = {}\n    276             finally:\n    277                 _state.contexts = current_state\n    278         null_wrapper._wrapped = True\n    279         return null_wrapper\n\n...........................................................................\n/home/gael/anaconda3/lib/python3.5/site-packages/ipykernel/kernelbase.py in dispatcher(msg=[<zmq.sugar.frame.Frame object>, <zmq.sugar.frame.Frame object>, <zmq.sugar.frame.Frame object>, <zmq.sugar.frame.Frame object>, <zmq.sugar.frame.Frame object>, <zmq.sugar.frame.Frame object>, <zmq.sugar.frame.Frame object>])\n    271         if self.control_stream:\n    272             self.control_stream.on_recv(self.dispatch_control, copy=False)\n    273 \n    274         def make_dispatcher(stream):\n    275             def dispatcher(msg):\n--> 276                 return self.dispatch_shell(stream, msg)\n        msg = [<zmq.sugar.frame.Frame object>, <zmq.sugar.frame.Frame object>, <zmq.sugar.frame.Frame object>, <zmq.sugar.frame.Frame object>, <zmq.sugar.frame.Frame object>, <zmq.sugar.frame.Frame object>, <zmq.sugar.frame.Frame object>]\n    277             return dispatcher\n    278 \n    279         for s in self.shell_streams:\n    280             s.on_recv(make_dispatcher(s), copy=False)\n\n...........................................................................\n/home/gael/anaconda3/lib/python3.5/site-packages/ipykernel/kernelbase.py in dispatch_shell(self=<ipykernel.ipkernel.IPythonKernel object>, stream=<zmq.eventloop.zmqstream.ZMQStream object>, msg={'buffers': [], 'content': {'allow_stdin': True, 'code': '%%time\\npredictions = Parallel(n_jobs=nbr_jobs)(d...ata_test.iloc[i]) for i in range(len(data_test)))', 'silent': False, 'stop_on_error': True, 'store_history': True, 'user_expressions': {}}, 'header': {'date': '2016-12-06T14:40:51.713420', 'msg_id': '3E347402CC274276B9771D93B283666D', 'msg_type': 'execute_request', 'session': 'FB8C7CC8229E47D88DFF6E6F2735D77A', 'username': 'username', 'version': '5.0'}, 'metadata': {}, 'msg_id': '3E347402CC274276B9771D93B283666D', 'msg_type': 'execute_request', 'parent_header': {}})\n    223             self.log.error(\"UNKNOWN MESSAGE TYPE: %r\", msg_type)\n    224         else:\n    225             self.log.debug(\"%s: %s\", msg_type, msg)\n    226             self.pre_handler_hook()\n    227             try:\n--> 228                 handler(stream, idents, msg)\n        handler = <bound method Kernel.execute_request of <ipykernel.ipkernel.IPythonKernel object>>\n        stream = <zmq.eventloop.zmqstream.ZMQStream object>\n        idents = [b'FB8C7CC8229E47D88DFF6E6F2735D77A']\n        msg = {'buffers': [], 'content': {'allow_stdin': True, 'code': '%%time\\npredictions = Parallel(n_jobs=nbr_jobs)(d...ata_test.iloc[i]) for i in range(len(data_test)))', 'silent': False, 'stop_on_error': True, 'store_history': True, 'user_expressions': {}}, 'header': {'date': '2016-12-06T14:40:51.713420', 'msg_id': '3E347402CC274276B9771D93B283666D', 'msg_type': 'execute_request', 'session': 'FB8C7CC8229E47D88DFF6E6F2735D77A', 'username': 'username', 'version': '5.0'}, 'metadata': {}, 'msg_id': '3E347402CC274276B9771D93B283666D', 'msg_type': 'execute_request', 'parent_header': {}}\n    229             except Exception:\n    230                 self.log.error(\"Exception in message handler:\", exc_info=True)\n    231             finally:\n    232                 self.post_handler_hook()\n\n...........................................................................\n/home/gael/anaconda3/lib/python3.5/site-packages/ipykernel/kernelbase.py in execute_request(self=<ipykernel.ipkernel.IPythonKernel object>, stream=<zmq.eventloop.zmqstream.ZMQStream object>, ident=[b'FB8C7CC8229E47D88DFF6E6F2735D77A'], parent={'buffers': [], 'content': {'allow_stdin': True, 'code': '%%time\\npredictions = Parallel(n_jobs=nbr_jobs)(d...ata_test.iloc[i]) for i in range(len(data_test)))', 'silent': False, 'stop_on_error': True, 'store_history': True, 'user_expressions': {}}, 'header': {'date': '2016-12-06T14:40:51.713420', 'msg_id': '3E347402CC274276B9771D93B283666D', 'msg_type': 'execute_request', 'session': 'FB8C7CC8229E47D88DFF6E6F2735D77A', 'username': 'username', 'version': '5.0'}, 'metadata': {}, 'msg_id': '3E347402CC274276B9771D93B283666D', 'msg_type': 'execute_request', 'parent_header': {}})\n    385         if not silent:\n    386             self.execution_count += 1\n    387             self._publish_execute_input(code, parent, self.execution_count)\n    388 \n    389         reply_content = self.do_execute(code, silent, store_history,\n--> 390                                         user_expressions, allow_stdin)\n        user_expressions = {}\n        allow_stdin = True\n    391 \n    392         # Flush output before sending the reply.\n    393         sys.stdout.flush()\n    394         sys.stderr.flush()\n\n...........................................................................\n/home/gael/anaconda3/lib/python3.5/site-packages/ipykernel/ipkernel.py in do_execute(self=<ipykernel.ipkernel.IPythonKernel object>, code='%%time\\npredictions = Parallel(n_jobs=nbr_jobs)(d...ata_test.iloc[i]) for i in range(len(data_test)))', silent=False, store_history=True, user_expressions={}, allow_stdin=True)\n    191 \n    192         self._forward_input(allow_stdin)\n    193 \n    194         reply_content = {}\n    195         try:\n--> 196             res = shell.run_cell(code, store_history=store_history, silent=silent)\n        res = undefined\n        shell.run_cell = <bound method ZMQInteractiveShell.run_cell of <ipykernel.zmqshell.ZMQInteractiveShell object>>\n        code = '%%time\\npredictions = Parallel(n_jobs=nbr_jobs)(d...ata_test.iloc[i]) for i in range(len(data_test)))'\n        store_history = True\n        silent = False\n    197         finally:\n    198             self._restore_input()\n    199 \n    200         if res.error_before_exec is not None:\n\n...........................................................................\n/home/gael/anaconda3/lib/python3.5/site-packages/ipykernel/zmqshell.py in run_cell(self=<ipykernel.zmqshell.ZMQInteractiveShell object>, *args=('%%time\\npredictions = Parallel(n_jobs=nbr_jobs)(d...ata_test.iloc[i]) for i in range(len(data_test)))',), **kwargs={'silent': False, 'store_history': True})\n    496             )\n    497         self.payload_manager.write_payload(payload)\n    498 \n    499     def run_cell(self, *args, **kwargs):\n    500         self._last_traceback = None\n--> 501         return super(ZMQInteractiveShell, self).run_cell(*args, **kwargs)\n        self.run_cell = <bound method ZMQInteractiveShell.run_cell of <ipykernel.zmqshell.ZMQInteractiveShell object>>\n        args = ('%%time\\npredictions = Parallel(n_jobs=nbr_jobs)(d...ata_test.iloc[i]) for i in range(len(data_test)))',)\n        kwargs = {'silent': False, 'store_history': True}\n    502 \n    503     def _showtraceback(self, etype, evalue, stb):\n    504         # try to preserve ordering of tracebacks and print statements\n    505         sys.stdout.flush()\n\n...........................................................................\n/home/gael/anaconda3/lib/python3.5/site-packages/IPython/core/interactiveshell.py in run_cell(self=<ipykernel.zmqshell.ZMQInteractiveShell object>, raw_cell='%%time\\npredictions = Parallel(n_jobs=nbr_jobs)(d...ata_test.iloc[i]) for i in range(len(data_test)))', store_history=True, silent=False, shell_futures=True)\n   2712                 self.displayhook.exec_result = result\n   2713 \n   2714                 # Execute the user code\n   2715                 interactivity = \"none\" if silent else self.ast_node_interactivity\n   2716                 has_raised = self.run_ast_nodes(code_ast.body, cell_name,\n-> 2717                    interactivity=interactivity, compiler=compiler, result=result)\n        interactivity = 'last_expr'\n        compiler = <IPython.core.compilerop.CachingCompiler object>\n   2718                 \n   2719                 self.last_execution_succeeded = not has_raised\n   2720 \n   2721                 # Reset this so later displayed values do not modify the\n\n...........................................................................\n/home/gael/anaconda3/lib/python3.5/site-packages/IPython/core/interactiveshell.py in run_ast_nodes(self=<ipykernel.zmqshell.ZMQInteractiveShell object>, nodelist=[<_ast.Expr object>], cell_name='<ipython-input-9-a28eff6d94e1>', interactivity='last', compiler=<IPython.core.compilerop.CachingCompiler object>, result=<ExecutionResult object at 7f1bb03c7320, executi..._before_exec=None error_in_exec=None result=None>)\n   2822                     return True\n   2823 \n   2824             for i, node in enumerate(to_run_interactive):\n   2825                 mod = ast.Interactive([node])\n   2826                 code = compiler(mod, cell_name, \"single\")\n-> 2827                 if self.run_code(code, result):\n        self.run_code = <bound method InteractiveShell.run_code of <ipykernel.zmqshell.ZMQInteractiveShell object>>\n        code = <code object <module> at 0x7f1c0519aa50, file \"<ipython-input-9-a28eff6d94e1>\", line 1>\n        result = <ExecutionResult object at 7f1bb03c7320, executi..._before_exec=None error_in_exec=None result=None>\n   2828                     return True\n   2829 \n   2830             # Flush softspace\n   2831             if softspace(sys.stdout, 0):\n\n...........................................................................\n/home/gael/anaconda3/lib/python3.5/site-packages/IPython/core/interactiveshell.py in run_code(self=<ipykernel.zmqshell.ZMQInteractiveShell object>, code_obj=<code object <module> at 0x7f1c0519aa50, file \"<ipython-input-9-a28eff6d94e1>\", line 1>, result=<ExecutionResult object at 7f1bb03c7320, executi..._before_exec=None error_in_exec=None result=None>)\n   2876         outflag = 1  # happens in more places, so it's easier as default\n   2877         try:\n   2878             try:\n   2879                 self.hooks.pre_run_code_hook()\n   2880                 #rprint('Running code', repr(code_obj)) # dbg\n-> 2881                 exec(code_obj, self.user_global_ns, self.user_ns)\n        code_obj = <code object <module> at 0x7f1c0519aa50, file \"<ipython-input-9-a28eff6d94e1>\", line 1>\n        self.user_global_ns = {'I': array([  0,   1,   2,   3,   4,   5,   6,   7,  ...90, 991, 992, 993, 994, 995, 996, 997, 998, 999]), 'In': ['', '# Import the fucking useful libraries =)\\nimport ...more columns\\npd.options.display.max_columns = 100', \"# Define here the data set\\ndataset = '../data/data_train.csv'\", 'data = prepare_data(dataset)', 'best_k = 500', \"# Test data\\ndataset_test = '../data/sampleSubmis...# Prepare the data\\nU, I, R, U_i = variables(data)\", 'data_test.head()', 'def pred(data):\\n    usr = data.loc[\"UserID\"]\\n   ...ie, neigh, sim, R_train, R_G)\\n    \\n    return val', 'nbr_jobs = 8', \"get_ipython().run_cell_magic('time', '', 'predic...a_test.iloc[i]) for i in range(len(data_test)))')\"], 'Out': {6:         Id  Prediction  UserID  MovieID\n0   r37_...        0\n4  r248_c1           3     247        0}, 'Parallel': <class 'joblib.parallel.Parallel'>, 'R': array([[ inf,  inf,  inf, ...,  inf,  inf,  inf]...      [ inf,  inf,  inf, ...,  inf,  inf,   3.]]), 'U': array([   0,    1,    2, ..., 9997, 9998, 9999]), 'U_i': [array([  43,   60,   66,   71,   85,   89,  107,... 9815, 9816, 9846, 9872, 9909, 9931, 9963, 9991]), array([   4,   13,   24,   40,   43,   61,   78,...9853, 9874, 9931, 9935,\n       9938, 9967, 9970]), array([  12,   15,   44,   46,   56,   61,   69,... 9963, 9964, 9969, 9972, 9975, 9977, 9978, 9992]), array([   1,    2,    9, ..., 9992, 9994, 9998]), array([  13,   21,   40, ..., 9975, 9977, 9984]), array([   1,    4,    5, ..., 9989, 9993, 9995]), array([  14,   15,   19, ..., 9967, 9968, 9980]), array([   1,    4,    9, ..., 9997, 9998, 9999]), array([  21,   36,   37,   61,   82,   89,  119,...9960, 9963, 9968,\n       9969, 9978, 9987, 9991]), array([   0,    8,   10, ..., 9983, 9986, 9999]), array([  24,   27,   33, ..., 9968, 9975, 9981]), array([  14,   27,   84,   89,   96,   99,  120,...9876, 9908, 9911, 9913,\n       9919, 9921, 9946]), array([  21,   26,   43,   69,   84,  119,  130,... 9826, 9829, 9856, 9859, 9862, 9911, 9986, 9992]), array([   3,    4,    5, ..., 9995, 9998, 9999]), array([   4,    8,   21, ..., 9981, 9987, 9993]), array([   7,   12,   14,   20,   24,   43,   56,...9947, 9950, 9958, 9969,\n       9971, 9976, 9984]), array([  14,   44,   47, ..., 9995, 9998, 9999]), array([   9,   10,   20,   36,   37,   43,   52,...9938, 9960, 9980, 9987, 9994, 9995,\n       9997]), array([   8,   14,   16,   68,   69,   80,   89,...9876, 9915, 9925,\n       9943, 9981, 9989, 9992]), array([   9,   21,   27, ..., 9964, 9970, 9977]), ...], '_':         Id  Prediction  UserID  MovieID\n0   r37_...        0\n4  r248_c1           3     247        0, '_6':         Id  Prediction  UserID  MovieID\n0   r37_...        0\n4  r248_c1           3     247        0, '__': '', ...}\n        self.user_ns = {'I': array([  0,   1,   2,   3,   4,   5,   6,   7,  ...90, 991, 992, 993, 994, 995, 996, 997, 998, 999]), 'In': ['', '# Import the fucking useful libraries =)\\nimport ...more columns\\npd.options.display.max_columns = 100', \"# Define here the data set\\ndataset = '../data/data_train.csv'\", 'data = prepare_data(dataset)', 'best_k = 500', \"# Test data\\ndataset_test = '../data/sampleSubmis...# Prepare the data\\nU, I, R, U_i = variables(data)\", 'data_test.head()', 'def pred(data):\\n    usr = data.loc[\"UserID\"]\\n   ...ie, neigh, sim, R_train, R_G)\\n    \\n    return val', 'nbr_jobs = 8', \"get_ipython().run_cell_magic('time', '', 'predic...a_test.iloc[i]) for i in range(len(data_test)))')\"], 'Out': {6:         Id  Prediction  UserID  MovieID\n0   r37_...        0\n4  r248_c1           3     247        0}, 'Parallel': <class 'joblib.parallel.Parallel'>, 'R': array([[ inf,  inf,  inf, ...,  inf,  inf,  inf]...      [ inf,  inf,  inf, ...,  inf,  inf,   3.]]), 'U': array([   0,    1,    2, ..., 9997, 9998, 9999]), 'U_i': [array([  43,   60,   66,   71,   85,   89,  107,... 9815, 9816, 9846, 9872, 9909, 9931, 9963, 9991]), array([   4,   13,   24,   40,   43,   61,   78,...9853, 9874, 9931, 9935,\n       9938, 9967, 9970]), array([  12,   15,   44,   46,   56,   61,   69,... 9963, 9964, 9969, 9972, 9975, 9977, 9978, 9992]), array([   1,    2,    9, ..., 9992, 9994, 9998]), array([  13,   21,   40, ..., 9975, 9977, 9984]), array([   1,    4,    5, ..., 9989, 9993, 9995]), array([  14,   15,   19, ..., 9967, 9968, 9980]), array([   1,    4,    9, ..., 9997, 9998, 9999]), array([  21,   36,   37,   61,   82,   89,  119,...9960, 9963, 9968,\n       9969, 9978, 9987, 9991]), array([   0,    8,   10, ..., 9983, 9986, 9999]), array([  24,   27,   33, ..., 9968, 9975, 9981]), array([  14,   27,   84,   89,   96,   99,  120,...9876, 9908, 9911, 9913,\n       9919, 9921, 9946]), array([  21,   26,   43,   69,   84,  119,  130,... 9826, 9829, 9856, 9859, 9862, 9911, 9986, 9992]), array([   3,    4,    5, ..., 9995, 9998, 9999]), array([   4,    8,   21, ..., 9981, 9987, 9993]), array([   7,   12,   14,   20,   24,   43,   56,...9947, 9950, 9958, 9969,\n       9971, 9976, 9984]), array([  14,   44,   47, ..., 9995, 9998, 9999]), array([   9,   10,   20,   36,   37,   43,   52,...9938, 9960, 9980, 9987, 9994, 9995,\n       9997]), array([   8,   14,   16,   68,   69,   80,   89,...9876, 9915, 9925,\n       9943, 9981, 9989, 9992]), array([   9,   21,   27, ..., 9964, 9970, 9977]), ...], '_':         Id  Prediction  UserID  MovieID\n0   r37_...        0\n4  r248_c1           3     247        0, '_6':         Id  Prediction  UserID  MovieID\n0   r37_...        0\n4  r248_c1           3     247        0, '__': '', ...}\n   2882             finally:\n   2883                 # Reset our crash handler in place\n   2884                 sys.excepthook = old_excepthook\n   2885         except SystemExit as e:\n\n...........................................................................\n/home/gael/Documents/EPFL/Master_CSE/MA5/PCML/PCML_Netflix_and_Chill/knn/<ipython-input-9-a28eff6d94e1> in <module>()\n----> 1 \n      2 \n      3 \n      4 \n      5 \n      6 get_ipython().run_cell_magic('time', '', 'predictions = Parallel(n_jobs=nbr_jobs)(delayed(pred)(data_test.iloc[i]) for i in range(len(data_test)))')\n      7 \n      8 \n      9 \n     10 \n\n...........................................................................\n/home/gael/anaconda3/lib/python3.5/site-packages/IPython/core/interactiveshell.py in run_cell_magic(self=<ipykernel.zmqshell.ZMQInteractiveShell object>, magic_name='time', line='', cell='predictions = Parallel(n_jobs=nbr_jobs)(delayed(...ata_test.iloc[i]) for i in range(len(data_test)))')\n   2110             # This will need to be updated if the internal calling logic gets\n   2111             # refactored, or else we'll be expanding the wrong variables.\n   2112             stack_depth = 2\n   2113             magic_arg_s = self.var_expand(line, stack_depth)\n   2114             with self.builtin_trap:\n-> 2115                 result = fn(magic_arg_s, cell)\n        result = undefined\n        fn = <bound method ExecutionMagics.time of <IPython.core.magics.execution.ExecutionMagics object>>\n        magic_arg_s = ''\n        cell = 'predictions = Parallel(n_jobs=nbr_jobs)(delayed(...ata_test.iloc[i]) for i in range(len(data_test)))'\n   2116             return result\n   2117 \n   2118     def find_line_magic(self, magic_name):\n   2119         \"\"\"Find and return a line magic by name.\n\n...........................................................................\n/home/gael/Documents/EPFL/Master_CSE/MA5/PCML/PCML_Netflix_and_Chill/knn/<decorator-gen-59> in time(self=<IPython.core.magics.execution.ExecutionMagics object>, line='', cell='predictions = Parallel(n_jobs=nbr_jobs)(delayed(...ata_test.iloc[i]) for i in range(len(data_test)))', local_ns=None)\n      1 \n----> 2 \n      3 \n      4 \n      5 \n      6 \n      7 \n      8 \n      9 \n     10 \n\n...........................................................................\n/home/gael/anaconda3/lib/python3.5/site-packages/IPython/core/magic.py in <lambda>(f=<function ExecutionMagics.time>, *a=(<IPython.core.magics.execution.ExecutionMagics object>, '', 'predictions = Parallel(n_jobs=nbr_jobs)(delayed(...ata_test.iloc[i]) for i in range(len(data_test)))', None), **k={})\n    183     validate_type(magic_kind)\n    184 \n    185     # This is a closure to capture the magic_kind.  We could also use a class,\n    186     # but it's overkill for just that one bit of state.\n    187     def magic_deco(arg):\n--> 188         call = lambda f, *a, **k: f(*a, **k)\n        f = <function ExecutionMagics.time>\n        a = (<IPython.core.magics.execution.ExecutionMagics object>, '', 'predictions = Parallel(n_jobs=nbr_jobs)(delayed(...ata_test.iloc[i]) for i in range(len(data_test)))', None)\n        k = {}\n    189 \n    190         if callable(arg):\n    191             # \"Naked\" decorator call (just @foo, no args)\n    192             func = arg\n\n...........................................................................\n/home/gael/anaconda3/lib/python3.5/site-packages/IPython/core/magics/execution.py in time(self=<IPython.core.magics.execution.ExecutionMagics object>, line='', cell='predictions = Parallel(n_jobs=nbr_jobs)(delayed(...ata_test.iloc[i]) for i in range(len(data_test)))', local_ns=None)\n   1175             st = clock2()\n   1176             out = eval(code, glob, local_ns)\n   1177             end = clock2()\n   1178         else:\n   1179             st = clock2()\n-> 1180             exec(code, glob, local_ns)\n        code = <code object <module> at 0x7f1bbe69a0c0, file \"<timed exec>\", line 1>\n        glob = {'I': array([  0,   1,   2,   3,   4,   5,   6,   7,  ...90, 991, 992, 993, 994, 995, 996, 997, 998, 999]), 'In': ['', '# Import the fucking useful libraries =)\\nimport ...more columns\\npd.options.display.max_columns = 100', \"# Define here the data set\\ndataset = '../data/data_train.csv'\", 'data = prepare_data(dataset)', 'best_k = 500', \"# Test data\\ndataset_test = '../data/sampleSubmis...# Prepare the data\\nU, I, R, U_i = variables(data)\", 'data_test.head()', 'def pred(data):\\n    usr = data.loc[\"UserID\"]\\n   ...ie, neigh, sim, R_train, R_G)\\n    \\n    return val', 'nbr_jobs = 8', \"get_ipython().run_cell_magic('time', '', 'predic...a_test.iloc[i]) for i in range(len(data_test)))')\"], 'Out': {6:         Id  Prediction  UserID  MovieID\n0   r37_...        0\n4  r248_c1           3     247        0}, 'Parallel': <class 'joblib.parallel.Parallel'>, 'R': array([[ inf,  inf,  inf, ...,  inf,  inf,  inf]...      [ inf,  inf,  inf, ...,  inf,  inf,   3.]]), 'U': array([   0,    1,    2, ..., 9997, 9998, 9999]), 'U_i': [array([  43,   60,   66,   71,   85,   89,  107,... 9815, 9816, 9846, 9872, 9909, 9931, 9963, 9991]), array([   4,   13,   24,   40,   43,   61,   78,...9853, 9874, 9931, 9935,\n       9938, 9967, 9970]), array([  12,   15,   44,   46,   56,   61,   69,... 9963, 9964, 9969, 9972, 9975, 9977, 9978, 9992]), array([   1,    2,    9, ..., 9992, 9994, 9998]), array([  13,   21,   40, ..., 9975, 9977, 9984]), array([   1,    4,    5, ..., 9989, 9993, 9995]), array([  14,   15,   19, ..., 9967, 9968, 9980]), array([   1,    4,    9, ..., 9997, 9998, 9999]), array([  21,   36,   37,   61,   82,   89,  119,...9960, 9963, 9968,\n       9969, 9978, 9987, 9991]), array([   0,    8,   10, ..., 9983, 9986, 9999]), array([  24,   27,   33, ..., 9968, 9975, 9981]), array([  14,   27,   84,   89,   96,   99,  120,...9876, 9908, 9911, 9913,\n       9919, 9921, 9946]), array([  21,   26,   43,   69,   84,  119,  130,... 9826, 9829, 9856, 9859, 9862, 9911, 9986, 9992]), array([   3,    4,    5, ..., 9995, 9998, 9999]), array([   4,    8,   21, ..., 9981, 9987, 9993]), array([   7,   12,   14,   20,   24,   43,   56,...9947, 9950, 9958, 9969,\n       9971, 9976, 9984]), array([  14,   44,   47, ..., 9995, 9998, 9999]), array([   9,   10,   20,   36,   37,   43,   52,...9938, 9960, 9980, 9987, 9994, 9995,\n       9997]), array([   8,   14,   16,   68,   69,   80,   89,...9876, 9915, 9925,\n       9943, 9981, 9989, 9992]), array([   9,   21,   27, ..., 9964, 9970, 9977]), ...], '_':         Id  Prediction  UserID  MovieID\n0   r37_...        0\n4  r248_c1           3     247        0, '_6':         Id  Prediction  UserID  MovieID\n0   r37_...        0\n4  r248_c1           3     247        0, '__': '', ...}\n        local_ns = None\n   1181             end = clock2()\n   1182             out = None\n   1183         wall_end = wtime()\n   1184         # Compute actual times and report\n\n...........................................................................\n/home/gael/Documents/EPFL/Master_CSE/MA5/PCML/PCML_Netflix_and_Chill/knn/<timed exec> in <module>()\n----> 1 \n      2 \n      3 \n      4 \n      5 \n      6 \n      7 \n      8 \n      9 \n     10 \n\n...........................................................................\n/home/gael/anaconda3/lib/python3.5/site-packages/joblib/parallel.py in __call__(self=Parallel(n_jobs=8), iterable=<generator object <genexpr>>)\n    805             if pre_dispatch == \"all\" or n_jobs == 1:\n    806                 # The iterable was consumed all at once by the above for loop.\n    807                 # No need to wait for async callbacks to trigger to\n    808                 # consumption.\n    809                 self._iterating = False\n--> 810             self.retrieve()\n        self.retrieve = <bound method Parallel.retrieve of Parallel(n_jobs=8)>\n    811             # Make sure that we get a last message telling us we are done\n    812             elapsed_time = time.time() - self._start_time\n    813             self._print('Done %3i out of %3i | elapsed: %s finished',\n    814                         (len(self._output), len(self._output),\n\n---------------------------------------------------------------------------\nSub-process traceback:\n---------------------------------------------------------------------------\nNameError                                          Tue Dec  6 14:40:51 2016\nPID: 3130                     Python 3.5.2: /home/gael/anaconda3/bin/python\n...........................................................................\n/home/gael/anaconda3/lib/python3.5/site-packages/joblib/parallel.py in __call__(self=<joblib.parallel.BatchedCalls object>)\n     67     def __init__(self, iterator_slice):\n     68         self.items = list(iterator_slice)\n     69         self._size = len(self.items)\n     70 \n     71     def __call__(self):\n---> 72         return [func(*args, **kwargs) for func, args, kwargs in self.items]\n        self.items = [(<function pred>, (Id            r37_c1\nPrediction         3\nUserID...   36\nMovieID            0\nName: 0, dtype: object,), {})]\n     73 \n     74     def __len__(self):\n     75         return self._size\n     76 \n\n...........................................................................\n/home/gael/anaconda3/lib/python3.5/site-packages/joblib/parallel.py in <listcomp>(.0=<list_iterator object>)\n     67     def __init__(self, iterator_slice):\n     68         self.items = list(iterator_slice)\n     69         self._size = len(self.items)\n     70 \n     71     def __call__(self):\n---> 72         return [func(*args, **kwargs) for func, args, kwargs in self.items]\n        func = <function pred>\n        args = (Id            r37_c1\nPrediction         3\nUserID...   36\nMovieID            0\nName: 0, dtype: object,)\n        kwargs = {}\n     73 \n     74     def __len__(self):\n     75         return self._size\n     76 \n\n...........................................................................\n/home/gael/Documents/EPFL/Master_CSE/MA5/PCML/PCML_Netflix_and_Chill/knn/<ipython-input-7-5c3dd0f110ab> in pred(data=Id            r37_c1\nPrediction         3\nUserID...   36\nMovieID            0\nName: 0, dtype: object)\n      1 \n      2 def pred(data):\n      3     usr = data.loc[\"UserID\"]\n      4     movie = data.loc[\"MovieID\"]  \n----> 5     \n      6     neigh = np.array(NN[movie][:best_k])\n      7     sim = np.array(similarity[movie][:best_k])\n      8     \n      9     # Prepare Ratings of G\n     10     R_G = R_train[usr, neigh]\n     11     G = R_G!=np.inf\n\nNameError: name 'NN' is not defined\n___________________________________________________________________________",
     "output_type": "error",
     "traceback": [
      "\u001b[0;31m---------------------------------------------------------------------------\u001b[0m",
      "\u001b[0;31mRemoteTraceback\u001b[0m                           Traceback (most recent call last)",
      "\u001b[0;31mRemoteTraceback\u001b[0m: \n\"\"\"\nTraceback (most recent call last):\n  File \"/home/gael/anaconda3/lib/python3.5/site-packages/joblib/parallel.py\", line 130, in __call__\n    return self.func(*args, **kwargs)\n  File \"/home/gael/anaconda3/lib/python3.5/site-packages/joblib/parallel.py\", line 72, in __call__\n    return [func(*args, **kwargs) for func, args, kwargs in self.items]\n  File \"/home/gael/anaconda3/lib/python3.5/site-packages/joblib/parallel.py\", line 72, in <listcomp>\n    return [func(*args, **kwargs) for func, args, kwargs in self.items]\n  File \"<ipython-input-7-5c3dd0f110ab>\", line 5, in pred\n    neigh = np.array(NN[movie][:best_k])\nNameError: name 'NN' is not defined\n\nDuring handling of the above exception, another exception occurred:\n\nTraceback (most recent call last):\n  File \"/home/gael/anaconda3/lib/python3.5/multiprocessing/pool.py\", line 119, in worker\n    result = (True, func(*args, **kwds))\n  File \"/home/gael/anaconda3/lib/python3.5/site-packages/joblib/parallel.py\", line 140, in __call__\n    raise TransportableException(text, e_type)\njoblib.my_exceptions.TransportableException: TransportableException\n___________________________________________________________________________\nNameError                                          Tue Dec  6 14:40:51 2016\nPID: 3130                     Python 3.5.2: /home/gael/anaconda3/bin/python\n...........................................................................\n/home/gael/anaconda3/lib/python3.5/site-packages/joblib/parallel.py in __call__(self=<joblib.parallel.BatchedCalls object>)\n     67     def __init__(self, iterator_slice):\n     68         self.items = list(iterator_slice)\n     69         self._size = len(self.items)\n     70 \n     71     def __call__(self):\n---> 72         return [func(*args, **kwargs) for func, args, kwargs in self.items]\n        self.items = [(<function pred>, (Id            r37_c1\nPrediction         3\nUserID...   36\nMovieID            0\nName: 0, dtype: object,), {})]\n     73 \n     74     def __len__(self):\n     75         return self._size\n     76 \n\n...........................................................................\n/home/gael/anaconda3/lib/python3.5/site-packages/joblib/parallel.py in <listcomp>(.0=<list_iterator object>)\n     67     def __init__(self, iterator_slice):\n     68         self.items = list(iterator_slice)\n     69         self._size = len(self.items)\n     70 \n     71     def __call__(self):\n---> 72         return [func(*args, **kwargs) for func, args, kwargs in self.items]\n        func = <function pred>\n        args = (Id            r37_c1\nPrediction         3\nUserID...   36\nMovieID            0\nName: 0, dtype: object,)\n        kwargs = {}\n     73 \n     74     def __len__(self):\n     75         return self._size\n     76 \n\n...........................................................................\n/home/gael/Documents/EPFL/Master_CSE/MA5/PCML/PCML_Netflix_and_Chill/knn/<ipython-input-7-5c3dd0f110ab> in pred(data=Id            r37_c1\nPrediction         3\nUserID...   36\nMovieID            0\nName: 0, dtype: object)\n      1 \n      2 def pred(data):\n      3     usr = data.loc[\"UserID\"]\n      4     movie = data.loc[\"MovieID\"]  \n----> 5     \n      6     neigh = np.array(NN[movie][:best_k])\n      7     sim = np.array(similarity[movie][:best_k])\n      8     \n      9     # Prepare Ratings of G\n     10     R_G = R_train[usr, neigh]\n     11     G = R_G!=np.inf\n\nNameError: name 'NN' is not defined\n___________________________________________________________________________\n\"\"\"",
      "\nThe above exception was the direct cause of the following exception:\n",
      "\u001b[0;31mTransportableException\u001b[0m                    Traceback (most recent call last)",
      "\u001b[0;32m/home/gael/anaconda3/lib/python3.5/site-packages/joblib/parallel.py\u001b[0m in \u001b[0;36mretrieve\u001b[0;34m(self)\u001b[0m\n\u001b[1;32m    726\u001b[0m             \u001b[0;32mtry\u001b[0m\u001b[0;34m:\u001b[0m\u001b[0;34m\u001b[0m\u001b[0m\n\u001b[0;32m--> 727\u001b[0;31m                 \u001b[0mself\u001b[0m\u001b[0;34m.\u001b[0m\u001b[0m_output\u001b[0m\u001b[0;34m.\u001b[0m\u001b[0mextend\u001b[0m\u001b[0;34m(\u001b[0m\u001b[0mjob\u001b[0m\u001b[0;34m.\u001b[0m\u001b[0mget\u001b[0m\u001b[0;34m(\u001b[0m\u001b[0;34m)\u001b[0m\u001b[0;34m)\u001b[0m\u001b[0;34m\u001b[0m\u001b[0m\n\u001b[0m\u001b[1;32m    728\u001b[0m             \u001b[0;32mexcept\u001b[0m \u001b[0mtuple\u001b[0m\u001b[0;34m(\u001b[0m\u001b[0mself\u001b[0m\u001b[0;34m.\u001b[0m\u001b[0mexceptions\u001b[0m\u001b[0;34m)\u001b[0m \u001b[0;32mas\u001b[0m \u001b[0mexception\u001b[0m\u001b[0;34m:\u001b[0m\u001b[0;34m\u001b[0m\u001b[0m\n",
      "\u001b[0;32m/home/gael/anaconda3/lib/python3.5/multiprocessing/pool.py\u001b[0m in \u001b[0;36mget\u001b[0;34m(self, timeout)\u001b[0m\n\u001b[1;32m    607\u001b[0m         \u001b[0;32melse\u001b[0m\u001b[0;34m:\u001b[0m\u001b[0;34m\u001b[0m\u001b[0m\n\u001b[0;32m--> 608\u001b[0;31m             \u001b[0;32mraise\u001b[0m \u001b[0mself\u001b[0m\u001b[0;34m.\u001b[0m\u001b[0m_value\u001b[0m\u001b[0;34m\u001b[0m\u001b[0m\n\u001b[0m\u001b[1;32m    609\u001b[0m \u001b[0;34m\u001b[0m\u001b[0m\n",
      "\u001b[0;31mTransportableException\u001b[0m: TransportableException\n___________________________________________________________________________\nNameError                                          Tue Dec  6 14:40:51 2016\nPID: 3130                     Python 3.5.2: /home/gael/anaconda3/bin/python\n...........................................................................\n/home/gael/anaconda3/lib/python3.5/site-packages/joblib/parallel.py in __call__(self=<joblib.parallel.BatchedCalls object>)\n     67     def __init__(self, iterator_slice):\n     68         self.items = list(iterator_slice)\n     69         self._size = len(self.items)\n     70 \n     71     def __call__(self):\n---> 72         return [func(*args, **kwargs) for func, args, kwargs in self.items]\n        self.items = [(<function pred>, (Id            r37_c1\nPrediction         3\nUserID...   36\nMovieID            0\nName: 0, dtype: object,), {})]\n     73 \n     74     def __len__(self):\n     75         return self._size\n     76 \n\n...........................................................................\n/home/gael/anaconda3/lib/python3.5/site-packages/joblib/parallel.py in <listcomp>(.0=<list_iterator object>)\n     67     def __init__(self, iterator_slice):\n     68         self.items = list(iterator_slice)\n     69         self._size = len(self.items)\n     70 \n     71     def __call__(self):\n---> 72         return [func(*args, **kwargs) for func, args, kwargs in self.items]\n        func = <function pred>\n        args = (Id            r37_c1\nPrediction         3\nUserID...   36\nMovieID            0\nName: 0, dtype: object,)\n        kwargs = {}\n     73 \n     74     def __len__(self):\n     75         return self._size\n     76 \n\n...........................................................................\n/home/gael/Documents/EPFL/Master_CSE/MA5/PCML/PCML_Netflix_and_Chill/knn/<ipython-input-7-5c3dd0f110ab> in pred(data=Id            r37_c1\nPrediction         3\nUserID...   36\nMovieID            0\nName: 0, dtype: object)\n      1 \n      2 def pred(data):\n      3     usr = data.loc[\"UserID\"]\n      4     movie = data.loc[\"MovieID\"]  \n----> 5     \n      6     neigh = np.array(NN[movie][:best_k])\n      7     sim = np.array(similarity[movie][:best_k])\n      8     \n      9     # Prepare Ratings of G\n     10     R_G = R_train[usr, neigh]\n     11     G = R_G!=np.inf\n\nNameError: name 'NN' is not defined\n___________________________________________________________________________",
      "\nDuring handling of the above exception, another exception occurred:\n",
      "\u001b[0;31mJoblibNameError\u001b[0m                           Traceback (most recent call last)",
      "\u001b[0;32m<ipython-input-9-a28eff6d94e1>\u001b[0m in \u001b[0;36m<module>\u001b[0;34m()\u001b[0m\n\u001b[0;32m----> 1\u001b[0;31m \u001b[0mget_ipython\u001b[0m\u001b[0;34m(\u001b[0m\u001b[0;34m)\u001b[0m\u001b[0;34m.\u001b[0m\u001b[0mrun_cell_magic\u001b[0m\u001b[0;34m(\u001b[0m\u001b[0;34m'time'\u001b[0m\u001b[0;34m,\u001b[0m \u001b[0;34m''\u001b[0m\u001b[0;34m,\u001b[0m \u001b[0;34m'predictions = Parallel(n_jobs=nbr_jobs)(delayed(pred)(data_test.iloc[i]) for i in range(len(data_test)))'\u001b[0m\u001b[0;34m)\u001b[0m\u001b[0;34m\u001b[0m\u001b[0m\n\u001b[0m",
      "\u001b[0;32m/home/gael/anaconda3/lib/python3.5/site-packages/IPython/core/interactiveshell.py\u001b[0m in \u001b[0;36mrun_cell_magic\u001b[0;34m(self, magic_name, line, cell)\u001b[0m\n\u001b[1;32m   2113\u001b[0m             \u001b[0mmagic_arg_s\u001b[0m \u001b[0;34m=\u001b[0m \u001b[0mself\u001b[0m\u001b[0;34m.\u001b[0m\u001b[0mvar_expand\u001b[0m\u001b[0;34m(\u001b[0m\u001b[0mline\u001b[0m\u001b[0;34m,\u001b[0m \u001b[0mstack_depth\u001b[0m\u001b[0;34m)\u001b[0m\u001b[0;34m\u001b[0m\u001b[0m\n\u001b[1;32m   2114\u001b[0m             \u001b[0;32mwith\u001b[0m \u001b[0mself\u001b[0m\u001b[0;34m.\u001b[0m\u001b[0mbuiltin_trap\u001b[0m\u001b[0;34m:\u001b[0m\u001b[0;34m\u001b[0m\u001b[0m\n\u001b[0;32m-> 2115\u001b[0;31m                 \u001b[0mresult\u001b[0m \u001b[0;34m=\u001b[0m \u001b[0mfn\u001b[0m\u001b[0;34m(\u001b[0m\u001b[0mmagic_arg_s\u001b[0m\u001b[0;34m,\u001b[0m \u001b[0mcell\u001b[0m\u001b[0;34m)\u001b[0m\u001b[0;34m\u001b[0m\u001b[0m\n\u001b[0m\u001b[1;32m   2116\u001b[0m             \u001b[0;32mreturn\u001b[0m \u001b[0mresult\u001b[0m\u001b[0;34m\u001b[0m\u001b[0m\n\u001b[1;32m   2117\u001b[0m \u001b[0;34m\u001b[0m\u001b[0m\n",
      "\u001b[0;32m<decorator-gen-59>\u001b[0m in \u001b[0;36mtime\u001b[0;34m(self, line, cell, local_ns)\u001b[0m\n",
      "\u001b[0;32m/home/gael/anaconda3/lib/python3.5/site-packages/IPython/core/magic.py\u001b[0m in \u001b[0;36m<lambda>\u001b[0;34m(f, *a, **k)\u001b[0m\n\u001b[1;32m    186\u001b[0m     \u001b[0;31m# but it's overkill for just that one bit of state.\u001b[0m\u001b[0;34m\u001b[0m\u001b[0;34m\u001b[0m\u001b[0m\n\u001b[1;32m    187\u001b[0m     \u001b[0;32mdef\u001b[0m \u001b[0mmagic_deco\u001b[0m\u001b[0;34m(\u001b[0m\u001b[0marg\u001b[0m\u001b[0;34m)\u001b[0m\u001b[0;34m:\u001b[0m\u001b[0;34m\u001b[0m\u001b[0m\n\u001b[0;32m--> 188\u001b[0;31m         \u001b[0mcall\u001b[0m \u001b[0;34m=\u001b[0m \u001b[0;32mlambda\u001b[0m \u001b[0mf\u001b[0m\u001b[0;34m,\u001b[0m \u001b[0;34m*\u001b[0m\u001b[0ma\u001b[0m\u001b[0;34m,\u001b[0m \u001b[0;34m**\u001b[0m\u001b[0mk\u001b[0m\u001b[0;34m:\u001b[0m \u001b[0mf\u001b[0m\u001b[0;34m(\u001b[0m\u001b[0;34m*\u001b[0m\u001b[0ma\u001b[0m\u001b[0;34m,\u001b[0m \u001b[0;34m**\u001b[0m\u001b[0mk\u001b[0m\u001b[0;34m)\u001b[0m\u001b[0;34m\u001b[0m\u001b[0m\n\u001b[0m\u001b[1;32m    189\u001b[0m \u001b[0;34m\u001b[0m\u001b[0m\n\u001b[1;32m    190\u001b[0m         \u001b[0;32mif\u001b[0m \u001b[0mcallable\u001b[0m\u001b[0;34m(\u001b[0m\u001b[0marg\u001b[0m\u001b[0;34m)\u001b[0m\u001b[0;34m:\u001b[0m\u001b[0;34m\u001b[0m\u001b[0m\n",
      "\u001b[0;32m/home/gael/anaconda3/lib/python3.5/site-packages/IPython/core/magics/execution.py\u001b[0m in \u001b[0;36mtime\u001b[0;34m(self, line, cell, local_ns)\u001b[0m\n\u001b[1;32m   1178\u001b[0m         \u001b[0;32melse\u001b[0m\u001b[0;34m:\u001b[0m\u001b[0;34m\u001b[0m\u001b[0m\n\u001b[1;32m   1179\u001b[0m             \u001b[0mst\u001b[0m \u001b[0;34m=\u001b[0m \u001b[0mclock2\u001b[0m\u001b[0;34m(\u001b[0m\u001b[0;34m)\u001b[0m\u001b[0;34m\u001b[0m\u001b[0m\n\u001b[0;32m-> 1180\u001b[0;31m             \u001b[0mexec\u001b[0m\u001b[0;34m(\u001b[0m\u001b[0mcode\u001b[0m\u001b[0;34m,\u001b[0m \u001b[0mglob\u001b[0m\u001b[0;34m,\u001b[0m \u001b[0mlocal_ns\u001b[0m\u001b[0;34m)\u001b[0m\u001b[0;34m\u001b[0m\u001b[0m\n\u001b[0m\u001b[1;32m   1181\u001b[0m             \u001b[0mend\u001b[0m \u001b[0;34m=\u001b[0m \u001b[0mclock2\u001b[0m\u001b[0;34m(\u001b[0m\u001b[0;34m)\u001b[0m\u001b[0;34m\u001b[0m\u001b[0m\n\u001b[1;32m   1182\u001b[0m             \u001b[0mout\u001b[0m \u001b[0;34m=\u001b[0m \u001b[0;32mNone\u001b[0m\u001b[0;34m\u001b[0m\u001b[0m\n",
      "\u001b[0;32m<timed exec>\u001b[0m in \u001b[0;36m<module>\u001b[0;34m()\u001b[0m\n",
      "\u001b[0;32m/home/gael/anaconda3/lib/python3.5/site-packages/joblib/parallel.py\u001b[0m in \u001b[0;36m__call__\u001b[0;34m(self, iterable)\u001b[0m\n\u001b[1;32m    808\u001b[0m                 \u001b[0;31m# consumption.\u001b[0m\u001b[0;34m\u001b[0m\u001b[0;34m\u001b[0m\u001b[0m\n\u001b[1;32m    809\u001b[0m                 \u001b[0mself\u001b[0m\u001b[0;34m.\u001b[0m\u001b[0m_iterating\u001b[0m \u001b[0;34m=\u001b[0m \u001b[0;32mFalse\u001b[0m\u001b[0;34m\u001b[0m\u001b[0m\n\u001b[0;32m--> 810\u001b[0;31m             \u001b[0mself\u001b[0m\u001b[0;34m.\u001b[0m\u001b[0mretrieve\u001b[0m\u001b[0;34m(\u001b[0m\u001b[0;34m)\u001b[0m\u001b[0;34m\u001b[0m\u001b[0m\n\u001b[0m\u001b[1;32m    811\u001b[0m             \u001b[0;31m# Make sure that we get a last message telling us we are done\u001b[0m\u001b[0;34m\u001b[0m\u001b[0;34m\u001b[0m\u001b[0m\n\u001b[1;32m    812\u001b[0m             \u001b[0melapsed_time\u001b[0m \u001b[0;34m=\u001b[0m \u001b[0mtime\u001b[0m\u001b[0;34m.\u001b[0m\u001b[0mtime\u001b[0m\u001b[0;34m(\u001b[0m\u001b[0;34m)\u001b[0m \u001b[0;34m-\u001b[0m \u001b[0mself\u001b[0m\u001b[0;34m.\u001b[0m\u001b[0m_start_time\u001b[0m\u001b[0;34m\u001b[0m\u001b[0m\n",
      "\u001b[0;32m/home/gael/anaconda3/lib/python3.5/site-packages/joblib/parallel.py\u001b[0m in \u001b[0;36mretrieve\u001b[0;34m(self)\u001b[0m\n\u001b[1;32m    755\u001b[0m                     \u001b[0;31m# a working pool as they expect.\u001b[0m\u001b[0;34m\u001b[0m\u001b[0;34m\u001b[0m\u001b[0m\n\u001b[1;32m    756\u001b[0m                     \u001b[0mself\u001b[0m\u001b[0;34m.\u001b[0m\u001b[0m_initialize_pool\u001b[0m\u001b[0;34m(\u001b[0m\u001b[0;34m)\u001b[0m\u001b[0;34m\u001b[0m\u001b[0m\n\u001b[0;32m--> 757\u001b[0;31m                 \u001b[0;32mraise\u001b[0m \u001b[0mexception\u001b[0m\u001b[0;34m\u001b[0m\u001b[0m\n\u001b[0m\u001b[1;32m    758\u001b[0m \u001b[0;34m\u001b[0m\u001b[0m\n\u001b[1;32m    759\u001b[0m     \u001b[0;32mdef\u001b[0m \u001b[0m__call__\u001b[0m\u001b[0;34m(\u001b[0m\u001b[0mself\u001b[0m\u001b[0;34m,\u001b[0m \u001b[0miterable\u001b[0m\u001b[0;34m)\u001b[0m\u001b[0;34m:\u001b[0m\u001b[0;34m\u001b[0m\u001b[0m\n",
      "\u001b[0;31mJoblibNameError\u001b[0m: JoblibNameError\n___________________________________________________________________________\nMultiprocessing exception:\n...........................................................................\n/home/gael/anaconda3/lib/python3.5/runpy.py in _run_module_as_main(mod_name='ipykernel.__main__', alter_argv=1)\n    179         sys.exit(msg)\n    180     main_globals = sys.modules[\"__main__\"].__dict__\n    181     if alter_argv:\n    182         sys.argv[0] = mod_spec.origin\n    183     return _run_code(code, main_globals, None,\n--> 184                      \"__main__\", mod_spec)\n        mod_spec = ModuleSpec(name='ipykernel.__main__', loader=<_f...b/python3.5/site-packages/ipykernel/__main__.py')\n    185 \n    186 def run_module(mod_name, init_globals=None,\n    187                run_name=None, alter_sys=False):\n    188     \"\"\"Execute a module's code without importing it\n\n...........................................................................\n/home/gael/anaconda3/lib/python3.5/runpy.py in _run_code(code=<code object <module> at 0x7f1c0d0f4030, file \"/...3.5/site-packages/ipykernel/__main__.py\", line 1>, run_globals={'__builtins__': <module 'builtins' (built-in)>, '__cached__': '/home/gael/anaconda3/lib/python3.5/site-packages/ipykernel/__pycache__/__main__.cpython-35.pyc', '__doc__': None, '__file__': '/home/gael/anaconda3/lib/python3.5/site-packages/ipykernel/__main__.py', '__loader__': <_frozen_importlib_external.SourceFileLoader object>, '__name__': '__main__', '__package__': 'ipykernel', '__spec__': ModuleSpec(name='ipykernel.__main__', loader=<_f...b/python3.5/site-packages/ipykernel/__main__.py'), 'app': <module 'ipykernel.kernelapp' from '/home/gael/a.../python3.5/site-packages/ipykernel/kernelapp.py'>}, init_globals=None, mod_name='__main__', mod_spec=ModuleSpec(name='ipykernel.__main__', loader=<_f...b/python3.5/site-packages/ipykernel/__main__.py'), pkg_name='ipykernel', script_name=None)\n     80                        __cached__ = cached,\n     81                        __doc__ = None,\n     82                        __loader__ = loader,\n     83                        __package__ = pkg_name,\n     84                        __spec__ = mod_spec)\n---> 85     exec(code, run_globals)\n        code = <code object <module> at 0x7f1c0d0f4030, file \"/...3.5/site-packages/ipykernel/__main__.py\", line 1>\n        run_globals = {'__builtins__': <module 'builtins' (built-in)>, '__cached__': '/home/gael/anaconda3/lib/python3.5/site-packages/ipykernel/__pycache__/__main__.cpython-35.pyc', '__doc__': None, '__file__': '/home/gael/anaconda3/lib/python3.5/site-packages/ipykernel/__main__.py', '__loader__': <_frozen_importlib_external.SourceFileLoader object>, '__name__': '__main__', '__package__': 'ipykernel', '__spec__': ModuleSpec(name='ipykernel.__main__', loader=<_f...b/python3.5/site-packages/ipykernel/__main__.py'), 'app': <module 'ipykernel.kernelapp' from '/home/gael/a.../python3.5/site-packages/ipykernel/kernelapp.py'>}\n     86     return run_globals\n     87 \n     88 def _run_module_code(code, init_globals=None,\n     89                     mod_name=None, mod_spec=None,\n\n...........................................................................\n/home/gael/anaconda3/lib/python3.5/site-packages/ipykernel/__main__.py in <module>()\n      1 \n      2 \n----> 3 \n      4 if __name__ == '__main__':\n      5     from ipykernel import kernelapp as app\n      6     app.launch_new_instance()\n      7 \n      8 \n      9 \n     10 \n\n...........................................................................\n/home/gael/anaconda3/lib/python3.5/site-packages/traitlets/config/application.py in launch_instance(cls=<class 'ipykernel.kernelapp.IPKernelApp'>, argv=None, **kwargs={})\n    648 \n    649         If a global instance already exists, this reinitializes and starts it\n    650         \"\"\"\n    651         app = cls.instance(**kwargs)\n    652         app.initialize(argv)\n--> 653         app.start()\n        app.start = <bound method IPKernelApp.start of <ipykernel.kernelapp.IPKernelApp object>>\n    654 \n    655 #-----------------------------------------------------------------------------\n    656 # utility functions, for convenience\n    657 #-----------------------------------------------------------------------------\n\n...........................................................................\n/home/gael/anaconda3/lib/python3.5/site-packages/ipykernel/kernelapp.py in start(self=<ipykernel.kernelapp.IPKernelApp object>)\n    469             return self.subapp.start()\n    470         if self.poller is not None:\n    471             self.poller.start()\n    472         self.kernel.start()\n    473         try:\n--> 474             ioloop.IOLoop.instance().start()\n    475         except KeyboardInterrupt:\n    476             pass\n    477 \n    478 launch_new_instance = IPKernelApp.launch_instance\n\n...........................................................................\n/home/gael/anaconda3/lib/python3.5/site-packages/zmq/eventloop/ioloop.py in start(self=<zmq.eventloop.ioloop.ZMQIOLoop object>)\n    157             PollIOLoop.configure(ZMQIOLoop)\n    158         return PollIOLoop.current(*args, **kwargs)\n    159     \n    160     def start(self):\n    161         try:\n--> 162             super(ZMQIOLoop, self).start()\n        self.start = <bound method ZMQIOLoop.start of <zmq.eventloop.ioloop.ZMQIOLoop object>>\n    163         except ZMQError as e:\n    164             if e.errno == ETERM:\n    165                 # quietly return on ETERM\n    166                 pass\n\n...........................................................................\n/home/gael/anaconda3/lib/python3.5/site-packages/tornado/ioloop.py in start(self=<zmq.eventloop.ioloop.ZMQIOLoop object>)\n    882                 self._events.update(event_pairs)\n    883                 while self._events:\n    884                     fd, events = self._events.popitem()\n    885                     try:\n    886                         fd_obj, handler_func = self._handlers[fd]\n--> 887                         handler_func(fd_obj, events)\n        handler_func = <function wrap.<locals>.null_wrapper>\n        fd_obj = <zmq.sugar.socket.Socket object>\n        events = 1\n    888                     except (OSError, IOError) as e:\n    889                         if errno_from_exception(e) == errno.EPIPE:\n    890                             # Happens when the client closes the connection\n    891                             pass\n\n...........................................................................\n/home/gael/anaconda3/lib/python3.5/site-packages/tornado/stack_context.py in null_wrapper(*args=(<zmq.sugar.socket.Socket object>, 1), **kwargs={})\n    270         # Fast path when there are no active contexts.\n    271         def null_wrapper(*args, **kwargs):\n    272             try:\n    273                 current_state = _state.contexts\n    274                 _state.contexts = cap_contexts[0]\n--> 275                 return fn(*args, **kwargs)\n        args = (<zmq.sugar.socket.Socket object>, 1)\n        kwargs = {}\n    276             finally:\n    277                 _state.contexts = current_state\n    278         null_wrapper._wrapped = True\n    279         return null_wrapper\n\n...........................................................................\n/home/gael/anaconda3/lib/python3.5/site-packages/zmq/eventloop/zmqstream.py in _handle_events(self=<zmq.eventloop.zmqstream.ZMQStream object>, fd=<zmq.sugar.socket.Socket object>, events=1)\n    435             # dispatch events:\n    436             if events & IOLoop.ERROR:\n    437                 gen_log.error(\"got POLLERR event on ZMQStream, which doesn't make sense\")\n    438                 return\n    439             if events & IOLoop.READ:\n--> 440                 self._handle_recv()\n        self._handle_recv = <bound method ZMQStream._handle_recv of <zmq.eventloop.zmqstream.ZMQStream object>>\n    441                 if not self.socket:\n    442                     return\n    443             if events & IOLoop.WRITE:\n    444                 self._handle_send()\n\n...........................................................................\n/home/gael/anaconda3/lib/python3.5/site-packages/zmq/eventloop/zmqstream.py in _handle_recv(self=<zmq.eventloop.zmqstream.ZMQStream object>)\n    467                 gen_log.error(\"RECV Error: %s\"%zmq.strerror(e.errno))\n    468         else:\n    469             if self._recv_callback:\n    470                 callback = self._recv_callback\n    471                 # self._recv_callback = None\n--> 472                 self._run_callback(callback, msg)\n        self._run_callback = <bound method ZMQStream._run_callback of <zmq.eventloop.zmqstream.ZMQStream object>>\n        callback = <function wrap.<locals>.null_wrapper>\n        msg = [<zmq.sugar.frame.Frame object>, <zmq.sugar.frame.Frame object>, <zmq.sugar.frame.Frame object>, <zmq.sugar.frame.Frame object>, <zmq.sugar.frame.Frame object>, <zmq.sugar.frame.Frame object>, <zmq.sugar.frame.Frame object>]\n    473                 \n    474         # self.update_state()\n    475         \n    476 \n\n...........................................................................\n/home/gael/anaconda3/lib/python3.5/site-packages/zmq/eventloop/zmqstream.py in _run_callback(self=<zmq.eventloop.zmqstream.ZMQStream object>, callback=<function wrap.<locals>.null_wrapper>, *args=([<zmq.sugar.frame.Frame object>, <zmq.sugar.frame.Frame object>, <zmq.sugar.frame.Frame object>, <zmq.sugar.frame.Frame object>, <zmq.sugar.frame.Frame object>, <zmq.sugar.frame.Frame object>, <zmq.sugar.frame.Frame object>],), **kwargs={})\n    409         close our socket.\"\"\"\n    410         try:\n    411             # Use a NullContext to ensure that all StackContexts are run\n    412             # inside our blanket exception handler rather than outside.\n    413             with stack_context.NullContext():\n--> 414                 callback(*args, **kwargs)\n        callback = <function wrap.<locals>.null_wrapper>\n        args = ([<zmq.sugar.frame.Frame object>, <zmq.sugar.frame.Frame object>, <zmq.sugar.frame.Frame object>, <zmq.sugar.frame.Frame object>, <zmq.sugar.frame.Frame object>, <zmq.sugar.frame.Frame object>, <zmq.sugar.frame.Frame object>],)\n        kwargs = {}\n    415         except:\n    416             gen_log.error(\"Uncaught exception, closing connection.\",\n    417                           exc_info=True)\n    418             # Close the socket on an uncaught exception from a user callback\n\n...........................................................................\n/home/gael/anaconda3/lib/python3.5/site-packages/tornado/stack_context.py in null_wrapper(*args=([<zmq.sugar.frame.Frame object>, <zmq.sugar.frame.Frame object>, <zmq.sugar.frame.Frame object>, <zmq.sugar.frame.Frame object>, <zmq.sugar.frame.Frame object>, <zmq.sugar.frame.Frame object>, <zmq.sugar.frame.Frame object>],), **kwargs={})\n    270         # Fast path when there are no active contexts.\n    271         def null_wrapper(*args, **kwargs):\n    272             try:\n    273                 current_state = _state.contexts\n    274                 _state.contexts = cap_contexts[0]\n--> 275                 return fn(*args, **kwargs)\n        args = ([<zmq.sugar.frame.Frame object>, <zmq.sugar.frame.Frame object>, <zmq.sugar.frame.Frame object>, <zmq.sugar.frame.Frame object>, <zmq.sugar.frame.Frame object>, <zmq.sugar.frame.Frame object>, <zmq.sugar.frame.Frame object>],)\n        kwargs = {}\n    276             finally:\n    277                 _state.contexts = current_state\n    278         null_wrapper._wrapped = True\n    279         return null_wrapper\n\n...........................................................................\n/home/gael/anaconda3/lib/python3.5/site-packages/ipykernel/kernelbase.py in dispatcher(msg=[<zmq.sugar.frame.Frame object>, <zmq.sugar.frame.Frame object>, <zmq.sugar.frame.Frame object>, <zmq.sugar.frame.Frame object>, <zmq.sugar.frame.Frame object>, <zmq.sugar.frame.Frame object>, <zmq.sugar.frame.Frame object>])\n    271         if self.control_stream:\n    272             self.control_stream.on_recv(self.dispatch_control, copy=False)\n    273 \n    274         def make_dispatcher(stream):\n    275             def dispatcher(msg):\n--> 276                 return self.dispatch_shell(stream, msg)\n        msg = [<zmq.sugar.frame.Frame object>, <zmq.sugar.frame.Frame object>, <zmq.sugar.frame.Frame object>, <zmq.sugar.frame.Frame object>, <zmq.sugar.frame.Frame object>, <zmq.sugar.frame.Frame object>, <zmq.sugar.frame.Frame object>]\n    277             return dispatcher\n    278 \n    279         for s in self.shell_streams:\n    280             s.on_recv(make_dispatcher(s), copy=False)\n\n...........................................................................\n/home/gael/anaconda3/lib/python3.5/site-packages/ipykernel/kernelbase.py in dispatch_shell(self=<ipykernel.ipkernel.IPythonKernel object>, stream=<zmq.eventloop.zmqstream.ZMQStream object>, msg={'buffers': [], 'content': {'allow_stdin': True, 'code': '%%time\\npredictions = Parallel(n_jobs=nbr_jobs)(d...ata_test.iloc[i]) for i in range(len(data_test)))', 'silent': False, 'stop_on_error': True, 'store_history': True, 'user_expressions': {}}, 'header': {'date': '2016-12-06T14:40:51.713420', 'msg_id': '3E347402CC274276B9771D93B283666D', 'msg_type': 'execute_request', 'session': 'FB8C7CC8229E47D88DFF6E6F2735D77A', 'username': 'username', 'version': '5.0'}, 'metadata': {}, 'msg_id': '3E347402CC274276B9771D93B283666D', 'msg_type': 'execute_request', 'parent_header': {}})\n    223             self.log.error(\"UNKNOWN MESSAGE TYPE: %r\", msg_type)\n    224         else:\n    225             self.log.debug(\"%s: %s\", msg_type, msg)\n    226             self.pre_handler_hook()\n    227             try:\n--> 228                 handler(stream, idents, msg)\n        handler = <bound method Kernel.execute_request of <ipykernel.ipkernel.IPythonKernel object>>\n        stream = <zmq.eventloop.zmqstream.ZMQStream object>\n        idents = [b'FB8C7CC8229E47D88DFF6E6F2735D77A']\n        msg = {'buffers': [], 'content': {'allow_stdin': True, 'code': '%%time\\npredictions = Parallel(n_jobs=nbr_jobs)(d...ata_test.iloc[i]) for i in range(len(data_test)))', 'silent': False, 'stop_on_error': True, 'store_history': True, 'user_expressions': {}}, 'header': {'date': '2016-12-06T14:40:51.713420', 'msg_id': '3E347402CC274276B9771D93B283666D', 'msg_type': 'execute_request', 'session': 'FB8C7CC8229E47D88DFF6E6F2735D77A', 'username': 'username', 'version': '5.0'}, 'metadata': {}, 'msg_id': '3E347402CC274276B9771D93B283666D', 'msg_type': 'execute_request', 'parent_header': {}}\n    229             except Exception:\n    230                 self.log.error(\"Exception in message handler:\", exc_info=True)\n    231             finally:\n    232                 self.post_handler_hook()\n\n...........................................................................\n/home/gael/anaconda3/lib/python3.5/site-packages/ipykernel/kernelbase.py in execute_request(self=<ipykernel.ipkernel.IPythonKernel object>, stream=<zmq.eventloop.zmqstream.ZMQStream object>, ident=[b'FB8C7CC8229E47D88DFF6E6F2735D77A'], parent={'buffers': [], 'content': {'allow_stdin': True, 'code': '%%time\\npredictions = Parallel(n_jobs=nbr_jobs)(d...ata_test.iloc[i]) for i in range(len(data_test)))', 'silent': False, 'stop_on_error': True, 'store_history': True, 'user_expressions': {}}, 'header': {'date': '2016-12-06T14:40:51.713420', 'msg_id': '3E347402CC274276B9771D93B283666D', 'msg_type': 'execute_request', 'session': 'FB8C7CC8229E47D88DFF6E6F2735D77A', 'username': 'username', 'version': '5.0'}, 'metadata': {}, 'msg_id': '3E347402CC274276B9771D93B283666D', 'msg_type': 'execute_request', 'parent_header': {}})\n    385         if not silent:\n    386             self.execution_count += 1\n    387             self._publish_execute_input(code, parent, self.execution_count)\n    388 \n    389         reply_content = self.do_execute(code, silent, store_history,\n--> 390                                         user_expressions, allow_stdin)\n        user_expressions = {}\n        allow_stdin = True\n    391 \n    392         # Flush output before sending the reply.\n    393         sys.stdout.flush()\n    394         sys.stderr.flush()\n\n...........................................................................\n/home/gael/anaconda3/lib/python3.5/site-packages/ipykernel/ipkernel.py in do_execute(self=<ipykernel.ipkernel.IPythonKernel object>, code='%%time\\npredictions = Parallel(n_jobs=nbr_jobs)(d...ata_test.iloc[i]) for i in range(len(data_test)))', silent=False, store_history=True, user_expressions={}, allow_stdin=True)\n    191 \n    192         self._forward_input(allow_stdin)\n    193 \n    194         reply_content = {}\n    195         try:\n--> 196             res = shell.run_cell(code, store_history=store_history, silent=silent)\n        res = undefined\n        shell.run_cell = <bound method ZMQInteractiveShell.run_cell of <ipykernel.zmqshell.ZMQInteractiveShell object>>\n        code = '%%time\\npredictions = Parallel(n_jobs=nbr_jobs)(d...ata_test.iloc[i]) for i in range(len(data_test)))'\n        store_history = True\n        silent = False\n    197         finally:\n    198             self._restore_input()\n    199 \n    200         if res.error_before_exec is not None:\n\n...........................................................................\n/home/gael/anaconda3/lib/python3.5/site-packages/ipykernel/zmqshell.py in run_cell(self=<ipykernel.zmqshell.ZMQInteractiveShell object>, *args=('%%time\\npredictions = Parallel(n_jobs=nbr_jobs)(d...ata_test.iloc[i]) for i in range(len(data_test)))',), **kwargs={'silent': False, 'store_history': True})\n    496             )\n    497         self.payload_manager.write_payload(payload)\n    498 \n    499     def run_cell(self, *args, **kwargs):\n    500         self._last_traceback = None\n--> 501         return super(ZMQInteractiveShell, self).run_cell(*args, **kwargs)\n        self.run_cell = <bound method ZMQInteractiveShell.run_cell of <ipykernel.zmqshell.ZMQInteractiveShell object>>\n        args = ('%%time\\npredictions = Parallel(n_jobs=nbr_jobs)(d...ata_test.iloc[i]) for i in range(len(data_test)))',)\n        kwargs = {'silent': False, 'store_history': True}\n    502 \n    503     def _showtraceback(self, etype, evalue, stb):\n    504         # try to preserve ordering of tracebacks and print statements\n    505         sys.stdout.flush()\n\n...........................................................................\n/home/gael/anaconda3/lib/python3.5/site-packages/IPython/core/interactiveshell.py in run_cell(self=<ipykernel.zmqshell.ZMQInteractiveShell object>, raw_cell='%%time\\npredictions = Parallel(n_jobs=nbr_jobs)(d...ata_test.iloc[i]) for i in range(len(data_test)))', store_history=True, silent=False, shell_futures=True)\n   2712                 self.displayhook.exec_result = result\n   2713 \n   2714                 # Execute the user code\n   2715                 interactivity = \"none\" if silent else self.ast_node_interactivity\n   2716                 has_raised = self.run_ast_nodes(code_ast.body, cell_name,\n-> 2717                    interactivity=interactivity, compiler=compiler, result=result)\n        interactivity = 'last_expr'\n        compiler = <IPython.core.compilerop.CachingCompiler object>\n   2718                 \n   2719                 self.last_execution_succeeded = not has_raised\n   2720 \n   2721                 # Reset this so later displayed values do not modify the\n\n...........................................................................\n/home/gael/anaconda3/lib/python3.5/site-packages/IPython/core/interactiveshell.py in run_ast_nodes(self=<ipykernel.zmqshell.ZMQInteractiveShell object>, nodelist=[<_ast.Expr object>], cell_name='<ipython-input-9-a28eff6d94e1>', interactivity='last', compiler=<IPython.core.compilerop.CachingCompiler object>, result=<ExecutionResult object at 7f1bb03c7320, executi..._before_exec=None error_in_exec=None result=None>)\n   2822                     return True\n   2823 \n   2824             for i, node in enumerate(to_run_interactive):\n   2825                 mod = ast.Interactive([node])\n   2826                 code = compiler(mod, cell_name, \"single\")\n-> 2827                 if self.run_code(code, result):\n        self.run_code = <bound method InteractiveShell.run_code of <ipykernel.zmqshell.ZMQInteractiveShell object>>\n        code = <code object <module> at 0x7f1c0519aa50, file \"<ipython-input-9-a28eff6d94e1>\", line 1>\n        result = <ExecutionResult object at 7f1bb03c7320, executi..._before_exec=None error_in_exec=None result=None>\n   2828                     return True\n   2829 \n   2830             # Flush softspace\n   2831             if softspace(sys.stdout, 0):\n\n...........................................................................\n/home/gael/anaconda3/lib/python3.5/site-packages/IPython/core/interactiveshell.py in run_code(self=<ipykernel.zmqshell.ZMQInteractiveShell object>, code_obj=<code object <module> at 0x7f1c0519aa50, file \"<ipython-input-9-a28eff6d94e1>\", line 1>, result=<ExecutionResult object at 7f1bb03c7320, executi..._before_exec=None error_in_exec=None result=None>)\n   2876         outflag = 1  # happens in more places, so it's easier as default\n   2877         try:\n   2878             try:\n   2879                 self.hooks.pre_run_code_hook()\n   2880                 #rprint('Running code', repr(code_obj)) # dbg\n-> 2881                 exec(code_obj, self.user_global_ns, self.user_ns)\n        code_obj = <code object <module> at 0x7f1c0519aa50, file \"<ipython-input-9-a28eff6d94e1>\", line 1>\n        self.user_global_ns = {'I': array([  0,   1,   2,   3,   4,   5,   6,   7,  ...90, 991, 992, 993, 994, 995, 996, 997, 998, 999]), 'In': ['', '# Import the fucking useful libraries =)\\nimport ...more columns\\npd.options.display.max_columns = 100', \"# Define here the data set\\ndataset = '../data/data_train.csv'\", 'data = prepare_data(dataset)', 'best_k = 500', \"# Test data\\ndataset_test = '../data/sampleSubmis...# Prepare the data\\nU, I, R, U_i = variables(data)\", 'data_test.head()', 'def pred(data):\\n    usr = data.loc[\"UserID\"]\\n   ...ie, neigh, sim, R_train, R_G)\\n    \\n    return val', 'nbr_jobs = 8', \"get_ipython().run_cell_magic('time', '', 'predic...a_test.iloc[i]) for i in range(len(data_test)))')\"], 'Out': {6:         Id  Prediction  UserID  MovieID\n0   r37_...        0\n4  r248_c1           3     247        0}, 'Parallel': <class 'joblib.parallel.Parallel'>, 'R': array([[ inf,  inf,  inf, ...,  inf,  inf,  inf]...      [ inf,  inf,  inf, ...,  inf,  inf,   3.]]), 'U': array([   0,    1,    2, ..., 9997, 9998, 9999]), 'U_i': [array([  43,   60,   66,   71,   85,   89,  107,... 9815, 9816, 9846, 9872, 9909, 9931, 9963, 9991]), array([   4,   13,   24,   40,   43,   61,   78,...9853, 9874, 9931, 9935,\n       9938, 9967, 9970]), array([  12,   15,   44,   46,   56,   61,   69,... 9963, 9964, 9969, 9972, 9975, 9977, 9978, 9992]), array([   1,    2,    9, ..., 9992, 9994, 9998]), array([  13,   21,   40, ..., 9975, 9977, 9984]), array([   1,    4,    5, ..., 9989, 9993, 9995]), array([  14,   15,   19, ..., 9967, 9968, 9980]), array([   1,    4,    9, ..., 9997, 9998, 9999]), array([  21,   36,   37,   61,   82,   89,  119,...9960, 9963, 9968,\n       9969, 9978, 9987, 9991]), array([   0,    8,   10, ..., 9983, 9986, 9999]), array([  24,   27,   33, ..., 9968, 9975, 9981]), array([  14,   27,   84,   89,   96,   99,  120,...9876, 9908, 9911, 9913,\n       9919, 9921, 9946]), array([  21,   26,   43,   69,   84,  119,  130,... 9826, 9829, 9856, 9859, 9862, 9911, 9986, 9992]), array([   3,    4,    5, ..., 9995, 9998, 9999]), array([   4,    8,   21, ..., 9981, 9987, 9993]), array([   7,   12,   14,   20,   24,   43,   56,...9947, 9950, 9958, 9969,\n       9971, 9976, 9984]), array([  14,   44,   47, ..., 9995, 9998, 9999]), array([   9,   10,   20,   36,   37,   43,   52,...9938, 9960, 9980, 9987, 9994, 9995,\n       9997]), array([   8,   14,   16,   68,   69,   80,   89,...9876, 9915, 9925,\n       9943, 9981, 9989, 9992]), array([   9,   21,   27, ..., 9964, 9970, 9977]), ...], '_':         Id  Prediction  UserID  MovieID\n0   r37_...        0\n4  r248_c1           3     247        0, '_6':         Id  Prediction  UserID  MovieID\n0   r37_...        0\n4  r248_c1           3     247        0, '__': '', ...}\n        self.user_ns = {'I': array([  0,   1,   2,   3,   4,   5,   6,   7,  ...90, 991, 992, 993, 994, 995, 996, 997, 998, 999]), 'In': ['', '# Import the fucking useful libraries =)\\nimport ...more columns\\npd.options.display.max_columns = 100', \"# Define here the data set\\ndataset = '../data/data_train.csv'\", 'data = prepare_data(dataset)', 'best_k = 500', \"# Test data\\ndataset_test = '../data/sampleSubmis...# Prepare the data\\nU, I, R, U_i = variables(data)\", 'data_test.head()', 'def pred(data):\\n    usr = data.loc[\"UserID\"]\\n   ...ie, neigh, sim, R_train, R_G)\\n    \\n    return val', 'nbr_jobs = 8', \"get_ipython().run_cell_magic('time', '', 'predic...a_test.iloc[i]) for i in range(len(data_test)))')\"], 'Out': {6:         Id  Prediction  UserID  MovieID\n0   r37_...        0\n4  r248_c1           3     247        0}, 'Parallel': <class 'joblib.parallel.Parallel'>, 'R': array([[ inf,  inf,  inf, ...,  inf,  inf,  inf]...      [ inf,  inf,  inf, ...,  inf,  inf,   3.]]), 'U': array([   0,    1,    2, ..., 9997, 9998, 9999]), 'U_i': [array([  43,   60,   66,   71,   85,   89,  107,... 9815, 9816, 9846, 9872, 9909, 9931, 9963, 9991]), array([   4,   13,   24,   40,   43,   61,   78,...9853, 9874, 9931, 9935,\n       9938, 9967, 9970]), array([  12,   15,   44,   46,   56,   61,   69,... 9963, 9964, 9969, 9972, 9975, 9977, 9978, 9992]), array([   1,    2,    9, ..., 9992, 9994, 9998]), array([  13,   21,   40, ..., 9975, 9977, 9984]), array([   1,    4,    5, ..., 9989, 9993, 9995]), array([  14,   15,   19, ..., 9967, 9968, 9980]), array([   1,    4,    9, ..., 9997, 9998, 9999]), array([  21,   36,   37,   61,   82,   89,  119,...9960, 9963, 9968,\n       9969, 9978, 9987, 9991]), array([   0,    8,   10, ..., 9983, 9986, 9999]), array([  24,   27,   33, ..., 9968, 9975, 9981]), array([  14,   27,   84,   89,   96,   99,  120,...9876, 9908, 9911, 9913,\n       9919, 9921, 9946]), array([  21,   26,   43,   69,   84,  119,  130,... 9826, 9829, 9856, 9859, 9862, 9911, 9986, 9992]), array([   3,    4,    5, ..., 9995, 9998, 9999]), array([   4,    8,   21, ..., 9981, 9987, 9993]), array([   7,   12,   14,   20,   24,   43,   56,...9947, 9950, 9958, 9969,\n       9971, 9976, 9984]), array([  14,   44,   47, ..., 9995, 9998, 9999]), array([   9,   10,   20,   36,   37,   43,   52,...9938, 9960, 9980, 9987, 9994, 9995,\n       9997]), array([   8,   14,   16,   68,   69,   80,   89,...9876, 9915, 9925,\n       9943, 9981, 9989, 9992]), array([   9,   21,   27, ..., 9964, 9970, 9977]), ...], '_':         Id  Prediction  UserID  MovieID\n0   r37_...        0\n4  r248_c1           3     247        0, '_6':         Id  Prediction  UserID  MovieID\n0   r37_...        0\n4  r248_c1           3     247        0, '__': '', ...}\n   2882             finally:\n   2883                 # Reset our crash handler in place\n   2884                 sys.excepthook = old_excepthook\n   2885         except SystemExit as e:\n\n...........................................................................\n/home/gael/Documents/EPFL/Master_CSE/MA5/PCML/PCML_Netflix_and_Chill/knn/<ipython-input-9-a28eff6d94e1> in <module>()\n----> 1 \n      2 \n      3 \n      4 \n      5 \n      6 get_ipython().run_cell_magic('time', '', 'predictions = Parallel(n_jobs=nbr_jobs)(delayed(pred)(data_test.iloc[i]) for i in range(len(data_test)))')\n      7 \n      8 \n      9 \n     10 \n\n...........................................................................\n/home/gael/anaconda3/lib/python3.5/site-packages/IPython/core/interactiveshell.py in run_cell_magic(self=<ipykernel.zmqshell.ZMQInteractiveShell object>, magic_name='time', line='', cell='predictions = Parallel(n_jobs=nbr_jobs)(delayed(...ata_test.iloc[i]) for i in range(len(data_test)))')\n   2110             # This will need to be updated if the internal calling logic gets\n   2111             # refactored, or else we'll be expanding the wrong variables.\n   2112             stack_depth = 2\n   2113             magic_arg_s = self.var_expand(line, stack_depth)\n   2114             with self.builtin_trap:\n-> 2115                 result = fn(magic_arg_s, cell)\n        result = undefined\n        fn = <bound method ExecutionMagics.time of <IPython.core.magics.execution.ExecutionMagics object>>\n        magic_arg_s = ''\n        cell = 'predictions = Parallel(n_jobs=nbr_jobs)(delayed(...ata_test.iloc[i]) for i in range(len(data_test)))'\n   2116             return result\n   2117 \n   2118     def find_line_magic(self, magic_name):\n   2119         \"\"\"Find and return a line magic by name.\n\n...........................................................................\n/home/gael/Documents/EPFL/Master_CSE/MA5/PCML/PCML_Netflix_and_Chill/knn/<decorator-gen-59> in time(self=<IPython.core.magics.execution.ExecutionMagics object>, line='', cell='predictions = Parallel(n_jobs=nbr_jobs)(delayed(...ata_test.iloc[i]) for i in range(len(data_test)))', local_ns=None)\n      1 \n----> 2 \n      3 \n      4 \n      5 \n      6 \n      7 \n      8 \n      9 \n     10 \n\n...........................................................................\n/home/gael/anaconda3/lib/python3.5/site-packages/IPython/core/magic.py in <lambda>(f=<function ExecutionMagics.time>, *a=(<IPython.core.magics.execution.ExecutionMagics object>, '', 'predictions = Parallel(n_jobs=nbr_jobs)(delayed(...ata_test.iloc[i]) for i in range(len(data_test)))', None), **k={})\n    183     validate_type(magic_kind)\n    184 \n    185     # This is a closure to capture the magic_kind.  We could also use a class,\n    186     # but it's overkill for just that one bit of state.\n    187     def magic_deco(arg):\n--> 188         call = lambda f, *a, **k: f(*a, **k)\n        f = <function ExecutionMagics.time>\n        a = (<IPython.core.magics.execution.ExecutionMagics object>, '', 'predictions = Parallel(n_jobs=nbr_jobs)(delayed(...ata_test.iloc[i]) for i in range(len(data_test)))', None)\n        k = {}\n    189 \n    190         if callable(arg):\n    191             # \"Naked\" decorator call (just @foo, no args)\n    192             func = arg\n\n...........................................................................\n/home/gael/anaconda3/lib/python3.5/site-packages/IPython/core/magics/execution.py in time(self=<IPython.core.magics.execution.ExecutionMagics object>, line='', cell='predictions = Parallel(n_jobs=nbr_jobs)(delayed(...ata_test.iloc[i]) for i in range(len(data_test)))', local_ns=None)\n   1175             st = clock2()\n   1176             out = eval(code, glob, local_ns)\n   1177             end = clock2()\n   1178         else:\n   1179             st = clock2()\n-> 1180             exec(code, glob, local_ns)\n        code = <code object <module> at 0x7f1bbe69a0c0, file \"<timed exec>\", line 1>\n        glob = {'I': array([  0,   1,   2,   3,   4,   5,   6,   7,  ...90, 991, 992, 993, 994, 995, 996, 997, 998, 999]), 'In': ['', '# Import the fucking useful libraries =)\\nimport ...more columns\\npd.options.display.max_columns = 100', \"# Define here the data set\\ndataset = '../data/data_train.csv'\", 'data = prepare_data(dataset)', 'best_k = 500', \"# Test data\\ndataset_test = '../data/sampleSubmis...# Prepare the data\\nU, I, R, U_i = variables(data)\", 'data_test.head()', 'def pred(data):\\n    usr = data.loc[\"UserID\"]\\n   ...ie, neigh, sim, R_train, R_G)\\n    \\n    return val', 'nbr_jobs = 8', \"get_ipython().run_cell_magic('time', '', 'predic...a_test.iloc[i]) for i in range(len(data_test)))')\"], 'Out': {6:         Id  Prediction  UserID  MovieID\n0   r37_...        0\n4  r248_c1           3     247        0}, 'Parallel': <class 'joblib.parallel.Parallel'>, 'R': array([[ inf,  inf,  inf, ...,  inf,  inf,  inf]...      [ inf,  inf,  inf, ...,  inf,  inf,   3.]]), 'U': array([   0,    1,    2, ..., 9997, 9998, 9999]), 'U_i': [array([  43,   60,   66,   71,   85,   89,  107,... 9815, 9816, 9846, 9872, 9909, 9931, 9963, 9991]), array([   4,   13,   24,   40,   43,   61,   78,...9853, 9874, 9931, 9935,\n       9938, 9967, 9970]), array([  12,   15,   44,   46,   56,   61,   69,... 9963, 9964, 9969, 9972, 9975, 9977, 9978, 9992]), array([   1,    2,    9, ..., 9992, 9994, 9998]), array([  13,   21,   40, ..., 9975, 9977, 9984]), array([   1,    4,    5, ..., 9989, 9993, 9995]), array([  14,   15,   19, ..., 9967, 9968, 9980]), array([   1,    4,    9, ..., 9997, 9998, 9999]), array([  21,   36,   37,   61,   82,   89,  119,...9960, 9963, 9968,\n       9969, 9978, 9987, 9991]), array([   0,    8,   10, ..., 9983, 9986, 9999]), array([  24,   27,   33, ..., 9968, 9975, 9981]), array([  14,   27,   84,   89,   96,   99,  120,...9876, 9908, 9911, 9913,\n       9919, 9921, 9946]), array([  21,   26,   43,   69,   84,  119,  130,... 9826, 9829, 9856, 9859, 9862, 9911, 9986, 9992]), array([   3,    4,    5, ..., 9995, 9998, 9999]), array([   4,    8,   21, ..., 9981, 9987, 9993]), array([   7,   12,   14,   20,   24,   43,   56,...9947, 9950, 9958, 9969,\n       9971, 9976, 9984]), array([  14,   44,   47, ..., 9995, 9998, 9999]), array([   9,   10,   20,   36,   37,   43,   52,...9938, 9960, 9980, 9987, 9994, 9995,\n       9997]), array([   8,   14,   16,   68,   69,   80,   89,...9876, 9915, 9925,\n       9943, 9981, 9989, 9992]), array([   9,   21,   27, ..., 9964, 9970, 9977]), ...], '_':         Id  Prediction  UserID  MovieID\n0   r37_...        0\n4  r248_c1           3     247        0, '_6':         Id  Prediction  UserID  MovieID\n0   r37_...        0\n4  r248_c1           3     247        0, '__': '', ...}\n        local_ns = None\n   1181             end = clock2()\n   1182             out = None\n   1183         wall_end = wtime()\n   1184         # Compute actual times and report\n\n...........................................................................\n/home/gael/Documents/EPFL/Master_CSE/MA5/PCML/PCML_Netflix_and_Chill/knn/<timed exec> in <module>()\n----> 1 \n      2 \n      3 \n      4 \n      5 \n      6 \n      7 \n      8 \n      9 \n     10 \n\n...........................................................................\n/home/gael/anaconda3/lib/python3.5/site-packages/joblib/parallel.py in __call__(self=Parallel(n_jobs=8), iterable=<generator object <genexpr>>)\n    805             if pre_dispatch == \"all\" or n_jobs == 1:\n    806                 # The iterable was consumed all at once by the above for loop.\n    807                 # No need to wait for async callbacks to trigger to\n    808                 # consumption.\n    809                 self._iterating = False\n--> 810             self.retrieve()\n        self.retrieve = <bound method Parallel.retrieve of Parallel(n_jobs=8)>\n    811             # Make sure that we get a last message telling us we are done\n    812             elapsed_time = time.time() - self._start_time\n    813             self._print('Done %3i out of %3i | elapsed: %s finished',\n    814                         (len(self._output), len(self._output),\n\n---------------------------------------------------------------------------\nSub-process traceback:\n---------------------------------------------------------------------------\nNameError                                          Tue Dec  6 14:40:51 2016\nPID: 3130                     Python 3.5.2: /home/gael/anaconda3/bin/python\n...........................................................................\n/home/gael/anaconda3/lib/python3.5/site-packages/joblib/parallel.py in __call__(self=<joblib.parallel.BatchedCalls object>)\n     67     def __init__(self, iterator_slice):\n     68         self.items = list(iterator_slice)\n     69         self._size = len(self.items)\n     70 \n     71     def __call__(self):\n---> 72         return [func(*args, **kwargs) for func, args, kwargs in self.items]\n        self.items = [(<function pred>, (Id            r37_c1\nPrediction         3\nUserID...   36\nMovieID            0\nName: 0, dtype: object,), {})]\n     73 \n     74     def __len__(self):\n     75         return self._size\n     76 \n\n...........................................................................\n/home/gael/anaconda3/lib/python3.5/site-packages/joblib/parallel.py in <listcomp>(.0=<list_iterator object>)\n     67     def __init__(self, iterator_slice):\n     68         self.items = list(iterator_slice)\n     69         self._size = len(self.items)\n     70 \n     71     def __call__(self):\n---> 72         return [func(*args, **kwargs) for func, args, kwargs in self.items]\n        func = <function pred>\n        args = (Id            r37_c1\nPrediction         3\nUserID...   36\nMovieID            0\nName: 0, dtype: object,)\n        kwargs = {}\n     73 \n     74     def __len__(self):\n     75         return self._size\n     76 \n\n...........................................................................\n/home/gael/Documents/EPFL/Master_CSE/MA5/PCML/PCML_Netflix_and_Chill/knn/<ipython-input-7-5c3dd0f110ab> in pred(data=Id            r37_c1\nPrediction         3\nUserID...   36\nMovieID            0\nName: 0, dtype: object)\n      1 \n      2 def pred(data):\n      3     usr = data.loc[\"UserID\"]\n      4     movie = data.loc[\"MovieID\"]  \n----> 5     \n      6     neigh = np.array(NN[movie][:best_k])\n      7     sim = np.array(similarity[movie][:best_k])\n      8     \n      9     # Prepare Ratings of G\n     10     R_G = R_train[usr, neigh]\n     11     G = R_G!=np.inf\n\nNameError: name 'NN' is not defined\n___________________________________________________________________________"
     ]
    }
   ],
   "source": [
    "%%time\n",
    "predictions = Parallel(n_jobs=nbr_jobs)(delayed(pred)(data_test.iloc[i]) for i in range(len(data_test)))"
   ]
  },
  {
   "cell_type": "code",
   "execution_count": 176,
   "metadata": {
    "collapsed": false
   },
   "outputs": [
    {
     "data": {
      "text/plain": [
       "-0.17822781735444071"
      ]
     },
     "execution_count": 176,
     "metadata": {},
     "output_type": "execute_result"
    }
   ],
   "source": [
    "np.min(predictions)"
   ]
  },
  {
   "cell_type": "code",
   "execution_count": 178,
   "metadata": {
    "collapsed": false
   },
   "outputs": [],
   "source": [
    "for i in range(len(predictions)):\n",
    "    if predictions[i] > 5:\n",
    "        predictions[i] = 5\n",
    "    elif predictions[i] < 1:\n",
    "        predictions[i] = 1"
   ]
  },
  {
   "cell_type": "code",
   "execution_count": 179,
   "metadata": {
    "collapsed": false
   },
   "outputs": [
    {
     "name": "stderr",
     "output_type": "stream",
     "text": [
      "/home/gael/anaconda3/lib/python3.5/site-packages/ipykernel/__main__.py:2: FutureWarning: sort(columns=....) is deprecated, use sort_values(by=.....)\n",
      "  from ipykernel import kernelapp as app\n"
     ]
    },
    {
     "data": {
      "text/html": [
       "<div>\n",
       "<table border=\"1\" class=\"dataframe\">\n",
       "  <thead>\n",
       "    <tr style=\"text-align: right;\">\n",
       "      <th></th>\n",
       "      <th>Id</th>\n",
       "      <th>Prediction</th>\n",
       "      <th>UserID</th>\n",
       "      <th>MovieID</th>\n",
       "    </tr>\n",
       "  </thead>\n",
       "  <tbody>\n",
       "    <tr>\n",
       "      <th>0</th>\n",
       "      <td>r37_c1</td>\n",
       "      <td>3.384988</td>\n",
       "      <td>36</td>\n",
       "      <td>0</td>\n",
       "    </tr>\n",
       "    <tr>\n",
       "      <th>1</th>\n",
       "      <td>r73_c1</td>\n",
       "      <td>2.997531</td>\n",
       "      <td>72</td>\n",
       "      <td>0</td>\n",
       "    </tr>\n",
       "    <tr>\n",
       "      <th>2</th>\n",
       "      <td>r156_c1</td>\n",
       "      <td>3.847079</td>\n",
       "      <td>155</td>\n",
       "      <td>0</td>\n",
       "    </tr>\n",
       "    <tr>\n",
       "      <th>3</th>\n",
       "      <td>r160_c1</td>\n",
       "      <td>3.345039</td>\n",
       "      <td>159</td>\n",
       "      <td>0</td>\n",
       "    </tr>\n",
       "    <tr>\n",
       "      <th>4</th>\n",
       "      <td>r248_c1</td>\n",
       "      <td>3.255987</td>\n",
       "      <td>247</td>\n",
       "      <td>0</td>\n",
       "    </tr>\n",
       "  </tbody>\n",
       "</table>\n",
       "</div>"
      ],
      "text/plain": [
       "        Id  Prediction  UserID  MovieID\n",
       "0   r37_c1    3.384988      36        0\n",
       "1   r73_c1    2.997531      72        0\n",
       "2  r156_c1    3.847079     155        0\n",
       "3  r160_c1    3.345039     159        0\n",
       "4  r248_c1    3.255987     247        0"
      ]
     },
     "execution_count": 179,
     "metadata": {},
     "output_type": "execute_result"
    }
   ],
   "source": [
    "data_test['Prediction'] = predictions\n",
    "data_test = data_test.sort([\"MovieID\", \"UserID\"])\n",
    "data_test.head()"
   ]
  },
  {
   "cell_type": "code",
   "execution_count": 180,
   "metadata": {
    "collapsed": true
   },
   "outputs": [],
   "source": [
    "data_test = data_test.drop(['UserID', 'MovieID'], axis=1)"
   ]
  },
  {
   "cell_type": "code",
   "execution_count": 181,
   "metadata": {
    "collapsed": true
   },
   "outputs": [],
   "source": [
    "data_test.to_csv('pred_knn_item-based.csv', index=False)"
   ]
  },
  {
   "cell_type": "code",
   "execution_count": 182,
   "metadata": {
    "collapsed": false
   },
   "outputs": [
    {
     "data": {
      "text/html": [
       "<div>\n",
       "<table border=\"1\" class=\"dataframe\">\n",
       "  <thead>\n",
       "    <tr style=\"text-align: right;\">\n",
       "      <th></th>\n",
       "      <th>Id</th>\n",
       "      <th>Prediction</th>\n",
       "    </tr>\n",
       "  </thead>\n",
       "  <tbody>\n",
       "    <tr>\n",
       "      <th>0</th>\n",
       "      <td>r37_c1</td>\n",
       "      <td>3.384988</td>\n",
       "    </tr>\n",
       "    <tr>\n",
       "      <th>1</th>\n",
       "      <td>r73_c1</td>\n",
       "      <td>2.997531</td>\n",
       "    </tr>\n",
       "    <tr>\n",
       "      <th>2</th>\n",
       "      <td>r156_c1</td>\n",
       "      <td>3.847079</td>\n",
       "    </tr>\n",
       "    <tr>\n",
       "      <th>3</th>\n",
       "      <td>r160_c1</td>\n",
       "      <td>3.345039</td>\n",
       "    </tr>\n",
       "    <tr>\n",
       "      <th>4</th>\n",
       "      <td>r248_c1</td>\n",
       "      <td>3.255987</td>\n",
       "    </tr>\n",
       "  </tbody>\n",
       "</table>\n",
       "</div>"
      ],
      "text/plain": [
       "        Id  Prediction\n",
       "0   r37_c1    3.384988\n",
       "1   r73_c1    2.997531\n",
       "2  r156_c1    3.847079\n",
       "3  r160_c1    3.345039\n",
       "4  r248_c1    3.255987"
      ]
     },
     "execution_count": 182,
     "metadata": {},
     "output_type": "execute_result"
    }
   ],
   "source": [
    "data_test.head()"
   ]
  },
  {
   "cell_type": "code",
   "execution_count": null,
   "metadata": {
    "collapsed": true
   },
   "outputs": [],
   "source": []
  }
 ],
 "metadata": {
  "anaconda-cloud": {},
  "kernelspec": {
   "display_name": "Python [conda root]",
   "language": "python",
   "name": "conda-root-py"
  },
  "language_info": {
   "codemirror_mode": {
    "name": "ipython",
    "version": 3
   },
   "file_extension": ".py",
   "mimetype": "text/x-python",
   "name": "python",
   "nbconvert_exporter": "python",
   "pygments_lexer": "ipython3",
   "version": "3.5.2"
  }
 },
 "nbformat": 4,
 "nbformat_minor": 1
}
