{
 "cells": [
  {
   "cell_type": "code",
   "execution_count": 66,
   "metadata": {
    "collapsed": false
   },
   "outputs": [
    {
     "name": "stdout",
     "output_type": "stream",
     "text": [
      "The autoreload extension is already loaded. To reload it, use:\n",
      "  %reload_ext autoreload\n"
     ]
    }
   ],
   "source": [
    "import pandas as pd\n",
    "import numpy as np\n",
    "import os\n",
    "import matplotlib.pyplot as plt\n",
    "import itertools\n",
    "from pyspark.mllib.recommendation import ALS\n",
    "from pyspark.sql.functions import col\n",
    "import math\n",
    "import random\n",
    "import itertools\n",
    "import copy\n",
    "from joblib import Parallel, delayed\n",
    "import multiprocessing\n",
    "import pickle\n",
    "\n",
    "from cross_validation import KFoldIndexes,CrossValidation\n",
    "from cross_validation_blending import CrossValidationBlending\n",
    "from models.als import predictions_ALS\n",
    "from models.means import *\n",
    "from models.medians import *\n",
    "from models.helpers import *\n",
    "\n",
    "%matplotlib inline\n",
    "%load_ext autoreload\n",
    "%autoreload 2\n",
    "\n",
    "pd.options.display.max_columns = 100\n",
    "sc.setCheckpointDir('./checkpoint/')\n"
   ]
  },
  {
   "cell_type": "code",
   "execution_count": 12,
   "metadata": {
    "collapsed": false
   },
   "outputs": [
    {
     "data": {
      "text/html": [
       "<div>\n",
       "<table border=\"1\" class=\"dataframe\">\n",
       "  <thead>\n",
       "    <tr style=\"text-align: right;\">\n",
       "      <th></th>\n",
       "      <th>User</th>\n",
       "      <th>Movie</th>\n",
       "      <th>Rating</th>\n",
       "    </tr>\n",
       "  </thead>\n",
       "  <tbody>\n",
       "    <tr>\n",
       "      <th>0</th>\n",
       "      <td>44</td>\n",
       "      <td>1</td>\n",
       "      <td>4</td>\n",
       "    </tr>\n",
       "    <tr>\n",
       "      <th>1</th>\n",
       "      <td>61</td>\n",
       "      <td>1</td>\n",
       "      <td>3</td>\n",
       "    </tr>\n",
       "    <tr>\n",
       "      <th>2</th>\n",
       "      <td>67</td>\n",
       "      <td>1</td>\n",
       "      <td>4</td>\n",
       "    </tr>\n",
       "    <tr>\n",
       "      <th>3</th>\n",
       "      <td>72</td>\n",
       "      <td>1</td>\n",
       "      <td>3</td>\n",
       "    </tr>\n",
       "    <tr>\n",
       "      <th>4</th>\n",
       "      <td>86</td>\n",
       "      <td>1</td>\n",
       "      <td>5</td>\n",
       "    </tr>\n",
       "  </tbody>\n",
       "</table>\n",
       "</div>"
      ],
      "text/plain": [
       "   User  Movie  Rating\n",
       "0    44      1       4\n",
       "1    61      1       3\n",
       "2    67      1       4\n",
       "3    72      1       3\n",
       "4    86      1       5"
      ]
     },
     "execution_count": 12,
     "metadata": {},
     "output_type": "execute_result"
    }
   ],
   "source": [
    "train = load_csv()\n",
    "train.head()"
   ]
  },
  {
   "cell_type": "code",
   "execution_count": 74,
   "metadata": {
    "collapsed": true
   },
   "outputs": [],
   "source": [
    "models = {\n",
    "    'user_mean': {\n",
    "        'compute_predictions': True,\n",
    "        'function': user_mean,\n",
    "        'params': {}\n",
    "    },\n",
    "    'movie_mean': {\n",
    "        'compute_predictions': True,\n",
    "        'function': movie_mean,\n",
    "        'params': {}\n",
    "    },\n",
    "    'user_median': {\n",
    "        'compute_predictions': True,\n",
    "        'function': user_median,\n",
    "        'params': {}\n",
    "    },\n",
    "    'movie_median': {\n",
    "        'compute_predictions': True,\n",
    "        'function': movie_median,\n",
    "        'params': {}\n",
    "    }\n",
    "}\n",
    "\n",
    "models2 = {\n",
    "    'movie_mean_deviation_user': {\n",
    "        'compute_predictions': True,\n",
    "        'function': movie_mean_deviation_user,\n",
    "        'params': {}\n",
    "    },\n",
    "    'movie_median_deviation_user': {\n",
    "        'compute_predictions': True,\n",
    "        'function': movie_median_deviation_user,\n",
    "        'params': {}\n",
    "    }\n",
    "}\n",
    "\n",
    "models3 = {\n",
    "    'als': {\n",
    "        'compute_predictions': True,\n",
    "        'function': predictions_ALS,\n",
    "        'params': {\n",
    "            'spark_context': sc,\n",
    "            'rank': 8,\n",
    "            'lambda_': 0.081, \n",
    "            'iterations': 24, \n",
    "            'nonnegative': True\n",
    "        }\n",
    "    }\n",
    "}\n",
    "\n",
    "#models = dict(models, **models2)\n",
    "\n",
    "models = dict(models2, **models3)"
   ]
  },
  {
   "cell_type": "code",
   "execution_count": 62,
   "metadata": {
    "collapsed": false
   },
   "outputs": [],
   "source": [
    "def prepare_blending(data, k_folds, models):\n",
    "    blending = CrossValidationBlending(data, k_folds)\n",
    "    for key in models.keys():\n",
    "        blending.add_model(models[key]['function'], key)\n",
    "    return blending\n",
    "\n",
    "def add_param_blending(blending, models):\n",
    "    for key in models.keys():\n",
    "        blending.add_params_for_model(key, models[key]['params'], compute_predictions=models[key]['compute_predictions'])\n",
    "        \n",
    "    return blending\n",
    "\n",
    "def cross_validate(blending, models):\n",
    "    nbr_models = len(models.keys())\n",
    "\n",
    "    curr_arr = [0, 0.1, 0.1, 0.3, 0.4, 0.5, 0.6, 0.7, 0.8, 0.9, 1]\n",
    "\n",
    "    comb_input = [a for a in itertools.combinations_with_replacement(curr_arr, nbr_models) if sum(a) == 1]\n",
    "    comb_input = [set(itertools.permutations(a)) for a in comb_input]\n",
    "\n",
    "    combinations = []\n",
    "    for a in comb_input:\n",
    "        combinations += list(a)\n",
    "        \n",
    "    dict_try = {}\n",
    "    best_dict = {}\n",
    "    for key in models.keys():\n",
    "        dict_try[key] = 0\n",
    "        \n",
    "    min_rmse = 100\n",
    "    best_weights = []\n",
    "    nbr = 0\n",
    "    for comb in combinations:\n",
    "        for idx, key in enumerate(models.keys()):\n",
    "            dict_try[key] = comb[idx]  \n",
    "\n",
    "        result = blending.evaluate_blending(dict_try)\n",
    "        \n",
    "        if result < min_rmse:\n",
    "            min_rmse = result\n",
    "            best_weights = comb\n",
    "            best_dict = dict_try.copy()\n",
    "\n",
    "        nbr += 1\n",
    "        if nbr%round(len(combinations)/10) == 0:\n",
    "            print(\"%i%% done!\"%(nbr/round(len(combinations)/10)*10))\n",
    "                  \n",
    "    return best_dict\n",
    "\n",
    "def test_blending(blending, best_dict):\n",
    "    dict_try = {}\n",
    "    for key in models.keys():\n",
    "        dict_try[key] = 0\n",
    "        \n",
    "    for key in models.keys():\n",
    "        dict_test = dict_try.copy()\n",
    "        dict_test[key] = 1\n",
    "        rmse = blending.evaluate_blending(dict_test)\n",
    "        print(\"RMSE for model %s: %.3f\"%(key, rmse))\n",
    "        \n",
    "    print()\n",
    "    rmse = blending.evaluate_blending(best_dict)\n",
    "    print(\"Best blending: %s\"%best_dict)\n",
    "    print(\"RMSE best blending: %.3f\"%rmse)\n",
    "    \n",
    "def prediction(train, blending, best_dict, output):\n",
    "    test = pd.read_csv('../data/sampleSubmission.csv')\n",
    "    test_prep = test\n",
    "    test_prep['User'] = test_prep['Id'].apply(lambda x: int(x.split('_')[0][1:]))\n",
    "    test_prep['Movie'] = test_prep['Id'].apply(lambda x: int(x.split('_')[1][1:]))\n",
    "    test_prep['Rating'] = test_prep['Prediction']\n",
    "    test_prep = test_prep.drop(['Prediction', 'Id'], axis=1)\n",
    "    \n",
    "    pred = blending.evaluate_blending_for_validation(best_dict, train, test_prep)\n",
    "    test.Rating=pred\n",
    "    test['Prediction']=test.Rating\n",
    "    test = test.drop(['User', 'Movie', 'Rating'], axis=1)\n",
    "    test.to_csv(output, index=False)\n",
    "    \n",
    "    "
   ]
  },
  {
   "cell_type": "code",
   "execution_count": 63,
   "metadata": {
    "collapsed": false
   },
   "outputs": [],
   "source": [
    "blending = prepare_blending(train, 10, models)"
   ]
  },
  {
   "cell_type": "code",
   "execution_count": 65,
   "metadata": {
    "collapsed": false,
    "scrolled": false
   },
   "outputs": [
    {
     "name": "stdout",
     "output_type": "stream",
     "text": [
      "[USER_MEAN] applying\n",
      "[USER_MEAN] done\n",
      "[USER_MEAN] applying\n",
      "[USER_MEAN] done\n",
      "[USER_MEAN] applying\n",
      "[USER_MEAN] done\n",
      "[USER_MEAN] applying\n",
      "[USER_MEAN] done\n",
      "[USER_MEAN] applying\n",
      "[USER_MEAN] done\n",
      "[USER_MEAN] applying\n",
      "[USER_MEAN] done\n",
      "[USER_MEAN] applying\n",
      "[USER_MEAN] done\n",
      "[USER_MEAN] applying\n",
      "[USER_MEAN] done\n",
      "[USER_MEAN] applying\n",
      "[USER_MEAN] done\n",
      "[USER_MEAN] applying\n",
      "[USER_MEAN] done\n",
      "[ALS] applying\n",
      "[ALS] done\n",
      "[ALS] applying\n",
      "[ALS] done\n",
      "[ALS] applying\n",
      "[ALS] done\n",
      "[ALS] applying\n",
      "[ALS] done\n",
      "[ALS] applying\n",
      "[ALS] done\n",
      "[ALS] applying\n",
      "[ALS] done\n",
      "[ALS] applying\n",
      "[ALS] done\n",
      "[ALS] applying\n",
      "[ALS] done\n",
      "[ALS] applying\n",
      "[ALS] done\n",
      "[ALS] applying\n",
      "[ALS] done\n",
      "[MOVIE_MEAN_DEVIATION_USER] applying\n",
      "[MOVIE_MEAN_DEVIATION_USER] done\n",
      "[MOVIE_MEAN_DEVIATION_USER] applying\n",
      "[MOVIE_MEAN_DEVIATION_USER] done\n",
      "[MOVIE_MEAN_DEVIATION_USER] applying\n",
      "[MOVIE_MEAN_DEVIATION_USER] done\n",
      "[MOVIE_MEAN_DEVIATION_USER] applying\n",
      "[MOVIE_MEAN_DEVIATION_USER] done\n",
      "[MOVIE_MEAN_DEVIATION_USER] applying\n",
      "[MOVIE_MEAN_DEVIATION_USER] done\n",
      "[MOVIE_MEAN_DEVIATION_USER] applying\n",
      "[MOVIE_MEAN_DEVIATION_USER] done\n",
      "[MOVIE_MEAN_DEVIATION_USER] applying\n",
      "[MOVIE_MEAN_DEVIATION_USER] done\n",
      "[MOVIE_MEAN_DEVIATION_USER] applying\n",
      "[MOVIE_MEAN_DEVIATION_USER] done\n",
      "[MOVIE_MEAN_DEVIATION_USER] applying\n",
      "[MOVIE_MEAN_DEVIATION_USER] done\n",
      "[MOVIE_MEAN_DEVIATION_USER] applying\n",
      "[MOVIE_MEAN_DEVIATION_USER] done\n",
      "[MOVIE_MEDIAN] applying\n",
      "[MOVIE_MEDIAN] done\n",
      "[MOVIE_MEDIAN] applying\n",
      "[MOVIE_MEDIAN] done\n",
      "[MOVIE_MEDIAN] applying\n",
      "[MOVIE_MEDIAN] done\n",
      "[MOVIE_MEDIAN] applying\n",
      "[MOVIE_MEDIAN] done\n",
      "[MOVIE_MEDIAN] applying\n",
      "[MOVIE_MEDIAN] done\n",
      "[MOVIE_MEDIAN] applying\n",
      "[MOVIE_MEDIAN] done\n",
      "[MOVIE_MEDIAN] applying\n",
      "[MOVIE_MEDIAN] done\n",
      "[MOVIE_MEDIAN] applying\n",
      "[MOVIE_MEDIAN] done\n",
      "[MOVIE_MEDIAN] applying\n",
      "[MOVIE_MEDIAN] done\n",
      "[MOVIE_MEDIAN] applying\n",
      "[MOVIE_MEDIAN] done\n",
      "[MOVIE_MEAN] applying\n",
      "[MOVIE_MEAN] done\n",
      "[MOVIE_MEAN] applying\n",
      "[MOVIE_MEAN] done\n",
      "[MOVIE_MEAN] applying\n",
      "[MOVIE_MEAN] done\n",
      "[MOVIE_MEAN] applying\n",
      "[MOVIE_MEAN] done\n",
      "[MOVIE_MEAN] applying\n",
      "[MOVIE_MEAN] done\n",
      "[MOVIE_MEAN] applying\n",
      "[MOVIE_MEAN] done\n",
      "[MOVIE_MEAN] applying\n",
      "[MOVIE_MEAN] done\n",
      "[MOVIE_MEAN] applying\n",
      "[MOVIE_MEAN] done\n",
      "[MOVIE_MEAN] applying\n",
      "[MOVIE_MEAN] done\n",
      "[MOVIE_MEAN] applying\n",
      "[MOVIE_MEAN] done\n",
      "[MOVIE_MEDIAN_DEVIATION_USER] applying\n",
      "[MOVIE_MEDIAN_DEVIATION_USER] done\n",
      "[MOVIE_MEDIAN_DEVIATION_USER] applying\n",
      "[MOVIE_MEDIAN_DEVIATION_USER] done\n",
      "[MOVIE_MEDIAN_DEVIATION_USER] applying\n",
      "[MOVIE_MEDIAN_DEVIATION_USER] done\n",
      "[MOVIE_MEDIAN_DEVIATION_USER] applying\n",
      "[MOVIE_MEDIAN_DEVIATION_USER] done\n",
      "[MOVIE_MEDIAN_DEVIATION_USER] applying\n",
      "[MOVIE_MEDIAN_DEVIATION_USER] done\n",
      "[MOVIE_MEDIAN_DEVIATION_USER] applying\n",
      "[MOVIE_MEDIAN_DEVIATION_USER] done\n",
      "[MOVIE_MEDIAN_DEVIATION_USER] applying\n",
      "[MOVIE_MEDIAN_DEVIATION_USER] done\n",
      "[MOVIE_MEDIAN_DEVIATION_USER] applying\n",
      "[MOVIE_MEDIAN_DEVIATION_USER] done\n",
      "[MOVIE_MEDIAN_DEVIATION_USER] applying\n",
      "[MOVIE_MEDIAN_DEVIATION_USER] done\n",
      "[MOVIE_MEDIAN_DEVIATION_USER] applying\n",
      "[MOVIE_MEDIAN_DEVIATION_USER] done\n",
      "[USER_MEDIAN] applying\n",
      "[USER_MEDIAN] done\n",
      "[USER_MEDIAN] applying\n",
      "[USER_MEDIAN] done\n",
      "[USER_MEDIAN] applying\n",
      "[USER_MEDIAN] done\n",
      "[USER_MEDIAN] applying\n",
      "[USER_MEDIAN] done\n",
      "[USER_MEDIAN] applying\n",
      "[USER_MEDIAN] done\n",
      "[USER_MEDIAN] applying\n",
      "[USER_MEDIAN] done\n",
      "[USER_MEDIAN] applying\n",
      "[USER_MEDIAN] done\n",
      "[USER_MEDIAN] applying\n",
      "[USER_MEDIAN] done\n",
      "[USER_MEDIAN] applying\n",
      "[USER_MEDIAN] done\n",
      "[USER_MEDIAN] applying\n",
      "[USER_MEDIAN] done\n"
     ]
    }
   ],
   "source": [
    "blending = add_param_blending(blending, models)"
   ]
  },
  {
   "cell_type": "code",
   "execution_count": 71,
   "metadata": {
    "collapsed": false
   },
   "outputs": [
    {
     "name": "stdout",
     "output_type": "stream",
     "text": [
      "10% done!\n",
      "20% done!\n",
      "30% done!\n",
      "40% done!\n",
      "50% done!\n",
      "60% done!\n",
      "70% done!\n",
      "80% done!\n",
      "90% done!\n"
     ]
    }
   ],
   "source": [
    "best_dict = cross_validate(blending, models)"
   ]
  },
  {
   "cell_type": "code",
   "execution_count": 72,
   "metadata": {
    "collapsed": false
   },
   "outputs": [
    {
     "name": "stdout",
     "output_type": "stream",
     "text": [
      "RMSE for model user_mean: 1.095\n",
      "RMSE for model als: 0.986\n",
      "RMSE for model movie_mean_deviation_user: 0.997\n",
      "RMSE for model movie_median: 1.099\n",
      "RMSE for model movie_mean: 1.030\n",
      "RMSE for model movie_median_deviation_user: 1.072\n",
      "RMSE for model user_median: 1.150\n",
      "\n",
      "Best blending: {'user_mean': 0, 'als': 0.8, 'movie_mean_deviation_user': 0.1, 'movie_median': 0, 'movie_mean': 0, 'movie_median_deviation_user': 0.1, 'user_median': 0}\n",
      "RMSE best blending: 0.983\n"
     ]
    }
   ],
   "source": [
    "test_blending(blending, best_dict)"
   ]
  },
  {
   "cell_type": "code",
   "execution_count": 73,
   "metadata": {
    "collapsed": false,
    "scrolled": true
   },
   "outputs": [
    {
     "name": "stdout",
     "output_type": "stream",
     "text": [
      "[ALS] applying\n",
      "[ALS] done\n",
      "[MOVIE_MEAN_DEVIATION_USER] applying\n",
      "[MOVIE_MEAN_DEVIATION_USER] done\n",
      "[MOVIE_MEDIAN_DEVIATION_USER] applying\n",
      "[MOVIE_MEDIAN_DEVIATION_USER] done\n"
     ]
    }
   ],
   "source": [
    "prediction(train, blending, best_dict, 'pred_blending.csv')"
   ]
  },
  {
   "cell_type": "code",
   "execution_count": null,
   "metadata": {
    "collapsed": true
   },
   "outputs": [],
   "source": []
  }
 ],
 "metadata": {
  "anaconda-cloud": {},
  "kernelspec": {
   "display_name": "Python [conda root]",
   "language": "python",
   "name": "conda-root-py"
  },
  "language_info": {
   "codemirror_mode": {
    "name": "ipython",
    "version": 3
   },
   "file_extension": ".py",
   "mimetype": "text/x-python",
   "name": "python",
   "nbconvert_exporter": "python",
   "pygments_lexer": "ipython3",
   "version": "3.5.2"
  }
 },
 "nbformat": 4,
 "nbformat_minor": 1
}
