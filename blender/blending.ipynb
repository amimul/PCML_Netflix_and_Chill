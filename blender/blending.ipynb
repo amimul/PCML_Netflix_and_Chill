{
 "cells": [
  {
   "cell_type": "code",
   "execution_count": 1,
   "metadata": {
    "collapsed": false
   },
   "outputs": [],
   "source": [
    "import pandas as pd\n",
    "import numpy as np\n",
    "import os\n",
    "import matplotlib.pyplot as plt\n",
    "import itertools\n",
    "from pyspark.mllib.recommendation import ALS\n",
    "from pyspark.sql.functions import col\n",
    "import math\n",
    "import random\n",
    "import itertools\n",
    "import copy\n",
    "from joblib import Parallel, delayed\n",
    "import multiprocessing\n",
    "import pickle\n",
    "import scipy.optimize as sco\n",
    "\n",
    "from cross_validation import KFoldIndexes,CrossValidation\n",
    "from cross_validation_blending import CrossValidationBlending\n",
    "from models.als import predictions_ALS\n",
    "from models.means import *\n",
    "from models.medians import *\n",
    "from models.helpers import *\n",
    "from models.collaborative_filtering import *\n",
    "from models.MF_SGD import *\n",
    "\n",
    "%matplotlib inline\n",
    "%load_ext autoreload\n",
    "%autoreload 2\n",
    "\n",
    "pd.options.display.max_columns = 100\n",
    "sc.setCheckpointDir('./checkpoint/')"
   ]
  },
  {
   "cell_type": "code",
   "execution_count": 2,
   "metadata": {
    "collapsed": false
   },
   "outputs": [
    {
     "data": {
      "text/html": [
       "<div>\n",
       "<table border=\"1\" class=\"dataframe\">\n",
       "  <thead>\n",
       "    <tr style=\"text-align: right;\">\n",
       "      <th></th>\n",
       "      <th>User</th>\n",
       "      <th>Movie</th>\n",
       "      <th>Rating</th>\n",
       "    </tr>\n",
       "  </thead>\n",
       "  <tbody>\n",
       "    <tr>\n",
       "      <th>0</th>\n",
       "      <td>44</td>\n",
       "      <td>1</td>\n",
       "      <td>4</td>\n",
       "    </tr>\n",
       "    <tr>\n",
       "      <th>1</th>\n",
       "      <td>61</td>\n",
       "      <td>1</td>\n",
       "      <td>3</td>\n",
       "    </tr>\n",
       "    <tr>\n",
       "      <th>2</th>\n",
       "      <td>67</td>\n",
       "      <td>1</td>\n",
       "      <td>4</td>\n",
       "    </tr>\n",
       "    <tr>\n",
       "      <th>3</th>\n",
       "      <td>72</td>\n",
       "      <td>1</td>\n",
       "      <td>3</td>\n",
       "    </tr>\n",
       "    <tr>\n",
       "      <th>4</th>\n",
       "      <td>86</td>\n",
       "      <td>1</td>\n",
       "      <td>5</td>\n",
       "    </tr>\n",
       "  </tbody>\n",
       "</table>\n",
       "</div>"
      ],
      "text/plain": [
       "   User  Movie  Rating\n",
       "0    44      1       4\n",
       "1    61      1       3\n",
       "2    67      1       4\n",
       "3    72      1       3\n",
       "4    86      1       5"
      ]
     },
     "execution_count": 2,
     "metadata": {},
     "output_type": "execute_result"
    }
   ],
   "source": [
    "train = load_csv()\n",
    "train.head()"
   ]
  },
  {
   "cell_type": "code",
   "execution_count": 3,
   "metadata": {
    "collapsed": false
   },
   "outputs": [],
   "source": [
    "models = {\n",
    "    'global_mean': {\n",
    "        'compute_predictions': True,\n",
    "        'function': global_mean,\n",
    "        'params': {}    \n",
    "    },\n",
    "    'user_mean': {\n",
    "        'compute_predictions': True,\n",
    "        'function': user_mean,\n",
    "        'params': {}\n",
    "    },\n",
    "    'movie_mean': {\n",
    "        'compute_predictions': True,\n",
    "        'function': movie_mean,\n",
    "        'params': {}\n",
    "    },\n",
    "    'global_median': {\n",
    "        'compute_predictions': True,\n",
    "        'function': global_median,\n",
    "        'params': {}    \n",
    "    },  \n",
    "    'user_median': {\n",
    "        'compute_predictions': True,\n",
    "        'function': user_median,\n",
    "        'params': {}\n",
    "    },\n",
    "    'movie_median': {\n",
    "        'compute_predictions': True,\n",
    "        'function': movie_median,\n",
    "        'params': {}\n",
    "    }\n",
    "}\n",
    "\n",
    "models2 = {\n",
    "    'movie_mean_deviation_user': {\n",
    "        'compute_predictions': True,\n",
    "        'function': movie_mean_deviation_user,\n",
    "        'params': {}\n",
    "    },\n",
    "    'movie_median_deviation_user': {\n",
    "        'compute_predictions': True,\n",
    "        'function': movie_median_deviation_user,\n",
    "        'params': {}\n",
    "    }\n",
    "}\n",
    "\n",
    "models3 = {\n",
    "    'als': {\n",
    "        'compute_predictions': True,\n",
    "        'function': predictions_ALS,\n",
    "        'params': {\n",
    "            'spark_context': sc,\n",
    "            'rank': 8,\n",
    "            'lambda_': 0.081, \n",
    "            'iterations': 24, \n",
    "            'nonnegative': True\n",
    "        }\n",
    "    },\n",
    "    'collab_filt': {\n",
    "        'compute_predictions': True,\n",
    "        'function': collaborative_filtering,\n",
    "        'params': {\n",
    "            'movie_features':20, \n",
    "            'alpha':19\n",
    "        }  \n",
    "    },\n",
    "    'mf_sgd': {\n",
    "        'compute_predictions': True,\n",
    "        'function': matrix_factorization_SGD,\n",
    "        'params': {\n",
    "            'gamma': 0.004,\n",
    "            'n_features': 20,\n",
    "            'n_iter': 20,\n",
    "            'init_method': 'global_mean'\n",
    "        }\n",
    "    }\n",
    "}\n",
    "\n",
    "models4 = {\n",
    "    'global_mean': {\n",
    "        'compute_predictions': True,\n",
    "        'function': global_mean,\n",
    "        'params': {}    \n",
    "    },  \n",
    "    'mf_sgd': {\n",
    "        'compute_predictions': True,\n",
    "        'function': matrix_factorization_SGD,\n",
    "        'params': {\n",
    "            'gamma': 0.004,\n",
    "            'n_features': 20,\n",
    "            'n_iter': 20,\n",
    "            'init_method': 'global_mean'\n",
    "        }\n",
    "    }   \n",
    "}\n",
    "\n",
    "models = dict(models, **models2)\n",
    "\n",
    "models = dict(models, **models3)"
   ]
  },
  {
   "cell_type": "code",
   "execution_count": 4,
   "metadata": {
    "collapsed": false
   },
   "outputs": [],
   "source": [
    "def prepare_blending(data, k_folds, models):\n",
    "    blending = CrossValidationBlending(data, k_folds)\n",
    "    for key in models.keys():\n",
    "        blending.add_model(models[key]['function'], key)\n",
    "    return blending\n",
    "\n",
    "def add_param_blending(blending, models):\n",
    "    for key in models.keys():\n",
    "        blending.add_params_for_model(key, models[key]['params'], compute_predictions=models[key]['compute_predictions'])\n",
    "        \n",
    "    return blending\n",
    "\n",
    "def test_blending(blending, best_dict, models):\n",
    "    dict_try = {}\n",
    "    for key in models.keys():\n",
    "        dict_try[key] = 0\n",
    "        \n",
    "    for key in models.keys():\n",
    "        dict_test = dict_try.copy()\n",
    "        dict_test[key] = 1\n",
    "        rmse = blending.evaluate_blending(dict_test)\n",
    "        print(\"RMSE for model %s: %.5f\"%(key, rmse))\n",
    "        \n",
    "    print()\n",
    "    rmse = blending.evaluate_blending(best_dict)\n",
    "    print(\"Best blending: %s\"%best_dict)\n",
    "    print(\"RMSE best blending: %.5f\"%rmse)\n",
    "    \n",
    "def prediction(train, blending, best_dict, output):\n",
    "    test = pd.read_csv('../data/sampleSubmission.csv')\n",
    "    test_prep = test\n",
    "    test_prep['User'] = test_prep['Id'].apply(lambda x: int(x.split('_')[0][1:]))\n",
    "    test_prep['Movie'] = test_prep['Id'].apply(lambda x: int(x.split('_')[1][1:]))\n",
    "    test_prep['Rating'] = test_prep['Prediction']\n",
    "    test_prep = test_prep.drop(['Prediction', 'Id'], axis=1)\n",
    "    \n",
    "    pred = blending.evaluate_blending_for_validation(best_dict, train, test_prep)\n",
    "    for i in range(len(pred)):\n",
    "        if pred[i] > 5:\n",
    "            pred[i] = 5\n",
    "        elif pred[i] < 1:\n",
    "            pred[i] = 1\n",
    "    \n",
    "    test.Rating=pred\n",
    "    test['Prediction']=test.Rating\n",
    "    test = test.drop(['User', 'Movie', 'Rating'], axis=1)\n",
    "    test.to_csv(output, index=False)\n",
    "    \n",
    "def eval_(x, blending, models):\n",
    "    dict_try = {}\n",
    "    for idx, key in enumerate(models.keys()):\n",
    "        dict_try[key] = x[idx] \n",
    "        \n",
    "    return blending.evaluate_blending(dict_try)"
   ]
  },
  {
   "cell_type": "code",
   "execution_count": 5,
   "metadata": {
    "collapsed": false
   },
   "outputs": [],
   "source": [
    "blending = prepare_blending(train, 10, models)"
   ]
  },
  {
   "cell_type": "code",
   "execution_count": 8,
   "metadata": {
    "collapsed": false,
    "scrolled": true
   },
   "outputs": [
    {
     "name": "stdout",
     "output_type": "stream",
     "text": [
      "[USER_MEAN] applying\n",
      "[USER_MEAN] done\n",
      "[USER_MEAN] applying\n",
      "[USER_MEAN] done\n",
      "[USER_MEAN] applying\n",
      "[USER_MEAN] done\n",
      "[USER_MEAN] applying\n",
      "[USER_MEAN] done\n",
      "[USER_MEAN] applying\n",
      "[USER_MEAN] done\n",
      "[USER_MEAN] applying\n",
      "[USER_MEAN] done\n",
      "[USER_MEAN] applying\n",
      "[USER_MEAN] done\n",
      "[USER_MEAN] applying\n",
      "[USER_MEAN] done\n",
      "[USER_MEAN] applying\n",
      "[USER_MEAN] done\n",
      "[USER_MEAN] applying\n",
      "[USER_MEAN] done\n",
      "[MF-SGD] gamma=0.004, features=20, iterations=20\n",
      "[MF-SGD] RMSE on train set: 0.9906263182576142\n",
      "[MF-SGD] Done\n",
      "[MF-SGD] gamma=0.004, features=20, iterations=20\n",
      "[MF-SGD] RMSE on train set: 0.9902440865777487\n",
      "[MF-SGD] Done\n",
      "[MF-SGD] gamma=0.004, features=20, iterations=20\n",
      "[MF-SGD] RMSE on train set: 0.9905483897326202\n",
      "[MF-SGD] Done\n",
      "[MF-SGD] gamma=0.004, features=20, iterations=20\n",
      "[MF-SGD] RMSE on train set: 0.9899146200937358\n",
      "[MF-SGD] Done\n",
      "[MF-SGD] gamma=0.004, features=20, iterations=20\n",
      "[MF-SGD] RMSE on train set: 0.9906239211439712\n",
      "[MF-SGD] Done\n",
      "[MF-SGD] gamma=0.004, features=20, iterations=20\n",
      "[MF-SGD] RMSE on train set: 0.9901595253113757\n",
      "[MF-SGD] Done\n",
      "[MF-SGD] gamma=0.004, features=20, iterations=20\n",
      "[MF-SGD] RMSE on train set: 0.990361419843858\n",
      "[MF-SGD] Done\n",
      "[MF-SGD] gamma=0.004, features=20, iterations=20\n",
      "[MF-SGD] RMSE on train set: 0.9907102842467961\n",
      "[MF-SGD] Done\n",
      "[MF-SGD] gamma=0.004, features=20, iterations=20\n",
      "[MF-SGD] RMSE on train set: 0.9903373387498461\n",
      "[MF-SGD] Done\n",
      "[MF-SGD] gamma=0.004, features=20, iterations=20\n",
      "[MF-SGD] RMSE on train set: 0.9905645033314395\n",
      "[MF-SGD] Done\n",
      "[ALS] applying\n",
      "[ALS] done\n",
      "[ALS] applying\n",
      "[ALS] done\n",
      "[ALS] applying\n",
      "[ALS] done\n",
      "[ALS] applying\n",
      "[ALS] done\n",
      "[ALS] applying\n",
      "[ALS] done\n",
      "[ALS] applying\n",
      "[ALS] done\n",
      "[ALS] applying\n",
      "[ALS] done\n",
      "[ALS] applying\n",
      "[ALS] done\n",
      "[ALS] applying\n",
      "[ALS] done\n",
      "[ALS] applying\n",
      "[ALS] done\n",
      "[MOVIE_MEAN_DEVIATION_USER] applying\n",
      "[MOVIE_MEAN_DEVIATION_USER] done\n",
      "[MOVIE_MEAN_DEVIATION_USER] applying\n",
      "[MOVIE_MEAN_DEVIATION_USER] done\n",
      "[MOVIE_MEAN_DEVIATION_USER] applying\n",
      "[MOVIE_MEAN_DEVIATION_USER] done\n",
      "[MOVIE_MEAN_DEVIATION_USER] applying\n",
      "[MOVIE_MEAN_DEVIATION_USER] done\n",
      "[MOVIE_MEAN_DEVIATION_USER] applying\n",
      "[MOVIE_MEAN_DEVIATION_USER] done\n",
      "[MOVIE_MEAN_DEVIATION_USER] applying\n",
      "[MOVIE_MEAN_DEVIATION_USER] done\n",
      "[MOVIE_MEAN_DEVIATION_USER] applying\n",
      "[MOVIE_MEAN_DEVIATION_USER] done\n",
      "[MOVIE_MEAN_DEVIATION_USER] applying\n",
      "[MOVIE_MEAN_DEVIATION_USER] done\n",
      "[MOVIE_MEAN_DEVIATION_USER] applying\n",
      "[MOVIE_MEAN_DEVIATION_USER] done\n",
      "[MOVIE_MEAN_DEVIATION_USER] applying\n",
      "[MOVIE_MEAN_DEVIATION_USER] done\n",
      "[MOVIE_MEDIAN] applying\n",
      "[MOVIE_MEDIAN] done\n",
      "[MOVIE_MEDIAN] applying\n",
      "[MOVIE_MEDIAN] done\n",
      "[MOVIE_MEDIAN] applying\n",
      "[MOVIE_MEDIAN] done\n",
      "[MOVIE_MEDIAN] applying\n",
      "[MOVIE_MEDIAN] done\n",
      "[MOVIE_MEDIAN] applying\n",
      "[MOVIE_MEDIAN] done\n",
      "[MOVIE_MEDIAN] applying\n",
      "[MOVIE_MEDIAN] done\n",
      "[MOVIE_MEDIAN] applying\n",
      "[MOVIE_MEDIAN] done\n",
      "[MOVIE_MEDIAN] applying\n",
      "[MOVIE_MEDIAN] done\n",
      "[MOVIE_MEDIAN] applying\n",
      "[MOVIE_MEDIAN] done\n",
      "[MOVIE_MEDIAN] applying\n",
      "[MOVIE_MEDIAN] done\n",
      "[MOVIE_MEAN] applying\n",
      "[MOVIE_MEAN] done\n",
      "[MOVIE_MEAN] applying\n",
      "[MOVIE_MEAN] done\n",
      "[MOVIE_MEAN] applying\n",
      "[MOVIE_MEAN] done\n",
      "[MOVIE_MEAN] applying\n",
      "[MOVIE_MEAN] done\n",
      "[MOVIE_MEAN] applying\n",
      "[MOVIE_MEAN] done\n",
      "[MOVIE_MEAN] applying\n",
      "[MOVIE_MEAN] done\n",
      "[MOVIE_MEAN] applying\n",
      "[MOVIE_MEAN] done\n",
      "[MOVIE_MEAN] applying\n",
      "[MOVIE_MEAN] done\n",
      "[MOVIE_MEAN] applying\n",
      "[MOVIE_MEAN] done\n",
      "[MOVIE_MEAN] applying\n",
      "[MOVIE_MEAN] done\n",
      "[MOVIE_MEDIAN_DEVIATION_USER] applying\n",
      "[MOVIE_MEDIAN_DEVIATION_USER] done\n",
      "[MOVIE_MEDIAN_DEVIATION_USER] applying\n",
      "[MOVIE_MEDIAN_DEVIATION_USER] done\n",
      "[MOVIE_MEDIAN_DEVIATION_USER] applying\n",
      "[MOVIE_MEDIAN_DEVIATION_USER] done\n",
      "[MOVIE_MEDIAN_DEVIATION_USER] applying\n",
      "[MOVIE_MEDIAN_DEVIATION_USER] done\n",
      "[MOVIE_MEDIAN_DEVIATION_USER] applying\n",
      "[MOVIE_MEDIAN_DEVIATION_USER] done\n",
      "[MOVIE_MEDIAN_DEVIATION_USER] applying\n",
      "[MOVIE_MEDIAN_DEVIATION_USER] done\n",
      "[MOVIE_MEDIAN_DEVIATION_USER] applying\n",
      "[MOVIE_MEDIAN_DEVIATION_USER] done\n",
      "[MOVIE_MEDIAN_DEVIATION_USER] applying\n",
      "[MOVIE_MEDIAN_DEVIATION_USER] done\n",
      "[MOVIE_MEDIAN_DEVIATION_USER] applying\n",
      "[MOVIE_MEDIAN_DEVIATION_USER] done\n",
      "[MOVIE_MEDIAN_DEVIATION_USER] applying\n",
      "[MOVIE_MEDIAN_DEVIATION_USER] done\n",
      "[USER_MEDIAN] applying\n",
      "[USER_MEDIAN] done\n",
      "[USER_MEDIAN] applying\n",
      "[USER_MEDIAN] done\n",
      "[USER_MEDIAN] applying\n",
      "[USER_MEDIAN] done\n",
      "[USER_MEDIAN] applying\n",
      "[USER_MEDIAN] done\n",
      "[USER_MEDIAN] applying\n",
      "[USER_MEDIAN] done\n",
      "[USER_MEDIAN] applying\n",
      "[USER_MEDIAN] done\n",
      "[USER_MEDIAN] applying\n",
      "[USER_MEDIAN] done\n",
      "[USER_MEDIAN] applying\n",
      "[USER_MEDIAN] done\n",
      "[USER_MEDIAN] applying\n",
      "[USER_MEDIAN] done\n",
      "[USER_MEDIAN] applying\n",
      "[USER_MEDIAN] done\n",
      "[COLLABORATIVE FILTERING] applying\n"
     ]
    },
    {
     "name": "stderr",
     "output_type": "stream",
     "text": [
      "/home/gael/Documents/EPFL/Master_CSE/MA5/PCML/PCML_Netflix_and_Chill/blender/models/collaborative_filtering.py:61: FutureWarning: sort(columns=....) is deprecated, use sort_values(by=.....)\n",
      "  Udata = train.set_index('Movie').join(M).sort('User').set_index('User')\n",
      "/home/gael/Documents/EPFL/Master_CSE/MA5/PCML/PCML_Netflix_and_Chill/blender/models/collaborative_filtering.py:90: FutureWarning: sort(columns=....) is deprecated, use sort_values(by=.....)\n",
      "  Mdata = train.set_index('User').join(U).sort('Movie').set_index('Movie')\n"
     ]
    },
    {
     "name": "stdout",
     "output_type": "stream",
     "text": [
      "[COLLABORATIVE FILTERING] done\n",
      "[COLLABORATIVE FILTERING] applying\n",
      "[COLLABORATIVE FILTERING] done\n",
      "[COLLABORATIVE FILTERING] applying\n",
      "[COLLABORATIVE FILTERING] done\n",
      "[COLLABORATIVE FILTERING] applying\n",
      "[COLLABORATIVE FILTERING] done\n",
      "[COLLABORATIVE FILTERING] applying\n",
      "[COLLABORATIVE FILTERING] done\n",
      "[COLLABORATIVE FILTERING] applying\n",
      "[COLLABORATIVE FILTERING] done\n",
      "[COLLABORATIVE FILTERING] applying\n",
      "[COLLABORATIVE FILTERING] done\n",
      "[COLLABORATIVE FILTERING] applying\n",
      "[COLLABORATIVE FILTERING] done\n",
      "[COLLABORATIVE FILTERING] applying\n",
      "[COLLABORATIVE FILTERING] done\n",
      "[COLLABORATIVE FILTERING] applying\n",
      "[COLLABORATIVE FILTERING] done\n",
      "[GLOBAL_MEDIAN] applying\n",
      "[GLOBAL_MEDIAN] done\n",
      "[GLOBAL_MEDIAN] applying\n",
      "[GLOBAL_MEDIAN] done\n",
      "[GLOBAL_MEDIAN] applying\n",
      "[GLOBAL_MEDIAN] done\n",
      "[GLOBAL_MEDIAN] applying\n",
      "[GLOBAL_MEDIAN] done\n",
      "[GLOBAL_MEDIAN] applying\n",
      "[GLOBAL_MEDIAN] done\n",
      "[GLOBAL_MEDIAN] applying\n",
      "[GLOBAL_MEDIAN] done\n",
      "[GLOBAL_MEDIAN] applying\n",
      "[GLOBAL_MEDIAN] done\n",
      "[GLOBAL_MEDIAN] applying\n",
      "[GLOBAL_MEDIAN] done\n",
      "[GLOBAL_MEDIAN] applying\n",
      "[GLOBAL_MEDIAN] done\n",
      "[GLOBAL_MEDIAN] applying\n",
      "[GLOBAL_MEDIAN] done\n",
      "[GLOBAL_MEAN] applying\n",
      "[GLOBAL_MEAN] done\n",
      "[GLOBAL_MEAN] applying\n",
      "[GLOBAL_MEAN] done\n",
      "[GLOBAL_MEAN] applying\n",
      "[GLOBAL_MEAN] done\n",
      "[GLOBAL_MEAN] applying\n",
      "[GLOBAL_MEAN] done\n",
      "[GLOBAL_MEAN] applying\n",
      "[GLOBAL_MEAN] done\n",
      "[GLOBAL_MEAN] applying\n",
      "[GLOBAL_MEAN] done\n",
      "[GLOBAL_MEAN] applying\n",
      "[GLOBAL_MEAN] done\n",
      "[GLOBAL_MEAN] applying\n",
      "[GLOBAL_MEAN] done\n",
      "[GLOBAL_MEAN] applying\n",
      "[GLOBAL_MEAN] done\n",
      "[GLOBAL_MEAN] applying\n",
      "[GLOBAL_MEAN] done\n"
     ]
    }
   ],
   "source": [
    "blending = add_param_blending(blending, models)"
   ]
  },
  {
   "cell_type": "code",
   "execution_count": 29,
   "metadata": {
    "collapsed": false
   },
   "outputs": [
    {
     "name": "stdout",
     "output_type": "stream",
     "text": [
      "Optimization terminated successfully.\n",
      "         Current function value: 0.945663\n",
      "         Iterations: 534\n",
      "         Function evaluations: 794\n"
     ]
    }
   ],
   "source": [
    "x0 = [ -7.36492006e+00,  -2.32789164e-01,   9.93738410e-01,\n",
    "        -1.22879643e+00,  -8.78304096e+00,   1.36481862e+00,\n",
    "         8.79145727e+00,   7.03119055e-03,   7.57838752e-02,\n",
    "         5.35136273e+00,   1.80748824e+00]\n",
    "res = sco.minimize(eval_, x0, method='Nelder-Mead', args=(blending, models), options={'maxiter':1000, 'disp':True})"
   ]
  },
  {
   "cell_type": "code",
   "execution_count": 30,
   "metadata": {
    "collapsed": false
   },
   "outputs": [
    {
     "data": {
      "text/plain": [
       "array([ -7.36566420e+00,  -2.30498015e-01,   9.93318479e-01,\n",
       "        -1.22831398e+00,  -8.78218141e+00,   1.36260396e+00,\n",
       "         8.79071726e+00,   6.69534432e-03,   7.53953794e-02,\n",
       "         5.35261216e+00,   1.80739164e+00])"
      ]
     },
     "execution_count": 30,
     "metadata": {},
     "output_type": "execute_result"
    }
   ],
   "source": [
    "res.x"
   ]
  },
  {
   "cell_type": "code",
   "execution_count": 32,
   "metadata": {
    "collapsed": false,
    "scrolled": true
   },
   "outputs": [
    {
     "data": {
      "text/plain": [
       "{'als': 0.99331847885718161,\n",
       " 'collab_filt': 0.075395379441305782,\n",
       " 'global_mean': 1.8073916422945944,\n",
       " 'global_median': 5.3526121579824313,\n",
       " 'mf_sgd': -0.23049801522419244,\n",
       " 'movie_mean': 1.3626039613938992,\n",
       " 'movie_mean_deviation_user': -1.2283139841518369,\n",
       " 'movie_median': -8.7821814139990053,\n",
       " 'movie_median_deviation_user': 8.7907172641516222,\n",
       " 'user_mean': -7.3656641985213271,\n",
       " 'user_median': 0.0066953443196113519}"
      ]
     },
     "execution_count": 32,
     "metadata": {},
     "output_type": "execute_result"
    }
   ],
   "source": [
    "dict_opt = {}\n",
    "for idx, key in enumerate(models.keys()):\n",
    "    dict_opt[key] = res.x[idx]\n",
    "dict_opt"
   ]
  },
  {
   "cell_type": "code",
   "execution_count": 33,
   "metadata": {
    "collapsed": false
   },
   "outputs": [
    {
     "name": "stdout",
     "output_type": "stream",
     "text": [
      "RMSE for model user_mean: 1.09465\n",
      "RMSE for model mf_sgd: 0.99995\n",
      "RMSE for model als: 0.98596\n",
      "RMSE for model movie_mean_deviation_user: 0.99647\n",
      "RMSE for model movie_median: 1.09943\n",
      "RMSE for model movie_mean: 1.03039\n",
      "RMSE for model movie_median_deviation_user: 1.05773\n",
      "RMSE for model user_median: 1.15076\n",
      "RMSE for model collab_filt: 1.02369\n",
      "RMSE for model global_median: 1.12812\n",
      "RMSE for model global_mean: 1.11906\n",
      "\n",
      "Best blending: {'user_mean': -7.3656641985213271, 'global_median': 5.3526121579824313, 'mf_sgd': -0.23049801522419244, 'als': 0.99331847885718161, 'movie_mean_deviation_user': -1.2283139841518369, 'global_mean': 1.8073916422945944, 'movie_median': -8.7821814139990053, 'movie_mean': 1.3626039613938992, 'movie_median_deviation_user': 8.7907172641516222, 'user_median': 0.0066953443196113519, 'collab_filt': 0.075395379441305782}\n",
      "RMSE best blending: 0.94566\n"
     ]
    }
   ],
   "source": [
    "test_blending(blending, dict_opt, models)"
   ]
  },
  {
   "cell_type": "code",
   "execution_count": 34,
   "metadata": {
    "collapsed": false,
    "scrolled": true
   },
   "outputs": [
    {
     "name": "stdout",
     "output_type": "stream",
     "text": [
      "[USER_MEAN] applying\n",
      "[USER_MEAN] done\n",
      "[GLOBAL_MEDIAN] applying\n",
      "[GLOBAL_MEDIAN] done\n",
      "[MF-SGD] gamma=0.004, features=20, iterations=20\n",
      "[MF-SGD] RMSE on train set: 0.9908975630629756\n",
      "[MF-SGD] Done\n",
      "[ALS] applying\n",
      "[ALS] done\n",
      "[MOVIE_MEAN_DEVIATION_USER] applying\n",
      "[MOVIE_MEAN_DEVIATION_USER] done\n",
      "[GLOBAL_MEAN] applying\n",
      "[GLOBAL_MEAN] done\n",
      "[MOVIE_MEDIAN] applying\n",
      "[MOVIE_MEDIAN] done\n",
      "[MOVIE_MEAN] applying\n",
      "[MOVIE_MEAN] done\n",
      "[MOVIE_MEDIAN_DEVIATION_USER] applying\n",
      "[MOVIE_MEDIAN_DEVIATION_USER] done\n",
      "[USER_MEDIAN] applying\n",
      "[USER_MEDIAN] done\n",
      "[COLLABORATIVE FILTERING] applying\n"
     ]
    },
    {
     "name": "stderr",
     "output_type": "stream",
     "text": [
      "/home/gael/Documents/EPFL/Master_CSE/MA5/PCML/PCML_Netflix_and_Chill/blender/models/collaborative_filtering.py:61: FutureWarning: sort(columns=....) is deprecated, use sort_values(by=.....)\n",
      "  Udata = train.set_index('Movie').join(M).sort('User').set_index('User')\n",
      "/home/gael/Documents/EPFL/Master_CSE/MA5/PCML/PCML_Netflix_and_Chill/blender/models/collaborative_filtering.py:90: FutureWarning: sort(columns=....) is deprecated, use sort_values(by=.....)\n",
      "  Mdata = train.set_index('User').join(U).sort('Movie').set_index('Movie')\n"
     ]
    },
    {
     "name": "stdout",
     "output_type": "stream",
     "text": [
      "[COLLABORATIVE FILTERING] done\n"
     ]
    }
   ],
   "source": [
    "prediction(train, blending, dict_opt, 'pred_blending.csv')"
   ]
  },
  {
   "cell_type": "code",
   "execution_count": 35,
   "metadata": {
    "collapsed": false
   },
   "outputs": [
    {
     "data": {
      "text/html": [
       "<div>\n",
       "<table border=\"1\" class=\"dataframe\">\n",
       "  <thead>\n",
       "    <tr style=\"text-align: right;\">\n",
       "      <th></th>\n",
       "      <th>Id</th>\n",
       "      <th>Prediction</th>\n",
       "    </tr>\n",
       "  </thead>\n",
       "  <tbody>\n",
       "    <tr>\n",
       "      <th>0</th>\n",
       "      <td>r37_c1</td>\n",
       "      <td>3.283915</td>\n",
       "    </tr>\n",
       "    <tr>\n",
       "      <th>1</th>\n",
       "      <td>r73_c1</td>\n",
       "      <td>3.151462</td>\n",
       "    </tr>\n",
       "    <tr>\n",
       "      <th>2</th>\n",
       "      <td>r156_c1</td>\n",
       "      <td>3.840964</td>\n",
       "    </tr>\n",
       "    <tr>\n",
       "      <th>3</th>\n",
       "      <td>r160_c1</td>\n",
       "      <td>3.389542</td>\n",
       "    </tr>\n",
       "    <tr>\n",
       "      <th>4</th>\n",
       "      <td>r248_c1</td>\n",
       "      <td>3.609437</td>\n",
       "    </tr>\n",
       "  </tbody>\n",
       "</table>\n",
       "</div>"
      ],
      "text/plain": [
       "        Id  Prediction\n",
       "0   r37_c1    3.283915\n",
       "1   r73_c1    3.151462\n",
       "2  r156_c1    3.840964\n",
       "3  r160_c1    3.389542\n",
       "4  r248_c1    3.609437"
      ]
     },
     "execution_count": 35,
     "metadata": {},
     "output_type": "execute_result"
    }
   ],
   "source": [
    "df = pd.read_csv('pred_blending.csv')\n",
    "df.head()"
   ]
  },
  {
   "cell_type": "code",
   "execution_count": 36,
   "metadata": {
    "collapsed": false,
    "scrolled": true
   },
   "outputs": [],
   "source": [
    "pred = list(df.Prediction)"
   ]
  },
  {
   "cell_type": "code",
   "execution_count": 37,
   "metadata": {
    "collapsed": false
   },
   "outputs": [
    {
     "data": {
      "text/plain": [
       "(array([  5.00000000e+01,   7.20000000e+01,   1.95000000e+02,\n",
       "          4.90000000e+02,   1.17000000e+03,   2.50400000e+03,\n",
       "          5.33100000e+03,   1.01250000e+04,   1.93160000e+04,\n",
       "          3.43070000e+04,   5.79280000e+04,   8.90680000e+04,\n",
       "          1.24472000e+05,   1.55533000e+05,   1.76275000e+05,\n",
       "          1.72627000e+05,   1.45169000e+05,   1.00867000e+05,\n",
       "          5.39720000e+04,   2.74810000e+04]),\n",
       " array([ 1. ,  1.2,  1.4,  1.6,  1.8,  2. ,  2.2,  2.4,  2.6,  2.8,  3. ,\n",
       "         3.2,  3.4,  3.6,  3.8,  4. ,  4.2,  4.4,  4.6,  4.8,  5. ]),\n",
       " <a list of 20 Patch objects>)"
      ]
     },
     "execution_count": 37,
     "metadata": {},
     "output_type": "execute_result"
    },
    {
     "data": {
      "image/png": "[encoded data removed]",
      "text/plain": [
       "<matplotlib.figure.Figure at 0x7ff1355b6f60>"
      ]
     },
     "metadata": {},
     "output_type": "display_data"
    }
   ],
   "source": [
    "plt.hist(pred, bins=20)"
   ]
  },
  {
   "cell_type": "code",
   "execution_count": null,
   "metadata": {
    "collapsed": true
   },
   "outputs": [],
   "source": [
    ""
   ]
  }
 ],
 "metadata": {
  "anaconda-cloud": {},
  "kernelspec": {
   "display_name": "Python [conda root]",
   "language": "python",
   "name": "conda-root-py"
  },
  "language_info": {
   "codemirror_mode": {
    "name": "ipython",
    "version": 3.0
   },
   "file_extension": ".py",
   "mimetype": "text/x-python",
   "name": "python",
   "nbconvert_exporter": "python",
   "pygments_lexer": "ipython3",
   "version": "3.5.2"
  }
 },
 "nbformat": 4,
 "nbformat_minor": 0
}