{
 "cells": [
  {
   "cell_type": "code",
   "execution_count": 2,
   "metadata": {
    "collapsed": false
   },
   "outputs": [
    {
     "name": "stderr",
     "output_type": "stream",
     "text": [
      "/home/gael/.local/lib/python3.5/site-packages/sklearn/cross_validation.py:44: DeprecationWarning: This module was deprecated in version 0.18 in favor of the model_selection module into which all the refactored classes and functions are moved. Also note that the interface of the new CV iterators are different from that of this module. This module will be removed in 0.20.\n",
      "  \"This module will be removed in 0.20.\", DeprecationWarning)\n"
     ]
    }
   ],
   "source": [
    "import pandas as pd\n",
    "import numpy as np\n",
    "import os\n",
    "import matplotlib.pyplot as plt\n",
    "import itertools\n",
    "from pyspark.mllib.recommendation import ALS\n",
    "from pyspark.sql.functions import col\n",
    "import math\n",
    "import random\n",
    "import itertools\n",
    "import copy\n",
    "from joblib import Parallel, delayed\n",
    "import multiprocessing\n",
    "import pickle\n",
    "import scipy.optimize as sco\n",
    "\n",
    "from cross_validation import KFoldIndexes,CrossValidation\n",
    "from cross_validation_blending import CrossValidationBlending\n",
    "from models.als import predictions_ALS\n",
    "from models.means import *\n",
    "from models.medians import *\n",
    "from models.helpers import *\n",
    "from models.collaborative_filtering import *\n",
    "from models.MF_SGD import *\n",
    "from models.pyfm import *\n",
    "\n",
    "%matplotlib inline\n",
    "%load_ext autoreload\n",
    "%autoreload 2\n",
    "\n",
    "pd.options.display.max_columns = 100\n",
    "sc.setCheckpointDir('./checkpoint/')"
   ]
  },
  {
   "cell_type": "code",
   "execution_count": 3,
   "metadata": {
    "collapsed": false
   },
   "outputs": [
    {
     "data": {
      "text/html": [
       "<div>\n",
       "<table border=\"1\" class=\"dataframe\">\n",
       "  <thead>\n",
       "    <tr style=\"text-align: right;\">\n",
       "      <th></th>\n",
       "      <th>User</th>\n",
       "      <th>Movie</th>\n",
       "      <th>Rating</th>\n",
       "    </tr>\n",
       "  </thead>\n",
       "  <tbody>\n",
       "    <tr>\n",
       "      <th>0</th>\n",
       "      <td>44</td>\n",
       "      <td>1</td>\n",
       "      <td>4</td>\n",
       "    </tr>\n",
       "    <tr>\n",
       "      <th>1</th>\n",
       "      <td>61</td>\n",
       "      <td>1</td>\n",
       "      <td>3</td>\n",
       "    </tr>\n",
       "    <tr>\n",
       "      <th>2</th>\n",
       "      <td>67</td>\n",
       "      <td>1</td>\n",
       "      <td>4</td>\n",
       "    </tr>\n",
       "    <tr>\n",
       "      <th>3</th>\n",
       "      <td>72</td>\n",
       "      <td>1</td>\n",
       "      <td>3</td>\n",
       "    </tr>\n",
       "    <tr>\n",
       "      <th>4</th>\n",
       "      <td>86</td>\n",
       "      <td>1</td>\n",
       "      <td>5</td>\n",
       "    </tr>\n",
       "  </tbody>\n",
       "</table>\n",
       "</div>"
      ],
      "text/plain": [
       "   User  Movie  Rating\n",
       "0    44      1       4\n",
       "1    61      1       3\n",
       "2    67      1       4\n",
       "3    72      1       3\n",
       "4    86      1       5"
      ]
     },
     "execution_count": 3,
     "metadata": {},
     "output_type": "execute_result"
    }
   ],
   "source": [
    "train = load_csv()\n",
    "train.head()"
   ]
  },
  {
   "cell_type": "code",
   "execution_count": 4,
   "metadata": {
    "collapsed": false
   },
   "outputs": [],
   "source": [
    "models = {\n",
    "    'global_mean': {\n",
    "        'compute_predictions': False,\n",
    "        'function': global_mean,\n",
    "        'params': {}    \n",
    "    },\n",
    "    'user_mean': {\n",
    "        'compute_predictions': False,\n",
    "        'function': user_mean,\n",
    "        'params': {}\n",
    "    },\n",
    "    'movie_mean': {\n",
    "        'compute_predictions': False,\n",
    "        'function': movie_mean,\n",
    "        'params': {}\n",
    "    },\n",
    "    'global_median': {\n",
    "        'compute_predictions': False,\n",
    "        'function': global_median,\n",
    "        'params': {}    \n",
    "    },  \n",
    "    'user_median': {\n",
    "        'compute_predictions': False,\n",
    "        'function': user_median,\n",
    "        'params': {}\n",
    "    },\n",
    "    'movie_median': {\n",
    "        'compute_predictions': False,\n",
    "        'function': movie_median,\n",
    "        'params': {}\n",
    "    }\n",
    "}\n",
    "\n",
    "models2 = {\n",
    "    'movie_mean_deviation_user': {\n",
    "        'compute_predictions': False,\n",
    "        'function': movie_mean_deviation_user,\n",
    "        'params': {}\n",
    "    },\n",
    "    'movie_median_deviation_user': {\n",
    "        'compute_predictions': False,\n",
    "        'function': movie_median_deviation_user,\n",
    "        'params': {}\n",
    "    }\n",
    "}\n",
    "\n",
    "models3 = {\n",
    "    'als': {\n",
    "        'compute_predictions': False,\n",
    "        'function': predictions_ALS,\n",
    "        'params': {\n",
    "            'spark_context': sc,\n",
    "            'rank': 8,\n",
    "            'lambda_': 0.081, \n",
    "            'iterations': 24, \n",
    "            'nonnegative': True\n",
    "        }\n",
    "    },\n",
    "    'collab_filt': {\n",
    "        'compute_predictions': False,\n",
    "        'function': collaborative_filtering,\n",
    "        'params': {\n",
    "            'movie_features':20, \n",
    "            'alpha':19\n",
    "        }  \n",
    "    },\n",
    "    'mf_sgd': {\n",
    "        'compute_predictions': False,\n",
    "        'function': matrix_factorization_SGD_rescaling,\n",
    "        'params': {\n",
    "            'gamma': 0.004,\n",
    "            'n_features': 20,\n",
    "            'n_iter': 20,\n",
    "            'init_method': 'global_mean'\n",
    "        }\n",
    "    },\n",
    "    'pyfm': {\n",
    "        'compute_predictions': False,\n",
    "        'function': pyfm,\n",
    "        'params': {\n",
    "            'num_factors': 20,\n",
    "            'num_iter': 100,\n",
    "            'task': 'regression',\n",
    "            'initial_learning_rate': 0.001,\n",
    "            'learning_rate_schedule': 'optimal'\n",
    "        }\n",
    "    }\n",
    "}\n",
    "\n",
    "models = dict(models, **models2)\n",
    "\n",
    "models = dict(models, **models3)"
   ]
  },
  {
   "cell_type": "code",
   "execution_count": 5,
   "metadata": {
    "collapsed": false
   },
   "outputs": [],
   "source": [
    "def prepare_blending(data, k_folds, models):\n",
    "    blending = CrossValidationBlending(data, k_folds)\n",
    "    for key in models.keys():\n",
    "        blending.add_model(models[key]['function'], key)\n",
    "    return blending\n",
    "\n",
    "def add_param_blending(blending, models):\n",
    "    for key in models.keys():\n",
    "        blending.add_params_for_model(key, models[key]['params'], compute_predictions=models[key]['compute_predictions'])\n",
    "        \n",
    "    return blending\n",
    "\n",
    "def test_blending(blending, best_dict, models):\n",
    "    dict_try = {}\n",
    "    for key in models.keys():\n",
    "        dict_try[key] = 0\n",
    "        \n",
    "    for key in models.keys():\n",
    "        dict_test = dict_try.copy()\n",
    "        dict_test[key] = 1\n",
    "        rmse = blending.evaluate_blending(dict_test)\n",
    "        print(\"RMSE for model %s: %.5f\"%(key, rmse))\n",
    "        \n",
    "    print()\n",
    "    rmse = blending.evaluate_blending(best_dict)\n",
    "    print(\"Best blending: %s\"%best_dict)\n",
    "    print(\"RMSE best blending: %.5f\"%rmse)\n",
    "    \n",
    "def prediction(train, blending, best_dict, output):\n",
    "    test = pd.read_csv('../data/sampleSubmission.csv')\n",
    "    test_prep = test\n",
    "    test_prep['User'] = test_prep['Id'].apply(lambda x: int(x.split('_')[0][1:]))\n",
    "    test_prep['Movie'] = test_prep['Id'].apply(lambda x: int(x.split('_')[1][1:]))\n",
    "    test_prep['Rating'] = test_prep['Prediction']\n",
    "    test_prep = test_prep.drop(['Prediction', 'Id'], axis=1)\n",
    "    \n",
    "    pred = blending.evaluate_blending_for_validation(best_dict, train, test_prep)\n",
    "    for i in range(len(pred)):\n",
    "        if pred[i] > 5:\n",
    "            pred[i] = 5\n",
    "        elif pred[i] < 1:\n",
    "            pred[i] = 1\n",
    "    \n",
    "    test.Rating=pred\n",
    "    test['Prediction']=test.Rating\n",
    "    test = test.drop(['User', 'Movie', 'Rating'], axis=1)\n",
    "    test.to_csv(output, index=False)\n",
    "    \n",
    "def eval_(x, blending, models):\n",
    "    dict_try = {}\n",
    "    for idx, key in enumerate(models.keys()):\n",
    "        dict_try[key] = x[idx] \n",
    "        \n",
    "    return blending.evaluate_blending(dict_try)"
   ]
  },
  {
   "cell_type": "code",
   "execution_count": 6,
   "metadata": {
    "collapsed": false
   },
   "outputs": [],
   "source": [
    "blending = prepare_blending(train, 5, models)"
   ]
  },
  {
   "cell_type": "code",
   "execution_count": 7,
   "metadata": {
    "collapsed": false,
    "scrolled": true
   },
   "outputs": [],
   "source": [
    "blending = add_param_blending(blending, models)"
   ]
  },
  {
   "cell_type": "code",
   "execution_count": 13,
   "metadata": {
    "collapsed": false
   },
   "outputs": [],
   "source": [
    "x0 = [ -3.81181349e+00,  -1.68573031e-01,   7.52569233e-01,\n",
    "         1.65276869e+00,   3.00501141e-01,  -2.27553228e+00,\n",
    "        -1.57271265e+00,   2.27933689e+00,   3.62748552e-03,\n",
    "         4.35628858e-02,   8.82566122e-01,   2.87634963e+00]\n",
    "#res = sco.minimize(eval_, x0, method='Nelder-Mead', args=(blending, models), options={'maxiter':1000, 'disp':True})"
   ]
  },
  {
   "cell_type": "code",
   "execution_count": 31,
   "metadata": {
    "collapsed": false
   },
   "outputs": [
    {
     "data": {
      "text/plain": [
       "array([ -3.81181349e+00,  -1.68573031e-01,   7.52569233e-01,\n",
       "         1.65276869e+00,   3.00501141e-01,  -2.27553228e+00,\n",
       "        -1.57271265e+00,   2.27933689e+00,   3.62748552e-03,\n",
       "         4.35628858e-02,   8.82566122e-01,   2.87634963e+00])"
      ]
     },
     "execution_count": 31,
     "metadata": {},
     "output_type": "execute_result"
    }
   ],
   "source": [
    "res"
   ]
  },
  {
   "cell_type": "code",
   "execution_count": 14,
   "metadata": {
    "collapsed": false
   },
   "outputs": [
    {
     "data": {
      "text/plain": [
       "{'als': 0.752569233,\n",
       " 'collab_filt': 0.0435628858,\n",
       " 'global_mean': 2.87634963,\n",
       " 'global_median': 0.882566122,\n",
       " 'mf_sgd': -0.168573031,\n",
       " 'movie_mean': -1.57271265,\n",
       " 'movie_mean_deviation_user': 1.65276869,\n",
       " 'movie_median': -2.27553228,\n",
       " 'movie_median_deviation_user': 2.27933689,\n",
       " 'pyfm': 0.300501141,\n",
       " 'user_mean': -3.81181349,\n",
       " 'user_median': 0.00362748552}"
      ]
     },
     "execution_count": 14,
     "metadata": {},
     "output_type": "execute_result"
    }
   ],
   "source": [
    "dict_opt = {}\n",
    "for idx, key in enumerate(models.keys()):\n",
    "    dict_opt[key] = x0[idx]\n",
    "dict_opt"
   ]
  },
  {
   "cell_type": "code",
   "execution_count": 11,
   "metadata": {
    "collapsed": false
   },
   "outputs": [
    {
     "name": "stdout",
     "output_type": "stream",
     "text": [
      "Predictions not available for model user_mean\n"
     ]
    },
    {
     "ename": "TypeError",
     "evalue": "exceptions must derive from BaseException",
     "output_type": "error",
     "traceback": [
      "\u001b[0;31m---------------------------------------------------------------------------\u001b[0m",
      "\u001b[0;31mTypeError\u001b[0m                                 Traceback (most recent call last)",
      "\u001b[0;32m<ipython-input-11-4dda018c84a3>\u001b[0m in \u001b[0;36m<module>\u001b[0;34m()\u001b[0m\n\u001b[0;32m----> 1\u001b[0;31m \u001b[0mtest_blending\u001b[0m\u001b[0;34m(\u001b[0m\u001b[0mblending\u001b[0m\u001b[0;34m,\u001b[0m \u001b[0mdict_opt\u001b[0m\u001b[0;34m,\u001b[0m \u001b[0mmodels\u001b[0m\u001b[0;34m)\u001b[0m\u001b[0;34m\u001b[0m\u001b[0m\n\u001b[0m",
      "\u001b[0;32m<ipython-input-5-8c5516269c14>\u001b[0m in \u001b[0;36mtest_blending\u001b[0;34m(blending, best_dict, models)\u001b[0m\n\u001b[1;32m     19\u001b[0m         \u001b[0mdict_test\u001b[0m \u001b[0;34m=\u001b[0m \u001b[0mdict_try\u001b[0m\u001b[0;34m.\u001b[0m\u001b[0mcopy\u001b[0m\u001b[0;34m(\u001b[0m\u001b[0;34m)\u001b[0m\u001b[0;34m\u001b[0m\u001b[0m\n\u001b[1;32m     20\u001b[0m         \u001b[0mdict_test\u001b[0m\u001b[0;34m[\u001b[0m\u001b[0mkey\u001b[0m\u001b[0;34m]\u001b[0m \u001b[0;34m=\u001b[0m \u001b[0;36m1\u001b[0m\u001b[0;34m\u001b[0m\u001b[0m\n\u001b[0;32m---> 21\u001b[0;31m         \u001b[0mrmse\u001b[0m \u001b[0;34m=\u001b[0m \u001b[0mblending\u001b[0m\u001b[0;34m.\u001b[0m\u001b[0mevaluate_blending\u001b[0m\u001b[0;34m(\u001b[0m\u001b[0mdict_test\u001b[0m\u001b[0;34m)\u001b[0m\u001b[0;34m\u001b[0m\u001b[0m\n\u001b[0m\u001b[1;32m     22\u001b[0m         \u001b[0mprint\u001b[0m\u001b[0;34m(\u001b[0m\u001b[0;34m\"RMSE for model %s: %.5f\"\u001b[0m\u001b[0;34m%\u001b[0m\u001b[0;34m(\u001b[0m\u001b[0mkey\u001b[0m\u001b[0;34m,\u001b[0m \u001b[0mrmse\u001b[0m\u001b[0;34m)\u001b[0m\u001b[0;34m)\u001b[0m\u001b[0;34m\u001b[0m\u001b[0m\n\u001b[1;32m     23\u001b[0m \u001b[0;34m\u001b[0m\u001b[0m\n",
      "\u001b[0;32m/home/gael/Documents/EPFL/Master_CSE/MA5/PCML/PCML_Netflix_and_Chill/blender/cross_validation_blending.py\u001b[0m in \u001b[0;36mevaluate_blending\u001b[0;34m(self, blending_dict)\u001b[0m\n\u001b[1;32m    121\u001b[0m             \u001b[0;32mif\u001b[0m \u001b[0mmodel_name\u001b[0m \u001b[0;32mnot\u001b[0m \u001b[0;32min\u001b[0m \u001b[0mself\u001b[0m\u001b[0;34m.\u001b[0m\u001b[0mpredictions\u001b[0m\u001b[0;34m:\u001b[0m\u001b[0;34m\u001b[0m\u001b[0m\n\u001b[1;32m    122\u001b[0m                 \u001b[0mprint\u001b[0m\u001b[0;34m(\u001b[0m\u001b[0;34m'Predictions not available for model'\u001b[0m\u001b[0;34m,\u001b[0m\u001b[0mmodel_name\u001b[0m\u001b[0;34m)\u001b[0m\u001b[0;34m\u001b[0m\u001b[0m\n\u001b[0;32m--> 123\u001b[0;31m                 \u001b[0;32mraise\u001b[0m\u001b[0;34m(\u001b[0m\u001b[0;34m)\u001b[0m\u001b[0;34m\u001b[0m\u001b[0m\n\u001b[0m\u001b[1;32m    124\u001b[0m \u001b[0;34m\u001b[0m\u001b[0m\n\u001b[1;32m    125\u001b[0m         \u001b[0mself\u001b[0m\u001b[0;34m.\u001b[0m\u001b[0mblended_predictions\u001b[0m\u001b[0;34m=\u001b[0m\u001b[0;34m[\u001b[0m\u001b[0;34m]\u001b[0m\u001b[0;34m\u001b[0m\u001b[0m\n",
      "\u001b[0;31mTypeError\u001b[0m: exceptions must derive from BaseException"
     ]
    }
   ],
   "source": [
    "test_blending(blending, dict_opt, models)"
   ]
  },
  {
   "cell_type": "code",
   "execution_count": 15,
   "metadata": {
    "collapsed": false,
    "scrolled": true
   },
   "outputs": [
    {
     "name": "stdout",
     "output_type": "stream",
     "text": [
      "[USER_MEAN] applying\n",
      "[USER_MEAN] done\n",
      "[MF-SGD] gamma=0.004, features=20, iterations=20\n",
      "[MF-SGD] RMSE on train set: 0.9895411617478957\n",
      "[MF-SGD] Done\n",
      "[ALS] applying\n",
      "[ALS] done\n",
      "[MOVIE_MEAN_DEVIATION_USER] applying\n",
      "[MOVIE_MEAN_DEVIATION_USER] done\n",
      "[GLOBAL_MEAN] applying\n",
      "[GLOBAL_MEAN] done\n",
      "[MOVIE_MEDIAN] applying\n",
      "[MOVIE_MEDIAN] done\n",
      "[MOVIE_MEAN] applying\n",
      "[MOVIE_MEAN] done\n",
      "[MOVIE_MEDIAN_DEVIATION_USER] applying\n",
      "[MOVIE_MEDIAN_DEVIATION_USER] done\n",
      "[USER_MEDIAN] applying\n",
      "[USER_MEDIAN] done\n",
      "[COLLABORATIVE FILTERING] applying\n"
     ]
    },
    {
     "name": "stderr",
     "output_type": "stream",
     "text": [
      "/home/gael/Documents/EPFL/Master_CSE/MA5/PCML/PCML_Netflix_and_Chill/blender/models/collaborative_filtering.py:61: FutureWarning: sort(columns=....) is deprecated, use sort_values(by=.....)\n",
      "  model = Ridge(fit_intercept=False, alpha=alpha)\n",
      "/home/gael/Documents/EPFL/Master_CSE/MA5/PCML/PCML_Netflix_and_Chill/blender/models/collaborative_filtering.py:90: FutureWarning: sort(columns=....) is deprecated, use sort_values(by=.....)\n",
      "  model = Ridge(fit_intercept=False, alpha=alpha)\n"
     ]
    },
    {
     "name": "stdout",
     "output_type": "stream",
     "text": [
      "[COLLABORATIVE FILTERING] done\n",
      "[GLOBAL_MEDIAN] applying\n",
      "[GLOBAL_MEDIAN] done\n",
      "[PYFM] applying\n",
      "Creating validation dataset of 0.01 of training for adaptive regularization\n",
      "-- Epoch 1\n",
      "Training MSE: 0.54254\n",
      "-- Epoch 2\n",
      "Training MSE: 0.51051\n",
      "-- Epoch 3\n",
      "Training MSE: 0.50214\n",
      "-- Epoch 4\n",
      "Training MSE: 0.49755\n",
      "-- Epoch 5\n",
      "Training MSE: 0.49464\n",
      "-- Epoch 6\n",
      "Training MSE: 0.49254\n",
      "-- Epoch 7\n",
      "Training MSE: 0.49091\n",
      "-- Epoch 8\n",
      "Training MSE: 0.48960\n",
      "-- Epoch 9\n",
      "Training MSE: 0.48840\n",
      "-- Epoch 10\n",
      "Training MSE: 0.48728\n",
      "-- Epoch 11\n",
      "Training MSE: 0.48617\n",
      "-- Epoch 12\n",
      "Training MSE: 0.48516\n",
      "-- Epoch 13\n",
      "Training MSE: 0.48409\n",
      "-- Epoch 14\n",
      "Training MSE: 0.48293\n",
      "-- Epoch 15\n",
      "Training MSE: 0.48181\n",
      "-- Epoch 16\n",
      "Training MSE: 0.48062\n",
      "-- Epoch 17\n",
      "Training MSE: 0.47932\n",
      "-- Epoch 18\n",
      "Training MSE: 0.47799\n",
      "-- Epoch 19\n",
      "Training MSE: 0.47656\n",
      "-- Epoch 20\n",
      "Training MSE: 0.47510\n",
      "-- Epoch 21\n",
      "Training MSE: 0.47357\n",
      "-- Epoch 22\n",
      "Training MSE: 0.47203\n",
      "-- Epoch 23\n",
      "Training MSE: 0.47041\n",
      "-- Epoch 24\n",
      "Training MSE: 0.46880\n",
      "-- Epoch 25\n",
      "Training MSE: 0.46713\n",
      "-- Epoch 26\n",
      "Training MSE: 0.46552\n",
      "-- Epoch 27\n",
      "Training MSE: 0.46389\n",
      "-- Epoch 28\n",
      "Training MSE: 0.46228\n",
      "-- Epoch 29\n",
      "Training MSE: 0.46069\n",
      "-- Epoch 30\n",
      "Training MSE: 0.45921\n",
      "-- Epoch 31\n",
      "Training MSE: 0.45779\n",
      "-- Epoch 32\n",
      "Training MSE: 0.45654\n",
      "-- Epoch 33\n",
      "Training MSE: 0.45526\n",
      "-- Epoch 34\n",
      "Training MSE: 0.45417\n",
      "-- Epoch 35\n",
      "Training MSE: 0.45314\n",
      "-- Epoch 36\n",
      "Training MSE: 0.45219\n",
      "-- Epoch 37\n",
      "Training MSE: 0.45135\n",
      "-- Epoch 38\n",
      "Training MSE: 0.45057\n",
      "-- Epoch 39\n",
      "Training MSE: 0.44985\n",
      "-- Epoch 40\n",
      "Training MSE: 0.44916\n",
      "-- Epoch 41\n",
      "Training MSE: 0.44862\n",
      "-- Epoch 42\n",
      "Training MSE: 0.44808\n",
      "-- Epoch 43\n",
      "Training MSE: 0.44752\n",
      "-- Epoch 44\n",
      "Training MSE: 0.44703\n",
      "-- Epoch 45\n",
      "Training MSE: 0.44661\n",
      "-- Epoch 46\n",
      "Training MSE: 0.44623\n",
      "-- Epoch 47\n",
      "Training MSE: 0.44587\n",
      "-- Epoch 48\n",
      "Training MSE: 0.44550\n",
      "-- Epoch 49\n",
      "Training MSE: 0.44520\n",
      "-- Epoch 50\n",
      "Training MSE: 0.44489\n",
      "-- Epoch 51\n",
      "Training MSE: 0.44462\n",
      "-- Epoch 52\n",
      "Training MSE: 0.44440\n",
      "-- Epoch 53\n",
      "Training MSE: 0.44414\n",
      "-- Epoch 54\n",
      "Training MSE: 0.44393\n",
      "-- Epoch 55\n",
      "Training MSE: 0.44371\n",
      "-- Epoch 56\n",
      "Training MSE: 0.44351\n",
      "-- Epoch 57\n",
      "Training MSE: 0.44336\n",
      "-- Epoch 58\n",
      "Training MSE: 0.44318\n",
      "-- Epoch 59\n",
      "Training MSE: 0.44298\n",
      "-- Epoch 60\n",
      "Training MSE: 0.44288\n",
      "-- Epoch 61\n",
      "Training MSE: 0.44275\n",
      "-- Epoch 62\n",
      "Training MSE: 0.44260\n",
      "-- Epoch 63\n",
      "Training MSE: 0.44248\n",
      "-- Epoch 64\n",
      "Training MSE: 0.44230\n",
      "-- Epoch 65\n",
      "Training MSE: 0.44220\n",
      "-- Epoch 66\n",
      "Training MSE: 0.44205\n",
      "-- Epoch 67\n",
      "Training MSE: 0.44197\n",
      "-- Epoch 68\n",
      "Training MSE: 0.44188\n",
      "-- Epoch 69\n",
      "Training MSE: 0.44181\n",
      "-- Epoch 70\n",
      "Training MSE: 0.44165\n",
      "-- Epoch 71\n",
      "Training MSE: 0.44155\n",
      "-- Epoch 72\n",
      "Training MSE: 0.44146\n",
      "-- Epoch 73\n",
      "Training MSE: 0.44140\n",
      "-- Epoch 74\n",
      "Training MSE: 0.44128\n",
      "-- Epoch 75\n",
      "Training MSE: 0.44119\n",
      "-- Epoch 76\n",
      "Training MSE: 0.44107\n",
      "-- Epoch 77\n",
      "Training MSE: 0.44092\n",
      "-- Epoch 78\n",
      "Training MSE: 0.44087\n",
      "-- Epoch 79\n",
      "Training MSE: 0.44075\n",
      "-- Epoch 80\n",
      "Training MSE: 0.44068\n",
      "-- Epoch 81\n",
      "Training MSE: 0.44062\n",
      "-- Epoch 82\n",
      "Training MSE: 0.44051\n",
      "-- Epoch 83\n",
      "Training MSE: 0.44039\n",
      "-- Epoch 84\n",
      "Training MSE: 0.44032\n",
      "-- Epoch 85\n",
      "Training MSE: 0.44019\n",
      "-- Epoch 86\n",
      "Training MSE: 0.44012\n",
      "-- Epoch 87\n",
      "Training MSE: 0.44002\n",
      "-- Epoch 88\n",
      "Training MSE: 0.43989\n",
      "-- Epoch 89\n",
      "Training MSE: 0.43985\n",
      "-- Epoch 90\n",
      "Training MSE: 0.43968\n",
      "-- Epoch 91\n",
      "Training MSE: 0.43962\n",
      "-- Epoch 92\n",
      "Training MSE: 0.43952\n",
      "-- Epoch 93\n",
      "Training MSE: 0.43936\n",
      "-- Epoch 94\n",
      "Training MSE: 0.43929\n",
      "-- Epoch 95\n",
      "Training MSE: 0.43922\n",
      "-- Epoch 96\n",
      "Training MSE: 0.43908\n",
      "-- Epoch 97\n",
      "Training MSE: 0.43899\n",
      "-- Epoch 98\n",
      "Training MSE: 0.43888\n",
      "-- Epoch 99\n",
      "Training MSE: 0.43879\n",
      "-- Epoch 100\n",
      "Training MSE: 0.43866\n",
      "[PYFM] done\n"
     ]
    }
   ],
   "source": [
    "prediction(train, blending, dict_opt, 'pred_blending.csv')"
   ]
  },
  {
   "cell_type": "code",
   "execution_count": 16,
   "metadata": {
    "collapsed": false
   },
   "outputs": [
    {
     "data": {
      "text/html": [
       "<div>\n",
       "<table border=\"1\" class=\"dataframe\">\n",
       "  <thead>\n",
       "    <tr style=\"text-align: right;\">\n",
       "      <th></th>\n",
       "      <th>Id</th>\n",
       "      <th>Prediction</th>\n",
       "    </tr>\n",
       "  </thead>\n",
       "  <tbody>\n",
       "    <tr>\n",
       "      <th>0</th>\n",
       "      <td>r37_c1</td>\n",
       "      <td>3.228966</td>\n",
       "    </tr>\n",
       "    <tr>\n",
       "      <th>1</th>\n",
       "      <td>r73_c1</td>\n",
       "      <td>3.104469</td>\n",
       "    </tr>\n",
       "    <tr>\n",
       "      <th>2</th>\n",
       "      <td>r156_c1</td>\n",
       "      <td>3.810373</td>\n",
       "    </tr>\n",
       "    <tr>\n",
       "      <th>3</th>\n",
       "      <td>r160_c1</td>\n",
       "      <td>3.367049</td>\n",
       "    </tr>\n",
       "    <tr>\n",
       "      <th>4</th>\n",
       "      <td>r248_c1</td>\n",
       "      <td>3.670515</td>\n",
       "    </tr>\n",
       "  </tbody>\n",
       "</table>\n",
       "</div>"
      ],
      "text/plain": [
       "        Id  Prediction\n",
       "0   r37_c1    3.228966\n",
       "1   r73_c1    3.104469\n",
       "2  r156_c1    3.810373\n",
       "3  r160_c1    3.367049\n",
       "4  r248_c1    3.670515"
      ]
     },
     "execution_count": 16,
     "metadata": {},
     "output_type": "execute_result"
    }
   ],
   "source": [
    "df = pd.read_csv('pred_blending.csv')\n",
    "df.head()"
   ]
  },
  {
   "cell_type": "code",
   "execution_count": 17,
   "metadata": {
    "collapsed": false,
    "scrolled": true
   },
   "outputs": [],
   "source": [
    "pred = list(df.Prediction)"
   ]
  },
  {
   "cell_type": "code",
   "execution_count": 18,
   "metadata": {
    "collapsed": false
   },
   "outputs": [
    {
     "data": {
      "text/plain": [
       "(array([  6.10000000e+01,   8.30000000e+01,   2.65000000e+02,\n",
       "          5.73000000e+02,   1.32000000e+03,   2.83400000e+03,\n",
       "          5.67800000e+03,   1.10790000e+04,   2.03590000e+04,\n",
       "          3.59390000e+04,   5.98270000e+04,   9.10850000e+04,\n",
       "          1.25902000e+05,   1.55632000e+05,   1.72759000e+05,\n",
       "          1.68259000e+05,   1.40718000e+05,   9.87270000e+04,\n",
       "          5.50160000e+04,   3.08360000e+04]),\n",
       " array([ 1. ,  1.2,  1.4,  1.6,  1.8,  2. ,  2.2,  2.4,  2.6,  2.8,  3. ,\n",
       "         3.2,  3.4,  3.6,  3.8,  4. ,  4.2,  4.4,  4.6,  4.8,  5. ]),\n",
       " <a list of 20 Patch objects>)"
      ]
     },
     "execution_count": 18,
     "metadata": {},
     "output_type": "execute_result"
    },
    {
     "data": {
      "image/png": "[encoded data removed]",
      "text/plain": [
       "<matplotlib.figure.Figure at 0x7f7df17aafd0>"
      ]
     },
     "metadata": {},
     "output_type": "display_data"
    }
   ],
   "source": [
    "plt.hist(pred, bins=20)"
   ]
  },
  {
   "cell_type": "code",
   "execution_count": 37,
   "metadata": {
    "collapsed": false
   },
   "outputs": [
    {
     "data": {
      "text/plain": [
       "(array([  5.00000000e+01,   9.20000000e+01,   1.94000000e+02,\n",
       "          5.07000000e+02,   1.26600000e+03,   2.75100000e+03,\n",
       "          5.68900000e+03,   1.06040000e+04,   1.98780000e+04,\n",
       "          3.41270000e+04,   5.71770000e+04,   8.86940000e+04,\n",
       "          1.23696000e+05,   1.54814000e+05,   1.74385000e+05,\n",
       "          1.73022000e+05,   1.47484000e+05,   1.02678000e+05,\n",
       "          5.39810000e+04,   2.58630000e+04]),\n",
       " array([ 1. ,  1.2,  1.4,  1.6,  1.8,  2. ,  2.2,  2.4,  2.6,  2.8,  3. ,\n",
       "         3.2,  3.4,  3.6,  3.8,  4. ,  4.2,  4.4,  4.6,  4.8,  5. ]),\n",
       " <a list of 20 Patch objects>)"
      ]
     },
     "execution_count": 33,
     "metadata": {},
     "output_type": "execute_result"
    },
    {
     "data": {
      "image/png": "[encoded data removed]",
      "text/plain": [
       "<matplotlib.figure.Figure at 0x7fa8965dcf98>"
      ]
     },
     "metadata": {},
     "output_type": "display_data"
    }
   ],
   "source": [
    "plt.hist(pred, bins=20)"
   ]
  },
  {
   "cell_type": "code",
   "execution_count": null,
   "metadata": {
    "collapsed": true
   },
   "outputs": [],
   "source": []
  }
 ],
 "metadata": {
  "anaconda-cloud": {},
  "kernelspec": {
   "display_name": "Python [conda root]",
   "language": "python",
   "name": "conda-root-py"
  },
  "language_info": {
   "codemirror_mode": {
    "name": "ipython",
    "version": 3
   },
   "file_extension": ".py",
   "mimetype": "text/x-python",
   "name": "python",
   "nbconvert_exporter": "python",
   "pygments_lexer": "ipython3",
   "version": "3.5.2"
  }
 },
 "nbformat": 4,
 "nbformat_minor": 0
}
