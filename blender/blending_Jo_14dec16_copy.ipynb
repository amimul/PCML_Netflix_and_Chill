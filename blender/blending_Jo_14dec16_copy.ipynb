{
 "cells": [
  {
   "cell_type": "code",
   "execution_count": 1,
   "metadata": {
    "collapsed": false
   },
   "outputs": [
    {
     "data": {
      "text/plain": [
       "<pyspark.context.SparkContext at 0x101be03c8>"
      ]
     },
     "execution_count": 1,
     "metadata": {},
     "output_type": "execute_result"
    }
   ],
   "source": [
    "sc"
   ]
  },
  {
   "cell_type": "code",
   "execution_count": 2,
   "metadata": {
    "collapsed": false
   },
   "outputs": [],
   "source": [
    "import pandas as pd\n",
    "import numpy as np\n",
    "import os\n",
    "import matplotlib.pyplot as plt\n",
    "import itertools\n",
    "from pyspark.mllib.recommendation import ALS\n",
    "from pyspark.sql.functions import col\n",
    "import math\n",
    "import random\n",
    "import itertools\n",
    "import copy\n",
    "from joblib import Parallel, delayed\n",
    "import multiprocessing\n",
    "import pickle\n",
    "import scipy.optimize as sco\n",
    "\n",
    "from cross_validation import KFoldIndexes,CrossValidation\n",
    "from cross_validation_blending import CrossValidationBlending\n",
    "from models.als import predictions_ALS\n",
    "from models.means import *\n",
    "from models.medians import *\n",
    "from models.helpers import *\n",
    "from models.collaborative_filtering import *\n",
    "from models.MF_SGD import *\n",
    "\n",
    "%matplotlib inline\n",
    "%load_ext autoreload\n",
    "%autoreload 2\n",
    "\n",
    "pd.options.display.max_columns = 100\n",
    "sc.setCheckpointDir('./checkpoint/')\n"
   ]
  },
  {
   "cell_type": "code",
   "execution_count": 3,
   "metadata": {
    "collapsed": false
   },
   "outputs": [
    {
     "data": {
      "text/html": [
       "<div>\n",
       "<table border=\"1\" class=\"dataframe\">\n",
       "  <thead>\n",
       "    <tr style=\"text-align: right;\">\n",
       "      <th></th>\n",
       "      <th>User</th>\n",
       "      <th>Movie</th>\n",
       "      <th>Rating</th>\n",
       "    </tr>\n",
       "  </thead>\n",
       "  <tbody>\n",
       "    <tr>\n",
       "      <th>0</th>\n",
       "      <td>44</td>\n",
       "      <td>1</td>\n",
       "      <td>4</td>\n",
       "    </tr>\n",
       "    <tr>\n",
       "      <th>1</th>\n",
       "      <td>61</td>\n",
       "      <td>1</td>\n",
       "      <td>3</td>\n",
       "    </tr>\n",
       "    <tr>\n",
       "      <th>2</th>\n",
       "      <td>67</td>\n",
       "      <td>1</td>\n",
       "      <td>4</td>\n",
       "    </tr>\n",
       "    <tr>\n",
       "      <th>3</th>\n",
       "      <td>72</td>\n",
       "      <td>1</td>\n",
       "      <td>3</td>\n",
       "    </tr>\n",
       "    <tr>\n",
       "      <th>4</th>\n",
       "      <td>86</td>\n",
       "      <td>1</td>\n",
       "      <td>5</td>\n",
       "    </tr>\n",
       "  </tbody>\n",
       "</table>\n",
       "</div>"
      ],
      "text/plain": [
       "   User  Movie  Rating\n",
       "0    44      1       4\n",
       "1    61      1       3\n",
       "2    67      1       4\n",
       "3    72      1       3\n",
       "4    86      1       5"
      ]
     },
     "execution_count": 3,
     "metadata": {},
     "output_type": "execute_result"
    }
   ],
   "source": [
    "train = load_csv()\n",
    "train.head()"
   ]
  },
  {
   "cell_type": "code",
   "execution_count": 4,
   "metadata": {
    "collapsed": false
   },
   "outputs": [],
   "source": [
    "models = {\n",
    "    'global_mean': {\n",
    "        'compute_predictions': True,\n",
    "        'function': global_mean,\n",
    "        'params': {}    \n",
    "    },\n",
    "    'user_mean': {\n",
    "        'compute_predictions': True,\n",
    "        'function': user_mean,\n",
    "        'params': {}\n",
    "    },\n",
    "    'movie_mean': {\n",
    "        'compute_predictions': True,\n",
    "        'function': movie_mean,\n",
    "        'params': {}\n",
    "    },\n",
    "    'global_median': {\n",
    "        'compute_predictions': True,\n",
    "        'function': global_median,\n",
    "        'params': {}    \n",
    "    },  \n",
    "    'user_median': {\n",
    "        'compute_predictions': True,\n",
    "        'function': user_median,\n",
    "        'params': {}\n",
    "    },\n",
    "    'movie_median': {\n",
    "        'compute_predictions': True,\n",
    "        'function': movie_median,\n",
    "        'params': {}\n",
    "    }\n",
    "}\n",
    "\n",
    "models2 = {\n",
    "    'movie_mean_deviation_user': {\n",
    "        'compute_predictions': True,\n",
    "        'function': movie_mean_deviation_user,\n",
    "        'params': {}\n",
    "    },\n",
    "    'movie_median_deviation_user': {\n",
    "        'compute_predictions': True,\n",
    "        'function': movie_median_deviation_user,\n",
    "        'params': {}\n",
    "    }\n",
    "}\n",
    "\n",
    "models3 = {\n",
    "    'als': {\n",
    "        'compute_predictions': True,\n",
    "        'function': predictions_ALS,\n",
    "        'params': {\n",
    "            'spark_context': sc,\n",
    "            'rank': 8,\n",
    "            'lambda_': 0.081, \n",
    "            'iterations': 24, \n",
    "            'nonnegative': True\n",
    "        }\n",
    "    },\n",
    "    'collab_filt': {\n",
    "        'compute_predictions': True,\n",
    "        'function': collaborative_filtering,\n",
    "        'params': {\n",
    "            'movie_features':20, \n",
    "            'alpha':19\n",
    "        }  \n",
    "    },\n",
    "    'mf_sgd': {\n",
    "        'compute_predictions': True,\n",
    "        'function': matrix_factorization_SGD,\n",
    "        'params': {\n",
    "            'gamma': 0.004,\n",
    "            'n_features': 20,\n",
    "            'n_iter': 20,\n",
    "            'init_method': 'global_mean'\n",
    "        }\n",
    "    }\n",
    "}\n",
    "\n",
    "models4 = {\n",
    "    'global_mean': {\n",
    "        'compute_predictions': True,\n",
    "        'function': global_mean,\n",
    "        'params': {}    \n",
    "    },  \n",
    "    'mf_sgd': {\n",
    "        'compute_predictions': True,\n",
    "        'function': matrix_factorization_SGD,\n",
    "        'params': {\n",
    "            'gamma': 0.004,\n",
    "            'n_features': 20,\n",
    "            'n_iter': 20,\n",
    "            'init_method': 'global_mean'\n",
    "        }\n",
    "    }   \n",
    "}\n",
    "\n",
    "# add by Jo\n",
    "models5 = {\n",
    "        'mf_sgd_rescale': {\n",
    "        'compute_predictions': True,\n",
    "        'function': matrix_factorization_SGD_rescaling,\n",
    "        'params': {\n",
    "            'gamma': 0.004,\n",
    "            'n_features': 20,\n",
    "            'n_iter': 20,\n",
    "            'init_method': 'global_mean'\n",
    "        }\n",
    "    }\n",
    "}\n",
    "\n",
    "models = dict(models, **models2)\n",
    "\n",
    "models = dict(models, **models3)\n",
    "\n",
    "# add by Jo\n",
    "models = dict(models, **models5)"
   ]
  },
  {
   "cell_type": "code",
   "execution_count": 5,
   "metadata": {
    "collapsed": false
   },
   "outputs": [],
   "source": [
    "def prepare_blending(data, k_folds, models):\n",
    "    blending = CrossValidationBlending(data, k_folds)\n",
    "    for key in models.keys():\n",
    "        blending.add_model(models[key]['function'], key)\n",
    "    return blending\n",
    "\n",
    "def add_param_blending(blending, models):\n",
    "    for key in models.keys():\n",
    "        blending.add_params_for_model(key, models[key]['params'], compute_predictions=models[key]['compute_predictions'])\n",
    "        \n",
    "    return blending\n",
    "\n",
    "def test_blending(blending, best_dict, models):\n",
    "    dict_try = {}\n",
    "    for key in models.keys():\n",
    "        dict_try[key] = 0\n",
    "        \n",
    "    for key in models.keys():\n",
    "        dict_test = dict_try.copy()\n",
    "        dict_test[key] = 1\n",
    "        rmse = blending.evaluate_blending(dict_test)\n",
    "        print(\"RMSE for model %s: %.5f\"%(key, rmse))\n",
    "        \n",
    "    print()\n",
    "    rmse = blending.evaluate_blending(best_dict)\n",
    "    print(\"Best blending: %s\"%best_dict)\n",
    "    print(\"RMSE best blending: %.5f\"%rmse)\n",
    "    \n",
    "def prediction(train, blending, best_dict, output):\n",
    "    test = pd.read_csv('../data/sampleSubmission.csv')\n",
    "    test_prep = test\n",
    "    test_prep['User'] = test_prep['Id'].apply(lambda x: int(x.split('_')[0][1:]))\n",
    "    test_prep['Movie'] = test_prep['Id'].apply(lambda x: int(x.split('_')[1][1:]))\n",
    "    test_prep['Rating'] = test_prep['Prediction']\n",
    "    test_prep = test_prep.drop(['Prediction', 'Id'], axis=1)\n",
    "    \n",
    "    pred = blending.evaluate_blending_for_validation(best_dict, train, test_prep)\n",
    "    for i in range(len(pred)):\n",
    "        if pred[i] > 5:\n",
    "            pred[i] = 5\n",
    "        elif pred[i] < 1:\n",
    "            pred[i] = 1\n",
    "    \n",
    "    test.Rating=pred\n",
    "    test['Prediction']=test.Rating\n",
    "    test = test.drop(['User', 'Movie', 'Rating'], axis=1)\n",
    "    test.to_csv(output, index=False)\n",
    "    \n",
    "def eval_(x, blending, models):\n",
    "    dict_try = {}\n",
    "    for idx, key in enumerate(models.keys()):\n",
    "        dict_try[key] = x[idx] \n",
    "        \n",
    "    return blending.evaluate_blending(dict_try)"
   ]
  },
  {
   "cell_type": "code",
   "execution_count": 6,
   "metadata": {
    "collapsed": false
   },
   "outputs": [],
   "source": [
    "blending = prepare_blending(train, 5, models)"
   ]
  },
  {
   "cell_type": "code",
   "execution_count": 7,
   "metadata": {
    "collapsed": false,
    "scrolled": true
   },
   "outputs": [
    {
     "name": "stdout",
     "output_type": "stream",
     "text": [
      "[USER_MEAN] applying\n",
      "[USER_MEAN] done\n",
      "[USER_MEAN] applying\n",
      "[USER_MEAN] done\n",
      "[USER_MEAN] applying\n",
      "[USER_MEAN] done\n",
      "[USER_MEAN] applying\n",
      "[USER_MEAN] done\n",
      "[USER_MEAN] applying\n",
      "[USER_MEAN] done\n",
      "[MF-SGD] gamma=0.004, features=20, iterations=20\n",
      "[MF-SGD] RMSE on train set: 0.9885049026291648\n",
      "[MF-SGD] Done\n",
      "[MF-SGD] gamma=0.004, features=20, iterations=20\n",
      "[MF-SGD] RMSE on train set: 0.9886749951196526\n",
      "[MF-SGD] Done\n",
      "[MF-SGD] gamma=0.004, features=20, iterations=20\n",
      "[MF-SGD] RMSE on train set: 0.9882599750965839\n",
      "[MF-SGD] Done\n",
      "[MF-SGD] gamma=0.004, features=20, iterations=20\n",
      "[MF-SGD] RMSE on train set: 0.9887865572053464\n",
      "[MF-SGD] Done\n",
      "[MF-SGD] gamma=0.004, features=20, iterations=20\n",
      "[MF-SGD] RMSE on train set: 0.9875863060117469\n",
      "[MF-SGD] Done\n",
      "[MF-SGD] gamma=0.004, features=20, iterations=20\n",
      "[MF-SGD] RMSE on train set: 0.9899415819366403\n",
      "[MF-SGD] Done\n",
      "[MF-SGD] gamma=0.004, features=20, iterations=20\n",
      "[MF-SGD] RMSE on train set: 0.9901106079769219\n",
      "[MF-SGD] Done\n",
      "[MF-SGD] gamma=0.004, features=20, iterations=20\n",
      "[MF-SGD] RMSE on train set: 0.9896765214972774\n",
      "[MF-SGD] Done\n",
      "[MF-SGD] gamma=0.004, features=20, iterations=20\n",
      "[MF-SGD] RMSE on train set: 0.9901988007215712\n",
      "[MF-SGD] Done\n",
      "[MF-SGD] gamma=0.004, features=20, iterations=20\n",
      "[MF-SGD] RMSE on train set: 0.9890326841462029\n",
      "[MF-SGD] Done\n",
      "[ALS] applying\n",
      "[ALS] done\n",
      "[ALS] applying\n",
      "[ALS] done\n",
      "[ALS] applying\n",
      "[ALS] done\n",
      "[ALS] applying\n",
      "[ALS] done\n",
      "[ALS] applying\n",
      "[ALS] done\n",
      "[MOVIE_MEAN_DEVIATION_USER] applying\n",
      "[MOVIE_MEAN_DEVIATION_USER] done\n",
      "[MOVIE_MEAN_DEVIATION_USER] applying\n",
      "[MOVIE_MEAN_DEVIATION_USER] done\n",
      "[MOVIE_MEAN_DEVIATION_USER] applying\n",
      "[MOVIE_MEAN_DEVIATION_USER] done\n",
      "[MOVIE_MEAN_DEVIATION_USER] applying\n",
      "[MOVIE_MEAN_DEVIATION_USER] done\n",
      "[MOVIE_MEAN_DEVIATION_USER] applying\n",
      "[MOVIE_MEAN_DEVIATION_USER] done\n",
      "[MOVIE_MEDIAN] applying\n",
      "[MOVIE_MEDIAN] done\n",
      "[MOVIE_MEDIAN] applying\n",
      "[MOVIE_MEDIAN] done\n",
      "[MOVIE_MEDIAN] applying\n",
      "[MOVIE_MEDIAN] done\n",
      "[MOVIE_MEDIAN] applying\n",
      "[MOVIE_MEDIAN] done\n",
      "[MOVIE_MEDIAN] applying\n",
      "[MOVIE_MEDIAN] done\n",
      "[MOVIE_MEAN] applying\n",
      "[MOVIE_MEAN] done\n",
      "[MOVIE_MEAN] applying\n",
      "[MOVIE_MEAN] done\n",
      "[MOVIE_MEAN] applying\n",
      "[MOVIE_MEAN] done\n",
      "[MOVIE_MEAN] applying\n",
      "[MOVIE_MEAN] done\n",
      "[MOVIE_MEAN] applying\n",
      "[MOVIE_MEAN] done\n",
      "[MOVIE_MEDIAN_DEVIATION_USER] applying\n",
      "[MOVIE_MEDIAN_DEVIATION_USER] done\n",
      "[MOVIE_MEDIAN_DEVIATION_USER] applying\n",
      "[MOVIE_MEDIAN_DEVIATION_USER] done\n",
      "[MOVIE_MEDIAN_DEVIATION_USER] applying\n",
      "[MOVIE_MEDIAN_DEVIATION_USER] done\n",
      "[MOVIE_MEDIAN_DEVIATION_USER] applying\n",
      "[MOVIE_MEDIAN_DEVIATION_USER] done\n",
      "[MOVIE_MEDIAN_DEVIATION_USER] applying\n",
      "[MOVIE_MEDIAN_DEVIATION_USER] done\n",
      "[USER_MEDIAN] applying\n",
      "[USER_MEDIAN] done\n",
      "[USER_MEDIAN] applying\n",
      "[USER_MEDIAN] done\n",
      "[USER_MEDIAN] applying\n",
      "[USER_MEDIAN] done\n",
      "[USER_MEDIAN] applying\n",
      "[USER_MEDIAN] done\n",
      "[USER_MEDIAN] applying\n",
      "[USER_MEDIAN] done\n",
      "[COLLABORATIVE FILTERING] applying\n"
     ]
    },
    {
     "name": "stderr",
     "output_type": "stream",
     "text": [
      "/Users/joachimmuth/Documents/EPFL/PCML/PCML_Netflix_and_Chill/blender/models/collaborative_filtering.py:61: FutureWarning: sort(columns=....) is deprecated, use sort_values(by=.....)\n",
      "  Udata = train.set_index('Movie').join(M).sort('User').set_index('User')\n",
      "/Users/joachimmuth/Documents/EPFL/PCML/PCML_Netflix_and_Chill/blender/models/collaborative_filtering.py:90: FutureWarning: sort(columns=....) is deprecated, use sort_values(by=.....)\n",
      "  Mdata = train.set_index('User').join(U).sort('Movie').set_index('Movie')\n"
     ]
    },
    {
     "name": "stdout",
     "output_type": "stream",
     "text": [
      "[COLLABORATIVE FILTERING] done\n",
      "[COLLABORATIVE FILTERING] applying\n",
      "[COLLABORATIVE FILTERING] done\n",
      "[COLLABORATIVE FILTERING] applying\n",
      "[COLLABORATIVE FILTERING] done\n",
      "[COLLABORATIVE FILTERING] applying\n",
      "[COLLABORATIVE FILTERING] done\n",
      "[COLLABORATIVE FILTERING] applying\n",
      "[COLLABORATIVE FILTERING] done\n",
      "[GLOBAL_MEDIAN] applying\n",
      "[GLOBAL_MEDIAN] done\n",
      "[GLOBAL_MEDIAN] applying\n",
      "[GLOBAL_MEDIAN] done\n",
      "[GLOBAL_MEDIAN] applying\n",
      "[GLOBAL_MEDIAN] done\n",
      "[GLOBAL_MEDIAN] applying\n",
      "[GLOBAL_MEDIAN] done\n",
      "[GLOBAL_MEDIAN] applying\n",
      "[GLOBAL_MEDIAN] done\n",
      "[GLOBAL_MEAN] applying\n",
      "[GLOBAL_MEAN] done\n",
      "[GLOBAL_MEAN] applying\n",
      "[GLOBAL_MEAN] done\n",
      "[GLOBAL_MEAN] applying\n",
      "[GLOBAL_MEAN] done\n",
      "[GLOBAL_MEAN] applying\n",
      "[GLOBAL_MEAN] done\n",
      "[GLOBAL_MEAN] applying\n",
      "[GLOBAL_MEAN] done\n"
     ]
    }
   ],
   "source": [
    "blending = add_param_blending(blending, models)"
   ]
  },
  {
   "cell_type": "code",
   "execution_count": 8,
   "metadata": {
    "collapsed": false
   },
   "outputs": [
    {
     "data": {
      "text/plain": [
       "1.0952830412161259"
      ]
     },
     "execution_count": 8,
     "metadata": {},
     "output_type": "execute_result"
    }
   ],
   "source": [
    "x0 = np.zeros(len(models.keys()))\n",
    "x0[0]=1\n",
    "eval_(x0, blending, models)"
   ]
  },
  {
   "cell_type": "code",
   "execution_count": 9,
   "metadata": {
    "collapsed": false
   },
   "outputs": [
    {
     "data": {
      "text/plain": [
       "dict_keys(['user_mean', 'mf_sgd_rescale', 'mf_sgd', 'als', 'movie_mean_deviation_user', 'movie_median', 'movie_mean', 'movie_median_deviation_user', 'user_median', 'collab_filt', 'global_median', 'global_mean'])"
      ]
     },
     "execution_count": 9,
     "metadata": {},
     "output_type": "execute_result"
    }
   ],
   "source": [
    "models.keys()"
   ]
  },
  {
   "cell_type": "code",
   "execution_count": 10,
   "metadata": {
    "collapsed": false
   },
   "outputs": [
    {
     "name": "stdout",
     "output_type": "stream",
     "text": [
      "Warning: Maximum number of iterations has been exceeded.\n"
     ]
    }
   ],
   "source": [
    "# x0 = [-3.50217241, -0.34302467,  1.03720384, -0.32505441, -4.12058282,\n",
    "#         0.61916421,  4.08423545, -0.02151008,  0.06576934,  3.88763932,\n",
    "#        -0.51662585]\n",
    "\n",
    "#x0 = [-3.50217241, -0.17, -0.17,  1.03720384, -0.32505441, -4.12058282,\n",
    "#        0.61916421,  4.08423545, -0.02151008,  0.06576934,  3.88763932,\n",
    "#       -0.51662585]\n",
    "\n",
    "x0 = [-2.99077953,  0.50838123, -0.27641594,  0.62630672, -0.81644207,\n",
    "       -3.98709989,  0.91659852,  3.97836857, -0.01195157,  0.04861974,\n",
    "        3.3481853 , -0.46744658]\n",
    "res = sco.minimize(eval_, x0, method='Nelder-Mead', args=(blending, models), options={'maxiter':1000, 'disp':True})"
   ]
  },
  {
   "cell_type": "code",
   "execution_count": 11,
   "metadata": {
    "collapsed": false
   },
   "outputs": [
    {
     "data": {
      "text/plain": [
       " final_simplex: (array([[-3.32899363,  0.14579114, -0.36941329,  0.93064264, -0.43713107,\n",
       "        -3.98310197,  0.64757694,  3.99568199,  0.01840276,  0.07213845,\n",
       "         3.7310843 , -0.55721718],\n",
       "       [-3.31872483,  0.16123585, -0.37962888,  0.92602217, -0.44867952,\n",
       "        -3.98264717,  0.66101166,  3.99312091,  0.01982961,  0.07099824,\n",
       "         3.72453614, -0.56144729],\n",
       "       [-3.32223038,  0.16177582, -0.38789812,  0.9257983 , -0.44635097,\n",
       "        -3.98505047,  0.66002567,  3.99966842,  0.02114229,  0.0743403 ,\n",
       "         3.717214  , -0.55259666],\n",
       "       [-3.31906575,  0.16132709, -0.38039431,  0.92709595, -0.44748412,\n",
       "        -3.98221498,  0.6572756 ,  3.99471882,  0.0192121 ,  0.07054131,\n",
       "         3.72345863, -0.5587854 ],\n",
       "       [-3.31845697,  0.17257525, -0.39599432,  0.9264143 , -0.45859675,\n",
       "        -3.98910194,  0.67098722,  4.00181838,  0.02138858,  0.074966  ,\n",
       "         3.7107244 , -0.55072472],\n",
       "       [-3.31220488,  0.17132657, -0.38013751,  0.9247909 , -0.45971076,\n",
       "        -3.98369002,  0.66646689,  3.99406758,  0.01809033,  0.069482  ,\n",
       "         3.71683388, -0.55940293],\n",
       "       [-3.32354118,  0.15335429, -0.37397502,  0.92695335, -0.43963198,\n",
       "        -3.98081264,  0.65552979,  3.99186661,  0.02008108,  0.0709044 ,\n",
       "         3.7294635 , -0.56484765],\n",
       "       [-3.3237319 ,  0.15541456, -0.37868346,  0.92983112, -0.44265666,\n",
       "        -3.98149181,  0.65414892,  3.99409493,  0.01962698,  0.07065874,\n",
       "         3.72911405, -0.560846  ],\n",
       "       [-3.31580758,  0.1676311 , -0.38295598,  0.92651506, -0.45549684,\n",
       "        -3.9825086 ,  0.66050006,  3.99711702,  0.01833999,  0.07017605,\n",
       "         3.71769582, -0.5553919 ],\n",
       "       [-3.3135732 ,  0.18330419, -0.40198528,  0.92934059, -0.4690677 ,\n",
       "        -3.992663  ,  0.67423702,  4.00512007,  0.01948036,  0.07370367,\n",
       "         3.70384842, -0.54526271],\n",
       "       [-3.3158927 ,  0.17555604, -0.39800887,  0.9267092 , -0.45761254,\n",
       "        -3.98778974,  0.67077751,  3.99971443,  0.02142276,  0.07364988,\n",
       "         3.71076799, -0.55292376],\n",
       "       [-3.32146783,  0.15663515, -0.37610028,  0.92780029, -0.44208518,\n",
       "        -3.98041109,  0.65495145,  3.9920881 ,  0.01949349,  0.06979619,\n",
       "         3.72856327, -0.56389342],\n",
       "       [-3.31737687,  0.15975485, -0.37074128,  0.92780911, -0.45112617,\n",
       "        -3.97934326,  0.65593786,  3.99161536,  0.0170493 ,  0.06765661,\n",
       "         3.72741849, -0.56305432]]), array([ 0.96305301,  0.96305427,  0.96305438,  0.96305456,  0.96305501,\n",
       "        0.9630552 ,  0.96305544,  0.96305548,  0.96305548,  0.96305565,\n",
       "        0.96305578,  0.96305589,  0.96305604]))\n",
       "           fun: 0.96305300744542777\n",
       "       message: 'Maximum number of iterations has been exceeded.'\n",
       "          nfev: 1399\n",
       "           nit: 1000\n",
       "        status: 2\n",
       "       success: False\n",
       "             x: array([-3.32899363,  0.14579114, -0.36941329,  0.93064264, -0.43713107,\n",
       "       -3.98310197,  0.64757694,  3.99568199,  0.01840276,  0.07213845,\n",
       "        3.7310843 , -0.55721718])"
      ]
     },
     "execution_count": 11,
     "metadata": {},
     "output_type": "execute_result"
    }
   ],
   "source": [
    "res"
   ]
  },
  {
   "cell_type": "code",
   "execution_count": 12,
   "metadata": {
    "collapsed": false
   },
   "outputs": [
    {
     "data": {
      "text/plain": [
       "{'als': 0.93064263544827197,\n",
       " 'collab_filt': 0.072138454329560925,\n",
       " 'global_mean': -0.55721718497340977,\n",
       " 'global_median': 3.7310842984251371,\n",
       " 'mf_sgd': -0.36941329226630759,\n",
       " 'mf_sgd_rescale': 0.14579113936950661,\n",
       " 'movie_mean': 0.64757693981387776,\n",
       " 'movie_mean_deviation_user': -0.43713107140237706,\n",
       " 'movie_median': -3.9831019673849966,\n",
       " 'movie_median_deviation_user': 3.9956819864991129,\n",
       " 'user_mean': -3.3289936341580812,\n",
       " 'user_median': 0.018402764632486968}"
      ]
     },
     "execution_count": 12,
     "metadata": {},
     "output_type": "execute_result"
    }
   ],
   "source": [
    "dict_opt = {}\n",
    "for idx, key in enumerate(models.keys()):\n",
    "    dict_opt[key] = res.x[idx]\n",
    "dict_opt"
   ]
  },
  {
   "cell_type": "code",
   "execution_count": 13,
   "metadata": {
    "collapsed": false
   },
   "outputs": [
    {
     "name": "stdout",
     "output_type": "stream",
     "text": [
      "RMSE for model user_mean: 1.09528\n",
      "RMSE for model mf_sgd_rescale: 0.99991\n",
      "RMSE for model mf_sgd: 1.00061\n",
      "RMSE for model als: 0.98900\n",
      "RMSE for model movie_mean_deviation_user: 0.99654\n",
      "RMSE for model movie_median: 1.10003\n",
      "RMSE for model movie_mean: 1.03045\n",
      "RMSE for model movie_median_deviation_user: 1.05817\n",
      "RMSE for model user_median: 1.15175\n",
      "RMSE for model collab_filt: 1.02779\n",
      "RMSE for model global_median: 1.12812\n",
      "RMSE for model global_mean: 1.11906\n",
      "\n",
      "Best blending: {'user_mean': -3.3289936341580812, 'mf_sgd_rescale': 0.14579113936950661, 'mf_sgd': -0.36941329226630759, 'als': 0.93064263544827197, 'movie_mean_deviation_user': -0.43713107140237706, 'movie_median': -3.9831019673849966, 'movie_mean': 0.64757693981387776, 'movie_median_deviation_user': 3.9956819864991129, 'user_median': 0.018402764632486968, 'collab_filt': 0.072138454329560925, 'global_median': 3.7310842984251371, 'global_mean': -0.55721718497340977}\n",
      "RMSE best blending: 0.96305\n"
     ]
    }
   ],
   "source": [
    "test_blending(blending, dict_opt, models)"
   ]
  },
  {
   "cell_type": "code",
   "execution_count": 14,
   "metadata": {
    "collapsed": true
   },
   "outputs": [],
   "source": [
    "# i don't know if it works... to clear sp context order to avoid error in 'prediction' method\n",
    "sqlContext = SQLContext.getOrCreate(SparkContext.getOrCreate())\n",
    "\n",
    "sqlContext.clearCache()"
   ]
  },
  {
   "cell_type": "code",
   "execution_count": 15,
   "metadata": {
    "collapsed": false,
    "scrolled": false
   },
   "outputs": [
    {
     "name": "stdout",
     "output_type": "stream",
     "text": [
      "[USER_MEAN] applying\n",
      "[USER_MEAN] done\n",
      "[MF-SGD] gamma=0.004, features=20, iterations=20\n",
      "[MF-SGD] RMSE on train set: 0.9895411617478957\n",
      "[MF-SGD] Done\n",
      "[MF-SGD] gamma=0.004, features=20, iterations=20\n",
      "[MF-SGD] RMSE on train set: 0.9908975630629757\n",
      "[MF-SGD] Done\n",
      "[ALS] applying\n",
      "[ALS] done\n",
      "[MOVIE_MEAN_DEVIATION_USER] applying\n",
      "[MOVIE_MEAN_DEVIATION_USER] done\n",
      "[MOVIE_MEDIAN] applying\n",
      "[MOVIE_MEDIAN] done\n",
      "[MOVIE_MEAN] applying\n",
      "[MOVIE_MEAN] done\n",
      "[MOVIE_MEDIAN_DEVIATION_USER] applying\n",
      "[MOVIE_MEDIAN_DEVIATION_USER] done\n",
      "[USER_MEDIAN] applying\n",
      "[USER_MEDIAN] done\n",
      "[COLLABORATIVE FILTERING] applying\n"
     ]
    },
    {
     "name": "stderr",
     "output_type": "stream",
     "text": [
      "/Users/joachimmuth/Documents/EPFL/PCML/PCML_Netflix_and_Chill/blender/models/collaborative_filtering.py:61: FutureWarning: sort(columns=....) is deprecated, use sort_values(by=.....)\n",
      "  Udata = train.set_index('Movie').join(M).sort('User').set_index('User')\n",
      "/Users/joachimmuth/Documents/EPFL/PCML/PCML_Netflix_and_Chill/blender/models/collaborative_filtering.py:90: FutureWarning: sort(columns=....) is deprecated, use sort_values(by=.....)\n",
      "  Mdata = train.set_index('User').join(U).sort('Movie').set_index('Movie')\n"
     ]
    },
    {
     "name": "stdout",
     "output_type": "stream",
     "text": [
      "[COLLABORATIVE FILTERING] done\n",
      "[GLOBAL_MEDIAN] applying\n",
      "[GLOBAL_MEDIAN] done\n",
      "[GLOBAL_MEAN] applying\n",
      "[GLOBAL_MEAN] done\n"
     ]
    }
   ],
   "source": [
    "prediction(train, blending, dict_opt, 'pred_blending_2.csv')"
   ]
  },
  {
   "cell_type": "code",
   "execution_count": 16,
   "metadata": {
    "collapsed": false
   },
   "outputs": [
    {
     "data": {
      "text/html": [
       "<div>\n",
       "<table border=\"1\" class=\"dataframe\">\n",
       "  <thead>\n",
       "    <tr style=\"text-align: right;\">\n",
       "      <th></th>\n",
       "      <th>Id</th>\n",
       "      <th>Prediction</th>\n",
       "    </tr>\n",
       "  </thead>\n",
       "  <tbody>\n",
       "    <tr>\n",
       "      <th>0</th>\n",
       "      <td>r37_c1</td>\n",
       "      <td>3.277073</td>\n",
       "    </tr>\n",
       "    <tr>\n",
       "      <th>1</th>\n",
       "      <td>r73_c1</td>\n",
       "      <td>3.073035</td>\n",
       "    </tr>\n",
       "    <tr>\n",
       "      <th>2</th>\n",
       "      <td>r156_c1</td>\n",
       "      <td>3.781512</td>\n",
       "    </tr>\n",
       "    <tr>\n",
       "      <th>3</th>\n",
       "      <td>r160_c1</td>\n",
       "      <td>3.313124</td>\n",
       "    </tr>\n",
       "    <tr>\n",
       "      <th>4</th>\n",
       "      <td>r248_c1</td>\n",
       "      <td>3.580175</td>\n",
       "    </tr>\n",
       "  </tbody>\n",
       "</table>\n",
       "</div>"
      ],
      "text/plain": [
       "        Id  Prediction\n",
       "0   r37_c1    3.277073\n",
       "1   r73_c1    3.073035\n",
       "2  r156_c1    3.781512\n",
       "3  r160_c1    3.313124\n",
       "4  r248_c1    3.580175"
      ]
     },
     "execution_count": 16,
     "metadata": {},
     "output_type": "execute_result"
    }
   ],
   "source": [
    "df = pd.read_csv('pred_blending_2.csv')\n",
    "df.head()\n"
   ]
  },
  {
   "cell_type": "code",
   "execution_count": 17,
   "metadata": {
    "collapsed": false,
    "scrolled": true
   },
   "outputs": [],
   "source": [
    "pred = list(df.Prediction)"
   ]
  },
  {
   "cell_type": "code",
   "execution_count": 18,
   "metadata": {
    "collapsed": false
   },
   "outputs": [
    {
     "data": {
      "text/plain": [
       "(array([  6.40000000e+01,   8.10000000e+01,   2.30000000e+02,\n",
       "          5.58000000e+02,   1.23900000e+03,   2.66900000e+03,\n",
       "          5.54800000e+03,   1.04230000e+04,   1.99390000e+04,\n",
       "          3.47120000e+04,   5.83140000e+04,   8.87750000e+04,\n",
       "          1.23490000e+05,   1.54553000e+05,   1.74934000e+05,\n",
       "          1.72503000e+05,   1.45574000e+05,   1.01665000e+05,\n",
       "          5.46940000e+04,   2.69870000e+04]),\n",
       " array([ 1. ,  1.2,  1.4,  1.6,  1.8,  2. ,  2.2,  2.4,  2.6,  2.8,  3. ,\n",
       "         3.2,  3.4,  3.6,  3.8,  4. ,  4.2,  4.4,  4.6,  4.8,  5. ]),\n",
       " <a list of 20 Patch objects>)"
      ]
     },
     "execution_count": 18,
     "metadata": {},
     "output_type": "execute_result"
    },
    {
     "data": {
      "image/png": "[encoded data removed]",
      "text/plain": [
       "<matplotlib.figure.Figure at 0x118e60a90>"
      ]
     },
     "metadata": {},
     "output_type": "display_data"
    }
   ],
   "source": [
    "plt.hist(pred, bins=20)"
   ]
  },
  {
   "cell_type": "code",
   "execution_count": null,
   "metadata": {
    "collapsed": true
   },
   "outputs": [],
   "source": []
  }
 ],
 "metadata": {
  "anaconda-cloud": {},
  "kernelspec": {
   "display_name": "Python [conda root]",
   "language": "python",
   "name": "conda-root-py"
  },
  "language_info": {
   "codemirror_mode": {
    "name": "ipython",
    "version": 3
   },
   "file_extension": ".py",
   "mimetype": "text/x-python",
   "name": "python",
   "nbconvert_exporter": "python",
   "pygments_lexer": "ipython3",
   "version": "3.5.2"
  }
 },
 "nbformat": 4,
 "nbformat_minor": 1
}
