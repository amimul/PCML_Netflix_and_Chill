{
 "cells": [
  {
   "cell_type": "code",
   "execution_count": 1,
   "metadata": {
    "collapsed": false
   },
   "outputs": [
    {
     "data": {
      "text/plain": [
       "<pyspark.context.SparkContext at 0x101c003c8>"
      ]
     },
     "execution_count": 1,
     "metadata": {},
     "output_type": "execute_result"
    }
   ],
   "source": [
    "sc"
   ]
  },
  {
   "cell_type": "code",
   "execution_count": 2,
   "metadata": {
    "collapsed": false
   },
   "outputs": [],
   "source": [
    "import pandas as pd\n",
    "import numpy as np\n",
    "import os\n",
    "import matplotlib.pyplot as plt\n",
    "import itertools\n",
    "from pyspark.mllib.recommendation import ALS\n",
    "from pyspark.sql.functions import col\n",
    "import math\n",
    "import random\n",
    "import itertools\n",
    "import copy\n",
    "from joblib import Parallel, delayed\n",
    "import multiprocessing\n",
    "import pickle\n",
    "import scipy.optimize as sco\n",
    "\n",
    "from cross_validation import KFoldIndexes,CrossValidation\n",
    "from cross_validation_blending import CrossValidationBlending\n",
    "from models.als import predictions_ALS\n",
    "from models.means import *\n",
    "from models.medians import *\n",
    "from models.helpers import *\n",
    "from models.collaborative_filtering import *\n",
    "from models.MF_SGD import *\n",
    "\n",
    "%matplotlib inline\n",
    "%load_ext autoreload\n",
    "%autoreload 2\n",
    "\n",
    "pd.options.display.max_columns = 100\n",
    "sc.setCheckpointDir('./checkpoint/')\n"
   ]
  },
  {
   "cell_type": "code",
   "execution_count": 3,
   "metadata": {
    "collapsed": false
   },
   "outputs": [
    {
     "data": {
      "text/html": [
       "<div>\n",
       "<table border=\"1\" class=\"dataframe\">\n",
       "  <thead>\n",
       "    <tr style=\"text-align: right;\">\n",
       "      <th></th>\n",
       "      <th>User</th>\n",
       "      <th>Movie</th>\n",
       "      <th>Rating</th>\n",
       "    </tr>\n",
       "  </thead>\n",
       "  <tbody>\n",
       "    <tr>\n",
       "      <th>0</th>\n",
       "      <td>44</td>\n",
       "      <td>1</td>\n",
       "      <td>4</td>\n",
       "    </tr>\n",
       "    <tr>\n",
       "      <th>1</th>\n",
       "      <td>61</td>\n",
       "      <td>1</td>\n",
       "      <td>3</td>\n",
       "    </tr>\n",
       "    <tr>\n",
       "      <th>2</th>\n",
       "      <td>67</td>\n",
       "      <td>1</td>\n",
       "      <td>4</td>\n",
       "    </tr>\n",
       "    <tr>\n",
       "      <th>3</th>\n",
       "      <td>72</td>\n",
       "      <td>1</td>\n",
       "      <td>3</td>\n",
       "    </tr>\n",
       "    <tr>\n",
       "      <th>4</th>\n",
       "      <td>86</td>\n",
       "      <td>1</td>\n",
       "      <td>5</td>\n",
       "    </tr>\n",
       "  </tbody>\n",
       "</table>\n",
       "</div>"
      ],
      "text/plain": [
       "   User  Movie  Rating\n",
       "0    44      1       4\n",
       "1    61      1       3\n",
       "2    67      1       4\n",
       "3    72      1       3\n",
       "4    86      1       5"
      ]
     },
     "execution_count": 3,
     "metadata": {},
     "output_type": "execute_result"
    }
   ],
   "source": [
    "train = load_csv()\n",
    "train.head()"
   ]
  },
  {
   "cell_type": "code",
   "execution_count": 4,
   "metadata": {
    "collapsed": false
   },
   "outputs": [],
   "source": [
    "models = {\n",
    "    'global_mean': {\n",
    "        'compute_predictions': True,\n",
    "        'function': global_mean,\n",
    "        'params': {}    \n",
    "    },\n",
    "    'user_mean': {\n",
    "        'compute_predictions': True,\n",
    "        'function': user_mean,\n",
    "        'params': {}\n",
    "    },\n",
    "    'movie_mean': {\n",
    "        'compute_predictions': True,\n",
    "        'function': movie_mean,\n",
    "        'params': {}\n",
    "    },\n",
    "    'global_median': {\n",
    "        'compute_predictions': True,\n",
    "        'function': global_median,\n",
    "        'params': {}    \n",
    "    },  \n",
    "    'user_median': {\n",
    "        'compute_predictions': True,\n",
    "        'function': user_median,\n",
    "        'params': {}\n",
    "    },\n",
    "    'movie_median': {\n",
    "        'compute_predictions': True,\n",
    "        'function': movie_median,\n",
    "        'params': {}\n",
    "    }\n",
    "}\n",
    "\n",
    "models2 = {\n",
    "    'movie_mean_deviation_user': {\n",
    "        'compute_predictions': True,\n",
    "        'function': movie_mean_deviation_user,\n",
    "        'params': {}\n",
    "    },\n",
    "    'movie_median_deviation_user': {\n",
    "        'compute_predictions': True,\n",
    "        'function': movie_median_deviation_user,\n",
    "        'params': {}\n",
    "    }\n",
    "}\n",
    "\n",
    "models3 = {\n",
    "    'als': {\n",
    "        'compute_predictions': True,\n",
    "        'function': predictions_ALS,\n",
    "        'params': {\n",
    "            'spark_context': sc,\n",
    "            'rank': 8,\n",
    "            'lambda_': 0.081, \n",
    "            'iterations': 24, \n",
    "            'nonnegative': True\n",
    "        }\n",
    "    },\n",
    "    'collab_filt': {\n",
    "        'compute_predictions': True,\n",
    "        'function': collaborative_filtering,\n",
    "        'params': {\n",
    "            'movie_features':20, \n",
    "            'alpha':19\n",
    "        }  \n",
    "    },\n",
    "    'mf_sgd': {\n",
    "        'compute_predictions': True,\n",
    "        'function': matrix_factorization_SGD,\n",
    "        'params': {\n",
    "            'gamma': 0.004,\n",
    "            'n_features': 20,\n",
    "            'n_iter': 20,\n",
    "            'init_method': 'global_mean'\n",
    "        }\n",
    "    }\n",
    "}\n",
    "\n",
    "models4 = {\n",
    "    'global_mean': {\n",
    "        'compute_predictions': True,\n",
    "        'function': global_mean,\n",
    "        'params': {}    \n",
    "    },  \n",
    "    'mf_sgd': {\n",
    "        'compute_predictions': True,\n",
    "        'function': matrix_factorization_SGD,\n",
    "        'params': {\n",
    "            'gamma': 0.004,\n",
    "            'n_features': 20,\n",
    "            'n_iter': 20,\n",
    "            'init_method': 'global_mean'\n",
    "        }\n",
    "    }   \n",
    "}\n",
    "\n",
    "# add by Jo\n",
    "models5 = {\n",
    "        'mf_sgd_rescale': {\n",
    "        'compute_predictions': True,\n",
    "        'function': matrix_factorization_SGD_rescaling,\n",
    "        'params': {\n",
    "            'gamma': 0.004,\n",
    "            'n_features': 20,\n",
    "            'n_iter': 20,\n",
    "            'init_method': 'global_mean'\n",
    "        }\n",
    "    }\n",
    "}\n",
    "\n",
    "models = dict(models, **models2)\n",
    "\n",
    "models = dict(models, **models3)\n",
    "\n",
    "# add by Jo\n",
    "models = dict(models, **models5)"
   ]
  },
  {
   "cell_type": "code",
   "execution_count": 5,
   "metadata": {
    "collapsed": false
   },
   "outputs": [],
   "source": [
    "def prepare_blending(data, k_folds, models):\n",
    "    blending = CrossValidationBlending(data, k_folds)\n",
    "    for key in models.keys():\n",
    "        blending.add_model(models[key]['function'], key)\n",
    "    return blending\n",
    "\n",
    "def add_param_blending(blending, models):\n",
    "    for key in models.keys():\n",
    "        blending.add_params_for_model(key, models[key]['params'], compute_predictions=models[key]['compute_predictions'])\n",
    "        \n",
    "    return blending\n",
    "\n",
    "def test_blending(blending, best_dict, models):\n",
    "    dict_try = {}\n",
    "    for key in models.keys():\n",
    "        dict_try[key] = 0\n",
    "        \n",
    "    for key in models.keys():\n",
    "        dict_test = dict_try.copy()\n",
    "        dict_test[key] = 1\n",
    "        rmse = blending.evaluate_blending(dict_test)\n",
    "        print(\"RMSE for model %s: %.5f\"%(key, rmse))\n",
    "        \n",
    "    print()\n",
    "    rmse = blending.evaluate_blending(best_dict)\n",
    "    print(\"Best blending: %s\"%best_dict)\n",
    "    print(\"RMSE best blending: %.5f\"%rmse)\n",
    "    \n",
    "def prediction(train, blending, best_dict, output):\n",
    "    test = pd.read_csv('../data/sampleSubmission.csv')\n",
    "    test_prep = test\n",
    "    test_prep['User'] = test_prep['Id'].apply(lambda x: int(x.split('_')[0][1:]))\n",
    "    test_prep['Movie'] = test_prep['Id'].apply(lambda x: int(x.split('_')[1][1:]))\n",
    "    test_prep['Rating'] = test_prep['Prediction']\n",
    "    test_prep = test_prep.drop(['Prediction', 'Id'], axis=1)\n",
    "    \n",
    "    pred = blending.evaluate_blending_for_validation(best_dict, train, test_prep)\n",
    "    for i in range(len(pred)):\n",
    "        if pred[i] > 5:\n",
    "            pred[i] = 5\n",
    "        elif pred[i] < 1:\n",
    "            pred[i] = 1\n",
    "    \n",
    "    test.Rating=pred\n",
    "    test['Prediction']=test.Rating\n",
    "    test = test.drop(['User', 'Movie', 'Rating'], axis=1)\n",
    "    test.to_csv(output, index=False)\n",
    "    \n",
    "def eval_(x, blending, models):\n",
    "    dict_try = {}\n",
    "    for idx, key in enumerate(models.keys()):\n",
    "        dict_try[key] = x[idx] \n",
    "        \n",
    "    return blending.evaluate_blending(dict_try)"
   ]
  },
  {
   "cell_type": "code",
   "execution_count": null,
   "metadata": {
    "collapsed": false
   },
   "outputs": [],
   "source": [
    "blending = prepare_blending(train, 3, models)"
   ]
  },
  {
   "cell_type": "code",
   "execution_count": null,
   "metadata": {
    "collapsed": false,
    "scrolled": true
   },
   "outputs": [
    {
     "name": "stdout",
     "output_type": "stream",
     "text": [
      "[USER_MEAN] applying\n",
      "[USER_MEAN] done\n",
      "[USER_MEAN] applying\n",
      "[USER_MEAN] done\n",
      "[USER_MEAN] applying\n",
      "[USER_MEAN] done\n",
      "[MF-SGD] gamma=0.004, features=20, iterations=20\n"
     ]
    }
   ],
   "source": [
    "blending = add_param_blending(blending, models)"
   ]
  },
  {
   "cell_type": "code",
   "execution_count": null,
   "metadata": {
    "collapsed": false
   },
   "outputs": [],
   "source": [
    "x0 = np.zeros(len(models.keys()))\n",
    "x0[0]=1\n",
    "eval_(x0, blending, models)"
   ]
  },
  {
   "cell_type": "code",
   "execution_count": null,
   "metadata": {
    "collapsed": false
   },
   "outputs": [],
   "source": [
    "models.keys()"
   ]
  },
  {
   "cell_type": "code",
   "execution_count": null,
   "metadata": {
    "collapsed": false
   },
   "outputs": [],
   "source": [
    "# x0 = [-3.50217241, -0.34302467,  1.03720384, -0.32505441, -4.12058282,\n",
    "#         0.61916421,  4.08423545, -0.02151008,  0.06576934,  3.88763932,\n",
    "#        -0.51662585]\n",
    "\n",
    "x0 = [-3.50217241, -0.17, -0.17,  1.03720384, -0.32505441, -4.12058282,\n",
    "        0.61916421,  4.08423545, -0.02151008,  0.06576934,  3.88763932,\n",
    "       -0.51662585]\n",
    "res = sco.minimize(eval_, x0, method='Nelder-Mead', args=(blending, models), options={'maxiter':1000, 'disp':True})"
   ]
  },
  {
   "cell_type": "code",
   "execution_count": null,
   "metadata": {
    "collapsed": false
   },
   "outputs": [],
   "source": [
    "res"
   ]
  },
  {
   "cell_type": "code",
   "execution_count": null,
   "metadata": {
    "collapsed": false
   },
   "outputs": [],
   "source": [
    "dict_opt = {}\n",
    "for idx, key in enumerate(models.keys()):\n",
    "    dict_opt[key] = res.x[idx]\n",
    "dict_opt"
   ]
  },
  {
   "cell_type": "code",
   "execution_count": null,
   "metadata": {
    "collapsed": false
   },
   "outputs": [],
   "source": [
    "test_blending(blending, dict_opt, models)"
   ]
  },
  {
   "cell_type": "code",
   "execution_count": null,
   "metadata": {
    "collapsed": true
   },
   "outputs": [],
   "source": [
    "# i don't know if it works... to clear sp context order to avoid error in 'prediction' method\n",
    "sqlContext = SQLContext.getOrCreate(SparkContext.getOrCreate())\n",
    "\n",
    "sqlContext.clearCache()"
   ]
  },
  {
   "cell_type": "code",
   "execution_count": null,
   "metadata": {
    "collapsed": false,
    "scrolled": false
   },
   "outputs": [],
   "source": [
    "prediction(train, blending, dict_opt, 'pred_blending.csv')"
   ]
  },
  {
   "cell_type": "code",
   "execution_count": null,
   "metadata": {
    "collapsed": false
   },
   "outputs": [],
   "source": [
    "df = pd.read_csv('pred_blending_Jo.csv')\n",
    "df.head()\n"
   ]
  },
  {
   "cell_type": "code",
   "execution_count": null,
   "metadata": {
    "collapsed": false,
    "scrolled": true
   },
   "outputs": [],
   "source": [
    "pred = list(df.Prediction)"
   ]
  },
  {
   "cell_type": "code",
   "execution_count": null,
   "metadata": {
    "collapsed": false
   },
   "outputs": [],
   "source": [
    "plt.hist(pred, bins=20)"
   ]
  },
  {
   "cell_type": "code",
   "execution_count": null,
   "metadata": {
    "collapsed": true
   },
   "outputs": [],
   "source": []
  }
 ],
 "metadata": {
  "anaconda-cloud": {},
  "kernelspec": {
   "display_name": "Python [conda root]",
   "language": "python",
   "name": "conda-root-py"
  },
  "language_info": {
   "codemirror_mode": {
    "name": "ipython",
    "version": 3
   },
   "file_extension": ".py",
   "mimetype": "text/x-python",
   "name": "python",
   "nbconvert_exporter": "python",
   "pygments_lexer": "ipython3",
   "version": "3.5.2"
  }
 },
 "nbformat": 4,
 "nbformat_minor": 1
}
