{
 "cells": [
  {
   "cell_type": "markdown",
   "metadata": {},
   "source": [
    "# Example of usage of Cross Validation while mixing models\n",
    "Not well implemented yet\n"
   ]
  },
  {
   "cell_type": "code",
   "execution_count": 1,
   "metadata": {
    "collapsed": false,
    "scrolled": true
   },
   "outputs": [
    {
     "data": {
      "text/plain": [
       "<pyspark.context.SparkContext at 0x7fea8c7e1208>"
      ]
     },
     "execution_count": 1,
     "metadata": {},
     "output_type": "execute_result"
    }
   ],
   "source": [
    "sc"
   ]
  },
  {
   "cell_type": "markdown",
   "metadata": {},
   "source": [
    "# Import"
   ]
  },
  {
   "cell_type": "code",
   "execution_count": 2,
   "metadata": {
    "collapsed": false
   },
   "outputs": [],
   "source": [
    "import pandas as pd\n",
    "import numpy as np\n",
    "import os\n",
    "import matplotlib.pyplot as plt\n",
    "import itertools\n",
    "from pyspark.mllib.recommendation import ALS\n",
    "import math\n",
    "\n",
    "%matplotlib inline\n",
    "%load_ext autoreload\n",
    "%autoreload 2\n",
    "\n",
    "pd.options.display.max_columns = 100\n"
   ]
  },
  {
   "cell_type": "code",
   "execution_count": 3,
   "metadata": {
    "collapsed": false
   },
   "outputs": [],
   "source": [
    "from pyspark.sql.functions import col"
   ]
  },
  {
   "cell_type": "code",
   "execution_count": 4,
   "metadata": {
    "collapsed": false
   },
   "outputs": [],
   "source": [
    "from cross_validation import KFoldIndexes,CrossValidation"
   ]
  },
  {
   "cell_type": "code",
   "execution_count": 5,
   "metadata": {
    "collapsed": true
   },
   "outputs": [],
   "source": [
    "from cross_validation_blending import CrossValidationBlending"
   ]
  },
  {
   "cell_type": "code",
   "execution_count": 6,
   "metadata": {
    "collapsed": true
   },
   "outputs": [],
   "source": [
    "from als import predictions_ALS\n",
    "from means import user_mean,global_mean,movie_mean"
   ]
  },
  {
   "cell_type": "code",
   "execution_count": 7,
   "metadata": {
    "collapsed": false
   },
   "outputs": [],
   "source": [
    "import helpers"
   ]
  },
  {
   "cell_type": "code",
   "execution_count": 8,
   "metadata": {
    "collapsed": false
   },
   "outputs": [],
   "source": [
    "import random\n"
   ]
  },
  {
   "cell_type": "markdown",
   "metadata": {},
   "source": [
    "# Dataframe creation"
   ]
  },
  {
   "cell_type": "code",
   "execution_count": 9,
   "metadata": {
    "collapsed": false,
    "scrolled": true
   },
   "outputs": [
    {
     "data": {
      "text/html": [
       "<div>\n",
       "<table border=\"1\" class=\"dataframe\">\n",
       "  <thead>\n",
       "    <tr style=\"text-align: right;\">\n",
       "      <th></th>\n",
       "      <th>User</th>\n",
       "      <th>Movie</th>\n",
       "      <th>Rating</th>\n",
       "    </tr>\n",
       "  </thead>\n",
       "  <tbody>\n",
       "    <tr>\n",
       "      <th>0</th>\n",
       "      <td>44</td>\n",
       "      <td>1</td>\n",
       "      <td>4</td>\n",
       "    </tr>\n",
       "    <tr>\n",
       "      <th>1</th>\n",
       "      <td>61</td>\n",
       "      <td>1</td>\n",
       "      <td>3</td>\n",
       "    </tr>\n",
       "    <tr>\n",
       "      <th>2</th>\n",
       "      <td>67</td>\n",
       "      <td>1</td>\n",
       "      <td>4</td>\n",
       "    </tr>\n",
       "    <tr>\n",
       "      <th>3</th>\n",
       "      <td>72</td>\n",
       "      <td>1</td>\n",
       "      <td>3</td>\n",
       "    </tr>\n",
       "    <tr>\n",
       "      <th>4</th>\n",
       "      <td>86</td>\n",
       "      <td>1</td>\n",
       "      <td>5</td>\n",
       "    </tr>\n",
       "  </tbody>\n",
       "</table>\n",
       "</div>"
      ],
      "text/plain": [
       "   User  Movie  Rating\n",
       "0    44      1       4\n",
       "1    61      1       3\n",
       "2    67      1       4\n",
       "3    72      1       3\n",
       "4    86      1       5"
      ]
     },
     "execution_count": 9,
     "metadata": {},
     "output_type": "execute_result"
    }
   ],
   "source": [
    "train = helpers.load_csv()\n",
    "train.head()"
   ]
  },
  {
   "cell_type": "markdown",
   "metadata": {},
   "source": [
    "# Cross Validation Blending examples\n",
    "Example on how CrossValidationBlending"
   ]
  },
  {
   "cell_type": "code",
   "execution_count": 121,
   "metadata": {
    "collapsed": false
   },
   "outputs": [],
   "source": [
    "blending_test=CrossValidationBlending(train,4)"
   ]
  },
  {
   "cell_type": "code",
   "execution_count": 122,
   "metadata": {
    "collapsed": false
   },
   "outputs": [],
   "source": [
    "blending_test.add_model(predictions_ALS,'als')\n",
    "blending_test.add_model(predictions_ALS,'als2')"
   ]
  },
  {
   "cell_type": "code",
   "execution_count": 123,
   "metadata": {
    "collapsed": true
   },
   "outputs": [],
   "source": [
    "blending_test.add_model(global_mean,'global_mean')"
   ]
  },
  {
   "cell_type": "code",
   "execution_count": 124,
   "metadata": {
    "collapsed": true
   },
   "outputs": [],
   "source": [
    "blending_test.add_model(user_mean,'user_mean')"
   ]
  },
  {
   "cell_type": "code",
   "execution_count": 125,
   "metadata": {
    "collapsed": true
   },
   "outputs": [],
   "source": [
    "blending_test.add_model(movie_mean,'movie_mean')"
   ]
  },
  {
   "cell_type": "code",
   "execution_count": 126,
   "metadata": {
    "collapsed": false,
    "scrolled": true
   },
   "outputs": [
    {
     "name": "stdout",
     "output_type": "stream",
     "text": [
      "[ALS] applying\n",
      "[ALS] done\n",
      "[ALS] applying\n",
      "[ALS] done\n",
      "[ALS] applying\n",
      "[ALS] done\n",
      "[ALS] applying\n",
      "[ALS] done\n",
      "[ALS] applying\n",
      "[ALS] done\n",
      "[ALS] applying\n",
      "[ALS] done\n",
      "[ALS] applying\n",
      "[ALS] done\n",
      "[ALS] applying\n",
      "[ALS] done\n"
     ]
    }
   ],
   "source": [
    "blending_test.add_params_for_model('als',{'spark_context':sc,'rank':8,'lambda_':0.081, 'iterations':24, 'nonnegative':True},compute_predictions=True)\n",
    "blending_test.add_params_for_model('als2',{'spark_context':sc,'rank':8,'lambda_':0.081, 'iterations':24, 'nonnegative':True},compute_predictions=True)"
   ]
  },
  {
   "cell_type": "code",
   "execution_count": 127,
   "metadata": {
    "collapsed": false
   },
   "outputs": [
    {
     "name": "stdout",
     "output_type": "stream",
     "text": [
      "[USER_MEAN] applying\n",
      "[USER_MEAN] done\n",
      "[USER_MEAN] applying\n",
      "[USER_MEAN] done\n",
      "[USER_MEAN] applying\n",
      "[USER_MEAN] done\n",
      "[USER_MEAN] applying\n",
      "[USER_MEAN] done\n"
     ]
    }
   ],
   "source": [
    "blending_test.add_params_for_model('user_mean',{})"
   ]
  },
  {
   "cell_type": "code",
   "execution_count": 128,
   "metadata": {
    "collapsed": false
   },
   "outputs": [
    {
     "name": "stdout",
     "output_type": "stream",
     "text": [
      "[MOVIE_MEAN] applying\n",
      "[MOVIE_MEAN] done\n",
      "[MOVIE_MEAN] applying\n",
      "[MOVIE_MEAN] done\n",
      "[MOVIE_MEAN] applying\n",
      "[MOVIE_MEAN] done\n",
      "[MOVIE_MEAN] applying\n",
      "[MOVIE_MEAN] done\n"
     ]
    }
   ],
   "source": [
    "blending_test.add_params_for_model('movie_mean',{})"
   ]
  },
  {
   "cell_type": "code",
   "execution_count": 129,
   "metadata": {
    "collapsed": false,
    "scrolled": true
   },
   "outputs": [
    {
     "name": "stdout",
     "output_type": "stream",
     "text": [
      "[GLOBAL_MEAN] applying\n",
      "[GLOBAL_MEAN] done\n",
      "[GLOBAL_MEAN] applying\n",
      "[GLOBAL_MEAN] done\n",
      "[GLOBAL_MEAN] applying\n",
      "[GLOBAL_MEAN] done\n",
      "[GLOBAL_MEAN] applying\n",
      "[GLOBAL_MEAN] done\n"
     ]
    }
   ],
   "source": [
    "blending_test.add_params_for_model('global_mean',{},compute_predictions=True)"
   ]
  },
  {
   "cell_type": "code",
   "execution_count": 135,
   "metadata": {
    "collapsed": false
   },
   "outputs": [],
   "source": [
    "combinations=[]\n",
    "i=0.7\n",
    "while i<=0.9:\n",
    "    combinations.append(i)\n",
    "    i+=0.01"
   ]
  },
  {
   "cell_type": "code",
   "execution_count": 136,
   "metadata": {
    "collapsed": true
   },
   "outputs": [],
   "source": [
    "dict_try={'als':0,'als2':0,'global_mean':0,'user_mean':0,'movie_mean':0}"
   ]
  },
  {
   "cell_type": "code",
   "execution_count": 137,
   "metadata": {
    "collapsed": false
   },
   "outputs": [
    {
     "name": "stdout",
     "output_type": "stream",
     "text": [
      "Result for als_w = 0.7 : 0.988791470192\n",
      "Result for als_w = 0.71 : 0.988630572445\n",
      "Result for als_w = 0.72 : 0.988482242193\n",
      "Result for als_w = 0.73 : 0.988346485096\n",
      "Result for als_w = 0.74 : 0.988223306334\n",
      "Result for als_w = 0.75 : 0.988112710612\n",
      "Result for als_w = 0.76 : 0.988014702155\n",
      "Result for als_w = 0.77 : 0.98792928471\n",
      "Result for als_w = 0.78 : 0.987856461542\n",
      "Result for als_w = 0.79 : 0.987796235438\n",
      "Result for als_w = 0.8 : 0.9877486087\n",
      "Result for als_w = 0.81 : 0.987713583153\n",
      "Result for als_w = 0.8200000000000001 : 0.987691160136\n",
      "Result for als_w = 0.8300000000000001 : 0.987681340508\n",
      "Result for als_w = 0.8400000000000001 : 0.987684124645\n",
      "Result for als_w = 0.8500000000000001 : 0.98769951244\n",
      "Result for als_w = 0.8600000000000001 : 0.987727503304\n",
      "Result for als_w = 0.8700000000000001 : 0.987768096166\n",
      "Result for als_w = 0.8800000000000001 : 0.987821289472\n",
      "Result for als_w = 0.8900000000000001 : 0.987887081187\n"
     ]
    }
   ],
   "source": [
    "for i in combinations:\n",
    "    als_w=i/2\n",
    "    movie_w=1-i\n",
    "    \n",
    "    dict_try['als']=als_w\n",
    "    dict_try['als2']=als_w\n",
    "    dict_try['movie_mean']=movie_w\n",
    "\n",
    "    result=blending_test.evaluate_blending(dict_try)\n",
    "    print('Result for als_w =',i,':',result)"
   ]
  },
  {
   "cell_type": "code",
   "execution_count": 138,
   "metadata": {
    "collapsed": true
   },
   "outputs": [],
   "source": [
    "best_als_w=0.83"
   ]
  },
  {
   "cell_type": "code",
   "execution_count": 101,
   "metadata": {
    "collapsed": false,
    "scrolled": true
   },
   "outputs": [
    {
     "data": {
      "text/plain": [
       "1.1190571700995784"
      ]
     },
     "execution_count": 101,
     "metadata": {},
     "output_type": "execute_result"
    }
   ],
   "source": [
    "blending_test.evaluate_blending({'als':0,'als2':0,'global_mean':1,'user_mean':0,'movie_mean':0})"
   ]
  },
  {
   "cell_type": "code",
   "execution_count": 139,
   "metadata": {
    "collapsed": true
   },
   "outputs": [],
   "source": [
    "best_dict={'als':0.83/2,'als2':0.83/2,'global_mean':0,'user_mean':0,'movie_mean':0.17}"
   ]
  },
  {
   "cell_type": "code",
   "execution_count": 140,
   "metadata": {
    "collapsed": false,
    "scrolled": true
   },
   "outputs": [
    {
     "data": {
      "text/plain": [
       "{'als': <function als.predictions_ALS>,\n",
       " 'als2': <function als.predictions_ALS>,\n",
       " 'global_mean': <function means.global_mean>,\n",
       " 'movie_mean': <function means.movie_mean>,\n",
       " 'user_mean': <function means.user_mean>}"
      ]
     },
     "execution_count": 140,
     "metadata": {},
     "output_type": "execute_result"
    }
   ],
   "source": [
    "blending_test.models"
   ]
  },
  {
   "cell_type": "markdown",
   "metadata": {},
   "source": [
    "# Test with real predictions"
   ]
  },
  {
   "cell_type": "code",
   "execution_count": 82,
   "metadata": {
    "collapsed": false
   },
   "outputs": [
    {
     "data": {
      "text/html": [
       "<div>\n",
       "<table border=\"1\" class=\"dataframe\">\n",
       "  <thead>\n",
       "    <tr style=\"text-align: right;\">\n",
       "      <th></th>\n",
       "      <th>Id</th>\n",
       "      <th>Prediction</th>\n",
       "    </tr>\n",
       "  </thead>\n",
       "  <tbody>\n",
       "    <tr>\n",
       "      <th>0</th>\n",
       "      <td>r37_c1</td>\n",
       "      <td>3</td>\n",
       "    </tr>\n",
       "    <tr>\n",
       "      <th>1</th>\n",
       "      <td>r73_c1</td>\n",
       "      <td>3</td>\n",
       "    </tr>\n",
       "    <tr>\n",
       "      <th>2</th>\n",
       "      <td>r156_c1</td>\n",
       "      <td>3</td>\n",
       "    </tr>\n",
       "    <tr>\n",
       "      <th>3</th>\n",
       "      <td>r160_c1</td>\n",
       "      <td>3</td>\n",
       "    </tr>\n",
       "    <tr>\n",
       "      <th>4</th>\n",
       "      <td>r248_c1</td>\n",
       "      <td>3</td>\n",
       "    </tr>\n",
       "  </tbody>\n",
       "</table>\n",
       "</div>"
      ],
      "text/plain": [
       "        Id  Prediction\n",
       "0   r37_c1           3\n",
       "1   r73_c1           3\n",
       "2  r156_c1           3\n",
       "3  r160_c1           3\n",
       "4  r248_c1           3"
      ]
     },
     "execution_count": 82,
     "metadata": {},
     "output_type": "execute_result"
    }
   ],
   "source": [
    "test = pd.read_csv('../data/sampleSubmission.csv')\n",
    "test.head()"
   ]
  },
  {
   "cell_type": "code",
   "execution_count": 83,
   "metadata": {
    "collapsed": false
   },
   "outputs": [
    {
     "data": {
      "text/html": [
       "<div>\n",
       "<table border=\"1\" class=\"dataframe\">\n",
       "  <thead>\n",
       "    <tr style=\"text-align: right;\">\n",
       "      <th></th>\n",
       "      <th>User</th>\n",
       "      <th>Movie</th>\n",
       "      <th>Rating</th>\n",
       "    </tr>\n",
       "  </thead>\n",
       "  <tbody>\n",
       "    <tr>\n",
       "      <th>0</th>\n",
       "      <td>37</td>\n",
       "      <td>1</td>\n",
       "      <td>3</td>\n",
       "    </tr>\n",
       "    <tr>\n",
       "      <th>1</th>\n",
       "      <td>73</td>\n",
       "      <td>1</td>\n",
       "      <td>3</td>\n",
       "    </tr>\n",
       "    <tr>\n",
       "      <th>2</th>\n",
       "      <td>156</td>\n",
       "      <td>1</td>\n",
       "      <td>3</td>\n",
       "    </tr>\n",
       "    <tr>\n",
       "      <th>3</th>\n",
       "      <td>160</td>\n",
       "      <td>1</td>\n",
       "      <td>3</td>\n",
       "    </tr>\n",
       "    <tr>\n",
       "      <th>4</th>\n",
       "      <td>248</td>\n",
       "      <td>1</td>\n",
       "      <td>3</td>\n",
       "    </tr>\n",
       "  </tbody>\n",
       "</table>\n",
       "</div>"
      ],
      "text/plain": [
       "   User  Movie  Rating\n",
       "0    37      1       3\n",
       "1    73      1       3\n",
       "2   156      1       3\n",
       "3   160      1       3\n",
       "4   248      1       3"
      ]
     },
     "execution_count": 83,
     "metadata": {},
     "output_type": "execute_result"
    }
   ],
   "source": [
    "# Prepare test for RDD\n",
    "test_prep = test\n",
    "test_prep['User'] = test_prep['Id'].apply(lambda x: int(x.split('_')[0][1:]))\n",
    "test_prep['Movie'] = test_prep['Id'].apply(lambda x: int(x.split('_')[1][1:]))\n",
    "test_prep['Rating'] = test_prep['Prediction']\n",
    "test_prep = test_prep.drop(['Prediction', 'Id'], axis=1)\n",
    "test_prep.head()"
   ]
  },
  {
   "cell_type": "code",
   "execution_count": 85,
   "metadata": {
    "collapsed": false
   },
   "outputs": [
    {
     "name": "stdout",
     "output_type": "stream",
     "text": [
      "{'nonnegative': True, 'spark_context': <pyspark.context.SparkContext object at 0x7fea8c7e1208>, 'lambda_': 0.081, 'iterations': 24, 'rank': 8}\n",
      "[ALS] applying\n",
      "[ALS] done\n",
      "{}\n",
      "[MOVIE_MEAN] applying\n",
      "[MOVIE_MEAN] done\n",
      "{}\n",
      "[USER_MEAN] applying\n",
      "[USER_MEAN] done\n",
      "{}\n",
      "[GLOBAL_MEAN] applying\n",
      "[GLOBAL_MEAN] done\n",
      "{'nonnegative': True, 'spark_context': <pyspark.context.SparkContext object at 0x7fea8c7e1208>, 'lambda_': 0.081, 'iterations': 24, 'rank': 8}\n",
      "[ALS] applying\n",
      "[ALS] done\n"
     ]
    }
   ],
   "source": [
    "pred=blending_test.evaluate_blending_for_validation(best_dict,train,test_prep)"
   ]
  },
  {
   "cell_type": "code",
   "execution_count": 86,
   "metadata": {
    "collapsed": false
   },
   "outputs": [],
   "source": [
    "test.Rating=pred\n",
    "test['Prediction']=test.Rating"
   ]
  },
  {
   "cell_type": "code",
   "execution_count": 87,
   "metadata": {
    "collapsed": false
   },
   "outputs": [
    {
     "data": {
      "text/html": [
       "<div>\n",
       "<table border=\"1\" class=\"dataframe\">\n",
       "  <thead>\n",
       "    <tr style=\"text-align: right;\">\n",
       "      <th></th>\n",
       "      <th>Id</th>\n",
       "      <th>Prediction</th>\n",
       "      <th>User</th>\n",
       "      <th>Movie</th>\n",
       "      <th>Rating</th>\n",
       "    </tr>\n",
       "  </thead>\n",
       "  <tbody>\n",
       "    <tr>\n",
       "      <th>0</th>\n",
       "      <td>r37_c1</td>\n",
       "      <td>3.244184</td>\n",
       "      <td>37</td>\n",
       "      <td>1</td>\n",
       "      <td>3.244184</td>\n",
       "    </tr>\n",
       "    <tr>\n",
       "      <th>1</th>\n",
       "      <td>r73_c1</td>\n",
       "      <td>3.123454</td>\n",
       "      <td>73</td>\n",
       "      <td>1</td>\n",
       "      <td>3.123454</td>\n",
       "    </tr>\n",
       "    <tr>\n",
       "      <th>2</th>\n",
       "      <td>r156_c1</td>\n",
       "      <td>3.673083</td>\n",
       "      <td>156</td>\n",
       "      <td>1</td>\n",
       "      <td>3.673083</td>\n",
       "    </tr>\n",
       "    <tr>\n",
       "      <th>3</th>\n",
       "      <td>r160_c1</td>\n",
       "      <td>3.305094</td>\n",
       "      <td>160</td>\n",
       "      <td>1</td>\n",
       "      <td>3.305094</td>\n",
       "    </tr>\n",
       "    <tr>\n",
       "      <th>4</th>\n",
       "      <td>r248_c1</td>\n",
       "      <td>3.464529</td>\n",
       "      <td>248</td>\n",
       "      <td>1</td>\n",
       "      <td>3.464529</td>\n",
       "    </tr>\n",
       "  </tbody>\n",
       "</table>\n",
       "</div>"
      ],
      "text/plain": [
       "        Id  Prediction  User  Movie    Rating\n",
       "0   r37_c1    3.244184    37      1  3.244184\n",
       "1   r73_c1    3.123454    73      1  3.123454\n",
       "2  r156_c1    3.673083   156      1  3.673083\n",
       "3  r160_c1    3.305094   160      1  3.305094\n",
       "4  r248_c1    3.464529   248      1  3.464529"
      ]
     },
     "execution_count": 87,
     "metadata": {},
     "output_type": "execute_result"
    }
   ],
   "source": [
    "test.head()"
   ]
  },
  {
   "cell_type": "code",
   "execution_count": 88,
   "metadata": {
    "collapsed": false
   },
   "outputs": [],
   "source": [
    "test = test.drop(['User', 'Movie', 'Rating'], axis=1)"
   ]
  },
  {
   "cell_type": "code",
   "execution_count": 89,
   "metadata": {
    "collapsed": true
   },
   "outputs": [],
   "source": [
    "test.to_csv('pred_pyspark_als.csv', index=False)"
   ]
  },
  {
   "cell_type": "markdown",
   "metadata": {},
   "source": [
    "# Test with a general prediction function\n",
    "Example of usage of a function - for all function the usage should be the same"
   ]
  },
  {
   "cell_type": "code",
   "execution_count": 13,
   "metadata": {
    "collapsed": true
   },
   "outputs": [],
   "source": [
    "train_index=random.sample(range(1176952),1000000)\n",
    "train_index.sort()\n",
    "test_index=list(set(range(1176952))-set(train_index))\n",
    "test_index.sort()"
   ]
  },
  {
   "cell_type": "code",
   "execution_count": 14,
   "metadata": {
    "collapsed": false
   },
   "outputs": [],
   "source": [
    "training=train.loc[train_index]\n",
    "testing=train.loc[test_index]"
   ]
  },
  {
   "cell_type": "code",
   "execution_count": null,
   "metadata": {
    "collapsed": false,
    "scrolled": true
   },
   "outputs": [],
   "source": [
    "predictions_ALS(training,testing,sc,rank=8,lambda_=0.081, iterations=24, nonnegative=True).head()"
   ]
  },
  {
   "cell_type": "markdown",
   "metadata": {},
   "source": [
    "# Usage of simple Cross Validation on a single model\n"
   ]
  },
  {
   "cell_type": "markdown",
   "metadata": {},
   "source": [
    "# Models"
   ]
  },
  {
   "cell_type": "code",
   "execution_count": null,
   "metadata": {
    "collapsed": false
   },
   "outputs": [],
   "source": [
    "class ALSModel:\n",
    "    \n",
    "    def __init__(self):\n",
    "        pass\n",
    "    \n",
    "    def fit(self,data,**arg):\n",
    "        self.model = ALS.train(data, **arg)\n",
    "    \n",
    "    def predict(self,data):\n",
    "        data_for_preditions=data.map(lambda x: (x[0], x[1]))\n",
    "        self.predictions = self.model.predictAll(data_for_preditions).map(lambda r: ((r[0], r[1]), r[2]))\n",
    "    \n",
    "    def evaluate(self,data):\n",
    "        rates_and_preds = data.map(lambda r: ((int(r[0]), int(r[1])), float(r[2]))).join(self.predictions)\n",
    "        error = math.sqrt(rates_and_preds.map(lambda r: (r[1][0] - r[1][1])**2).mean())\n",
    "        return error"
   ]
  },
  {
   "cell_type": "markdown",
   "metadata": {},
   "source": [
    "# Cross validation"
   ]
  },
  {
   "cell_type": "code",
   "execution_count": null,
   "metadata": {
    "collapsed": false
   },
   "outputs": [],
   "source": [
    "cv=CrossValidation(train,4,True,sc)"
   ]
  },
  {
   "cell_type": "code",
   "execution_count": null,
   "metadata": {
    "collapsed": true
   },
   "outputs": [],
   "source": [
    "ranks = [8]\n",
    "lambdas = [0.08,0.081,0.082,0.083,0.084,0.085,0.086,0.087,0.088,0.089,0.09]\n",
    "numIters = [24]\n",
    "nbr_models = len(ranks)*len(lambdas)*len(numIters)\n",
    "\n",
    "bestModel = None\n",
    "bestValidationRmse = float(\"inf\")\n",
    "bestRank = 0\n",
    "bestLambda = -1.0\n",
    "bestNumIter = -1"
   ]
  },
  {
   "cell_type": "code",
   "execution_count": null,
   "metadata": {
    "collapsed": false,
    "scrolled": true
   },
   "outputs": [],
   "source": [
    "bestLambda"
   ]
  },
  {
   "cell_type": "code",
   "execution_count": null,
   "metadata": {
    "collapsed": false
   },
   "outputs": [],
   "source": [
    "i = 0\n",
    "for rank, lmbda, numIter in itertools.product(ranks, lambdas, numIters):\n",
    "    try:\n",
    "        print(rank,lmbda,numIter)\n",
    "        validationRmse = cv.evaluate(ALSModel(),rank=rank,lambda_=lmbda, iterations=numIter, nonnegative=True)\n",
    "        validationRmse = np.mean(validationRmse)\n",
    "        print(\"Model %i/%i: RMSE (validation) = %f\" %(i+1, nbr_models, validationRmse))\n",
    "        print(\"  Trained with rank = %d, lambda = %.1f, and numIter = %d.\" % (rank, lmbda, numIter))\n",
    "        print(\"\")\n",
    "        if (validationRmse < bestValidationRmse):\n",
    "#             bestModel = model\n",
    "            bestValidationRmse = validationRmse\n",
    "            bestRank = rank\n",
    "            bestLambda = lmbda\n",
    "            bestNumIter = numIter\n",
    "    except:\n",
    "        print(\"Model %i/%i failed!\" %(i+1, nbr_models))\n",
    "        print(\"  Parameters: rank = %d, lambda = %.1f, and numIter = %d.\" % (rank, lmbda, numIter))\n",
    "\n",
    "    i += 1\n",
    "    \n",
    "# Evaluate the best model on the training set\n",
    "print(\"The best model was trained with rank = %d and lambda = %.1f, \" % (bestRank, bestLambda) \\\n",
    "  + \"and numIter = %d, and its RMSE on the training set is %f\" % (bestNumIter, bestValidationRmse))\n",
    "\n",
    "# # Evaluate the best model on the test set\n",
    "# testRmse = computeRMSE(bestModel, test_for_predict_RDD, test_RDD)\n",
    "# print(\"RMSE on the test set: %f\"%(testRmse))\n"
   ]
  },
  {
   "cell_type": "markdown",
   "metadata": {},
   "source": [
    "# Prepare data for submission"
   ]
  },
  {
   "cell_type": "code",
   "execution_count": null,
   "metadata": {
    "collapsed": false
   },
   "outputs": [],
   "source": [
    "test = pd.read_csv('../data/sampleSubmission.csv')\n",
    "test.head()"
   ]
  },
  {
   "cell_type": "code",
   "execution_count": null,
   "metadata": {
    "collapsed": false
   },
   "outputs": [],
   "source": [
    "# Prepare test for RDD\n",
    "test_prep = test\n",
    "test_prep['UserID'] = test_prep['Id'].apply(lambda x: int(x.split('_')[0][1:]))\n",
    "test_prep['MovieID'] = test_prep['Id'].apply(lambda x: int(x.split('_')[1][1:]))\n",
    "test_prep['Rating'] = test_prep['Prediction']\n",
    "test_prep = test_prep.drop(['Prediction', 'Id'], axis=1)\n",
    "test_prep.head()"
   ]
  },
  {
   "cell_type": "code",
   "execution_count": null,
   "metadata": {
    "collapsed": false
   },
   "outputs": [],
   "source": [
    "# First, we transform it using sqlContect\n",
    "test_sql = sqlContext.createDataFrame(test_prep)\n",
    "test_rdd = test_sql.rdd\n",
    "test_rdd.take(3)"
   ]
  },
  {
   "cell_type": "code",
   "execution_count": null,
   "metadata": {
    "collapsed": false
   },
   "outputs": [],
   "source": [
    "bestModel=ALSModel()\n",
    "bestModel.fit(train_rdd,rank=8,lambda_=0.081, iterations=24, nonnegative=True)"
   ]
  },
  {
   "cell_type": "code",
   "execution_count": null,
   "metadata": {
    "collapsed": false
   },
   "outputs": [],
   "source": [
    "bestModel.predict(test_rdd)\n",
    "predictions=bestModel.predictions\n",
    "# predictions = bestModel.predictAll(test_RDD_Kaggle).map(lambda r: ((r[0], r[1]), r[2]))"
   ]
  },
  {
   "cell_type": "code",
   "execution_count": null,
   "metadata": {
    "collapsed": false
   },
   "outputs": [],
   "source": [
    "predictions.take(3)"
   ]
  },
  {
   "cell_type": "code",
   "execution_count": null,
   "metadata": {
    "collapsed": true
   },
   "outputs": [],
   "source": [
    "pred_df = predictions.toDF().toPandas()"
   ]
  },
  {
   "cell_type": "code",
   "execution_count": null,
   "metadata": {
    "collapsed": false
   },
   "outputs": [],
   "source": [
    "pred_df['UserID'] = pred_df['_1'].apply(lambda x: x['_1'])\n",
    "pred_df['MovieID'] = pred_df['_1'].apply(lambda x: x['_2'])\n",
    "pred_df['Rating'] = pred_df['_2']\n",
    "pred_df = pred_df.drop(['_1', '_2'], axis=1)\n",
    "pred_df.head()"
   ]
  },
  {
   "cell_type": "code",
   "execution_count": null,
   "metadata": {
    "collapsed": false,
    "scrolled": true
   },
   "outputs": [],
   "source": [
    "pred_df = pred_df.sort_values(by=['MovieID', 'UserID'])\n",
    "pred_df.head()"
   ]
  },
  {
   "cell_type": "code",
   "execution_count": null,
   "metadata": {
    "collapsed": true
   },
   "outputs": [],
   "source": [
    "pred_df.index = range(len(pred_df))"
   ]
  },
  {
   "cell_type": "code",
   "execution_count": null,
   "metadata": {
    "collapsed": true
   },
   "outputs": [],
   "source": [
    "test['Prediction'] = pred_df['Rating']\n"
   ]
  },
  {
   "cell_type": "code",
   "execution_count": null,
   "metadata": {
    "collapsed": false
   },
   "outputs": [],
   "source": [
    "test.head()"
   ]
  },
  {
   "cell_type": "code",
   "execution_count": null,
   "metadata": {
    "collapsed": false
   },
   "outputs": [],
   "source": [
    "test = test.drop(['UserID', 'MovieID', 'Rating'], axis=1)\n"
   ]
  },
  {
   "cell_type": "code",
   "execution_count": null,
   "metadata": {
    "collapsed": true
   },
   "outputs": [],
   "source": [
    "test.to_csv('pred_pyspark_als.csv', index=False)"
   ]
  },
  {
   "cell_type": "code",
   "execution_count": null,
   "metadata": {
    "collapsed": true
   },
   "outputs": [],
   "source": []
  },
  {
   "cell_type": "code",
   "execution_count": null,
   "metadata": {
    "collapsed": true
   },
   "outputs": [],
   "source": []
  }
 ],
 "metadata": {
  "anaconda-cloud": {},
  "kernelspec": {
   "display_name": "Python [Root]",
   "language": "python",
   "name": "Python [Root]"
  },
  "language_info": {
   "codemirror_mode": {
    "name": "ipython",
    "version": 3
   },
   "file_extension": ".py",
   "mimetype": "text/x-python",
   "name": "python",
   "nbconvert_exporter": "python",
   "pygments_lexer": "ipython3",
   "version": "3.5.2"
  }
 },
 "nbformat": 4,
 "nbformat_minor": 0
}
