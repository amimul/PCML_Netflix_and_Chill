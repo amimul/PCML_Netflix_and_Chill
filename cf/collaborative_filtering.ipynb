{
 "cells": [
  {
   "cell_type": "code",
   "execution_count": 36,
   "metadata": {
    "collapsed": false
   },
   "outputs": [],
   "source": [
    "# Import the fucking useful libraries =)\n",
    "import pandas as pd\n",
    "import numpy as np\n",
    "\n",
    "import os\n",
    "import matplotlib.pyplot as plt\n",
    "import random\n",
    "from IPython import display\n",
    "from helpers import *\n",
    "from sklearn.linear_model import Ridge\n",
    "\n",
    "%matplotlib inline\n",
    "%reload_ext autoreload\n",
    "%autoreload 2\n",
    "\n",
    "# There's a lot of columns in the DF. \n",
    "# Therefore, we add this option so that we can see more columns\n",
    "pd.options.display.max_columns = 100"
   ]
  },
  {
   "cell_type": "code",
   "execution_count": 86,
   "metadata": {
    "collapsed": true
   },
   "outputs": [],
   "source": [
    "# Define here the data set\n",
    "dataset = '../data/data_train.csv'"
   ]
  },
  {
   "cell_type": "code",
   "execution_count": 87,
   "metadata": {
    "collapsed": false
   },
   "outputs": [
    {
     "name": "stdout",
     "output_type": "stream",
     "text": [
      "Load the dataset\n"
     ]
    }
   ],
   "source": [
    "data = prepare_data(dataset)\n",
    "data = data.drop('Id', axis=1)"
   ]
  },
  {
   "cell_type": "code",
   "execution_count": 88,
   "metadata": {
    "collapsed": false
   },
   "outputs": [
    {
     "data": {
      "text/html": [
       "<div>\n",
       "<table border=\"1\" class=\"dataframe\">\n",
       "  <thead>\n",
       "    <tr style=\"text-align: right;\">\n",
       "      <th></th>\n",
       "      <th>Prediction</th>\n",
       "      <th>UserID</th>\n",
       "      <th>MovieID</th>\n",
       "    </tr>\n",
       "  </thead>\n",
       "  <tbody>\n",
       "    <tr>\n",
       "      <th>0</th>\n",
       "      <td>4</td>\n",
       "      <td>43</td>\n",
       "      <td>0</td>\n",
       "    </tr>\n",
       "    <tr>\n",
       "      <th>1</th>\n",
       "      <td>3</td>\n",
       "      <td>60</td>\n",
       "      <td>0</td>\n",
       "    </tr>\n",
       "    <tr>\n",
       "      <th>2</th>\n",
       "      <td>4</td>\n",
       "      <td>66</td>\n",
       "      <td>0</td>\n",
       "    </tr>\n",
       "    <tr>\n",
       "      <th>3</th>\n",
       "      <td>3</td>\n",
       "      <td>71</td>\n",
       "      <td>0</td>\n",
       "    </tr>\n",
       "    <tr>\n",
       "      <th>4</th>\n",
       "      <td>5</td>\n",
       "      <td>85</td>\n",
       "      <td>0</td>\n",
       "    </tr>\n",
       "  </tbody>\n",
       "</table>\n",
       "</div>"
      ],
      "text/plain": [
       "   Prediction  UserID  MovieID\n",
       "0           4      43        0\n",
       "1           3      60        0\n",
       "2           4      66        0\n",
       "3           3      71        0\n",
       "4           5      85        0"
      ]
     },
     "execution_count": 88,
     "metadata": {},
     "output_type": "execute_result"
    }
   ],
   "source": [
    "data.head()\n"
   ]
  },
  {
   "cell_type": "code",
   "execution_count": 102,
   "metadata": {
    "collapsed": false
   },
   "outputs": [
    {
     "name": "stderr",
     "output_type": "stream",
     "text": [
      "/home/gael/anaconda3/lib/python3.5/site-packages/ipykernel/__main__.py:4: FutureWarning: sort(columns=....) is deprecated, use sort_values(by=.....)\n"
     ]
    }
   ],
   "source": [
    "# Shuffle the data\n",
    "rowID = np.array(data.index)\n",
    "np.random.shuffle(rowID)\n",
    "shuffled = data.ix[rowID].sort('UserID').set_index('UserID')"
   ]
  },
  {
   "cell_type": "code",
   "execution_count": 103,
   "metadata": {
    "collapsed": true
   },
   "outputs": [],
   "source": [
    "## Split the train and test set for each user\n",
    "def split(user):\n",
    "    df = shuffled.ix[user]\n",
    "    N = len(df)\n",
    "    Ntest = int(N/3)\n",
    "    Ntrain = N - Ntest\n",
    "    train = df.head(Ntrain)\n",
    "    test = df.tail(Ntest)\n",
    "    return train, test"
   ]
  },
  {
   "cell_type": "code",
   "execution_count": 104,
   "metadata": {
    "collapsed": false
   },
   "outputs": [],
   "source": [
    "## Create the train and test sets for all users\n",
    "for user in shuffled.index.unique():\n",
    "    if user == 0:\n",
    "        train, test = split(user)\n",
    "    else:\n",
    "        a, b = split(user)\n",
    "        train = train.append(a)\n",
    "        test = test.append(b)\n",
    "train.reset_index(inplace=True)\n",
    "test.reset_index(inplace=True)"
   ]
  },
  {
   "cell_type": "code",
   "execution_count": 105,
   "metadata": {
    "collapsed": false
   },
   "outputs": [
    {
     "name": "stdout",
     "output_type": "stream",
     "text": [
      "training matrix = (10000, 1000)\n",
      "test matrix = (10000, 1000)\n"
     ]
    }
   ],
   "source": [
    "rating_train = train.pivot(index='UserID', columns='MovieID').Prediction\n",
    "rating_test = test.pivot(index='UserID', columns='MovieID').Prediction\n",
    "userID, movieID = rating_train.index, rating_train.columns\n",
    "Nu, Nm = len(userID), len(movieID)\n",
    "\n",
    "print('training matrix =', rating_train.shape)\n",
    "print('test matrix =', rating_test.shape)"
   ]
  },
  {
   "cell_type": "code",
   "execution_count": 106,
   "metadata": {
    "collapsed": false
   },
   "outputs": [
    {
     "name": "stdout",
     "output_type": "stream",
     "text": [
      "(10000, 20) (1000, 20)\n"
     ]
    }
   ],
   "source": [
    "## number of movie features\n",
    "n = 20\n",
    "\n",
    "## Matrix of user preferences\n",
    "U = pd.DataFrame(np.random.rand(Nu, n), index=userID, columns=range(1, n+1))\n",
    "\n",
    "## Matrix of movie features\n",
    "M = pd.DataFrame(np.random.rand(Nm, n), index=movieID, columns=range(1, n+1))\n",
    "\n",
    "U0, M0 = U.copy(), M.copy()\n",
    "print(U.shape, M.shape)"
   ]
  },
  {
   "cell_type": "code",
   "execution_count": 121,
   "metadata": {
    "collapsed": true
   },
   "outputs": [],
   "source": [
    "def CVerror(alpha):\n",
    "    bestFit = {'U': U0, 'M': M0, 'error': np.inf}\n",
    "    fitUM(bestFit, alpha)\n",
    "    U_opt, M_opt, train_error = bestFit['U'], bestFit['M'], bestFit['error']\n",
    "    pred = predict(U_opt, M_opt)\n",
    "    train_error = rmse(rating_train, pred)\n",
    "    CV_error = rmse(rating_test, pred)\n",
    "    return train_error, CV_error"
   ]
  },
  {
   "cell_type": "code",
   "execution_count": 140,
   "metadata": {
    "collapsed": true
   },
   "outputs": [],
   "source": [
    "def rmse(y, yhat):\n",
    "    err = (y - yhat) ** 2\n",
    "    return np.sqrt(np.mean(err.mean(skipna=True)))"
   ]
  },
  {
   "cell_type": "code",
   "execution_count": 143,
   "metadata": {
    "collapsed": false
   },
   "outputs": [],
   "source": [
    "## Fit the user preferences (U)\n",
    "def fitU(error_history, bestFit, alpha=1):  \n",
    "    ## Join ratings and movie features\n",
    "    Udata = train.set_index('MovieID').join(M).sort('UserID').set_index('UserID')\n",
    "    ## Function for fitting individual users\n",
    "    model = Ridge(fit_intercept=False, alpha=alpha)\n",
    "    def Ufit(i):\n",
    "        df = Udata.ix[i]\n",
    "        X = df.drop('Prediction', axis=1)\n",
    "        y = df.Prediction\n",
    "        model.fit(X, y)\n",
    "        return model.coef_\n",
    "    ## Fit all users\n",
    "    for i in userID:\n",
    "        U.ix[i] = Ufit(i)\n",
    "    ## Calculate the error\n",
    "    pred = predict(U, M)\n",
    "    error = rmse(rating_train, pred)\n",
    "    error_history.append(error)\n",
    "    delta = bestFit['error'] - error\n",
    "    if delta > 0:\n",
    "        bestFit['U'] = U\n",
    "        bestFit['M'] = M\n",
    "        bestFit['error'] = error\n",
    "    return delta\n",
    "\n",
    "## Fit the movie features (M)\n",
    "def fitM(error_history, bestFit, alpha=1):\n",
    "    ## Join ratings and user preferences\n",
    "    Mdata = train.set_index('UserID').join(U).sort('MovieID').set_index('MovieID')\n",
    "    ## Function for fitting individual movies\n",
    "    model = Ridge(fit_intercept=False, alpha=alpha)\n",
    "    def Mfit(j):\n",
    "        df = Mdata.ix[j]\n",
    "        X = df.drop('Prediction', axis=1)\n",
    "        y = df.Prediction\n",
    "        model.fit(X, y)\n",
    "        return model.coef_\n",
    "    ## Fit all movies \n",
    "    for j in movieID:\n",
    "        M.ix[j] = Mfit(j)\n",
    "    ## Calculate the error\n",
    "    pred = predict(U, M)\n",
    "    error = rmse(rating_train, pred)\n",
    "    error_history.append(error)\n",
    "    delta = bestFit['error'] - error\n",
    "    if delta > 0:\n",
    "        bestFit['U'] = U\n",
    "        bestFit['M'] = M\n",
    "        bestFit['error'] = error\n",
    "    return delta\n",
    "\n",
    "## Predict the ratings (U dot M)\n",
    "def predict(U, M):\n",
    "    pred = U.dot(M.T)\n",
    "    pred[pred > 5] = 5\n",
    "    pred[pred < 1] = 1\n",
    "    return pred\n",
    "\n",
    "## Repeat the optimization until convergence\n",
    "def fitUM(bestFit, alpha=1, tol=0.05):\n",
    "    U, M = U0.copy(), M0.copy()\n",
    "    error_history = []\n",
    "    delta = fitU(error_history, bestFit, alpha=alpha)\n",
    "    tolerance = tol\n",
    "    while delta > tolerance:\n",
    "        delta = fitM(error_history, bestFit, alpha=alpha)\n",
    "        if delta > tolerance:\n",
    "            delta = fitU(error_history, bestFit, alpha=alpha)\n",
    "    return error_history"
   ]
  },
  {
   "cell_type": "code",
   "execution_count": 148,
   "metadata": {
    "collapsed": false
   },
   "outputs": [
    {
     "name": "stdout",
     "output_type": "stream",
     "text": [
      "Start for alpha = 1\n"
     ]
    },
    {
     "name": "stderr",
     "output_type": "stream",
     "text": [
      "/home/gael/anaconda3/lib/python3.5/site-packages/ipykernel/__main__.py:4: FutureWarning: sort(columns=....) is deprecated, use sort_values(by=.....)\n",
      "/home/gael/anaconda3/lib/python3.5/site-packages/ipykernel/__main__.py:30: FutureWarning: sort(columns=....) is deprecated, use sort_values(by=.....)\n"
     ]
    },
    {
     "name": "stdout",
     "output_type": "stream",
     "text": [
      "0.176325554781\n",
      "Start for alpha = 2\n",
      "0.0378888635151\n",
      "Start for alpha = 5\n",
      "0.0278418984592\n",
      "Start for alpha = 10\n",
      "0.00292203453701\n",
      "Start for alpha = 20\n",
      "-0.0244531414706\n",
      "Start for alpha = 30\n",
      "-0.0181831621982\n",
      "Start for alpha = 40\n",
      "-0.00971257713451\n",
      "Start for alpha = 50\n",
      "-0.0046303152339\n",
      "Start for alpha = 60\n",
      "-0.00243000499174\n",
      "Start for alpha = 70\n",
      "-0.00259065832014\n"
     ]
    }
   ],
   "source": [
    "alphas = [1, 2, 5, 10, 20, 30, 40, 50, 60, 70]\n",
    "train_errors, CV_errors = [], []\n",
    "for alpha in alphas:\n",
    "    print(\"Start for alpha =\", alpha)\n",
    "    err1, err2 = CVerror(alpha)\n",
    "    train_errors.append(err1)\n",
    "    CV_errors.append(err2)"
   ]
  },
  {
   "cell_type": "code",
   "execution_count": 152,
   "metadata": {
    "collapsed": false
   },
   "outputs": [
    {
     "data": {
      "image/png": "[encoded data removed]",
      "text/plain": [
       "<matplotlib.figure.Figure at 0x7f9e3e07b278>"
      ]
     },
     "metadata": {},
     "output_type": "display_data"
    }
   ],
   "source": [
    "ax = plt.gca()\n",
    "plt.plot(alphas, train_errors, '-o', label='training')\n",
    "plt.plot(alphas, CV_errors, '-o', color='r', label='cross-validation')\n",
    "ax.set_xscale('log')\n",
    "plt.xlabel('Regularization Parameter')\n",
    "plt.ylabel('Error (RMSE)')\n",
    "plt.title('Model Optimization')\n",
    "plt.legend(loc='upper center', bbox_to_anchor=(0.5, -0.05), fancybox=True, ncol=2)\n",
    "plt.show()"
   ]
  },
  {
   "cell_type": "code",
   "execution_count": 155,
   "metadata": {
    "collapsed": false
   },
   "outputs": [
    {
     "data": {
      "text/plain": [
       "1.0513001196509879"
      ]
     },
     "execution_count": 155,
     "metadata": {},
     "output_type": "execute_result"
    }
   ],
   "source": [
    "np.min(CV_errors)"
   ]
  },
  {
   "cell_type": "code",
   "execution_count": 156,
   "metadata": {
    "collapsed": false
   },
   "outputs": [
    {
     "data": {
      "text/plain": [
       "20"
      ]
     },
     "execution_count": 156,
     "metadata": {},
     "output_type": "execute_result"
    }
   ],
   "source": [
    "alpha = alphas[np.argmin(CV_errors)]\n",
    "alpha\n"
   ]
  },
  {
   "cell_type": "code",
   "execution_count": 159,
   "metadata": {
    "collapsed": false
   },
   "outputs": [
    {
     "name": "stderr",
     "output_type": "stream",
     "text": [
      "/home/gael/anaconda3/lib/python3.5/site-packages/ipykernel/__main__.py:4: FutureWarning: sort(columns=....) is deprecated, use sort_values(by=.....)\n",
      "/home/gael/anaconda3/lib/python3.5/site-packages/ipykernel/__main__.py:30: FutureWarning: sort(columns=....) is deprecated, use sort_values(by=.....)\n"
     ]
    },
    {
     "name": "stdout",
     "output_type": "stream",
     "text": [
      "0.174513567349\n",
      "Model RMSE = 0.987656976454\n"
     ]
    }
   ],
   "source": [
    "U = pd.DataFrame(np.random.rand(Nu, n), index=userID, columns=range(1, n+1))\n",
    "M = pd.DataFrame(np.random.rand(Nm, n), index=movieID, columns=range(1, n+1))\n",
    "U0, M0 = U.copy(), M.copy()\n",
    "error_history = []\n",
    "bestFit = {'U': U0, 'M': M0, 'error': np.inf}\n",
    "fitUM(bestFit, alpha)\n",
    "U_opt, M_opt, error = bestFit['U'], bestFit['M'], bestFit['error']\n",
    "pred = predict(U_opt, M_opt)\n",
    "print('Model RMSE =', error)"
   ]
  },
  {
   "cell_type": "code",
   "execution_count": 160,
   "metadata": {
    "collapsed": true
   },
   "outputs": [],
   "source": [
    "def jitter(y, yhat, title=''):\n",
    "    pred = np.round(yhat)\n",
    "    pred[pred > 5] = 5\n",
    "    pred[pred < 1] = 1\n",
    "    def noise():\n",
    "        return np.random.randn(len(y)) * 0.1\n",
    "    y_jitter = y + noise() \n",
    "    yhat_jitter = pred + noise() \n",
    "    plt.scatter(y_jitter, yhat_jitter)\n",
    "    plt.xlabel('Actual Rating')\n",
    "    plt.ylabel('Predicted Rating')\n",
    "    plt.title(title)\n",
    "    plt.axis('image')\n",
    "    plt.grid()\n",
    "    plt.show()"
   ]
  },
  {
   "cell_type": "code",
   "execution_count": 168,
   "metadata": {
    "collapsed": false
   },
   "outputs": [
    {
     "data": {
      "text/plain": [
       "(10000, 1000)"
      ]
     },
     "execution_count": 168,
     "metadata": {},
     "output_type": "execute_result"
    }
   ],
   "source": [
    "mat = U_opt.dot(M_opt.T)\n",
    "mat.shape"
   ]
  },
  {
   "cell_type": "markdown",
   "metadata": {},
   "source": [
    "# Testing"
   ]
  },
  {
   "cell_type": "code",
   "execution_count": 170,
   "metadata": {
    "collapsed": false
   },
   "outputs": [
    {
     "name": "stdout",
     "output_type": "stream",
     "text": [
      "Load the dataset\n"
     ]
    }
   ],
   "source": [
    "# Test data\n",
    "dataset_test = '../data/sampleSubmission.csv'\n",
    "data_test = prepare_data(dataset_test)"
   ]
  },
  {
   "cell_type": "code",
   "execution_count": 171,
   "metadata": {
    "collapsed": false,
    "scrolled": true
   },
   "outputs": [
    {
     "data": {
      "text/html": [
       "<div>\n",
       "<table border=\"1\" class=\"dataframe\">\n",
       "  <thead>\n",
       "    <tr style=\"text-align: right;\">\n",
       "      <th></th>\n",
       "      <th>Id</th>\n",
       "      <th>Prediction</th>\n",
       "      <th>UserID</th>\n",
       "      <th>MovieID</th>\n",
       "    </tr>\n",
       "  </thead>\n",
       "  <tbody>\n",
       "    <tr>\n",
       "      <th>0</th>\n",
       "      <td>r37_c1</td>\n",
       "      <td>3</td>\n",
       "      <td>36</td>\n",
       "      <td>0</td>\n",
       "    </tr>\n",
       "    <tr>\n",
       "      <th>1</th>\n",
       "      <td>r73_c1</td>\n",
       "      <td>3</td>\n",
       "      <td>72</td>\n",
       "      <td>0</td>\n",
       "    </tr>\n",
       "    <tr>\n",
       "      <th>2</th>\n",
       "      <td>r156_c1</td>\n",
       "      <td>3</td>\n",
       "      <td>155</td>\n",
       "      <td>0</td>\n",
       "    </tr>\n",
       "    <tr>\n",
       "      <th>3</th>\n",
       "      <td>r160_c1</td>\n",
       "      <td>3</td>\n",
       "      <td>159</td>\n",
       "      <td>0</td>\n",
       "    </tr>\n",
       "    <tr>\n",
       "      <th>4</th>\n",
       "      <td>r248_c1</td>\n",
       "      <td>3</td>\n",
       "      <td>247</td>\n",
       "      <td>0</td>\n",
       "    </tr>\n",
       "  </tbody>\n",
       "</table>\n",
       "</div>"
      ],
      "text/plain": [
       "        Id  Prediction  UserID  MovieID\n",
       "0   r37_c1           3      36        0\n",
       "1   r73_c1           3      72        0\n",
       "2  r156_c1           3     155        0\n",
       "3  r160_c1           3     159        0\n",
       "4  r248_c1           3     247        0"
      ]
     },
     "execution_count": 171,
     "metadata": {},
     "output_type": "execute_result"
    }
   ],
   "source": [
    "data_test.head()"
   ]
  },
  {
   "cell_type": "code",
   "execution_count": 189,
   "metadata": {
    "collapsed": false,
    "scrolled": false
   },
   "outputs": [
    {
     "name": "stdout",
     "output_type": "stream",
     "text": [
      "10000/1176952 done!\n",
      "20000/1176952 done!\n",
      "30000/1176952 done!\n",
      "40000/1176952 done!\n",
      "50000/1176952 done!\n",
      "60000/1176952 done!\n",
      "70000/1176952 done!\n",
      "80000/1176952 done!\n",
      "90000/1176952 done!\n",
      "100000/1176952 done!\n",
      "110000/1176952 done!\n",
      "120000/1176952 done!\n",
      "130000/1176952 done!\n",
      "140000/1176952 done!\n",
      "150000/1176952 done!\n",
      "160000/1176952 done!\n",
      "170000/1176952 done!\n",
      "180000/1176952 done!\n",
      "190000/1176952 done!\n",
      "200000/1176952 done!\n",
      "210000/1176952 done!\n",
      "220000/1176952 done!\n",
      "230000/1176952 done!\n",
      "240000/1176952 done!\n",
      "250000/1176952 done!\n",
      "260000/1176952 done!\n",
      "270000/1176952 done!\n",
      "280000/1176952 done!\n",
      "290000/1176952 done!\n",
      "300000/1176952 done!\n",
      "310000/1176952 done!\n",
      "320000/1176952 done!\n",
      "330000/1176952 done!\n",
      "340000/1176952 done!\n",
      "350000/1176952 done!\n",
      "360000/1176952 done!\n",
      "370000/1176952 done!\n",
      "380000/1176952 done!\n",
      "390000/1176952 done!\n",
      "400000/1176952 done!\n",
      "410000/1176952 done!\n",
      "420000/1176952 done!\n",
      "430000/1176952 done!\n",
      "440000/1176952 done!\n",
      "450000/1176952 done!\n",
      "460000/1176952 done!\n",
      "470000/1176952 done!\n",
      "480000/1176952 done!\n",
      "490000/1176952 done!\n",
      "500000/1176952 done!\n",
      "510000/1176952 done!\n",
      "520000/1176952 done!\n",
      "530000/1176952 done!\n",
      "540000/1176952 done!\n",
      "550000/1176952 done!\n",
      "560000/1176952 done!\n",
      "570000/1176952 done!\n",
      "580000/1176952 done!\n",
      "590000/1176952 done!\n",
      "600000/1176952 done!\n",
      "610000/1176952 done!\n",
      "620000/1176952 done!\n",
      "630000/1176952 done!\n",
      "640000/1176952 done!\n",
      "650000/1176952 done!\n",
      "660000/1176952 done!\n",
      "670000/1176952 done!\n",
      "680000/1176952 done!\n",
      "690000/1176952 done!\n",
      "700000/1176952 done!\n",
      "710000/1176952 done!\n",
      "720000/1176952 done!\n",
      "730000/1176952 done!\n",
      "740000/1176952 done!\n",
      "750000/1176952 done!\n",
      "760000/1176952 done!\n",
      "770000/1176952 done!\n",
      "780000/1176952 done!\n",
      "790000/1176952 done!\n",
      "800000/1176952 done!\n",
      "810000/1176952 done!\n",
      "820000/1176952 done!\n",
      "830000/1176952 done!\n",
      "840000/1176952 done!\n",
      "850000/1176952 done!\n",
      "860000/1176952 done!\n",
      "870000/1176952 done!\n",
      "880000/1176952 done!\n",
      "890000/1176952 done!\n",
      "900000/1176952 done!\n",
      "910000/1176952 done!\n",
      "920000/1176952 done!\n",
      "930000/1176952 done!\n",
      "940000/1176952 done!\n",
      "950000/1176952 done!\n",
      "960000/1176952 done!\n",
      "970000/1176952 done!\n",
      "980000/1176952 done!\n",
      "990000/1176952 done!\n",
      "1000000/1176952 done!\n",
      "1010000/1176952 done!\n",
      "1020000/1176952 done!\n",
      "1030000/1176952 done!\n",
      "1040000/1176952 done!\n",
      "1050000/1176952 done!\n",
      "1060000/1176952 done!\n",
      "1070000/1176952 done!\n",
      "1080000/1176952 done!\n",
      "1090000/1176952 done!\n",
      "1100000/1176952 done!\n",
      "1110000/1176952 done!\n",
      "1120000/1176952 done!\n",
      "1130000/1176952 done!\n",
      "1140000/1176952 done!\n",
      "1150000/1176952 done!\n",
      "1160000/1176952 done!\n",
      "1170000/1176952 done!\n"
     ]
    }
   ],
   "source": [
    "predictions = []\n",
    "for i in range(len(data_test)):\n",
    "    dd = data_test.iloc[i]\n",
    "    predictions.append(mat[dd.MovieID][dd.UserID])\n",
    "    if (i+1)%10000 == 0:\n",
    "        print(\"%i/%i done!\"%(i+1, len(data_test)))"
   ]
  },
  {
   "cell_type": "code",
   "execution_count": 192,
   "metadata": {
    "collapsed": true
   },
   "outputs": [],
   "source": [
    "for i in range(len(predictions)):\n",
    "    if predictions[i] > 5:\n",
    "        predictions[i] = 5\n",
    "    elif predictions[i] < 1:\n",
    "        predictions[i] = 1"
   ]
  },
  {
   "cell_type": "code",
   "execution_count": 193,
   "metadata": {
    "collapsed": false
   },
   "outputs": [
    {
     "data": {
      "text/html": [
       "<div>\n",
       "<table border=\"1\" class=\"dataframe\">\n",
       "  <thead>\n",
       "    <tr style=\"text-align: right;\">\n",
       "      <th></th>\n",
       "      <th>Id</th>\n",
       "      <th>Prediction</th>\n",
       "      <th>UserID</th>\n",
       "      <th>MovieID</th>\n",
       "    </tr>\n",
       "  </thead>\n",
       "  <tbody>\n",
       "    <tr>\n",
       "      <th>0</th>\n",
       "      <td>r37_c1</td>\n",
       "      <td>3.148690</td>\n",
       "      <td>36</td>\n",
       "      <td>0</td>\n",
       "    </tr>\n",
       "    <tr>\n",
       "      <th>1</th>\n",
       "      <td>r73_c1</td>\n",
       "      <td>2.826728</td>\n",
       "      <td>72</td>\n",
       "      <td>0</td>\n",
       "    </tr>\n",
       "    <tr>\n",
       "      <th>2</th>\n",
       "      <td>r156_c1</td>\n",
       "      <td>3.626651</td>\n",
       "      <td>155</td>\n",
       "      <td>0</td>\n",
       "    </tr>\n",
       "    <tr>\n",
       "      <th>3</th>\n",
       "      <td>r160_c1</td>\n",
       "      <td>3.194927</td>\n",
       "      <td>159</td>\n",
       "      <td>0</td>\n",
       "    </tr>\n",
       "    <tr>\n",
       "      <th>4</th>\n",
       "      <td>r248_c1</td>\n",
       "      <td>3.176046</td>\n",
       "      <td>247</td>\n",
       "      <td>0</td>\n",
       "    </tr>\n",
       "  </tbody>\n",
       "</table>\n",
       "</div>"
      ],
      "text/plain": [
       "        Id  Prediction  UserID  MovieID\n",
       "0   r37_c1    3.148690      36        0\n",
       "1   r73_c1    2.826728      72        0\n",
       "2  r156_c1    3.626651     155        0\n",
       "3  r160_c1    3.194927     159        0\n",
       "4  r248_c1    3.176046     247        0"
      ]
     },
     "execution_count": 193,
     "metadata": {},
     "output_type": "execute_result"
    }
   ],
   "source": [
    "data_test['Prediction'] = predictions\n",
    "data_test.head()"
   ]
  },
  {
   "cell_type": "code",
   "execution_count": 196,
   "metadata": {
    "collapsed": false
   },
   "outputs": [],
   "source": [
    "data_test = data_test.drop(['UserID', 'MovieID'], axis=1)"
   ]
  },
  {
   "cell_type": "code",
   "execution_count": 197,
   "metadata": {
    "collapsed": true
   },
   "outputs": [],
   "source": [
    "data_test.to_csv('collaborative_filtering.csv', index=False)"
   ]
  },
  {
   "cell_type": "code",
   "execution_count": 198,
   "metadata": {
    "collapsed": false
   },
   "outputs": [
    {
     "data": {
      "text/html": [
       "<div>\n",
       "<table border=\"1\" class=\"dataframe\">\n",
       "  <thead>\n",
       "    <tr style=\"text-align: right;\">\n",
       "      <th></th>\n",
       "      <th>Id</th>\n",
       "      <th>Prediction</th>\n",
       "    </tr>\n",
       "  </thead>\n",
       "  <tbody>\n",
       "    <tr>\n",
       "      <th>0</th>\n",
       "      <td>r37_c1</td>\n",
       "      <td>3.148690</td>\n",
       "    </tr>\n",
       "    <tr>\n",
       "      <th>1</th>\n",
       "      <td>r73_c1</td>\n",
       "      <td>2.826728</td>\n",
       "    </tr>\n",
       "    <tr>\n",
       "      <th>2</th>\n",
       "      <td>r156_c1</td>\n",
       "      <td>3.626651</td>\n",
       "    </tr>\n",
       "    <tr>\n",
       "      <th>3</th>\n",
       "      <td>r160_c1</td>\n",
       "      <td>3.194927</td>\n",
       "    </tr>\n",
       "    <tr>\n",
       "      <th>4</th>\n",
       "      <td>r248_c1</td>\n",
       "      <td>3.176046</td>\n",
       "    </tr>\n",
       "  </tbody>\n",
       "</table>\n",
       "</div>"
      ],
      "text/plain": [
       "        Id  Prediction\n",
       "0   r37_c1    3.148690\n",
       "1   r73_c1    2.826728\n",
       "2  r156_c1    3.626651\n",
       "3  r160_c1    3.194927\n",
       "4  r248_c1    3.176046"
      ]
     },
     "execution_count": 198,
     "metadata": {},
     "output_type": "execute_result"
    }
   ],
   "source": [
    "data_test.head()"
   ]
  },
  {
   "cell_type": "code",
   "execution_count": null,
   "metadata": {
    "collapsed": true
   },
   "outputs": [],
   "source": []
  }
 ],
 "metadata": {
  "anaconda-cloud": {},
  "kernelspec": {
   "display_name": "Python [conda root]",
   "language": "python",
   "name": "conda-root-py"
  },
  "language_info": {
   "codemirror_mode": {
    "name": "ipython",
    "version": 3
   },
   "file_extension": ".py",
   "mimetype": "text/x-python",
   "name": "python",
   "nbconvert_exporter": "python",
   "pygments_lexer": "ipython3",
   "version": "3.5.2"
  }
 },
 "nbformat": 4,
 "nbformat_minor": 1
}
