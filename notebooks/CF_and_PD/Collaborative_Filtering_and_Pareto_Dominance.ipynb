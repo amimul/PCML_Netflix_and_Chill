{
 "cells": [
  {
   "cell_type": "markdown",
   "metadata": {},
   "source": [
    "# Introduction\n",
    "\n",
    "In this notebook, we will implement the standard method of Collaborative Filtering with the Pareto Dominance. It is inspired by this paper: \n",
    "http://www.sciencedirect.com/science/article/pii/S0020025513002004"
   ]
  },
  {
   "cell_type": "code",
   "execution_count": 1,
   "metadata": {
    "collapsed": false
   },
   "outputs": [],
   "source": [
    "# Import the fucking useful libraries =)\n",
    "import pandas as pd\n",
    "import numpy as np\n",
    "\n",
    "import os\n",
    "import matplotlib.pyplot as plt\n",
    "from helpers_CF_and_PD import *\n",
    "import scipy.stats as sp\n",
    "import scipy.spatial.distance as spsd\n",
    "from operator import itemgetter\n",
    "import random\n",
    "from IPython import display\n",
    "\n",
    "%matplotlib inline\n",
    "%load_ext autoreload\n",
    "%autoreload 2\n",
    "\n",
    "# There's a lot of columns in the DF. \n",
    "# Therefore, we add this option so that we can see more columns\n",
    "pd.options.display.max_columns = 100"
   ]
  },
  {
   "cell_type": "code",
   "execution_count": 2,
   "metadata": {
    "collapsed": true
   },
   "outputs": [],
   "source": [
    "# Define here the data set\n",
    "dataset = '../../data/data_train.csv'"
   ]
  },
  {
   "cell_type": "markdown",
   "metadata": {},
   "source": [
    "# Load the data and prepare them\n"
   ]
  },
  {
   "cell_type": "code",
   "execution_count": 3,
   "metadata": {
    "collapsed": false
   },
   "outputs": [
    {
     "name": "stdout",
     "output_type": "stream",
     "text": [
      "Load the dataset\n",
      "Prepare the variables\n"
     ]
    }
   ],
   "source": [
    "data = prepare_data(dataset)\n",
    "# Prepare the data\n",
    "U, I, R, I_u = variables(data)"
   ]
  },
  {
   "cell_type": "markdown",
   "metadata": {
    "collapsed": true
   },
   "source": [
    "Get the sets of non-dominated users. (Already calculated)"
   ]
  },
  {
   "cell_type": "code",
   "execution_count": 4,
   "metadata": {
    "collapsed": false
   },
   "outputs": [],
   "source": [
    "# Folder for the preprocessing file\n",
    "folder = \"./pickles/\"\n",
    "\n",
    "non_dom_users_file = folder + \"non-dominated-users.pickle\"\n",
    "\n",
    "# Get the file\n",
    "C = get_pickle(non_dom_users_file)"
   ]
  },
  {
   "cell_type": "markdown",
   "metadata": {},
   "source": [
    "# Make some tests\n",
    "\n",
    "In order to make sure that the preprocessing is correct, we need to plot some graph"
   ]
  },
  {
   "cell_type": "code",
   "execution_count": null,
   "metadata": {
    "collapsed": false
   },
   "outputs": [],
   "source": [
    "# We define an array of values equals to number of candidates over number of items rated\n",
    "c_over_ir = []\n",
    "nbr_cand = []\n",
    "nbr_itms = []\n",
    "for usr in U:\n",
    "    c_over_ir.append(len(C[usr])/len(I_u[usr]))\n",
    "    nbr_cand.append(len(C[usr]))\n",
    "    nbr_itms.append(len(I_u[usr]))\n",
    "len(c_over_ir)"
   ]
  },
  {
   "cell_type": "code",
   "execution_count": null,
   "metadata": {
    "collapsed": false
   },
   "outputs": [],
   "source": [
    "n, bins, patches = plt.hist(c_over_ir, 50, facecolor='black', alpha=0.75)\n",
    "plt.xlabel('Number of candidates / Number of items rated')\n",
    "plt.ylabel('Number of users')"
   ]
  },
  {
   "cell_type": "code",
   "execution_count": null,
   "metadata": {
    "collapsed": false
   },
   "outputs": [],
   "source": [
    "n, bins, patches = plt.hist(nbr_cand, 50, facecolor='black', alpha=0.75)\n",
    "plt.xlabel('Number of candidates')\n",
    "plt.ylabel('Number of users')"
   ]
  },
  {
   "cell_type": "code",
   "execution_count": null,
   "metadata": {
    "collapsed": false
   },
   "outputs": [],
   "source": [
    "n, bins, patches = plt.hist(nbr_itms, 50, facecolor='black', alpha=0.75)\n",
    "plt.xlabel('Number of items rated')\n",
    "plt.ylabel('Number of users')"
   ]
  },
  {
   "cell_type": "code",
   "execution_count": null,
   "metadata": {
    "collapsed": false
   },
   "outputs": [],
   "source": [
    "nbr_itms.index(min(nbr_itms))"
   ]
  },
  {
   "cell_type": "code",
   "execution_count": null,
   "metadata": {
    "collapsed": false
   },
   "outputs": [],
   "source": [
    "len(C[480])"
   ]
  },
  {
   "cell_type": "code",
   "execution_count": null,
   "metadata": {
    "collapsed": false
   },
   "outputs": [],
   "source": [
    "nbr_cand.index(min(nbr_cand))"
   ]
  },
  {
   "cell_type": "code",
   "execution_count": null,
   "metadata": {
    "collapsed": false
   },
   "outputs": [],
   "source": [
    "nbr_itms[3677]"
   ]
  },
  {
   "cell_type": "markdown",
   "metadata": {},
   "source": [
    "Difficult to say if it worked or not.. But it seems ok... =)"
   ]
  },
  {
   "cell_type": "markdown",
   "metadata": {},
   "source": [
    "# Nearest Neighbors\n",
    "\n",
    "Now, we create the list of arrays of nearest neighbors for each user using the three different functions"
   ]
  },
  {
   "cell_type": "code",
   "execution_count": 90,
   "metadata": {
    "collapsed": true
   },
   "outputs": [],
   "source": [
    "NN_pearson_file = folder + \"NN_pearson.pickle\"\n",
    "NN_cosine_file = folder + \"NN_cosine.pickle\"\n",
    "NN_msd_file = folder + \"NN_msd.pickle\"\n",
    "NN_files = [NN_pearson_file, NN_cosine_file, NN_msd_file]"
   ]
  },
  {
   "cell_type": "markdown",
   "metadata": {},
   "source": [
    "# Training\n",
    "\n",
    "Now, we just have to do the training. First, we cut into training and testing data."
   ]
  },
  {
   "cell_type": "code",
   "execution_count": 6,
   "metadata": {
    "collapsed": false
   },
   "outputs": [],
   "source": [
    "# Before having the train and testing set, we need to unload the memory a bit\n",
    "del C\n",
    "del U\n",
    "del I\n",
    "del R\n",
    "del I_u"
   ]
  },
  {
   "cell_type": "code",
   "execution_count": 7,
   "metadata": {
    "collapsed": false
   },
   "outputs": [],
   "source": [
    "def training_testing(data, p_value=0.1):\n",
    "    test_array = []\n",
    "    train_array = []\n",
    "    for i in range(len(data)):\n",
    "        if random.random() < p_value:\n",
    "            test_array.append(data.iloc[i])\n",
    "        else:\n",
    "            train_array.append(data.iloc[i])\n",
    "            \n",
    "    variables = list(train_array[0].keys())\n",
    "    \n",
    "    train = pd.DataFrame([[getattr(i,j) for j in variables] for i in train_array], columns = variables)\n",
    "    test = pd.DataFrame([[getattr(i,j) for j in variables] for i in test_array], columns = variables)\n",
    "\n",
    "    return train, test            "
   ]
  },
  {
   "cell_type": "code",
   "execution_count": 8,
   "metadata": {
    "collapsed": false
   },
   "outputs": [],
   "source": [
    "train, test = training_testing(data)"
   ]
  },
  {
   "cell_type": "code",
   "execution_count": 10,
   "metadata": {
    "collapsed": false
   },
   "outputs": [
    {
     "name": "stdout",
     "output_type": "stream",
     "text": [
      "Prepare the variables\n"
     ]
    }
   ],
   "source": [
    "# Create training matrices\n",
    "U_train, I_train, R_train, I_u_train = variables(data)"
   ]
  },
  {
   "cell_type": "code",
   "execution_count": 81,
   "metadata": {
    "collapsed": true
   },
   "outputs": [],
   "source": [
    "KK = [50, 100, 200, 300, 400, 500, 600, 700, 800, 900, 1000] #, 1100, 1200, 1300,\n",
    "    #1400, 1500, 1600, 1700, 1800, 1900, 2000, 2100, 2200, 2300, 2400, 2500]"
   ]
  },
  {
   "cell_type": "code",
   "execution_count": 84,
   "metadata": {
    "collapsed": true
   },
   "outputs": [],
   "source": [
    "def rmse(a,b):\n",
    "    return np.sqrt(np.mean((np.array(a)-np.array(b))**2))\n",
    "\n",
    "def mean(vec, u, R):\n",
    "    if len(vec) == 0:\n",
    "        ratings_user = R[u,:]\n",
    "        return np.mean(ratings_user[ratings_user!=np.inf])\n",
    "    else:\n",
    "        return np.mean(vec)"
   ]
  },
  {
   "cell_type": "code",
   "execution_count": 92,
   "metadata": {
    "collapsed": false
   },
   "outputs": [
    {
     "data": {
      "image/png": "[encoded data removed]",
      "text/plain": [
       "<matplotlib.figure.Figure at 0x7f60a6711f98>"
      ]
     },
     "metadata": {},
     "output_type": "display_data"
    }
   ],
   "source": [
    "RMSE = np.zeros((len(NN_files), len(KK)))\n",
    "for neigh_type in range(len(NN_files)):\n",
    "    NN = get_pickle(NN_files[neigh_type])\n",
    "    for idx, k in enumerate(KK):\n",
    "        ratings = []\n",
    "        pred = []\n",
    "        n = len(test)\n",
    "        #n = 100\n",
    "        for i in range(n):\n",
    "            usr = test.iloc[i].loc[\"UserID\"]\n",
    "            movie = test.iloc[i].loc[\"MovieID\"]\n",
    "            if k>len(NN[usr]):\n",
    "                neigh = NN[usr]\n",
    "            else:\n",
    "                neigh = NN[usr][:k]\n",
    "\n",
    "            G = R_train[neigh, movie]\n",
    "            G = G[G!=np.inf]\n",
    "            ratings.append(mean(G, usr, R_train))\n",
    "            pred.append(test.iloc[i].loc[\"Prediction\"])\n",
    "        RMSE[neigh_type, idx] = rmse(ratings, pred)\n",
    "        plt.gca().cla() \n",
    "        plt.plot(KK, RMSE[0,:], label='Pearson')\n",
    "        plt.plot(KK, RMSE[1,:], label='Cosine')\n",
    "        plt.plot(KK, RMSE[2,:], label='MSD')\n",
    "        plt.xlabel(\"k\")\n",
    "        plt.ylabel(\"RMSE\")\n",
    "        plt.legend()\n",
    "        display.display(plt.gcf())\n",
    "        display.clear_output(wait=True)\n",
    "    del NN"
   ]
  },
  {
   "cell_type": "code",
   "execution_count": 124,
   "metadata": {
    "collapsed": false
   },
   "outputs": [
    {
     "data": {
      "text/plain": [
       "2"
      ]
     },
     "execution_count": 124,
     "metadata": {},
     "output_type": "execute_result"
    }
   ],
   "source": [
    "best_nn = np.argmin(np.min(RMSE, axis=1))\n",
    "best_nn"
   ]
  },
  {
   "cell_type": "code",
   "execution_count": 120,
   "metadata": {
    "collapsed": false
   },
   "outputs": [
    {
     "data": {
      "text/plain": [
       "200"
      ]
     },
     "execution_count": 120,
     "metadata": {},
     "output_type": "execute_result"
    }
   ],
   "source": [
    "best_k = KK[np.argmin(RMSE[best_nn,:])]\n",
    "best_k"
   ]
  },
  {
   "cell_type": "markdown",
   "metadata": {},
   "source": [
    "# Testing\n",
    "\n",
    "Load the test data and apply the Recommendation"
   ]
  },
  {
   "cell_type": "code",
   "execution_count": 134,
   "metadata": {
    "collapsed": false
   },
   "outputs": [
    {
     "name": "stdout",
     "output_type": "stream",
     "text": [
      "Load the dataset\n",
      "Load the dataset\n",
      "Prepare the variables\n"
     ]
    }
   ],
   "source": [
    "# Test data\n",
    "dataset_test = '../../data/sampleSubmission.csv'\n",
    "data_test = prepare_data(dataset_test)\n",
    "\n",
    "# Training data\n",
    "data = prepare_data(dataset)\n",
    "# Prepare the data\n",
    "U, I, R, I_u = variables(data)"
   ]
  },
  {
   "cell_type": "code",
   "execution_count": 135,
   "metadata": {
    "collapsed": false
   },
   "outputs": [
    {
     "data": {
      "text/html": [
       "<div>\n",
       "<table border=\"1\" class=\"dataframe\">\n",
       "  <thead>\n",
       "    <tr style=\"text-align: right;\">\n",
       "      <th></th>\n",
       "      <th>Id</th>\n",
       "      <th>Prediction</th>\n",
       "      <th>UserID</th>\n",
       "      <th>MovieID</th>\n",
       "    </tr>\n",
       "  </thead>\n",
       "  <tbody>\n",
       "    <tr>\n",
       "      <th>0</th>\n",
       "      <td>r37_c1</td>\n",
       "      <td>3</td>\n",
       "      <td>36</td>\n",
       "      <td>0</td>\n",
       "    </tr>\n",
       "    <tr>\n",
       "      <th>1</th>\n",
       "      <td>r73_c1</td>\n",
       "      <td>3</td>\n",
       "      <td>72</td>\n",
       "      <td>0</td>\n",
       "    </tr>\n",
       "    <tr>\n",
       "      <th>2</th>\n",
       "      <td>r156_c1</td>\n",
       "      <td>3</td>\n",
       "      <td>155</td>\n",
       "      <td>0</td>\n",
       "    </tr>\n",
       "    <tr>\n",
       "      <th>3</th>\n",
       "      <td>r160_c1</td>\n",
       "      <td>3</td>\n",
       "      <td>159</td>\n",
       "      <td>0</td>\n",
       "    </tr>\n",
       "    <tr>\n",
       "      <th>4</th>\n",
       "      <td>r248_c1</td>\n",
       "      <td>3</td>\n",
       "      <td>247</td>\n",
       "      <td>0</td>\n",
       "    </tr>\n",
       "  </tbody>\n",
       "</table>\n",
       "</div>"
      ],
      "text/plain": [
       "        Id  Prediction  UserID  MovieID\n",
       "0   r37_c1           3      36        0\n",
       "1   r73_c1           3      72        0\n",
       "2  r156_c1           3     155        0\n",
       "3  r160_c1           3     159        0\n",
       "4  r248_c1           3     247        0"
      ]
     },
     "execution_count": 135,
     "metadata": {},
     "output_type": "execute_result"
    }
   ],
   "source": [
    "data_test.head()"
   ]
  },
  {
   "cell_type": "code",
   "execution_count": 136,
   "metadata": {
    "collapsed": false,
    "scrolled": true
   },
   "outputs": [
    {
     "name": "stdout",
     "output_type": "stream",
     "text": [
      "100000/1176952 done!\n",
      "200000/1176952 done!\n",
      "300000/1176952 done!\n",
      "400000/1176952 done!\n",
      "500000/1176952 done!\n",
      "600000/1176952 done!\n",
      "700000/1176952 done!\n",
      "800000/1176952 done!\n",
      "900000/1176952 done!\n",
      "1000000/1176952 done!\n",
      "1100000/1176952 done!\n"
     ]
    }
   ],
   "source": [
    "NN = get_pickle(NN_files[best_nn])\n",
    "pred = []\n",
    "best_k = 1000\n",
    "for i in range(len(data_test)):\n",
    "    usr = data_test.iloc[i].loc[\"UserID\"]\n",
    "    movie = data_test.iloc[i].loc[\"MovieID\"]\n",
    "    if best_k>len(NN[usr]):\n",
    "        neigh = NN[usr]\n",
    "    else:\n",
    "        neigh = NN[usr][:best_k]\n",
    "\n",
    "    G = R[neigh, movie]\n",
    "    G = G[G!=np.inf]\n",
    "    pred.append(mean(G, usr, R_train))\n",
    "    \n",
    "    if (i+1)%100000 == 0:\n",
    "        print(\"%i/%i done!\"%(i+1, len(data_test)))\n",
    "del NN"
   ]
  },
  {
   "cell_type": "code",
   "execution_count": 140,
   "metadata": {
    "collapsed": false
   },
   "outputs": [],
   "source": [
    "data_test['Prediction'] = pred"
   ]
  },
  {
   "cell_type": "code",
   "execution_count": 141,
   "metadata": {
    "collapsed": false
   },
   "outputs": [
    {
     "ename": "ValueError",
     "evalue": "labels ['UserID' 'MovieID'] not contained in axis",
     "output_type": "error",
     "traceback": [
      "\u001b[0;31m---------------------------------------------------------------------------\u001b[0m",
      "\u001b[0;31mValueError\u001b[0m                                Traceback (most recent call last)",
      "\u001b[0;32m<ipython-input-141-4be6f45afb75>\u001b[0m in \u001b[0;36m<module>\u001b[0;34m()\u001b[0m\n\u001b[0;32m----> 1\u001b[0;31m \u001b[0mdata_test\u001b[0m \u001b[0;34m=\u001b[0m \u001b[0mdata_test\u001b[0m\u001b[0;34m.\u001b[0m\u001b[0mdrop\u001b[0m\u001b[0;34m(\u001b[0m\u001b[0;34m[\u001b[0m\u001b[0;34m'UserID'\u001b[0m\u001b[0;34m,\u001b[0m \u001b[0;34m'MovieID'\u001b[0m\u001b[0;34m]\u001b[0m\u001b[0;34m,\u001b[0m \u001b[0maxis\u001b[0m\u001b[0;34m=\u001b[0m\u001b[0;36m1\u001b[0m\u001b[0;34m)\u001b[0m\u001b[0;34m\u001b[0m\u001b[0m\n\u001b[0m",
      "\u001b[0;32m/home/gael/anaconda3/lib/python3.5/site-packages/pandas/core/generic.py\u001b[0m in \u001b[0;36mdrop\u001b[0;34m(self, labels, axis, level, inplace, errors)\u001b[0m\n\u001b[1;32m   1875\u001b[0m                 \u001b[0mnew_axis\u001b[0m \u001b[0;34m=\u001b[0m \u001b[0maxis\u001b[0m\u001b[0;34m.\u001b[0m\u001b[0mdrop\u001b[0m\u001b[0;34m(\u001b[0m\u001b[0mlabels\u001b[0m\u001b[0;34m,\u001b[0m \u001b[0mlevel\u001b[0m\u001b[0;34m=\u001b[0m\u001b[0mlevel\u001b[0m\u001b[0;34m,\u001b[0m \u001b[0merrors\u001b[0m\u001b[0;34m=\u001b[0m\u001b[0merrors\u001b[0m\u001b[0;34m)\u001b[0m\u001b[0;34m\u001b[0m\u001b[0m\n\u001b[1;32m   1876\u001b[0m             \u001b[0;32melse\u001b[0m\u001b[0;34m:\u001b[0m\u001b[0;34m\u001b[0m\u001b[0m\n\u001b[0;32m-> 1877\u001b[0;31m                 \u001b[0mnew_axis\u001b[0m \u001b[0;34m=\u001b[0m \u001b[0maxis\u001b[0m\u001b[0;34m.\u001b[0m\u001b[0mdrop\u001b[0m\u001b[0;34m(\u001b[0m\u001b[0mlabels\u001b[0m\u001b[0;34m,\u001b[0m \u001b[0merrors\u001b[0m\u001b[0;34m=\u001b[0m\u001b[0merrors\u001b[0m\u001b[0;34m)\u001b[0m\u001b[0;34m\u001b[0m\u001b[0m\n\u001b[0m\u001b[1;32m   1878\u001b[0m             \u001b[0mdropped\u001b[0m \u001b[0;34m=\u001b[0m \u001b[0mself\u001b[0m\u001b[0;34m.\u001b[0m\u001b[0mreindex\u001b[0m\u001b[0;34m(\u001b[0m\u001b[0;34m**\u001b[0m\u001b[0;34m{\u001b[0m\u001b[0maxis_name\u001b[0m\u001b[0;34m:\u001b[0m \u001b[0mnew_axis\u001b[0m\u001b[0;34m}\u001b[0m\u001b[0;34m)\u001b[0m\u001b[0;34m\u001b[0m\u001b[0m\n\u001b[1;32m   1879\u001b[0m             \u001b[0;32mtry\u001b[0m\u001b[0;34m:\u001b[0m\u001b[0;34m\u001b[0m\u001b[0m\n",
      "\u001b[0;32m/home/gael/anaconda3/lib/python3.5/site-packages/pandas/indexes/base.py\u001b[0m in \u001b[0;36mdrop\u001b[0;34m(self, labels, errors)\u001b[0m\n\u001b[1;32m   3049\u001b[0m             \u001b[0;32mif\u001b[0m \u001b[0merrors\u001b[0m \u001b[0;34m!=\u001b[0m \u001b[0;34m'ignore'\u001b[0m\u001b[0;34m:\u001b[0m\u001b[0;34m\u001b[0m\u001b[0m\n\u001b[1;32m   3050\u001b[0m                 raise ValueError('labels %s not contained in axis' %\n\u001b[0;32m-> 3051\u001b[0;31m                                  labels[mask])\n\u001b[0m\u001b[1;32m   3052\u001b[0m             \u001b[0mindexer\u001b[0m \u001b[0;34m=\u001b[0m \u001b[0mindexer\u001b[0m\u001b[0;34m[\u001b[0m\u001b[0;34m~\u001b[0m\u001b[0mmask\u001b[0m\u001b[0;34m]\u001b[0m\u001b[0;34m\u001b[0m\u001b[0m\n\u001b[1;32m   3053\u001b[0m         \u001b[0;32mreturn\u001b[0m \u001b[0mself\u001b[0m\u001b[0;34m.\u001b[0m\u001b[0mdelete\u001b[0m\u001b[0;34m(\u001b[0m\u001b[0mindexer\u001b[0m\u001b[0;34m)\u001b[0m\u001b[0;34m\u001b[0m\u001b[0m\n",
      "\u001b[0;31mValueError\u001b[0m: labels ['UserID' 'MovieID'] not contained in axis"
     ]
    }
   ],
   "source": [
    "data_test = data_test.drop(['UserID', 'MovieID'], axis=1)"
   ]
  },
  {
   "cell_type": "code",
   "execution_count": 142,
   "metadata": {
    "collapsed": true
   },
   "outputs": [],
   "source": [
    "data_test.to_csv('pred_PD_CF.csv', index=False)"
   ]
  },
  {
   "cell_type": "code",
   "execution_count": 143,
   "metadata": {
    "collapsed": false
   },
   "outputs": [
    {
     "data": {
      "text/html": [
       "<div>\n",
       "<table border=\"1\" class=\"dataframe\">\n",
       "  <thead>\n",
       "    <tr style=\"text-align: right;\">\n",
       "      <th></th>\n",
       "      <th>Id</th>\n",
       "      <th>Prediction</th>\n",
       "    </tr>\n",
       "  </thead>\n",
       "  <tbody>\n",
       "    <tr>\n",
       "      <th>0</th>\n",
       "      <td>r37_c1</td>\n",
       "      <td>3.692308</td>\n",
       "    </tr>\n",
       "    <tr>\n",
       "      <th>1</th>\n",
       "      <td>r73_c1</td>\n",
       "      <td>3.100000</td>\n",
       "    </tr>\n",
       "    <tr>\n",
       "      <th>2</th>\n",
       "      <td>r156_c1</td>\n",
       "      <td>3.629630</td>\n",
       "    </tr>\n",
       "    <tr>\n",
       "      <th>3</th>\n",
       "      <td>r160_c1</td>\n",
       "      <td>3.545455</td>\n",
       "    </tr>\n",
       "    <tr>\n",
       "      <th>4</th>\n",
       "      <td>r248_c1</td>\n",
       "      <td>3.000000</td>\n",
       "    </tr>\n",
       "  </tbody>\n",
       "</table>\n",
       "</div>"
      ],
      "text/plain": [
       "        Id  Prediction\n",
       "0   r37_c1    3.692308\n",
       "1   r73_c1    3.100000\n",
       "2  r156_c1    3.629630\n",
       "3  r160_c1    3.545455\n",
       "4  r248_c1    3.000000"
      ]
     },
     "execution_count": 143,
     "metadata": {},
     "output_type": "execute_result"
    }
   ],
   "source": [
    "data_test.head()"
   ]
  },
  {
   "cell_type": "code",
   "execution_count": null,
   "metadata": {
    "collapsed": true
   },
   "outputs": [],
   "source": []
  }
 ],
 "metadata": {
  "anaconda-cloud": {},
  "kernelspec": {
   "display_name": "Python [conda root]",
   "language": "python",
   "name": "conda-root-py"
  },
  "language_info": {
   "codemirror_mode": {
    "name": "ipython",
    "version": 3
   },
   "file_extension": ".py",
   "mimetype": "text/x-python",
   "name": "python",
   "nbconvert_exporter": "python",
   "pygments_lexer": "ipython3",
   "version": "3.5.2"
  }
 },
 "nbformat": 4,
 "nbformat_minor": 1
}
