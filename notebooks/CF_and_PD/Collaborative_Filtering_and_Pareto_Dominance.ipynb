{
 "cells": [
  {
   "cell_type": "markdown",
   "metadata": {},
   "source": [
    "# Introduction\n",
    "\n",
    "In this notebook, we will implement the standard method of Collaborative Filtering with the Pareto Dominance. It is inspired by this paper: \n",
    "http://www.sciencedirect.com/science/article/pii/S0020025513002004"
   ]
  },
  {
   "cell_type": "code",
   "execution_count": 1,
   "metadata": {
    "collapsed": false
   },
   "outputs": [],
   "source": [
    "# Import the fucking useful libraries =)\n",
    "import pandas as pd\n",
    "import numpy as np\n",
    "\n",
    "import os\n",
    "import matplotlib.pyplot as plt\n",
    "import itertools\n",
    "from joblib import Parallel, delayed\n",
    "import pickle\n",
    "\n",
    "%matplotlib inline\n",
    "%load_ext autoreload\n",
    "%autoreload 2\n",
    "\n",
    "# There's a lot of columns in the DF. \n",
    "# Therefore, we add this option so that we can see more columns\n",
    "pd.options.display.max_columns = 100"
   ]
  },
  {
   "cell_type": "code",
   "execution_count": 2,
   "metadata": {
    "collapsed": true
   },
   "outputs": [],
   "source": [
    "# Define here the data set\n",
    "dataset = '../data/data_train.csv'"
   ]
  },
  {
   "cell_type": "markdown",
   "metadata": {},
   "source": [
    "# Load the data"
   ]
  },
  {
   "cell_type": "code",
   "execution_count": 3,
   "metadata": {
    "collapsed": false
   },
   "outputs": [
    {
     "data": {
      "text/html": [
       "<div>\n",
       "<table border=\"1\" class=\"dataframe\">\n",
       "  <thead>\n",
       "    <tr style=\"text-align: right;\">\n",
       "      <th></th>\n",
       "      <th>Id</th>\n",
       "      <th>Prediction</th>\n",
       "      <th>UserID</th>\n",
       "      <th>MovieID</th>\n",
       "    </tr>\n",
       "  </thead>\n",
       "  <tbody>\n",
       "    <tr>\n",
       "      <th>0</th>\n",
       "      <td>r44_c1</td>\n",
       "      <td>4</td>\n",
       "      <td>43</td>\n",
       "      <td>0</td>\n",
       "    </tr>\n",
       "    <tr>\n",
       "      <th>1</th>\n",
       "      <td>r61_c1</td>\n",
       "      <td>3</td>\n",
       "      <td>60</td>\n",
       "      <td>0</td>\n",
       "    </tr>\n",
       "    <tr>\n",
       "      <th>2</th>\n",
       "      <td>r67_c1</td>\n",
       "      <td>4</td>\n",
       "      <td>66</td>\n",
       "      <td>0</td>\n",
       "    </tr>\n",
       "    <tr>\n",
       "      <th>3</th>\n",
       "      <td>r72_c1</td>\n",
       "      <td>3</td>\n",
       "      <td>71</td>\n",
       "      <td>0</td>\n",
       "    </tr>\n",
       "    <tr>\n",
       "      <th>4</th>\n",
       "      <td>r86_c1</td>\n",
       "      <td>5</td>\n",
       "      <td>85</td>\n",
       "      <td>0</td>\n",
       "    </tr>\n",
       "  </tbody>\n",
       "</table>\n",
       "</div>"
      ],
      "text/plain": [
       "       Id  Prediction  UserID  MovieID\n",
       "0  r44_c1           4      43        0\n",
       "1  r61_c1           3      60        0\n",
       "2  r67_c1           4      66        0\n",
       "3  r72_c1           3      71        0\n",
       "4  r86_c1           5      85        0"
      ]
     },
     "execution_count": 3,
     "metadata": {},
     "output_type": "execute_result"
    }
   ],
   "source": [
    "data = pd.read_csv(dataset)\n",
    "data['UserID'] = data['Id'].apply(lambda x: int(x.split('_')[0][1:])-1)\n",
    "data['MovieID'] = data['Id'].apply(lambda x: int(x.split('_')[1][1:])-1)\n",
    "data.head()\n"
   ]
  },
  {
   "cell_type": "code",
   "execution_count": 4,
   "metadata": {
    "collapsed": false
   },
   "outputs": [
    {
     "data": {
      "text/plain": [
       "(1176952, 4)"
      ]
     },
     "execution_count": 4,
     "metadata": {},
     "output_type": "execute_result"
    }
   ],
   "source": [
    "data.shape"
   ]
  },
  {
   "cell_type": "markdown",
   "metadata": {},
   "source": [
    "# Define some Variables\n",
    "\n",
    "In here, we will define some sets:\n",
    "* $U = \\left\\{u\\in \\mathbb{N} \\mid 0 \\leq u \\leq l-1 \\right\\}$, the set of users\n",
    "* $I = \\left\\{i \\in \\mathbb{N} \\mid 0 \\leq i \\leq m-1 \\right\\}$, the set of items\n",
    "* $V = \\left\\{v \\in \\mathbb{N} \\mid min \\leq v \\leq max \\right\\} \\cup \\left\\{ \\texttt{NaN} \\right\\}$, the set of possible ratings\n",
    "* $R_u = \\left\\{(i,v) \\mid i \\in I, v \\in V \\right\\}$, ratings of user u\n",
    "* $I_u = \\left\\{i \\in I \\mid r_{u,i} \\neq \\cdot \\right\\}$, set of items rated by user $u$"
   ]
  },
  {
   "cell_type": "code",
   "execution_count": 5,
   "metadata": {
    "collapsed": false
   },
   "outputs": [
    {
     "data": {
      "text/plain": [
       "10000"
      ]
     },
     "execution_count": 5,
     "metadata": {},
     "output_type": "execute_result"
    }
   ],
   "source": [
    "U = np.sort(data['UserID'].unique())\n",
    "l = len(U)\n",
    "l\n"
   ]
  },
  {
   "cell_type": "code",
   "execution_count": 6,
   "metadata": {
    "collapsed": false
   },
   "outputs": [
    {
     "data": {
      "text/plain": [
       "1000"
      ]
     },
     "execution_count": 6,
     "metadata": {},
     "output_type": "execute_result"
    }
   ],
   "source": [
    "I = np.sort(data['MovieID'].unique())\n",
    "m = len(I)\n",
    "m"
   ]
  },
  {
   "cell_type": "code",
   "execution_count": 7,
   "metadata": {
    "collapsed": false
   },
   "outputs": [],
   "source": [
    "min_ = 1\n",
    "max_ = 5"
   ]
  },
  {
   "cell_type": "code",
   "execution_count": null,
   "metadata": {
    "collapsed": false
   },
   "outputs": [],
   "source": [
    "# To create R_u, we create a matrix with User as first entry and item as second entry\n",
    "R_u = -1*np.ones((l, m))\n",
    "\n",
    "for lines in range(len(data)):\n",
    "    R_u[data['UserID'][lines], data['MovieID'][lines]] = data['Prediction'][lines]\n",
    "    \n",
    "# Replace with NAN\n",
    "R_u[R_u==-1] = np.inf"
   ]
  },
  {
   "cell_type": "code",
   "execution_count": null,
   "metadata": {
    "collapsed": false
   },
   "outputs": [],
   "source": [
    "R_u.shape"
   ]
  },
  {
   "cell_type": "code",
   "execution_count": null,
   "metadata": {
    "collapsed": false
   },
   "outputs": [],
   "source": [
    "# To create I_u, we create a matrix with User as first entry and item as second entry\n",
    "I_u = []\n",
    "for line in range(R_u.shape[0]):\n",
    "    I_u.append(I[~np.isinf(R_u[line])])\n",
    "    \n",
    "#I_u"
   ]
  },
  {
   "cell_type": "code",
   "execution_count": null,
   "metadata": {
    "collapsed": true
   },
   "outputs": [],
   "source": [
    "def abs_diff(x, y, i, R):\n",
    "    \"\"\"\n",
    "        Compute Absolute difference between the ratings given by user x and user y to the item i\n",
    "    \n",
    "        IN:\n",
    "            x: A user\n",
    "            y: A second user\n",
    "            i: An item\n",
    "            R: Matrix of ratings\n",
    "    \n",
    "    \"\"\"\n",
    "        \n",
    "    return np.abs(R[x, i]-R[y, i])"
   ]
  },
  {
   "cell_type": "code",
   "execution_count": null,
   "metadata": {
    "collapsed": false
   },
   "outputs": [],
   "source": [
    "def get_all_distances(U, u, I_u, R):\n",
    "    \n",
    "    D = np.zeros((len(U), len(I_u[u])))\n",
    "    \n",
    "    for usr in U:\n",
    "        if usr != u:\n",
    "            D[usr,:] = abs_diff(u, usr, I_u[u], R)\n",
    "            \n",
    "    return D"
   ]
  },
  {
   "cell_type": "code",
   "execution_count": null,
   "metadata": {
    "collapsed": true
   },
   "outputs": [],
   "source": [
    "def get_matrix_dominance(U, D):\n",
    "    M = np.zeros((len(U), len(U)))\n",
    "    for x in range(len(U)):\n",
    "        M[x, :] = ((D[x]<=D).all(axis=1)*(D[x]<D).any(axis=1))\n",
    "        \n",
    "    return M"
   ]
  },
  {
   "cell_type": "code",
   "execution_count": null,
   "metadata": {
    "collapsed": true
   },
   "outputs": [],
   "source": [
    "def sets_dominated_dominator(U, u, I_u, R, M):\n",
    "    \"\"\"\n",
    "        Returns the set of dominated users and the set of non-dominated user w.r.t user u\n",
    "        \n",
    "        IN:\n",
    "            U: Set of users\n",
    "            u: A specific user\n",
    "            I_u: List of items (Only the one that were rated)\n",
    "            R: Matrix of Ratings\n",
    "            \n",
    "        OUT:\n",
    "            C_u: Set of non-dominated users w.r.t. user u (candidates)\n",
    "            D_u: Set of dominated users\n",
    "    \"\"\"\n",
    "    \n",
    "    D_u = []\n",
    "    C_u = []\n",
    "            \n",
    "    for idx, usr in enumerate(np.delete(U, u)):\n",
    "        if (M[:u:,usr] == 0).all():\n",
    "            C_u.append(usr)\n",
    "        else:\n",
    "            D_u.append(usr)\n",
    "\n",
    "    return C_u, D_u"
   ]
  },
  {
   "cell_type": "code",
   "execution_count": null,
   "metadata": {
    "collapsed": false
   },
   "outputs": [],
   "source": [
    "def create_Cu(U, u, I_u, R_u):\n",
    "    D = get_all_distances(U, u, I_u, R_u)\n",
    "    M = get_matrix_dominance(U, D)\n",
    "    C_u, D_u = sets_dominated_dominator(U, u, I_u, R_u, M)\n",
    "    filename = \"./pickles/C_\" + str(u) + \".pickle\"\n",
    "    pickle.dump(C_u, open(filename, \"wb\"))\n",
    "    print(\"C_%i created\"%(u))"
   ]
  },
  {
   "cell_type": "code",
   "execution_count": null,
   "metadata": {
    "collapsed": false,
    "scrolled": false
   },
   "outputs": [],
   "source": [
    "%%time\n",
    "Parallel(n_jobs=8)(delayed(create_Cu)(U, u, I_u, R_u) for u in U[7700:])"
   ]
  },
  {
   "cell_type": "code",
   "execution_count": null,
   "metadata": {
    "collapsed": false,
    "scrolled": true
   },
   "outputs": [],
   "source": [
    "len(pickle.load(open(\"./pickles/C_.pickle\", \"rb\")))"
   ]
  },
  {
   "cell_type": "code",
   "execution_count": 8,
   "metadata": {
    "collapsed": false
   },
   "outputs": [
    {
     "name": "stdout",
     "output_type": "stream",
     "text": [
      "100/10000 done!\n",
      "200/10000 done!\n",
      "300/10000 done!\n",
      "400/10000 done!\n",
      "500/10000 done!\n",
      "600/10000 done!\n",
      "700/10000 done!\n",
      "800/10000 done!\n",
      "900/10000 done!\n",
      "1000/10000 done!\n",
      "1100/10000 done!\n",
      "1200/10000 done!\n",
      "1300/10000 done!\n",
      "1400/10000 done!\n",
      "1500/10000 done!\n",
      "1600/10000 done!\n",
      "1700/10000 done!\n",
      "1800/10000 done!\n",
      "1900/10000 done!\n",
      "2000/10000 done!\n",
      "2100/10000 done!\n",
      "2200/10000 done!\n",
      "2300/10000 done!\n",
      "2400/10000 done!\n",
      "2500/10000 done!\n",
      "2600/10000 done!\n",
      "2700/10000 done!\n",
      "2800/10000 done!\n",
      "2900/10000 done!\n",
      "3000/10000 done!\n",
      "3100/10000 done!\n",
      "3200/10000 done!\n",
      "3300/10000 done!\n",
      "3400/10000 done!\n",
      "3500/10000 done!\n",
      "3600/10000 done!\n",
      "3700/10000 done!\n",
      "3800/10000 done!\n",
      "3900/10000 done!\n",
      "4000/10000 done!\n",
      "4100/10000 done!\n",
      "4200/10000 done!\n",
      "4300/10000 done!\n",
      "4400/10000 done!\n",
      "4500/10000 done!\n",
      "4600/10000 done!\n",
      "4700/10000 done!\n",
      "4800/10000 done!\n",
      "4900/10000 done!\n",
      "5000/10000 done!\n",
      "5100/10000 done!\n",
      "5200/10000 done!\n",
      "5300/10000 done!\n",
      "5400/10000 done!\n",
      "5500/10000 done!\n",
      "5600/10000 done!\n",
      "5700/10000 done!\n",
      "5800/10000 done!\n",
      "5900/10000 done!\n",
      "6000/10000 done!\n",
      "6100/10000 done!\n",
      "6200/10000 done!\n",
      "6300/10000 done!\n",
      "6400/10000 done!\n",
      "6500/10000 done!\n",
      "6600/10000 done!\n",
      "6700/10000 done!\n",
      "6800/10000 done!\n",
      "6900/10000 done!\n",
      "7000/10000 done!\n",
      "7100/10000 done!\n",
      "7200/10000 done!\n",
      "7300/10000 done!\n",
      "7400/10000 done!\n",
      "7500/10000 done!\n",
      "7600/10000 done!\n",
      "7700/10000 done!\n",
      "7800/10000 done!\n",
      "7900/10000 done!\n",
      "8000/10000 done!\n",
      "8100/10000 done!\n",
      "8200/10000 done!\n",
      "8300/10000 done!\n",
      "8400/10000 done!\n",
      "8500/10000 done!\n",
      "8600/10000 done!\n",
      "8700/10000 done!\n",
      "8800/10000 done!\n",
      "8900/10000 done!\n",
      "9000/10000 done!\n",
      "9100/10000 done!\n",
      "9200/10000 done!\n",
      "9300/10000 done!\n",
      "9400/10000 done!\n",
      "9500/10000 done!\n",
      "9600/10000 done!\n",
      "9700/10000 done!\n",
      "9800/10000 done!\n",
      "9900/10000 done!\n",
      "10000/10000 done!\n"
     ]
    }
   ],
   "source": [
    "C = []\n",
    "for usr in U:\n",
    "    filename = \"./pickles/C_\" + str(usr) + \".pickle\"\n",
    "    C.append(pickle.load(open(filename, \"rb\")))\n",
    "    \n",
    "    if (usr+1)%100==0:\n",
    "        print(\"%i/%i done!\"%(usr+1, len(U)))"
   ]
  },
  {
   "cell_type": "code",
   "execution_count": null,
   "metadata": {
    "collapsed": false
   },
   "outputs": [],
   "source": [
    "pickle.dump(C, open(\"non-dominated-users.pickle\", \"wb\"))"
   ]
  },
  {
   "cell_type": "code",
   "execution_count": 9,
   "metadata": {
    "collapsed": true
   },
   "outputs": [],
   "source": [
    "with open(\"non-dominated-users.dat\", \"w\") as file:\n",
    "    for item in C:\n",
    "        file.write(\"{}\\n\".format(item))"
   ]
  },
  {
   "cell_type": "code",
   "execution_count": null,
   "metadata": {
    "collapsed": true
   },
   "outputs": [],
   "source": []
  }
 ],
 "metadata": {
  "anaconda-cloud": {},
  "kernelspec": {
   "display_name": "Python [conda root]",
   "language": "python",
   "name": "conda-root-py"
  },
  "language_info": {
   "codemirror_mode": {
    "name": "ipython",
    "version": 3
   },
   "file_extension": ".py",
   "mimetype": "text/x-python",
   "name": "python",
   "nbconvert_exporter": "python",
   "pygments_lexer": "ipython3",
   "version": "3.5.2"
  }
 },
 "nbformat": 4,
 "nbformat_minor": 1
}
