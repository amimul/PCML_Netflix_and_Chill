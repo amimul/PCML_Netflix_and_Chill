{
 "cells": [
  {
   "cell_type": "markdown",
   "metadata": {},
   "source": [
    "In this notebook, I just create a mini dataset to test the implementation of the new algo.. =)\n"
   ]
  },
  {
   "cell_type": "code",
   "execution_count": 2,
   "metadata": {
    "collapsed": false
   },
   "outputs": [],
   "source": [
    "# Import Libraries\n",
    "import pandas as pd\n",
    "import numpy as np\n",
    "import os\n",
    "import matplotlib.pyplot as plt\n",
    "import helpers\n",
    "\n",
    "%matplotlib inline\n",
    "%load_ext autoreload\n",
    "%autoreload 2\n",
    "\n",
    "# There's a lot of columns in the DF. \n",
    "# Therefore, we add this option so that we can see more columns\n",
    "pd.options.display.max_columns = 100"
   ]
  },
  {
   "cell_type": "markdown",
   "metadata": {},
   "source": [
    "# Load the data"
   ]
  },
  {
   "cell_type": "code",
   "execution_count": 3,
   "metadata": {
    "collapsed": false
   },
   "outputs": [],
   "source": [
    "def small_dataset(n, filename, output):\n",
    "    print(\"Creating dataset for %i most rated films and most rating users.\"%n)\n",
    "    df = pd.read_csv(filename)\n",
    "    df = helpers.extract_from_original_table(df)\n",
    "    most_rated_movies = list(df['MovieID'].value_counts()[0:n].index)\n",
    "    small_users = df[df['MovieID'].isin(most_rated_movies)]\n",
    "    most_rating_users = list(small_users['UserID'].value_counts()[0:n].index)\n",
    "    id_ = []\n",
    "    rating = []\n",
    "    for i in range(len(df)):\n",
    "        if df['UserID'][i] in most_rating_users and df['MovieID'][i] in most_rated_movies:\n",
    "            id_.append('r%s_c%s'%(int(most_rating_users.index(df['UserID'][i])),\n",
    "                                  int(most_rated_movies.index(df['MovieID'][i]))))\n",
    "            rating.append(df['Rating'][i])\n",
    "        if (i+1)%100000==0:\n",
    "            print(\"%i/%i done!\"%(i+1,len(df)))\n",
    "    print(\"All done!\")\n",
    "    new_df = pd.DataFrame({'Id': id_, 'Prediction': rating})\n",
    "    new_df.to_csv(output, index=False)"
   ]
  },
  {
   "cell_type": "code",
   "execution_count": 4,
   "metadata": {
    "collapsed": false
   },
   "outputs": [
    {
     "name": "stdout",
     "output_type": "stream",
     "text": [
      "Creating dataset for 100 most rated films and most rating users.\n",
      "100000/1176952 done!\n",
      "200000/1176952 done!\n",
      "300000/1176952 done!\n",
      "400000/1176952 done!\n",
      "500000/1176952 done!\n",
      "600000/1176952 done!\n",
      "700000/1176952 done!\n",
      "800000/1176952 done!\n",
      "900000/1176952 done!\n",
      "1000000/1176952 done!\n",
      "1100000/1176952 done!\n",
      "All done!\n",
      "Creating dataset for 50 most rated films and most rating users.\n",
      "100000/1176952 done!\n",
      "200000/1176952 done!\n",
      "300000/1176952 done!\n",
      "400000/1176952 done!\n",
      "500000/1176952 done!\n",
      "600000/1176952 done!\n",
      "700000/1176952 done!\n",
      "800000/1176952 done!\n",
      "900000/1176952 done!\n",
      "1000000/1176952 done!\n",
      "1100000/1176952 done!\n",
      "All done!\n",
      "Creating dataset for 20 most rated films and most rating users.\n",
      "100000/1176952 done!\n",
      "200000/1176952 done!\n",
      "300000/1176952 done!\n",
      "400000/1176952 done!\n",
      "500000/1176952 done!\n",
      "600000/1176952 done!\n",
      "700000/1176952 done!\n",
      "800000/1176952 done!\n",
      "900000/1176952 done!\n",
      "1000000/1176952 done!\n",
      "1100000/1176952 done!\n",
      "All done!\n",
      "Creating dataset for 10 most rated films and most rating users.\n",
      "100000/1176952 done!\n",
      "200000/1176952 done!\n",
      "300000/1176952 done!\n",
      "400000/1176952 done!\n",
      "500000/1176952 done!\n",
      "600000/1176952 done!\n",
      "700000/1176952 done!\n",
      "800000/1176952 done!\n",
      "900000/1176952 done!\n",
      "1000000/1176952 done!\n",
      "1100000/1176952 done!\n",
      "All done!\n"
     ]
    }
   ],
   "source": [
    "small_dataset(100, '../data/data_train.csv', '../data/data_train_100.csv')\n",
    "small_dataset(50, '../data/data_train.csv', '../data/data_train_50.csv')\n",
    "small_dataset(20, '../data/data_train.csv', '../data/data_train_20.csv')\n",
    "small_dataset(10, '../data/data_train.csv', '../data/data_train_10.csv')"
   ]
  }
 ],
 "metadata": {
  "anaconda-cloud": {},
  "kernelspec": {
   "display_name": "Python [conda root]",
   "language": "python",
   "name": "conda-root-py"
  },
  "language_info": {
   "codemirror_mode": {
    "name": "ipython",
    "version": 3
   },
   "file_extension": ".py",
   "mimetype": "text/x-python",
   "name": "python",
   "nbconvert_exporter": "python",
   "pygments_lexer": "ipython3",
   "version": "3.5.2"
  }
 },
 "nbformat": 4,
 "nbformat_minor": 1
}
