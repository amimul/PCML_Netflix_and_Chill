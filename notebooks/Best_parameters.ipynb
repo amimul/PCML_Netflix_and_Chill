{
 "cells": [
  {
   "cell_type": "code",
   "execution_count": 1,
   "metadata": {
    "collapsed": false
   },
   "outputs": [
    {
     "data": {
      "text/plain": [
       "<pyspark.context.SparkContext at 0x101710128>"
      ]
     },
     "execution_count": 1,
     "metadata": {},
     "output_type": "execute_result"
    }
   ],
   "source": [
    "# Test if PySpark is installed correctly. If it's the case, you should see:\n",
    "# <pyspark.context.SparkContext at 0x7f0d85ae4240>\n",
    "sc\n"
   ]
  },
  {
   "cell_type": "code",
   "execution_count": 2,
   "metadata": {
    "collapsed": false
   },
   "outputs": [],
   "source": [
    "# Import the fucking useful libraries =)\n",
    "import pandas as pd\n",
    "import numpy as np\n",
    "import os\n",
    "import matplotlib.pyplot as plt\n",
    "import itertools\n",
    "from pyspark.mllib.recommendation import ALS\n",
    "import math\n",
    "\n",
    "%matplotlib inline\n",
    "%load_ext autoreload\n",
    "%autoreload 2\n",
    "\n",
    "# There's a lot of columns in the DF. \n",
    "# Therefore, we add this option so that we can see more columns\n",
    "pd.options.display.max_columns = 100"
   ]
  },
  {
   "cell_type": "markdown",
   "metadata": {},
   "source": [
    "# Load and prepare train data\n",
    "\n",
    "First, we will load the train data. Then, we create a pandas DF so that it contains three columns:\n",
    "\n",
    "                        UserID | MovieID | Rating"
   ]
  },
  {
   "cell_type": "code",
   "execution_count": 43,
   "metadata": {
    "collapsed": false
   },
   "outputs": [],
   "source": [
    "train = pd.read_csv('../data/data_rescaled.csv')\n",
    "deviation = pd.read_csv('../data/deviations_per_users.csv')"
   ]
  },
  {
   "cell_type": "code",
   "execution_count": 10,
   "metadata": {
    "collapsed": false
   },
   "outputs": [],
   "source": [
    "train['UserID'] = train['Id'].apply(lambda x: int(x.split('_')[0][1:]))\n",
    "train['MovieID'] = train['Id'].apply(lambda x: int(x.split('_')[1][1:]))\n",
    "train['Rating'] = train['Prediction']\n",
    "train = train.drop(['Id', 'Prediction'], axis=1)"
   ]
  },
  {
   "cell_type": "code",
   "execution_count": 11,
   "metadata": {
    "collapsed": false
   },
   "outputs": [
    {
     "data": {
      "text/html": [
       "<div>\n",
       "<table border=\"1\" class=\"dataframe\">\n",
       "  <thead>\n",
       "    <tr style=\"text-align: right;\">\n",
       "      <th></th>\n",
       "      <th>UserID</th>\n",
       "      <th>MovieID</th>\n",
       "      <th>Rating</th>\n",
       "    </tr>\n",
       "  </thead>\n",
       "  <tbody>\n",
       "    <tr>\n",
       "      <th>0</th>\n",
       "      <td>44</td>\n",
       "      <td>1</td>\n",
       "      <td>3.938425</td>\n",
       "    </tr>\n",
       "    <tr>\n",
       "      <th>1</th>\n",
       "      <td>61</td>\n",
       "      <td>1</td>\n",
       "      <td>2.598430</td>\n",
       "    </tr>\n",
       "    <tr>\n",
       "      <th>2</th>\n",
       "      <td>67</td>\n",
       "      <td>1</td>\n",
       "      <td>4.251480</td>\n",
       "    </tr>\n",
       "    <tr>\n",
       "      <th>3</th>\n",
       "      <td>72</td>\n",
       "      <td>1</td>\n",
       "      <td>2.970702</td>\n",
       "    </tr>\n",
       "    <tr>\n",
       "      <th>4</th>\n",
       "      <td>86</td>\n",
       "      <td>1</td>\n",
       "      <td>4.728805</td>\n",
       "    </tr>\n",
       "  </tbody>\n",
       "</table>\n",
       "</div>"
      ],
      "text/plain": [
       "   UserID  MovieID    Rating\n",
       "0      44        1  3.938425\n",
       "1      61        1  2.598430\n",
       "2      67        1  4.251480\n",
       "3      72        1  2.970702\n",
       "4      86        1  4.728805"
      ]
     },
     "execution_count": 11,
     "metadata": {},
     "output_type": "execute_result"
    }
   ],
   "source": [
    "train.head()"
   ]
  },
  {
   "cell_type": "code",
   "execution_count": 12,
   "metadata": {
    "collapsed": false
   },
   "outputs": [
    {
     "data": {
      "text/plain": [
       "(1176952, 3)"
      ]
     },
     "execution_count": 12,
     "metadata": {},
     "output_type": "execute_result"
    }
   ],
   "source": [
    "train.shape"
   ]
  },
  {
   "cell_type": "code",
   "execution_count": 13,
   "metadata": {
    "collapsed": false
   },
   "outputs": [
    {
     "data": {
      "text/html": [
       "<div>\n",
       "<table border=\"1\" class=\"dataframe\">\n",
       "  <thead>\n",
       "    <tr style=\"text-align: right;\">\n",
       "      <th></th>\n",
       "      <th>1</th>\n",
       "      <th>0.21135267540047176</th>\n",
       "    </tr>\n",
       "  </thead>\n",
       "  <tbody>\n",
       "    <tr>\n",
       "      <th>0</th>\n",
       "      <td>2</td>\n",
       "      <td>-0.060314</td>\n",
       "    </tr>\n",
       "    <tr>\n",
       "      <th>1</th>\n",
       "      <td>3</td>\n",
       "      <td>-0.308870</td>\n",
       "    </tr>\n",
       "    <tr>\n",
       "      <th>2</th>\n",
       "      <td>4</td>\n",
       "      <td>-0.032126</td>\n",
       "    </tr>\n",
       "    <tr>\n",
       "      <th>3</th>\n",
       "      <td>5</td>\n",
       "      <td>0.152949</td>\n",
       "    </tr>\n",
       "    <tr>\n",
       "      <th>4</th>\n",
       "      <td>6</td>\n",
       "      <td>0.534738</td>\n",
       "    </tr>\n",
       "  </tbody>\n",
       "</table>\n",
       "</div>"
      ],
      "text/plain": [
       "   1  0.21135267540047176\n",
       "0  2            -0.060314\n",
       "1  3            -0.308870\n",
       "2  4            -0.032126\n",
       "3  5             0.152949\n",
       "4  6             0.534738"
      ]
     },
     "execution_count": 13,
     "metadata": {},
     "output_type": "execute_result"
    }
   ],
   "source": [
    "deviation.head()"
   ]
  },
  {
   "cell_type": "markdown",
   "metadata": {},
   "source": [
    "Now, we need to transform the pandas DataFrame into a RDD (Resilient Distributed Dataset) for Spark."
   ]
  },
  {
   "cell_type": "code",
   "execution_count": 14,
   "metadata": {
    "collapsed": false
   },
   "outputs": [
    {
     "data": {
      "text/plain": [
       "[Row(UserID=44, MovieID=1, Rating=3.938424798067519),\n",
       " Row(UserID=61, MovieID=1, Rating=2.598429933295181),\n",
       " Row(UserID=67, MovieID=1, Rating=4.251480424178771)]"
      ]
     },
     "execution_count": 14,
     "metadata": {},
     "output_type": "execute_result"
    }
   ],
   "source": [
    "# First, we transform it using sqlContect\n",
    "train_sql = sqlContext.createDataFrame(train)\n",
    "train_rdd = train_sql.rdd\n",
    "train_rdd.take(3)"
   ]
  },
  {
   "cell_type": "markdown",
   "metadata": {},
   "source": [
    "# Collaborative Filtering\n",
    "\n",
    "For this Recommender System, we will use a collaborative filtering recommender system. Indeed, we don't have any information about the movies. Therefore, we will use the ratings of other users to guess the rating of a user. \n",
    "\n",
    "The Spark MLib provides a Collaborative Filtering implementation by using Alternating Least Squares. We will need the following parameters:\n",
    "\n",
    "- `numBlocks`: Number of blocks used to parallelize computation (-1 for auto-configure)\n",
    "- `rank`: Number of latent factors in the model\n",
    "- `iterations`: Number of iterations\n",
    "- `lambda`: Regularization parameter in ALS\n",
    "- `implicitPrefs`: Specify whether to use the explicit feedback ALS variant or one adapted for implicit feedback data\n",
    "- `alpha`: Parameter applicable to the implicit feedback variant of ALS that governs the baseline confidence in preference observations\n"
   ]
  },
  {
   "cell_type": "code",
   "execution_count": 15,
   "metadata": {
    "collapsed": false
   },
   "outputs": [],
   "source": [
    "# Split into train, validation and test datasets\n",
    "training_RDD, validation_RDD, test_RDD = train_rdd.randomSplit([6, 2, 2], seed=0)\n",
    "validation_for_predict_RDD = validation_RDD.map(lambda x: (x[0], x[1]))\n",
    "test_for_predict_RDD = test_RDD.map(lambda x: (x[0], x[1]))"
   ]
  },
  {
   "cell_type": "markdown",
   "metadata": {},
   "source": [
    "## Training phase!"
   ]
  },
  {
   "cell_type": "code",
   "execution_count": 16,
   "metadata": {
    "collapsed": true
   },
   "outputs": [],
   "source": [
    "def computeRMSE(model, data, prediction):\n",
    "    predictions = model.predictAll(data).map(lambda r: ((r[0], r[1]), r[2]))\n",
    "    rates_and_preds = prediction.map(lambda r: ((int(r[0]), int(r[1])), float(r[2]))).join(predictions)\n",
    "    error = math.sqrt(rates_and_preds.map(lambda r: (r[1][0] - r[1][1])**2).mean())\n",
    "    return error"
   ]
  },
  {
   "cell_type": "code",
   "execution_count": 17,
   "metadata": {
    "collapsed": true
   },
   "outputs": [],
   "source": [
    "ranks = [2, 4, 6, 8, 10, 12]\n",
    "lambdas = [0.1, 0.5, 1.0, 5.0, 10.0]\n",
    "numIters = [5, 10, 20]\n",
    "nbr_models = len(ranks)*len(lambdas)*len(numIters)\n",
    "\n",
    "bestModel = None\n",
    "bestValidationRmse = float(\"inf\")\n",
    "bestRank = 0\n",
    "bestLambda = -1.0\n",
    "bestNumIter = -1"
   ]
  },
  {
   "cell_type": "code",
   "execution_count": 18,
   "metadata": {
    "collapsed": false,
    "scrolled": true
   },
   "outputs": [
    {
     "name": "stdout",
     "output_type": "stream",
     "text": [
      "Model 1/90: RMSE (validation) = 1.011860\n",
      "  Trained with rank = 2, lambda = 0.1, and numIter = 5.\n",
      "\n",
      "Model 2/90: RMSE (validation) = 1.000885\n",
      "  Trained with rank = 2, lambda = 0.1, and numIter = 10.\n",
      "\n",
      "Model 3/90: RMSE (validation) = 1.002129\n",
      "  Trained with rank = 2, lambda = 0.1, and numIter = 20.\n",
      "\n",
      "Model 4/90: RMSE (validation) = 1.143835\n",
      "  Trained with rank = 2, lambda = 0.5, and numIter = 5.\n",
      "\n",
      "Model 5/90: RMSE (validation) = 1.118615\n",
      "  Trained with rank = 2, lambda = 0.5, and numIter = 10.\n",
      "\n",
      "Model 6/90: RMSE (validation) = 1.118058\n",
      "  Trained with rank = 2, lambda = 0.5, and numIter = 20.\n",
      "\n",
      "Model 7/90: RMSE (validation) = 1.405118\n",
      "  Trained with rank = 2, lambda = 1.0, and numIter = 5.\n",
      "\n",
      "Model 8/90: RMSE (validation) = 1.411702\n",
      "  Trained with rank = 2, lambda = 1.0, and numIter = 10.\n",
      "\n",
      "Model 9/90: RMSE (validation) = 1.411707\n",
      "  Trained with rank = 2, lambda = 1.0, and numIter = 20.\n",
      "\n",
      "Model 10/90: RMSE (validation) = 3.978086\n",
      "  Trained with rank = 2, lambda = 5.0, and numIter = 5.\n",
      "\n",
      "Model 11/90: RMSE (validation) = 3.978087\n",
      "  Trained with rank = 2, lambda = 5.0, and numIter = 10.\n",
      "\n",
      "Model 12/90: RMSE (validation) = 3.978087\n",
      "  Trained with rank = 2, lambda = 5.0, and numIter = 20.\n",
      "\n",
      "Model 13/90: RMSE (validation) = 3.978087\n",
      "  Trained with rank = 2, lambda = 10.0, and numIter = 5.\n",
      "\n",
      "Model 14/90: RMSE (validation) = 3.978087\n",
      "  Trained with rank = 2, lambda = 10.0, and numIter = 10.\n",
      "\n",
      "Model 15/90: RMSE (validation) = 3.978087\n",
      "  Trained with rank = 2, lambda = 10.0, and numIter = 20.\n",
      "\n",
      "Model 16/90: RMSE (validation) = 1.010128\n",
      "  Trained with rank = 4, lambda = 0.1, and numIter = 5.\n",
      "\n",
      "Model 17/90: RMSE (validation) = 0.998653\n",
      "  Trained with rank = 4, lambda = 0.1, and numIter = 10.\n",
      "\n",
      "Model 18/90: RMSE (validation) = 0.999936\n",
      "  Trained with rank = 4, lambda = 0.1, and numIter = 20.\n",
      "\n",
      "Model 19/90: RMSE (validation) = 1.098692\n",
      "  Trained with rank = 4, lambda = 0.5, and numIter = 5.\n",
      "\n",
      "Model 20/90: RMSE (validation) = 1.117362\n",
      "  Trained with rank = 4, lambda = 0.5, and numIter = 10.\n",
      "\n",
      "Model 21/90: RMSE (validation) = 1.118057\n",
      "  Trained with rank = 4, lambda = 0.5, and numIter = 20.\n",
      "\n",
      "Model 22/90: RMSE (validation) = 1.407974\n",
      "  Trained with rank = 4, lambda = 1.0, and numIter = 5.\n",
      "\n",
      "Model 23/90: RMSE (validation) = 1.411709\n",
      "  Trained with rank = 4, lambda = 1.0, and numIter = 10.\n",
      "\n",
      "Model 24/90: RMSE (validation) = 1.411707\n",
      "  Trained with rank = 4, lambda = 1.0, and numIter = 20.\n",
      "\n",
      "Model 25/90: RMSE (validation) = 3.978087\n",
      "  Trained with rank = 4, lambda = 5.0, and numIter = 5.\n",
      "\n",
      "Model 26/90: RMSE (validation) = 3.978087\n",
      "  Trained with rank = 4, lambda = 5.0, and numIter = 10.\n",
      "\n",
      "Model 27/90: RMSE (validation) = 3.978087\n",
      "  Trained with rank = 4, lambda = 5.0, and numIter = 20.\n",
      "\n",
      "Model 28/90: RMSE (validation) = 3.978087\n",
      "  Trained with rank = 4, lambda = 10.0, and numIter = 5.\n",
      "\n",
      "Model 29/90: RMSE (validation) = 3.978087\n",
      "  Trained with rank = 4, lambda = 10.0, and numIter = 10.\n",
      "\n",
      "Model 30/90: RMSE (validation) = 3.978087\n",
      "  Trained with rank = 4, lambda = 10.0, and numIter = 20.\n",
      "\n",
      "Model 31/90: RMSE (validation) = 1.013051\n",
      "  Trained with rank = 6, lambda = 0.1, and numIter = 5.\n",
      "\n",
      "Model 32/90: RMSE (validation) = 1.007249\n",
      "  Trained with rank = 6, lambda = 0.1, and numIter = 10.\n",
      "\n",
      "Model 33/90: RMSE (validation) = 0.999379\n",
      "  Trained with rank = 6, lambda = 0.1, and numIter = 20.\n",
      "\n",
      "Model 34/90: RMSE (validation) = 1.096017\n",
      "  Trained with rank = 6, lambda = 0.5, and numIter = 5.\n",
      "\n",
      "Model 35/90: RMSE (validation) = 1.116856\n",
      "  Trained with rank = 6, lambda = 0.5, and numIter = 10.\n",
      "\n",
      "Model 36/90: RMSE (validation) = 1.118057\n",
      "  Trained with rank = 6, lambda = 0.5, and numIter = 20.\n",
      "\n",
      "Model 37/90: RMSE (validation) = 1.411052\n",
      "  Trained with rank = 6, lambda = 1.0, and numIter = 5.\n",
      "\n",
      "Model 38/90: RMSE (validation) = 1.411702\n",
      "  Trained with rank = 6, lambda = 1.0, and numIter = 10.\n",
      "\n",
      "Model 39/90: RMSE (validation) = 1.411707\n",
      "  Trained with rank = 6, lambda = 1.0, and numIter = 20.\n",
      "\n",
      "Model 40/90: RMSE (validation) = 3.978085\n",
      "  Trained with rank = 6, lambda = 5.0, and numIter = 5.\n",
      "\n",
      "Model 41/90: RMSE (validation) = 3.978087\n",
      "  Trained with rank = 6, lambda = 5.0, and numIter = 10.\n",
      "\n",
      "Model 42/90: RMSE (validation) = 3.978087\n",
      "  Trained with rank = 6, lambda = 5.0, and numIter = 20.\n",
      "\n",
      "Model 43/90: RMSE (validation) = 3.978087\n",
      "  Trained with rank = 6, lambda = 10.0, and numIter = 5.\n",
      "\n",
      "Model 44/90: RMSE (validation) = 3.978087\n",
      "  Trained with rank = 6, lambda = 10.0, and numIter = 10.\n",
      "\n",
      "Model 45/90: RMSE (validation) = 3.978087\n",
      "  Trained with rank = 6, lambda = 10.0, and numIter = 20.\n",
      "\n",
      "Model 46/90: RMSE (validation) = 1.025392\n",
      "  Trained with rank = 8, lambda = 0.1, and numIter = 5.\n",
      "\n",
      "Model 47/90: RMSE (validation) = 1.005940\n",
      "  Trained with rank = 8, lambda = 0.1, and numIter = 10.\n",
      "\n",
      "Model 48/90: RMSE (validation) = 0.998476\n",
      "  Trained with rank = 8, lambda = 0.1, and numIter = 20.\n",
      "\n",
      "Model 49/90: RMSE (validation) = 1.100551\n",
      "  Trained with rank = 8, lambda = 0.5, and numIter = 5.\n",
      "\n",
      "Model 50/90: RMSE (validation) = 1.116848\n",
      "  Trained with rank = 8, lambda = 0.5, and numIter = 10.\n",
      "\n",
      "Model 51/90: RMSE (validation) = 1.118057\n",
      "  Trained with rank = 8, lambda = 0.5, and numIter = 20.\n",
      "\n",
      "Model 52/90: RMSE (validation) = 1.404970\n",
      "  Trained with rank = 8, lambda = 1.0, and numIter = 5.\n",
      "\n",
      "Model 53/90: RMSE (validation) = 1.411707\n",
      "  Trained with rank = 8, lambda = 1.0, and numIter = 10.\n",
      "\n",
      "Model 54/90: RMSE (validation) = 1.411707\n",
      "  Trained with rank = 8, lambda = 1.0, and numIter = 20.\n",
      "\n",
      "Model 55/90: RMSE (validation) = 3.978086\n",
      "  Trained with rank = 8, lambda = 5.0, and numIter = 5.\n",
      "\n",
      "Model 56/90: RMSE (validation) = 3.978087\n",
      "  Trained with rank = 8, lambda = 5.0, and numIter = 10.\n",
      "\n",
      "Model 57/90: RMSE (validation) = 3.978087\n",
      "  Trained with rank = 8, lambda = 5.0, and numIter = 20.\n",
      "\n",
      "Model 58/90: RMSE (validation) = 3.978087\n",
      "  Trained with rank = 8, lambda = 10.0, and numIter = 5.\n",
      "\n",
      "Model 59/90: RMSE (validation) = 3.978087\n",
      "  Trained with rank = 8, lambda = 10.0, and numIter = 10.\n",
      "\n",
      "Model 60/90: RMSE (validation) = 3.978087\n",
      "  Trained with rank = 8, lambda = 10.0, and numIter = 20.\n",
      "\n",
      "Model 61/90: RMSE (validation) = 1.036607\n",
      "  Trained with rank = 10, lambda = 0.1, and numIter = 5.\n",
      "\n",
      "Model 62/90: RMSE (validation) = 1.007124\n",
      "  Trained with rank = 10, lambda = 0.1, and numIter = 10.\n",
      "\n",
      "Model 63/90: RMSE (validation) = 0.999615\n",
      "  Trained with rank = 10, lambda = 0.1, and numIter = 20.\n",
      "\n",
      "Model 64/90: RMSE (validation) = 1.097129\n",
      "  Trained with rank = 10, lambda = 0.5, and numIter = 5.\n",
      "\n",
      "Model 65/90: RMSE (validation) = 1.116950\n",
      "  Trained with rank = 10, lambda = 0.5, and numIter = 10.\n",
      "\n",
      "Model 66/90: RMSE (validation) = 1.118058\n",
      "  Trained with rank = 10, lambda = 0.5, and numIter = 20.\n",
      "\n",
      "Model 67/90: RMSE (validation) = 1.409723\n",
      "  Trained with rank = 10, lambda = 1.0, and numIter = 5.\n",
      "\n",
      "Model 68/90: RMSE (validation) = 1.411708\n",
      "  Trained with rank = 10, lambda = 1.0, and numIter = 10.\n",
      "\n",
      "Model 69/90: RMSE (validation) = 1.411707\n",
      "  Trained with rank = 10, lambda = 1.0, and numIter = 20.\n",
      "\n",
      "Model 70/90: RMSE (validation) = 3.978086\n",
      "  Trained with rank = 10, lambda = 5.0, and numIter = 5.\n",
      "\n",
      "Model 71/90: RMSE (validation) = 3.978087\n",
      "  Trained with rank = 10, lambda = 5.0, and numIter = 10.\n",
      "\n",
      "Model 72/90: RMSE (validation) = 3.978087\n",
      "  Trained with rank = 10, lambda = 5.0, and numIter = 20.\n",
      "\n",
      "Model 73/90: RMSE (validation) = 3.978087\n",
      "  Trained with rank = 10, lambda = 10.0, and numIter = 5.\n",
      "\n",
      "Model 74/90: RMSE (validation) = 3.978087\n",
      "  Trained with rank = 10, lambda = 10.0, and numIter = 10.\n",
      "\n",
      "Model 75/90: RMSE (validation) = 3.978087\n",
      "  Trained with rank = 10, lambda = 10.0, and numIter = 20.\n",
      "\n",
      "Model 76/90: RMSE (validation) = 1.036477\n",
      "  Trained with rank = 12, lambda = 0.1, and numIter = 5.\n",
      "\n",
      "Model 77/90: RMSE (validation) = 1.007278\n",
      "  Trained with rank = 12, lambda = 0.1, and numIter = 10.\n",
      "\n",
      "Model 78/90: RMSE (validation) = 1.000563\n",
      "  Trained with rank = 12, lambda = 0.1, and numIter = 20.\n",
      "\n",
      "Model 79/90: RMSE (validation) = 1.096703\n",
      "  Trained with rank = 12, lambda = 0.5, and numIter = 5.\n",
      "\n",
      "Model 80/90: RMSE (validation) = 1.117097\n",
      "  Trained with rank = 12, lambda = 0.5, and numIter = 10.\n",
      "\n",
      "Model 81/90: RMSE (validation) = 1.118057\n",
      "  Trained with rank = 12, lambda = 0.5, and numIter = 20.\n",
      "\n",
      "Model 82/90: RMSE (validation) = 1.408944\n",
      "  Trained with rank = 12, lambda = 1.0, and numIter = 5.\n",
      "\n",
      "Model 83/90: RMSE (validation) = 1.411706\n",
      "  Trained with rank = 12, lambda = 1.0, and numIter = 10.\n",
      "\n",
      "Model 84/90: RMSE (validation) = 1.411707\n",
      "  Trained with rank = 12, lambda = 1.0, and numIter = 20.\n",
      "\n",
      "Model 85/90: RMSE (validation) = 3.978086\n",
      "  Trained with rank = 12, lambda = 5.0, and numIter = 5.\n",
      "\n",
      "Model 86/90: RMSE (validation) = 3.978087\n",
      "  Trained with rank = 12, lambda = 5.0, and numIter = 10.\n",
      "\n",
      "Model 87/90: RMSE (validation) = 3.978087\n",
      "  Trained with rank = 12, lambda = 5.0, and numIter = 20.\n",
      "\n",
      "Model 88/90: RMSE (validation) = 3.978087\n",
      "  Trained with rank = 12, lambda = 10.0, and numIter = 5.\n",
      "\n",
      "Model 89/90: RMSE (validation) = 3.978087\n",
      "  Trained with rank = 12, lambda = 10.0, and numIter = 10.\n",
      "\n",
      "Model 90/90: RMSE (validation) = 3.978087\n",
      "  Trained with rank = 12, lambda = 10.0, and numIter = 20.\n",
      "\n",
      "The best model was trained with rank = 8 and lambda = 0.1, and numIter = 20, and its RMSE on the training set is 0.998476\n",
      "RMSE on the test set: 0.995823\n"
     ]
    }
   ],
   "source": [
    "i = 0\n",
    "for rank, lmbda, numIter in itertools.product(ranks, lambdas, numIters):\n",
    "    try:\n",
    "        model = ALS.train(training_RDD, rank, numIter, lmbda)\n",
    "        validationRmse = computeRMSE(model, validation_for_predict_RDD, validation_RDD)\n",
    "        print(\"Model %i/%i: RMSE (validation) = %f\" %(i+1, nbr_models, validationRmse))\n",
    "        print(\"  Trained with rank = %d, lambda = %.1f, and numIter = %d.\" % (rank, lmbda, numIter))\n",
    "        print(\"\")\n",
    "        if (validationRmse < bestValidationRmse):\n",
    "            bestModel = model\n",
    "            bestValidationRmse = validationRmse\n",
    "            bestRank = rank\n",
    "            bestLambda = lmbda\n",
    "            bestNumIter = numIter\n",
    "    except:\n",
    "        print(\"Model %i/%i failed!\" %(i+1, nbr_models))\n",
    "        print(\"  Parameters: rank = %d, lambda = %.1f, and numIter = %d.\" % (rank, lmbda, numIter))\n",
    "\n",
    "    i += 1\n",
    "    \n",
    "# Evaluate the best model on the training set\n",
    "print(\"The best model was trained with rank = %d and lambda = %.1f, \" % (bestRank, bestLambda) \\\n",
    "  + \"and numIter = %d, and its RMSE on the training set is %f\" % (bestNumIter, bestValidationRmse))\n",
    "\n",
    "# Evaluate the best model on the test set\n",
    "testRmse = computeRMSE(bestModel, test_for_predict_RDD, test_RDD)\n",
    "print(\"RMSE on the test set: %f\"%(testRmse))"
   ]
  },
  {
   "cell_type": "markdown",
   "metadata": {},
   "source": [
    "Now, that we have the best rank, best lambda and best number of iterations, we can train on the whole train data."
   ]
  },
  {
   "cell_type": "code",
   "execution_count": 19,
   "metadata": {
    "collapsed": false
   },
   "outputs": [],
   "source": [
    "perfect_model = ALS.train(train_rdd, bestRank, bestNumIter, bestLambda)"
   ]
  },
  {
   "cell_type": "markdown",
   "metadata": {},
   "source": [
    "# Load and prepare the test data"
   ]
  },
  {
   "cell_type": "code",
   "execution_count": 20,
   "metadata": {
    "collapsed": false
   },
   "outputs": [
    {
     "data": {
      "text/html": [
       "<div>\n",
       "<table border=\"1\" class=\"dataframe\">\n",
       "  <thead>\n",
       "    <tr style=\"text-align: right;\">\n",
       "      <th></th>\n",
       "      <th>Id</th>\n",
       "      <th>Prediction</th>\n",
       "    </tr>\n",
       "  </thead>\n",
       "  <tbody>\n",
       "    <tr>\n",
       "      <th>0</th>\n",
       "      <td>r37_c1</td>\n",
       "      <td>3</td>\n",
       "    </tr>\n",
       "    <tr>\n",
       "      <th>1</th>\n",
       "      <td>r73_c1</td>\n",
       "      <td>3</td>\n",
       "    </tr>\n",
       "    <tr>\n",
       "      <th>2</th>\n",
       "      <td>r156_c1</td>\n",
       "      <td>3</td>\n",
       "    </tr>\n",
       "    <tr>\n",
       "      <th>3</th>\n",
       "      <td>r160_c1</td>\n",
       "      <td>3</td>\n",
       "    </tr>\n",
       "    <tr>\n",
       "      <th>4</th>\n",
       "      <td>r248_c1</td>\n",
       "      <td>3</td>\n",
       "    </tr>\n",
       "  </tbody>\n",
       "</table>\n",
       "</div>"
      ],
      "text/plain": [
       "        Id  Prediction\n",
       "0   r37_c1           3\n",
       "1   r73_c1           3\n",
       "2  r156_c1           3\n",
       "3  r160_c1           3\n",
       "4  r248_c1           3"
      ]
     },
     "execution_count": 20,
     "metadata": {},
     "output_type": "execute_result"
    }
   ],
   "source": [
    "test = pd.read_csv('../data/sampleSubmission.csv')\n",
    "test.head()"
   ]
  },
  {
   "cell_type": "code",
   "execution_count": 21,
   "metadata": {
    "collapsed": false,
    "scrolled": true
   },
   "outputs": [
    {
     "data": {
      "text/html": [
       "<div>\n",
       "<table border=\"1\" class=\"dataframe\">\n",
       "  <thead>\n",
       "    <tr style=\"text-align: right;\">\n",
       "      <th></th>\n",
       "      <th>UserID</th>\n",
       "      <th>MovieID</th>\n",
       "      <th>Rating</th>\n",
       "    </tr>\n",
       "  </thead>\n",
       "  <tbody>\n",
       "    <tr>\n",
       "      <th>0</th>\n",
       "      <td>37</td>\n",
       "      <td>1</td>\n",
       "      <td>3</td>\n",
       "    </tr>\n",
       "    <tr>\n",
       "      <th>1</th>\n",
       "      <td>73</td>\n",
       "      <td>1</td>\n",
       "      <td>3</td>\n",
       "    </tr>\n",
       "    <tr>\n",
       "      <th>2</th>\n",
       "      <td>156</td>\n",
       "      <td>1</td>\n",
       "      <td>3</td>\n",
       "    </tr>\n",
       "    <tr>\n",
       "      <th>3</th>\n",
       "      <td>160</td>\n",
       "      <td>1</td>\n",
       "      <td>3</td>\n",
       "    </tr>\n",
       "    <tr>\n",
       "      <th>4</th>\n",
       "      <td>248</td>\n",
       "      <td>1</td>\n",
       "      <td>3</td>\n",
       "    </tr>\n",
       "  </tbody>\n",
       "</table>\n",
       "</div>"
      ],
      "text/plain": [
       "   UserID  MovieID  Rating\n",
       "0      37        1       3\n",
       "1      73        1       3\n",
       "2     156        1       3\n",
       "3     160        1       3\n",
       "4     248        1       3"
      ]
     },
     "execution_count": 21,
     "metadata": {},
     "output_type": "execute_result"
    }
   ],
   "source": [
    "# Prepare test for RDD\n",
    "test_prep = test\n",
    "test_prep['UserID'] = test_prep['Id'].apply(lambda x: int(x.split('_')[0][1:]))\n",
    "test_prep['MovieID'] = test_prep['Id'].apply(lambda x: int(x.split('_')[1][1:]))\n",
    "test_prep['Rating'] = test_prep['Prediction']\n",
    "test_prep = test_prep.drop(['Prediction', 'Id'], axis=1)\n",
    "test_prep.head()"
   ]
  },
  {
   "cell_type": "code",
   "execution_count": 23,
   "metadata": {
    "collapsed": false
   },
   "outputs": [
    {
     "data": {
      "text/plain": [
       "[Row(UserID=37, MovieID=1, Rating=3),\n",
       " Row(UserID=73, MovieID=1, Rating=3),\n",
       " Row(UserID=156, MovieID=1, Rating=3)]"
      ]
     },
     "execution_count": 23,
     "metadata": {},
     "output_type": "execute_result"
    }
   ],
   "source": [
    "# First, we transform it using sqlContect\n",
    "test_sql = sqlContext.createDataFrame(test_prep)\n",
    "test_rdd = test_sql.rdd\n",
    "test_rdd.take(3)"
   ]
  },
  {
   "cell_type": "code",
   "execution_count": 24,
   "metadata": {
    "collapsed": false
   },
   "outputs": [],
   "source": [
    "test_RDD_Kaggle = test_rdd.map(lambda x: (x[0], x[1]))\n",
    "predictions = perfect_model.predictAll(test_RDD_Kaggle).map(lambda r: ((r[0], r[1]), r[2]))"
   ]
  },
  {
   "cell_type": "code",
   "execution_count": 25,
   "metadata": {
    "collapsed": false
   },
   "outputs": [
    {
     "data": {
      "text/plain": [
       "[((4904, 864), 3.8075502006192443),\n",
       " ((4904, 608), 4.460712476861956),\n",
       " ((4904, 72), 3.2903132054032556)]"
      ]
     },
     "execution_count": 25,
     "metadata": {},
     "output_type": "execute_result"
    }
   ],
   "source": [
    "predictions.take(3)"
   ]
  },
  {
   "cell_type": "code",
   "execution_count": 26,
   "metadata": {
    "collapsed": false
   },
   "outputs": [],
   "source": [
    "pred_df = predictions.toDF().toPandas()"
   ]
  },
  {
   "cell_type": "code",
   "execution_count": 27,
   "metadata": {
    "collapsed": false
   },
   "outputs": [
    {
     "data": {
      "text/html": [
       "<div>\n",
       "<table border=\"1\" class=\"dataframe\">\n",
       "  <thead>\n",
       "    <tr style=\"text-align: right;\">\n",
       "      <th></th>\n",
       "      <th>_1</th>\n",
       "      <th>_2</th>\n",
       "    </tr>\n",
       "  </thead>\n",
       "  <tbody>\n",
       "    <tr>\n",
       "      <th>0</th>\n",
       "      <td>(4904, 864)</td>\n",
       "      <td>3.807550</td>\n",
       "    </tr>\n",
       "    <tr>\n",
       "      <th>1</th>\n",
       "      <td>(4904, 608)</td>\n",
       "      <td>4.460712</td>\n",
       "    </tr>\n",
       "    <tr>\n",
       "      <th>2</th>\n",
       "      <td>(4904, 72)</td>\n",
       "      <td>3.290313</td>\n",
       "    </tr>\n",
       "    <tr>\n",
       "      <th>3</th>\n",
       "      <td>(4904, 48)</td>\n",
       "      <td>3.544272</td>\n",
       "    </tr>\n",
       "    <tr>\n",
       "      <th>4</th>\n",
       "      <td>(4904, 193)</td>\n",
       "      <td>3.811244</td>\n",
       "    </tr>\n",
       "  </tbody>\n",
       "</table>\n",
       "</div>"
      ],
      "text/plain": [
       "            _1        _2\n",
       "0  (4904, 864)  3.807550\n",
       "1  (4904, 608)  4.460712\n",
       "2   (4904, 72)  3.290313\n",
       "3   (4904, 48)  3.544272\n",
       "4  (4904, 193)  3.811244"
      ]
     },
     "execution_count": 27,
     "metadata": {},
     "output_type": "execute_result"
    }
   ],
   "source": [
    "pred_df.head()"
   ]
  },
  {
   "cell_type": "code",
   "execution_count": 29,
   "metadata": {
    "collapsed": false
   },
   "outputs": [
    {
     "data": {
      "text/html": [
       "<div>\n",
       "<table border=\"1\" class=\"dataframe\">\n",
       "  <thead>\n",
       "    <tr style=\"text-align: right;\">\n",
       "      <th></th>\n",
       "      <th>UserID</th>\n",
       "      <th>MovieID</th>\n",
       "      <th>Rating</th>\n",
       "    </tr>\n",
       "  </thead>\n",
       "  <tbody>\n",
       "    <tr>\n",
       "      <th>0</th>\n",
       "      <td>4904</td>\n",
       "      <td>864</td>\n",
       "      <td>3.807550</td>\n",
       "    </tr>\n",
       "    <tr>\n",
       "      <th>1</th>\n",
       "      <td>4904</td>\n",
       "      <td>608</td>\n",
       "      <td>4.460712</td>\n",
       "    </tr>\n",
       "    <tr>\n",
       "      <th>2</th>\n",
       "      <td>4904</td>\n",
       "      <td>72</td>\n",
       "      <td>3.290313</td>\n",
       "    </tr>\n",
       "    <tr>\n",
       "      <th>3</th>\n",
       "      <td>4904</td>\n",
       "      <td>48</td>\n",
       "      <td>3.544272</td>\n",
       "    </tr>\n",
       "    <tr>\n",
       "      <th>4</th>\n",
       "      <td>4904</td>\n",
       "      <td>193</td>\n",
       "      <td>3.811244</td>\n",
       "    </tr>\n",
       "  </tbody>\n",
       "</table>\n",
       "</div>"
      ],
      "text/plain": [
       "   UserID  MovieID    Rating\n",
       "0    4904      864  3.807550\n",
       "1    4904      608  4.460712\n",
       "2    4904       72  3.290313\n",
       "3    4904       48  3.544272\n",
       "4    4904      193  3.811244"
      ]
     },
     "execution_count": 29,
     "metadata": {},
     "output_type": "execute_result"
    }
   ],
   "source": [
    "pred_df['UserID'] = pred_df['_1'].apply(lambda x: x['_1'])\n",
    "pred_df['MovieID'] = pred_df['_1'].apply(lambda x: x['_2'])\n",
    "pred_df['Rating'] = pred_df['_2']\n",
    "pred_df = pred_df.drop(['_1', '_2'], axis=1)\n",
    "pred_df.head()\n"
   ]
  },
  {
   "cell_type": "code",
   "execution_count": 30,
   "metadata": {
    "collapsed": false,
    "scrolled": true
   },
   "outputs": [
    {
     "data": {
      "text/html": [
       "<div>\n",
       "<table border=\"1\" class=\"dataframe\">\n",
       "  <thead>\n",
       "    <tr style=\"text-align: right;\">\n",
       "      <th></th>\n",
       "      <th>UserID</th>\n",
       "      <th>MovieID</th>\n",
       "      <th>Rating</th>\n",
       "    </tr>\n",
       "  </thead>\n",
       "  <tbody>\n",
       "    <tr>\n",
       "      <th>840969</th>\n",
       "      <td>37</td>\n",
       "      <td>1</td>\n",
       "      <td>3.252095</td>\n",
       "    </tr>\n",
       "    <tr>\n",
       "      <th>238375</th>\n",
       "      <td>73</td>\n",
       "      <td>1</td>\n",
       "      <td>3.245019</td>\n",
       "    </tr>\n",
       "    <tr>\n",
       "      <th>615219</th>\n",
       "      <td>156</td>\n",
       "      <td>1</td>\n",
       "      <td>3.284145</td>\n",
       "    </tr>\n",
       "    <tr>\n",
       "      <th>2964</th>\n",
       "      <td>160</td>\n",
       "      <td>1</td>\n",
       "      <td>3.358135</td>\n",
       "    </tr>\n",
       "    <tr>\n",
       "      <th>123927</th>\n",
       "      <td>248</td>\n",
       "      <td>1</td>\n",
       "      <td>3.249512</td>\n",
       "    </tr>\n",
       "  </tbody>\n",
       "</table>\n",
       "</div>"
      ],
      "text/plain": [
       "        UserID  MovieID    Rating\n",
       "840969      37        1  3.252095\n",
       "238375      73        1  3.245019\n",
       "615219     156        1  3.284145\n",
       "2964       160        1  3.358135\n",
       "123927     248        1  3.249512"
      ]
     },
     "execution_count": 30,
     "metadata": {},
     "output_type": "execute_result"
    }
   ],
   "source": [
    "pred_df = pred_df.sort_values(by=['MovieID', 'UserID'])\n",
    "pred_df.head()"
   ]
  },
  {
   "cell_type": "code",
   "execution_count": 38,
   "metadata": {
    "collapsed": true
   },
   "outputs": [],
   "source": [
    "pred_df.index = range(len(pred_df))"
   ]
  },
  {
   "cell_type": "code",
   "execution_count": 85,
   "metadata": {
    "collapsed": false
   },
   "outputs": [
    {
     "data": {
      "text/html": [
       "<div>\n",
       "<table border=\"1\" class=\"dataframe\">\n",
       "  <thead>\n",
       "    <tr style=\"text-align: right;\">\n",
       "      <th></th>\n",
       "      <th>dev</th>\n",
       "    </tr>\n",
       "    <tr>\n",
       "      <th>UserID</th>\n",
       "      <th></th>\n",
       "    </tr>\n",
       "  </thead>\n",
       "  <tbody>\n",
       "    <tr>\n",
       "      <th>1</th>\n",
       "      <td>0.211353</td>\n",
       "    </tr>\n",
       "    <tr>\n",
       "      <th>2</th>\n",
       "      <td>-0.060314</td>\n",
       "    </tr>\n",
       "    <tr>\n",
       "      <th>3</th>\n",
       "      <td>-0.308870</td>\n",
       "    </tr>\n",
       "    <tr>\n",
       "      <th>4</th>\n",
       "      <td>-0.032126</td>\n",
       "    </tr>\n",
       "    <tr>\n",
       "      <th>5</th>\n",
       "      <td>0.152949</td>\n",
       "    </tr>\n",
       "  </tbody>\n",
       "</table>\n",
       "</div>"
      ],
      "text/plain": [
       "             dev\n",
       "UserID          \n",
       "1       0.211353\n",
       "2      -0.060314\n",
       "3      -0.308870\n",
       "4      -0.032126\n",
       "5       0.152949"
      ]
     },
     "execution_count": 85,
     "metadata": {},
     "output_type": "execute_result"
    }
   ],
   "source": [
    "deviation.set_index('UserID').head()"
   ]
  },
  {
   "cell_type": "code",
   "execution_count": 88,
   "metadata": {
    "collapsed": false
   },
   "outputs": [],
   "source": [
    "deviation = deviation.set_index('UserID')"
   ]
  },
  {
   "cell_type": "code",
   "execution_count": 89,
   "metadata": {
    "collapsed": false
   },
   "outputs": [
    {
     "data": {
      "text/html": [
       "<div>\n",
       "<table border=\"1\" class=\"dataframe\">\n",
       "  <thead>\n",
       "    <tr style=\"text-align: right;\">\n",
       "      <th></th>\n",
       "      <th>dev</th>\n",
       "    </tr>\n",
       "  </thead>\n",
       "  <tbody>\n",
       "    <tr>\n",
       "      <th>0</th>\n",
       "      <td>3.177701</td>\n",
       "    </tr>\n",
       "    <tr>\n",
       "      <th>1</th>\n",
       "      <td>2.952893</td>\n",
       "    </tr>\n",
       "    <tr>\n",
       "      <th>2</th>\n",
       "      <td>3.682235</td>\n",
       "    </tr>\n",
       "    <tr>\n",
       "      <th>3</th>\n",
       "      <td>3.218317</td>\n",
       "    </tr>\n",
       "    <tr>\n",
       "      <th>4</th>\n",
       "      <td>3.345530</td>\n",
       "    </tr>\n",
       "  </tbody>\n",
       "</table>\n",
       "</div>"
      ],
      "text/plain": [
       "        dev\n",
       "0  3.177701\n",
       "1  2.952893\n",
       "2  3.682235\n",
       "3  3.218317\n",
       "4  3.345530"
      ]
     },
     "execution_count": 89,
     "metadata": {},
     "output_type": "execute_result"
    }
   ],
   "source": [
    "# ADD THE SUBSTRACTED DEVIATION\n",
    "\n",
    "def rescale(row):\n",
    "    return row['Rating'] + deviation.loc[row['UserID']]\n",
    "\n",
    "pred_df_rescaled = pred_df.apply(rescale, axis = 1)\n",
    "\n",
    "pred_df_rescaled.head()"
   ]
  },
  {
   "cell_type": "code",
   "execution_count": 91,
   "metadata": {
    "collapsed": false
   },
   "outputs": [],
   "source": [
    "pred_df['Rating_rescaled']  = pred_df_rescaled"
   ]
  },
  {
   "cell_type": "code",
   "execution_count": 92,
   "metadata": {
    "collapsed": false
   },
   "outputs": [
    {
     "data": {
      "text/html": [
       "<div>\n",
       "<table border=\"1\" class=\"dataframe\">\n",
       "  <thead>\n",
       "    <tr style=\"text-align: right;\">\n",
       "      <th></th>\n",
       "      <th>UserID</th>\n",
       "      <th>MovieID</th>\n",
       "      <th>Rating</th>\n",
       "      <th>Rating_rescaled</th>\n",
       "    </tr>\n",
       "  </thead>\n",
       "  <tbody>\n",
       "    <tr>\n",
       "      <th>0</th>\n",
       "      <td>37</td>\n",
       "      <td>1</td>\n",
       "      <td>3.252095</td>\n",
       "      <td>3.177701</td>\n",
       "    </tr>\n",
       "    <tr>\n",
       "      <th>1</th>\n",
       "      <td>73</td>\n",
       "      <td>1</td>\n",
       "      <td>3.245019</td>\n",
       "      <td>2.952893</td>\n",
       "    </tr>\n",
       "    <tr>\n",
       "      <th>2</th>\n",
       "      <td>156</td>\n",
       "      <td>1</td>\n",
       "      <td>3.284145</td>\n",
       "      <td>3.682235</td>\n",
       "    </tr>\n",
       "    <tr>\n",
       "      <th>3</th>\n",
       "      <td>160</td>\n",
       "      <td>1</td>\n",
       "      <td>3.358135</td>\n",
       "      <td>3.218317</td>\n",
       "    </tr>\n",
       "    <tr>\n",
       "      <th>4</th>\n",
       "      <td>248</td>\n",
       "      <td>1</td>\n",
       "      <td>3.249512</td>\n",
       "      <td>3.345530</td>\n",
       "    </tr>\n",
       "  </tbody>\n",
       "</table>\n",
       "</div>"
      ],
      "text/plain": [
       "   UserID  MovieID    Rating  Rating_rescaled\n",
       "0      37        1  3.252095         3.177701\n",
       "1      73        1  3.245019         2.952893\n",
       "2     156        1  3.284145         3.682235\n",
       "3     160        1  3.358135         3.218317\n",
       "4     248        1  3.249512         3.345530"
      ]
     },
     "execution_count": 92,
     "metadata": {},
     "output_type": "execute_result"
    }
   ],
   "source": [
    "pred_df.head()"
   ]
  },
  {
   "cell_type": "code",
   "execution_count": 22,
   "metadata": {
    "collapsed": true
   },
   "outputs": [],
   "source": []
  },
  {
   "cell_type": "code",
   "execution_count": 93,
   "metadata": {
    "collapsed": false
   },
   "outputs": [],
   "source": [
    "test['Prediction'] = pred_df['Rating_rescaled']"
   ]
  },
  {
   "cell_type": "code",
   "execution_count": 94,
   "metadata": {
    "collapsed": false
   },
   "outputs": [
    {
     "data": {
      "text/html": [
       "<div>\n",
       "<table border=\"1\" class=\"dataframe\">\n",
       "  <thead>\n",
       "    <tr style=\"text-align: right;\">\n",
       "      <th></th>\n",
       "      <th>Id</th>\n",
       "      <th>Prediction</th>\n",
       "      <th>UserID</th>\n",
       "      <th>MovieID</th>\n",
       "      <th>Rating</th>\n",
       "    </tr>\n",
       "  </thead>\n",
       "  <tbody>\n",
       "    <tr>\n",
       "      <th>0</th>\n",
       "      <td>r37_c1</td>\n",
       "      <td>3.177701</td>\n",
       "      <td>37</td>\n",
       "      <td>1</td>\n",
       "      <td>3</td>\n",
       "    </tr>\n",
       "    <tr>\n",
       "      <th>1</th>\n",
       "      <td>r73_c1</td>\n",
       "      <td>2.952893</td>\n",
       "      <td>73</td>\n",
       "      <td>1</td>\n",
       "      <td>3</td>\n",
       "    </tr>\n",
       "    <tr>\n",
       "      <th>2</th>\n",
       "      <td>r156_c1</td>\n",
       "      <td>3.682235</td>\n",
       "      <td>156</td>\n",
       "      <td>1</td>\n",
       "      <td>3</td>\n",
       "    </tr>\n",
       "    <tr>\n",
       "      <th>3</th>\n",
       "      <td>r160_c1</td>\n",
       "      <td>3.218317</td>\n",
       "      <td>160</td>\n",
       "      <td>1</td>\n",
       "      <td>3</td>\n",
       "    </tr>\n",
       "    <tr>\n",
       "      <th>4</th>\n",
       "      <td>r248_c1</td>\n",
       "      <td>3.345530</td>\n",
       "      <td>248</td>\n",
       "      <td>1</td>\n",
       "      <td>3</td>\n",
       "    </tr>\n",
       "  </tbody>\n",
       "</table>\n",
       "</div>"
      ],
      "text/plain": [
       "        Id  Prediction  UserID  MovieID  Rating\n",
       "0   r37_c1    3.177701      37        1       3\n",
       "1   r73_c1    2.952893      73        1       3\n",
       "2  r156_c1    3.682235     156        1       3\n",
       "3  r160_c1    3.218317     160        1       3\n",
       "4  r248_c1    3.345530     248        1       3"
      ]
     },
     "execution_count": 94,
     "metadata": {},
     "output_type": "execute_result"
    }
   ],
   "source": [
    "test.head()"
   ]
  },
  {
   "cell_type": "code",
   "execution_count": 95,
   "metadata": {
    "collapsed": true
   },
   "outputs": [],
   "source": [
    "test = test.drop(['UserID', 'MovieID', 'Rating'], axis=1)"
   ]
  },
  {
   "cell_type": "code",
   "execution_count": 97,
   "metadata": {
    "collapsed": false
   },
   "outputs": [],
   "source": [
    "test.to_csv('../preds/pred_pyspark_als_rescaled.csv', index=False)"
   ]
  },
  {
   "cell_type": "code",
   "execution_count": null,
   "metadata": {
    "collapsed": true
   },
   "outputs": [],
   "source": []
  }
 ],
 "metadata": {
  "anaconda-cloud": {},
  "kernelspec": {
   "display_name": "Python [conda root]",
   "language": "python",
   "name": "conda-root-py"
  },
  "language_info": {
   "codemirror_mode": {
    "name": "ipython",
    "version": 3
   },
   "file_extension": ".py",
   "mimetype": "text/x-python",
   "name": "python",
   "nbconvert_exporter": "python",
   "pygments_lexer": "ipython3",
   "version": "3.5.2"
  }
 },
 "nbformat": 4,
 "nbformat_minor": 1
}
