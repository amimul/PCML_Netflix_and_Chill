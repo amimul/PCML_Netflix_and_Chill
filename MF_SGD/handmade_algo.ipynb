{
 "cells": [
  {
   "cell_type": "code",
   "execution_count": 1,
   "metadata": {
    "collapsed": false
   },
   "outputs": [],
   "source": [
    "# Import the fucking useful libraries =)\n",
    "import pandas as pd\n",
    "import numpy as np\n",
    "import os\n",
    "import matplotlib.pyplot as plt\n",
    "import scipy.sparse as sp\n",
    "import itertools\n",
    "import math\n",
    "from MF_SGD import *\n",
    "\n",
    "\n",
    "\n",
    "# There's a lot of columns in the DF. \n",
    "# Therefore, we add this option so that we can see more columns\n",
    "pd.options.display.max_columns = 100\n",
    "\n",
    "%matplotlib inline\n",
    "%load_ext autoreload\n",
    "%autoreload 2"
   ]
  },
  {
   "cell_type": "code",
   "execution_count": 2,
   "metadata": {
    "collapsed": false
   },
   "outputs": [
    {
     "name": "stdout",
     "output_type": "stream",
     "text": [
      "number of items: 10000, number of users: 1000\n",
      "percent of defined matrix 8.496523222697272\n",
      "# non-zeros 1176952\n",
      "it's probably the opposite, 10'000 users for 1'000 movies. Let's verify that.\n"
     ]
    }
   ],
   "source": [
    "data = load_data('../data/data_train.csv')\n",
    "print(\"percent of defined matrix\", percent_sparse(data))\n",
    "print(\"# non-zeros\", data.nnz)\n",
    "print(\"it's probably the opposite, 10'000 users for 1'000 movies. Let's verify that.\")"
   ]
  },
  {
   "cell_type": "markdown",
   "metadata": {},
   "source": [
    "## Split the data"
   ]
  },
  {
   "cell_type": "code",
   "execution_count": 3,
   "metadata": {
    "collapsed": false
   },
   "outputs": [
    {
     "name": "stdout",
     "output_type": "stream",
     "text": [
      "Total number of nonzero elements in origial data:1176952\n",
      "Total number of nonzero elements in train data:1059257\n",
      "Total number of nonzero elements in test data:117695\n",
      "Percentage of cut:10.00\n"
     ]
    }
   ],
   "source": [
    "train, test = split_data(data, p_test=0.1)"
   ]
  },
  {
   "cell_type": "markdown",
   "metadata": {},
   "source": [
    "## Baseline prediction"
   ]
  },
  {
   "cell_type": "code",
   "execution_count": 4,
   "metadata": {
    "collapsed": false
   },
   "outputs": [
    {
     "name": "stdout",
     "output_type": "stream",
     "text": [
      "Baseline RMSE prediction\n",
      "------------------------\n",
      "global mean:  1.12149720274\n",
      "user mean:  1.10051126665\n",
      "item mean:  1.03097383173\n",
      "------------------------\n",
      "in HW:  1.12653505598 1.02056979087 1.0486389103\n"
     ]
    }
   ],
   "source": [
    "print(\"Baseline RMSE prediction\")\n",
    "print(\"------------------------\")\n",
    "print(\"global mean: \", baseline_global_mean(train, test))\n",
    "print(\"user mean: \", baseline_user_mean(train, test))\n",
    "print(\"item mean: \", baseline_item_mean(train, test))\n",
    "print(\"------------------------\")\n",
    "print(\"in HW: \", 1.12653505598, 1.02056979087, 1.0486389103)\n"
   ]
  },
  {
   "cell_type": "markdown",
   "metadata": {},
   "source": [
    "## Matrix Factorization using SGD"
   ]
  },
  {
   "cell_type": "code",
   "execution_count": 5,
   "metadata": {
    "collapsed": false
   },
   "outputs": [
    {
     "name": "stdout",
     "output_type": "stream",
     "text": [
      "Total number of nonzero elements in origial data:1176952\n",
      "Total number of nonzero elements in train data:1059257\n",
      "Total number of nonzero elements in test data:117695\n",
      "Percentage of cut:10.00\n",
      "Total number of nonzero elements in origial data:117695\n",
      "Total number of nonzero elements in train data:105926\n",
      "Total number of nonzero elements in test data:11769\n",
      "Percentage of cut:10.00\n"
     ]
    }
   ],
   "source": [
    "sub_data = select_subset(data, 0.1)\n",
    "sub_train, sub_test = split_data(sub_data, 0.1)"
   ]
  },
  {
   "cell_type": "code",
   "execution_count": 19,
   "metadata": {
    "collapsed": false,
    "scrolled": true
   },
   "outputs": [
    {
     "name": "stdout",
     "output_type": "stream",
     "text": [
      "learn the matrix factorization using SGD...\n",
      "iter: 0, RMSE on training set: 0.9853281278430003.\n",
      "iter: 1, RMSE on training set: 0.9768218284382026.\n",
      "iter: 2, RMSE on training set: 0.9734256120248514.\n",
      "iter: 3, RMSE on training set: 0.9689985908620664.\n",
      "iter: 4, RMSE on training set: 0.9646075816900788.\n",
      "iter: 5, RMSE on training set: 0.9624040655140372.\n",
      "iter: 6, RMSE on training set: 0.9610263026091159.\n",
      "iter: 7, RMSE on training set: 0.9581948280240824.\n",
      "iter: 8, RMSE on training set: 0.9576651994802364.\n",
      "iter: 9, RMSE on training set: 0.9565204214885936.\n",
      "RMSE on test data: 1.0476040495003376.\n",
      "learn the matrix factorization using SGD...\n",
      "iter: 0, RMSE on training set: 1.0157531775187234.\n",
      "iter: 1, RMSE on training set: 1.001829266840264.\n",
      "iter: 2, RMSE on training set: 0.9909334246207918.\n",
      "iter: 3, RMSE on training set: 0.9837527166431919.\n",
      "iter: 4, RMSE on training set: 0.9757749198596252.\n",
      "iter: 5, RMSE on training set: 0.9715349327005781.\n",
      "iter: 6, RMSE on training set: 0.9684470507702042.\n",
      "iter: 7, RMSE on training set: 0.962619906410021.\n",
      "iter: 8, RMSE on training set: 0.9613111355243338.\n",
      "iter: 9, RMSE on training set: 0.959132901426008.\n",
      "RMSE on test data: 1.0493284600957187.\n",
      "learn the matrix factorization using SGD...\n",
      "iter: 0, RMSE on training set: 1.0531265428372107.\n",
      "iter: 1, RMSE on training set: 1.0327408236251745.\n",
      "iter: 2, RMSE on training set: 1.0130976086754324.\n",
      "iter: 3, RMSE on training set: 1.0010663000887956.\n",
      "iter: 4, RMSE on training set: 0.9899031518362329.\n",
      "iter: 5, RMSE on training set: 0.9830643718761275.\n",
      "iter: 6, RMSE on training set: 0.9776572352843862.\n",
      "iter: 7, RMSE on training set: 0.9695233716494571.\n",
      "iter: 8, RMSE on training set: 0.9669540383816917.\n",
      "iter: 9, RMSE on training set: 0.9639178651129334.\n",
      "RMSE on test data: 1.0535358946778248.\n",
      "learn the matrix factorization using SGD...\n",
      "iter: 0, RMSE on training set: 1.0972965630058926.\n",
      "iter: 1, RMSE on training set: 1.0678529289465761.\n",
      "iter: 2, RMSE on training set: 1.0389688369879924.\n",
      "iter: 3, RMSE on training set: 1.0202393947266541.\n",
      "iter: 4, RMSE on training set: 1.0051232237759304.\n",
      "iter: 5, RMSE on training set: 0.9955879541632632.\n",
      "iter: 6, RMSE on training set: 0.9873817575970586.\n",
      "iter: 7, RMSE on training set: 0.9772234112711066.\n",
      "iter: 8, RMSE on training set: 0.9731026931978243.\n",
      "iter: 9, RMSE on training set: 0.9693096093813078.\n",
      "RMSE on test data: 1.058477893202238.\n",
      "learn the matrix factorization using SGD...\n",
      "iter: 0, RMSE on training set: 1.1482431225830574.\n",
      "iter: 1, RMSE on training set: 1.1061530105387163.\n",
      "iter: 2, RMSE on training set: 1.0670080772433004.\n",
      "iter: 3, RMSE on training set: 1.040440646492088.\n",
      "iter: 4, RMSE on training set: 1.0205019422785477.\n",
      "iter: 5, RMSE on training set: 1.0083064933582728.\n",
      "iter: 6, RMSE on training set: 0.9970456260959282.\n",
      "iter: 7, RMSE on training set: 0.9849106686252419.\n",
      "iter: 8, RMSE on training set: 0.9791543976803656.\n",
      "iter: 9, RMSE on training set: 0.9746539684160798.\n",
      "RMSE on test data: 1.0634427339398174.\n",
      "learn the matrix factorization using SGD...\n",
      "iter: 0, RMSE on training set: 1.2059170763859384.\n",
      "iter: 1, RMSE on training set: 1.1465734424743736.\n",
      "iter: 2, RMSE on training set: 1.095760113007858.\n",
      "iter: 3, RMSE on training set: 1.0607091984257364.\n",
      "iter: 4, RMSE on training set: 1.035358244816153.\n",
      "iter: 5, RMSE on training set: 1.020562809301679.\n",
      "iter: 6, RMSE on training set: 1.0061770620868955.\n",
      "iter: 7, RMSE on training set: 0.9920614528855114.\n",
      "iter: 8, RMSE on training set: 0.9847562589001999.\n",
      "iter: 9, RMSE on training set: 0.9795545980025876.\n",
      "RMSE on test data: 1.0680795017159423.\n",
      "learn the matrix factorization using SGD...\n",
      "iter: 0, RMSE on training set: 1.2695851150046735.\n",
      "iter: 1, RMSE on training set: 1.18762402497899.\n",
      "iter: 2, RMSE on training set: 1.1237936078344242.\n",
      "iter: 3, RMSE on training set: 1.0799612521636333.\n",
      "iter: 4, RMSE on training set: 1.0489809858000916.\n",
      "iter: 5, RMSE on training set: 1.0316945626435414.\n",
      "iter: 6, RMSE on training set: 1.014303698975528.\n",
      "iter: 7, RMSE on training set: 0.9982523605346821.\n",
      "iter: 8, RMSE on training set: 0.9895811113334521.\n",
      "iter: 9, RMSE on training set: 0.9836581517126939.\n",
      "RMSE on test data: 1.0721641920634026.\n",
      "learn the matrix factorization using SGD...\n",
      "iter: 0, RMSE on training set: 1.3371680666927865.\n",
      "iter: 1, RMSE on training set: 1.2273060705018675.\n",
      "iter: 2, RMSE on training set: 1.1495553512378471.\n",
      "iter: 3, RMSE on training set: 1.0969951658279986.\n",
      "iter: 4, RMSE on training set: 1.0605996740006283.\n",
      "iter: 5, RMSE on training set: 1.0410067811200137.\n",
      "iter: 6, RMSE on training set: 1.0209326125207745.\n",
      "iter: 7, RMSE on training set: 1.0030506919586626.\n",
      "iter: 8, RMSE on training set: 0.9931768188155585.\n",
      "iter: 9, RMSE on training set: 0.9864273145907644.\n",
      "RMSE on test data: 1.0755147313566216.\n",
      "learn the matrix factorization using SGD...\n",
      "iter: 0, RMSE on training set: 1.4048913486674133.\n",
      "iter: 1, RMSE on training set: 1.2632253887422868.\n",
      "iter: 2, RMSE on training set: 1.171369216947072.\n",
      "iter: 3, RMSE on training set: 1.110602006071866.\n",
      "iter: 4, RMSE on training set: 1.0694797437933439.\n",
      "iter: 5, RMSE on training set: 1.0478216556434257.\n",
      "iter: 6, RMSE on training set: 1.0255149548244098.\n",
      "iter: 7, RMSE on training set: 1.0058265694055677.\n",
      "iter: 8, RMSE on training set: 0.9946011298975874.\n",
      "iter: 9, RMSE on training set: 0.9864801214364356.\n",
      "RMSE on test data: 1.07794155103853.\n",
      "learn the matrix factorization using SGD...\n",
      "iter: 0, RMSE on training set: 1.4676538543849655.\n",
      "iter: 1, RMSE on training set: 1.293010882180422.\n",
      "iter: 2, RMSE on training set: 1.187637450993439.\n",
      "iter: 3, RMSE on training set: 1.119803253656899.\n",
      "iter: 4, RMSE on training set: 1.0750750563783242.\n",
      "iter: 5, RMSE on training set: 1.0515206849396639.\n",
      "iter: 6, RMSE on training set: 1.0272451992833065.\n",
      "iter: 7, RMSE on training set: 1.0051413080997935.\n",
      "iter: 8, RMSE on training set: 0.9912461660062333.\n",
      "iter: 9, RMSE on training set: 0.9797589831104768.\n",
      "RMSE on test data: 1.0791491273328264.\n"
     ]
    }
   ],
   "source": [
    "gammas = np.linspace(0.01, 0.1, 10)\n",
    "# gamma = 0.002\n",
    "# features = np.arange(1, 20, 5)\n",
    "feature = 20\n",
    "iter = 10\n",
    "\n",
    "train_errors = []\n",
    "test_errors = []\n",
    "\n",
    "for gamma in gammas:\n",
    "    _, _, train_es, test_e = matrix_factorization_SGD(sub_train, sub_test,\\\n",
    "                                                      gamma, n_features=feature, n_iter=iter, \\\n",
    "                                                      init_method = 'movie_mean')\n",
    "    train_errors.append(train_es[-1])\n",
    "    test_errors.append(test_e)\n",
    "    "
   ]
  },
  {
   "cell_type": "code",
   "execution_count": 38,
   "metadata": {
    "collapsed": false
   },
   "outputs": [
    {
     "data": {
      "text/plain": [
       "<function matplotlib.pyplot.show>"
      ]
     },
     "execution_count": 38,
     "metadata": {},
     "output_type": "execute_result"
    },
    {
     "data": {
      "image/png": "[encoded data removed]",
      "text/plain": [
       "<matplotlib.figure.Figure at 0x1212be128>"
      ]
     },
     "metadata": {},
     "output_type": "display_data"
    }
   ],
   "source": [
    "fig = plt.figure(figsize=(10, 5))\n",
    "plt.plot(saved_gammas, saved_train_errors)\n",
    "plt.plot(saved_gammas, saved_test_errors)\n",
    "plt.title(\"Search for gamma parameter. it=10, f=20\")\n",
    "plt.ylabel(\"RMSE (blue-train, green-test)\")\n",
    "plt.xlabel(\"gamma\")\n",
    "plt.show"
   ]
  },
  {
   "cell_type": "markdown",
   "metadata": {},
   "source": [
    "## test the model on full data\n",
    "\n"
   ]
  },
  {
   "cell_type": "code",
   "execution_count": 45,
   "metadata": {
    "collapsed": false,
    "scrolled": false
   },
   "outputs": [
    {
     "name": "stdout",
     "output_type": "stream",
     "text": [
      "learn the matrix factorization using SGD...\n",
      "iter: 0, RMSE on training set: 1.0041323047387658.\n",
      "iter: 1, RMSE on training set: 1.002118718841877.\n",
      "iter: 2, RMSE on training set: 0.9994263919960905.\n",
      "iter: 3, RMSE on training set: 0.9977223701887588.\n",
      "iter: 4, RMSE on training set: 0.9964199856613264.\n",
      "iter: 5, RMSE on training set: 0.9948119797062183.\n",
      "iter: 6, RMSE on training set: 0.9946086628948486.\n",
      "iter: 7, RMSE on training set: 0.9934094421603635.\n",
      "iter: 8, RMSE on training set: 0.9930388816739618.\n",
      "iter: 9, RMSE on training set: 0.9923876776282201.\n",
      "RMSE on test data: 1.00393451650102.\n"
     ]
    }
   ],
   "source": [
    "item_features, user_features, train_es, test_e = \\\n",
    "    matrix_factorization_SGD(train, test, 0.004, n_features=20, n_iter=10,init_method = 'movie_mean')"
   ]
  },
  {
   "cell_type": "markdown",
   "metadata": {},
   "source": [
    "## Total train"
   ]
  },
  {
   "cell_type": "code",
   "execution_count": 49,
   "metadata": {
    "collapsed": false
   },
   "outputs": [
    {
     "name": "stdout",
     "output_type": "stream",
     "text": [
      "full train: matrix factorization using SGD...\n",
      "iter: 0, RMSE on data set: 0.9967541476964135.\n",
      "iter: 1, RMSE on data set: 0.9943858753323432.\n",
      "iter: 2, RMSE on data set: 0.9934414892591069.\n",
      "iter: 3, RMSE on data set: 0.9928658843989375.\n",
      "iter: 4, RMSE on data set: 0.9922922560033333.\n",
      "iter: 5, RMSE on data set: 0.9920000364365197.\n",
      "iter: 6, RMSE on data set: 0.9916212562231874.\n",
      "iter: 7, RMSE on data set: 0.9915035708662326.\n",
      "iter: 8, RMSE on data set: 0.991317564997708.\n",
      "iter: 9, RMSE on data set: 0.9911919193959823.\n",
      "iter: 10, RMSE on data set: 0.9911467749806133.\n",
      "iter: 11, RMSE on data set: 0.9910566754445597.\n",
      "iter: 12, RMSE on data set: 0.9910097428146496.\n",
      "iter: 13, RMSE on data set: 0.9909759928479177.\n",
      "iter: 14, RMSE on data set: 0.9909496832617017.\n",
      "iter: 15, RMSE on data set: 0.9909293581990334.\n",
      "iter: 16, RMSE on data set: 0.9909203475743141.\n",
      "iter: 17, RMSE on data set: 0.9909070880726712.\n",
      "iter: 18, RMSE on data set: 0.990902056444906.\n",
      "iter: 19, RMSE on data set: 0.9908975630629757.\n",
      "Model trained\n"
     ]
    }
   ],
   "source": [
    "item_features, user_features, train_es = \\\n",
    "    matrix_factorization_SGD_full_training(data, 0.004, n_features=20, n_iter=20,init_method = 'global_mean')"
   ]
  },
  {
   "cell_type": "markdown",
   "metadata": {},
   "source": [
    "## Prediction"
   ]
  },
  {
   "cell_type": "code",
   "execution_count": 50,
   "metadata": {
    "collapsed": false
   },
   "outputs": [
    {
     "name": "stdout",
     "output_type": "stream",
     "text": [
      "number of items: 10000, number of users: 1000\n",
      "saved in  pred_MF_SGD\n"
     ]
    },
    {
     "data": {
      "text/plain": [
       "<10000x1000 sparse matrix of type '<class 'numpy.float64'>'\n",
       "\twith 1176952 stored elements in LInked List format>"
      ]
     },
     "execution_count": 50,
     "metadata": {},
     "output_type": "execute_result"
    }
   ],
   "source": [
    "predict(item_features, user_features, \"../data/sampleSubmission.csv\")"
   ]
  },
  {
   "cell_type": "code",
   "execution_count": null,
   "metadata": {
    "collapsed": true
   },
   "outputs": [],
   "source": []
  }
 ],
 "metadata": {
  "anaconda-cloud": {},
  "kernelspec": {
   "display_name": "Python [conda root]",
   "language": "python",
   "name": "conda-root-py"
  },
  "language_info": {
   "codemirror_mode": {
    "name": "ipython",
    "version": 3
   },
   "file_extension": ".py",
   "mimetype": "text/x-python",
   "name": "python",
   "nbconvert_exporter": "python",
   "pygments_lexer": "ipython3",
   "version": "3.5.2"
  }
 },
 "nbformat": 4,
 "nbformat_minor": 1
}
