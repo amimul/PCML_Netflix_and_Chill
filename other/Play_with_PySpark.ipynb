{
 "cells": [
  {
   "cell_type": "code",
   "execution_count": 1,
   "metadata": {
    "collapsed": false
   },
   "outputs": [
    {
     "data": {
      "text/plain": [
       "<pyspark.context.SparkContext at 0x7f9f9c694278>"
      ]
     },
     "execution_count": 1,
     "metadata": {},
     "output_type": "execute_result"
    }
   ],
   "source": [
    "# Test if PySpark is installed correctly. If it's the case, you should see:\n",
    "# <pyspark.context.SparkContext at 0x7f0d85ae4240>\n",
    "sc\n"
   ]
  },
  {
   "cell_type": "code",
   "execution_count": 3,
   "metadata": {
    "collapsed": false
   },
   "outputs": [],
   "source": [
    "# Import the fucking useful libraries =)\n",
    "import pandas as pd\n",
    "import numpy as np\n",
    "import os\n",
    "import matplotlib.pyplot as plt\n",
    "import itertools\n",
    "from pyspark.mllib.recommendation import ALS\n",
    "import math\n",
    "\n",
    "%matplotlib inline\n",
    "%load_ext autoreload\n",
    "%autoreload 2\n",
    "\n",
    "# There's a lot of columns in the DF. \n",
    "# Therefore, we add this option so that we can see more columns\n",
    "pd.options.display.max_columns = 100"
   ]
  },
  {
   "cell_type": "markdown",
   "metadata": {},
   "source": [
    "# Load and prepare train data\n",
    "\n",
    "First, we will load the train data. Then, we create a pandas DF so that it contains three columns:\n",
    "\n",
    "                        UserID | MovieID | Rating"
   ]
  },
  {
   "cell_type": "code",
   "execution_count": 4,
   "metadata": {
    "collapsed": false
   },
   "outputs": [
    {
     "data": {
      "text/html": [
       "<div>\n",
       "<table border=\"1\" class=\"dataframe\">\n",
       "  <thead>\n",
       "    <tr style=\"text-align: right;\">\n",
       "      <th></th>\n",
       "      <th>Id</th>\n",
       "      <th>Prediction</th>\n",
       "    </tr>\n",
       "  </thead>\n",
       "  <tbody>\n",
       "    <tr>\n",
       "      <th>0</th>\n",
       "      <td>r44_c1</td>\n",
       "      <td>4</td>\n",
       "    </tr>\n",
       "    <tr>\n",
       "      <th>1</th>\n",
       "      <td>r61_c1</td>\n",
       "      <td>3</td>\n",
       "    </tr>\n",
       "    <tr>\n",
       "      <th>2</th>\n",
       "      <td>r67_c1</td>\n",
       "      <td>4</td>\n",
       "    </tr>\n",
       "    <tr>\n",
       "      <th>3</th>\n",
       "      <td>r72_c1</td>\n",
       "      <td>3</td>\n",
       "    </tr>\n",
       "    <tr>\n",
       "      <th>4</th>\n",
       "      <td>r86_c1</td>\n",
       "      <td>5</td>\n",
       "    </tr>\n",
       "  </tbody>\n",
       "</table>\n",
       "</div>"
      ],
      "text/plain": [
       "       Id  Prediction\n",
       "0  r44_c1           4\n",
       "1  r61_c1           3\n",
       "2  r67_c1           4\n",
       "3  r72_c1           3\n",
       "4  r86_c1           5"
      ]
     },
     "execution_count": 4,
     "metadata": {},
     "output_type": "execute_result"
    }
   ],
   "source": [
    "train = pd.read_csv('../data/data_train.csv')\n",
    "train.head()"
   ]
  },
  {
   "cell_type": "code",
   "execution_count": 4,
   "metadata": {
    "collapsed": false
   },
   "outputs": [],
   "source": [
    "train['UserID'] = train['Id'].apply(lambda x: int(x.split('_')[0][1:]))\n",
    "train['MovieID'] = train['Id'].apply(lambda x: int(x.split('_')[1][1:]))\n",
    "train['Rating'] = train['Prediction']\n",
    "train = train.drop(['Id', 'Prediction'], axis=1)"
   ]
  },
  {
   "cell_type": "code",
   "execution_count": 5,
   "metadata": {
    "collapsed": false
   },
   "outputs": [
    {
     "data": {
      "text/html": [
       "<div>\n",
       "<table border=\"1\" class=\"dataframe\">\n",
       "  <thead>\n",
       "    <tr style=\"text-align: right;\">\n",
       "      <th></th>\n",
       "      <th>UserID</th>\n",
       "      <th>MovieID</th>\n",
       "      <th>Rating</th>\n",
       "    </tr>\n",
       "  </thead>\n",
       "  <tbody>\n",
       "    <tr>\n",
       "      <th>0</th>\n",
       "      <td>44</td>\n",
       "      <td>1</td>\n",
       "      <td>4</td>\n",
       "    </tr>\n",
       "    <tr>\n",
       "      <th>1</th>\n",
       "      <td>61</td>\n",
       "      <td>1</td>\n",
       "      <td>3</td>\n",
       "    </tr>\n",
       "    <tr>\n",
       "      <th>2</th>\n",
       "      <td>67</td>\n",
       "      <td>1</td>\n",
       "      <td>4</td>\n",
       "    </tr>\n",
       "    <tr>\n",
       "      <th>3</th>\n",
       "      <td>72</td>\n",
       "      <td>1</td>\n",
       "      <td>3</td>\n",
       "    </tr>\n",
       "    <tr>\n",
       "      <th>4</th>\n",
       "      <td>86</td>\n",
       "      <td>1</td>\n",
       "      <td>5</td>\n",
       "    </tr>\n",
       "  </tbody>\n",
       "</table>\n",
       "</div>"
      ],
      "text/plain": [
       "   UserID  MovieID  Rating\n",
       "0      44        1       4\n",
       "1      61        1       3\n",
       "2      67        1       4\n",
       "3      72        1       3\n",
       "4      86        1       5"
      ]
     },
     "execution_count": 5,
     "metadata": {},
     "output_type": "execute_result"
    }
   ],
   "source": [
    "train.head()"
   ]
  },
  {
   "cell_type": "code",
   "execution_count": 6,
   "metadata": {
    "collapsed": false
   },
   "outputs": [
    {
     "data": {
      "text/plain": [
       "(1176952, 3)"
      ]
     },
     "execution_count": 6,
     "metadata": {},
     "output_type": "execute_result"
    }
   ],
   "source": [
    "train.shape"
   ]
  },
  {
   "cell_type": "markdown",
   "metadata": {},
   "source": [
    "Now, we need to transform the pandas DataFrame into a RDD (Resilient Distributed Dataset) for Spark."
   ]
  },
  {
   "cell_type": "code",
   "execution_count": 7,
   "metadata": {
    "collapsed": false
   },
   "outputs": [
    {
     "data": {
      "text/plain": [
       "[Row(UserID=44, MovieID=1, Rating=4),\n",
       " Row(UserID=61, MovieID=1, Rating=3),\n",
       " Row(UserID=67, MovieID=1, Rating=4)]"
      ]
     },
     "execution_count": 7,
     "metadata": {},
     "output_type": "execute_result"
    }
   ],
   "source": [
    "# First, we transform it using sqlContect\n",
    "train_sql = sqlContext.createDataFrame(train)\n",
    "train_rdd = train_sql.rdd\n",
    "train_rdd.take(3)"
   ]
  },
  {
   "cell_type": "markdown",
   "metadata": {},
   "source": [
    "# Collaborative Filtering\n",
    "\n",
    "For this Recommender System, we will use a collaborative filtering recommender system. Indeed, we don't have any information about the movies. Therefore, we will use the ratings of other users to guess the rating of a user. \n",
    "\n",
    "The Spark MLib provides a Collaborative Filtering implementation by using Alternating Least Squares. We will need the following parameters:\n",
    "\n",
    "- `numBlocks`: Number of blocks used to parallelize computation (-1 for auto-configure)\n",
    "- `rank`: Number of latent factors in the model\n",
    "- `iterations`: Number of iterations\n",
    "- `lambda`: Regularization parameter in ALS\n",
    "- `implicitPrefs`: Specify whether to use the explicit feedback ALS variant or one adapted for implicit feedback data\n",
    "- `alpha`: Parameter applicable to the implicit feedback variant of ALS that governs the baseline confidence in preference observations\n"
   ]
  },
  {
   "cell_type": "code",
   "execution_count": 8,
   "metadata": {
    "collapsed": false
   },
   "outputs": [],
   "source": [
    "# Split into train, validation and test datasets\n",
    "training_RDD, validation_RDD, test_RDD = train_rdd.randomSplit([6, 2, 2], seed=0)\n",
    "validation_for_predict_RDD = validation_RDD.map(lambda x: (x[0], x[1]))\n",
    "test_for_predict_RDD = test_RDD.map(lambda x: (x[0], x[1]))"
   ]
  },
  {
   "cell_type": "markdown",
   "metadata": {},
   "source": [
    "## Training phase!"
   ]
  },
  {
   "cell_type": "code",
   "execution_count": 9,
   "metadata": {
    "collapsed": true
   },
   "outputs": [],
   "source": [
    "def computeRMSE(model, data, prediction):\n",
    "    predictions = model.predictAll(data).map(lambda r: ((r[0], r[1]), r[2]))\n",
    "    rates_and_preds = prediction.map(lambda r: ((int(r[0]), int(r[1])), float(r[2]))).join(predictions)\n",
    "    error = math.sqrt(rates_and_preds.map(lambda r: (r[1][0] - r[1][1])**2).mean())\n",
    "    return error"
   ]
  },
  {
   "cell_type": "code",
   "execution_count": 10,
   "metadata": {
    "collapsed": true
   },
   "outputs": [],
   "source": [
    "ranks = [2, 4, 6, 8, 10, 12]\n",
    "lambdas = [0.1, 0.5, 1.0, 5.0, 10.0]\n",
    "numIters = [5, 10, 20]\n",
    "nbr_models = len(ranks)*len(lambdas)*len(numIters)\n",
    "\n",
    "bestModel = None\n",
    "bestValidationRmse = float(\"inf\")\n",
    "bestRank = 0\n",
    "bestLambda = -1.0\n",
    "bestNumIter = -1"
   ]
  },
  {
   "cell_type": "code",
   "execution_count": 11,
   "metadata": {
    "collapsed": false,
    "scrolled": true
   },
   "outputs": [
    {
     "name": "stdout",
     "output_type": "stream",
     "text": [
      "Model 1/90: RMSE (validation) = 1.003162\n",
      "  Trained with rank = 2, lambda = 0.1, and numIter = 5.\n",
      "\n",
      "Model 2/90: RMSE (validation) = 1.004777\n",
      "  Trained with rank = 2, lambda = 0.1, and numIter = 10.\n",
      "\n",
      "Model 3/90: RMSE (validation) = 1.003367\n",
      "  Trained with rank = 2, lambda = 0.1, and numIter = 20.\n",
      "\n",
      "Model 4/90: RMSE (validation) = 1.097731\n",
      "  Trained with rank = 2, lambda = 0.5, and numIter = 5.\n",
      "\n",
      "Model 5/90: RMSE (validation) = 1.118333\n",
      "  Trained with rank = 2, lambda = 0.5, and numIter = 10.\n",
      "\n",
      "Model 6/90: RMSE (validation) = 1.119429\n",
      "  Trained with rank = 2, lambda = 0.5, and numIter = 20.\n",
      "\n",
      "Model 7/90: RMSE (validation) = 1.414468\n",
      "  Trained with rank = 2, lambda = 1.0, and numIter = 5.\n",
      "\n",
      "Model 8/90: RMSE (validation) = 1.412872\n",
      "  Trained with rank = 2, lambda = 1.0, and numIter = 10.\n",
      "\n",
      "Model 9/90: RMSE (validation) = 1.412877\n",
      "  Trained with rank = 2, lambda = 1.0, and numIter = 20.\n",
      "\n",
      "Model 10/90: RMSE (validation) = 4.012323\n",
      "  Trained with rank = 2, lambda = 5.0, and numIter = 5.\n",
      "\n",
      "Model 11/90: RMSE (validation) = 4.012324\n",
      "  Trained with rank = 2, lambda = 5.0, and numIter = 10.\n",
      "\n",
      "Model 12/90: RMSE (validation) = 4.012324\n",
      "  Trained with rank = 2, lambda = 5.0, and numIter = 20.\n",
      "\n",
      "Model 13/90: RMSE (validation) = 4.012324\n",
      "  Trained with rank = 2, lambda = 10.0, and numIter = 5.\n",
      "\n",
      "Model 14/90: RMSE (validation) = 4.012324\n",
      "  Trained with rank = 2, lambda = 10.0, and numIter = 10.\n",
      "\n",
      "Model 15/90: RMSE (validation) = 4.012324\n",
      "  Trained with rank = 2, lambda = 10.0, and numIter = 20.\n",
      "\n",
      "Model 16/90: RMSE (validation) = 1.020468\n",
      "  Trained with rank = 4, lambda = 0.1, and numIter = 5.\n",
      "\n",
      "Model 17/90: RMSE (validation) = 1.000811\n",
      "  Trained with rank = 4, lambda = 0.1, and numIter = 10.\n",
      "\n",
      "Model 18/90: RMSE (validation) = 1.001261\n",
      "  Trained with rank = 4, lambda = 0.1, and numIter = 20.\n",
      "\n",
      "Model 19/90: RMSE (validation) = 1.109128\n",
      "  Trained with rank = 4, lambda = 0.5, and numIter = 5.\n",
      "\n",
      "Model 20/90: RMSE (validation) = 1.118173\n",
      "  Trained with rank = 4, lambda = 0.5, and numIter = 10.\n",
      "\n",
      "Model 21/90: RMSE (validation) = 1.119434\n",
      "  Trained with rank = 4, lambda = 0.5, and numIter = 20.\n",
      "\n",
      "Model 22/90: RMSE (validation) = 1.416102\n",
      "  Trained with rank = 4, lambda = 1.0, and numIter = 5.\n",
      "\n",
      "Model 23/90: RMSE (validation) = 1.412871\n",
      "  Trained with rank = 4, lambda = 1.0, and numIter = 10.\n",
      "\n",
      "Model 24/90: RMSE (validation) = 1.412877\n",
      "  Trained with rank = 4, lambda = 1.0, and numIter = 20.\n",
      "\n",
      "Model 25/90: RMSE (validation) = 4.012323\n",
      "  Trained with rank = 4, lambda = 5.0, and numIter = 5.\n",
      "\n",
      "Model 26/90: RMSE (validation) = 4.012324\n",
      "  Trained with rank = 4, lambda = 5.0, and numIter = 10.\n",
      "\n",
      "Model 27/90: RMSE (validation) = 4.012324\n",
      "  Trained with rank = 4, lambda = 5.0, and numIter = 20.\n",
      "\n",
      "Model 28/90: RMSE (validation) = 4.012324\n",
      "  Trained with rank = 4, lambda = 10.0, and numIter = 5.\n",
      "\n",
      "Model 29/90: RMSE (validation) = 4.012324\n",
      "  Trained with rank = 4, lambda = 10.0, and numIter = 10.\n",
      "\n",
      "Model 30/90: RMSE (validation) = 4.012324\n",
      "  Trained with rank = 4, lambda = 10.0, and numIter = 20.\n",
      "\n",
      "Model 31/90: RMSE (validation) = 1.026924\n",
      "  Trained with rank = 6, lambda = 0.1, and numIter = 5.\n",
      "\n",
      "Model 32/90: RMSE (validation) = 1.004257\n",
      "  Trained with rank = 6, lambda = 0.1, and numIter = 10.\n",
      "\n",
      "Model 33/90: RMSE (validation) = 0.998392\n",
      "  Trained with rank = 6, lambda = 0.1, and numIter = 20.\n",
      "\n",
      "Model 34/90: RMSE (validation) = 1.100704\n",
      "  Trained with rank = 6, lambda = 0.5, and numIter = 5.\n",
      "\n",
      "Model 35/90: RMSE (validation) = 1.118318\n",
      "  Trained with rank = 6, lambda = 0.5, and numIter = 10.\n",
      "\n",
      "Model 36/90: RMSE (validation) = 1.119430\n",
      "  Trained with rank = 6, lambda = 0.5, and numIter = 20.\n",
      "\n",
      "Model 37/90: RMSE (validation) = 1.406359\n",
      "  Trained with rank = 6, lambda = 1.0, and numIter = 5.\n",
      "\n",
      "Model 38/90: RMSE (validation) = 1.412879\n",
      "  Trained with rank = 6, lambda = 1.0, and numIter = 10.\n",
      "\n",
      "Model 39/90: RMSE (validation) = 1.412877\n",
      "  Trained with rank = 6, lambda = 1.0, and numIter = 20.\n",
      "\n",
      "Model 40/90: RMSE (validation) = 4.012323\n",
      "  Trained with rank = 6, lambda = 5.0, and numIter = 5.\n",
      "\n",
      "Model 41/90: RMSE (validation) = 4.012324\n",
      "  Trained with rank = 6, lambda = 5.0, and numIter = 10.\n",
      "\n",
      "Model 42/90: RMSE (validation) = 4.012324\n",
      "  Trained with rank = 6, lambda = 5.0, and numIter = 20.\n",
      "\n",
      "Model 43/90: RMSE (validation) = 4.012324\n",
      "  Trained with rank = 6, lambda = 10.0, and numIter = 5.\n",
      "\n",
      "Model 44/90: RMSE (validation) = 4.012324\n",
      "  Trained with rank = 6, lambda = 10.0, and numIter = 10.\n",
      "\n",
      "Model 45/90: RMSE (validation) = 4.012324\n",
      "  Trained with rank = 6, lambda = 10.0, and numIter = 20.\n",
      "\n",
      "Model 46/90: RMSE (validation) = 1.030740\n",
      "  Trained with rank = 8, lambda = 0.1, and numIter = 5.\n",
      "\n",
      "Model 47/90: RMSE (validation) = 1.003762\n",
      "  Trained with rank = 8, lambda = 0.1, and numIter = 10.\n",
      "\n",
      "Model 48/90: RMSE (validation) = 0.998782\n",
      "  Trained with rank = 8, lambda = 0.1, and numIter = 20.\n",
      "\n",
      "Model 49/90: RMSE (validation) = 1.098388\n",
      "  Trained with rank = 8, lambda = 0.5, and numIter = 5.\n",
      "\n",
      "Model 50/90: RMSE (validation) = 1.119292\n",
      "  Trained with rank = 8, lambda = 0.5, and numIter = 10.\n",
      "\n",
      "Model 51/90: RMSE (validation) = 1.119428\n",
      "  Trained with rank = 8, lambda = 0.5, and numIter = 20.\n",
      "\n",
      "Model 52/90: RMSE (validation) = 1.411296\n",
      "  Trained with rank = 8, lambda = 1.0, and numIter = 5.\n",
      "\n",
      "Model 53/90: RMSE (validation) = 1.412877\n",
      "  Trained with rank = 8, lambda = 1.0, and numIter = 10.\n",
      "\n",
      "Model 54/90: RMSE (validation) = 1.412877\n",
      "  Trained with rank = 8, lambda = 1.0, and numIter = 20.\n",
      "\n",
      "Model 55/90: RMSE (validation) = 4.012324\n",
      "  Trained with rank = 8, lambda = 5.0, and numIter = 5.\n",
      "\n",
      "Model 56/90: RMSE (validation) = 4.012324\n",
      "  Trained with rank = 8, lambda = 5.0, and numIter = 10.\n",
      "\n",
      "Model 57/90: RMSE (validation) = 4.012324\n",
      "  Trained with rank = 8, lambda = 5.0, and numIter = 20.\n",
      "\n",
      "Model 58/90: RMSE (validation) = 4.012324\n",
      "  Trained with rank = 8, lambda = 10.0, and numIter = 5.\n",
      "\n",
      "Model 59/90: RMSE (validation) = 4.012324\n",
      "  Trained with rank = 8, lambda = 10.0, and numIter = 10.\n",
      "\n",
      "Model 60/90: RMSE (validation) = 4.012324\n",
      "  Trained with rank = 8, lambda = 10.0, and numIter = 20.\n",
      "\n",
      "Model 61/90: RMSE (validation) = 1.038555\n",
      "  Trained with rank = 10, lambda = 0.1, and numIter = 5.\n",
      "\n",
      "Model 62/90: RMSE (validation) = 1.004917\n",
      "  Trained with rank = 10, lambda = 0.1, and numIter = 10.\n",
      "\n",
      "Model 63/90: RMSE (validation) = 0.999878\n",
      "  Trained with rank = 10, lambda = 0.1, and numIter = 20.\n",
      "\n",
      "Model 64/90: RMSE (validation) = 1.096905\n",
      "  Trained with rank = 10, lambda = 0.5, and numIter = 5.\n",
      "\n",
      "Model 65/90: RMSE (validation) = 1.118150\n",
      "  Trained with rank = 10, lambda = 0.5, and numIter = 10.\n",
      "\n",
      "Model 66/90: RMSE (validation) = 1.119433\n",
      "  Trained with rank = 10, lambda = 0.5, and numIter = 20.\n",
      "\n",
      "Model 67/90: RMSE (validation) = 1.412602\n",
      "  Trained with rank = 10, lambda = 1.0, and numIter = 5.\n",
      "\n",
      "Model 68/90: RMSE (validation) = 1.412877\n",
      "  Trained with rank = 10, lambda = 1.0, and numIter = 10.\n",
      "\n",
      "Model 69/90: RMSE (validation) = 1.412877\n",
      "  Trained with rank = 10, lambda = 1.0, and numIter = 20.\n",
      "\n",
      "Model 70/90: RMSE (validation) = 4.012324\n",
      "  Trained with rank = 10, lambda = 5.0, and numIter = 5.\n",
      "\n",
      "Model 71/90: RMSE (validation) = 4.012324\n",
      "  Trained with rank = 10, lambda = 5.0, and numIter = 10.\n",
      "\n",
      "Model 72/90: RMSE (validation) = 4.012324\n",
      "  Trained with rank = 10, lambda = 5.0, and numIter = 20.\n",
      "\n",
      "Model 73/90: RMSE (validation) = 4.012324\n",
      "  Trained with rank = 10, lambda = 10.0, and numIter = 5.\n",
      "\n",
      "Model 74/90: RMSE (validation) = 4.012324\n",
      "  Trained with rank = 10, lambda = 10.0, and numIter = 10.\n",
      "\n",
      "Model 75/90: RMSE (validation) = 4.012324\n",
      "  Trained with rank = 10, lambda = 10.0, and numIter = 20.\n",
      "\n",
      "Model 76/90: RMSE (validation) = 1.030721\n",
      "  Trained with rank = 12, lambda = 0.1, and numIter = 5.\n",
      "\n",
      "Model 77/90: RMSE (validation) = 1.009363\n",
      "  Trained with rank = 12, lambda = 0.1, and numIter = 10.\n",
      "\n",
      "Model 78/90: RMSE (validation) = 1.001005\n",
      "  Trained with rank = 12, lambda = 0.1, and numIter = 20.\n",
      "\n",
      "Model 79/90: RMSE (validation) = 1.122797\n",
      "  Trained with rank = 12, lambda = 0.5, and numIter = 5.\n",
      "\n",
      "Model 80/90: RMSE (validation) = 1.118353\n",
      "  Trained with rank = 12, lambda = 0.5, and numIter = 10.\n",
      "\n",
      "Model 81/90: RMSE (validation) = 1.119429\n",
      "  Trained with rank = 12, lambda = 0.5, and numIter = 20.\n",
      "\n",
      "Model 82/90: RMSE (validation) = 1.412737\n",
      "  Trained with rank = 12, lambda = 1.0, and numIter = 5.\n",
      "\n",
      "Model 83/90: RMSE (validation) = 1.412877\n",
      "  Trained with rank = 12, lambda = 1.0, and numIter = 10.\n",
      "\n",
      "Model 84/90: RMSE (validation) = 1.412877\n",
      "  Trained with rank = 12, lambda = 1.0, and numIter = 20.\n",
      "\n",
      "Model 85/90: RMSE (validation) = 4.012324\n",
      "  Trained with rank = 12, lambda = 5.0, and numIter = 5.\n",
      "\n",
      "Model 86/90: RMSE (validation) = 4.012324\n",
      "  Trained with rank = 12, lambda = 5.0, and numIter = 10.\n",
      "\n",
      "Model 87/90: RMSE (validation) = 4.012324\n",
      "  Trained with rank = 12, lambda = 5.0, and numIter = 20.\n",
      "\n",
      "Model 88/90: RMSE (validation) = 4.012324\n",
      "  Trained with rank = 12, lambda = 10.0, and numIter = 5.\n",
      "\n",
      "Model 89/90: RMSE (validation) = 4.012324\n",
      "  Trained with rank = 12, lambda = 10.0, and numIter = 10.\n",
      "\n",
      "Model 90/90: RMSE (validation) = 4.012324\n",
      "  Trained with rank = 12, lambda = 10.0, and numIter = 20.\n",
      "\n",
      "The best model was trained with rank = 6 and lambda = 0.1, and numIter = 20, and its RMSE on the training set is 0.998392\n",
      "RMSE on the test set: 0.995564\n"
     ]
    }
   ],
   "source": [
    "i = 0\n",
    "for rank, lmbda, numIter in itertools.product(ranks, lambdas, numIters):\n",
    "    try:\n",
    "        model = ALS.train(training_RDD, rank, numIter, lmbda)\n",
    "        validationRmse = computeRMSE(model, validation_for_predict_RDD, validation_RDD)\n",
    "        print(\"Model %i/%i: RMSE (validation) = %f\" %(i+1, nbr_models, validationRmse))\n",
    "        print(\"  Trained with rank = %d, lambda = %.1f, and numIter = %d.\" % (rank, lmbda, numIter))\n",
    "        print(\"\")\n",
    "        if (validationRmse < bestValidationRmse):\n",
    "            bestModel = model\n",
    "            bestValidationRmse = validationRmse\n",
    "            bestRank = rank\n",
    "            bestLambda = lmbda\n",
    "            bestNumIter = numIter\n",
    "    except:\n",
    "        print(\"Model %i/%i failed!\" %(i+1, nbr_models))\n",
    "        print(\"  Parameters: rank = %d, lambda = %.1f, and numIter = %d.\" % (rank, lmbda, numIter))\n",
    "\n",
    "    i += 1\n",
    "    \n",
    "# Evaluate the best model on the training set\n",
    "print(\"The best model was trained with rank = %d and lambda = %.1f, \" % (bestRank, bestLambda) \\\n",
    "  + \"and numIter = %d, and its RMSE on the training set is %f\" % (bestNumIter, bestValidationRmse))\n",
    "\n",
    "# Evaluate the best model on the test set\n",
    "testRmse = computeRMSE(bestModel, test_for_predict_RDD, test_RDD)\n",
    "print(\"RMSE on the test set: %f\"%(testRmse))"
   ]
  },
  {
   "cell_type": "markdown",
   "metadata": {},
   "source": [
    "Now, that we have the best rank, best lambda and best number of iterations, we can train on the whole train data."
   ]
  },
  {
   "cell_type": "code",
   "execution_count": 12,
   "metadata": {
    "collapsed": false
   },
   "outputs": [],
   "source": [
    "perfect_model = ALS.train(train_rdd, bestRank, bestNumIter, bestLambda)"
   ]
  },
  {
   "cell_type": "markdown",
   "metadata": {},
   "source": [
    "# Load and prepare the test data"
   ]
  },
  {
   "cell_type": "code",
   "execution_count": 13,
   "metadata": {
    "collapsed": false
   },
   "outputs": [
    {
     "data": {
      "text/html": [
       "<div>\n",
       "<table border=\"1\" class=\"dataframe\">\n",
       "  <thead>\n",
       "    <tr style=\"text-align: right;\">\n",
       "      <th></th>\n",
       "      <th>Id</th>\n",
       "      <th>Prediction</th>\n",
       "    </tr>\n",
       "  </thead>\n",
       "  <tbody>\n",
       "    <tr>\n",
       "      <th>0</th>\n",
       "      <td>r37_c1</td>\n",
       "      <td>3</td>\n",
       "    </tr>\n",
       "    <tr>\n",
       "      <th>1</th>\n",
       "      <td>r73_c1</td>\n",
       "      <td>3</td>\n",
       "    </tr>\n",
       "    <tr>\n",
       "      <th>2</th>\n",
       "      <td>r156_c1</td>\n",
       "      <td>3</td>\n",
       "    </tr>\n",
       "    <tr>\n",
       "      <th>3</th>\n",
       "      <td>r160_c1</td>\n",
       "      <td>3</td>\n",
       "    </tr>\n",
       "    <tr>\n",
       "      <th>4</th>\n",
       "      <td>r248_c1</td>\n",
       "      <td>3</td>\n",
       "    </tr>\n",
       "  </tbody>\n",
       "</table>\n",
       "</div>"
      ],
      "text/plain": [
       "        Id  Prediction\n",
       "0   r37_c1           3\n",
       "1   r73_c1           3\n",
       "2  r156_c1           3\n",
       "3  r160_c1           3\n",
       "4  r248_c1           3"
      ]
     },
     "execution_count": 13,
     "metadata": {},
     "output_type": "execute_result"
    }
   ],
   "source": [
    "test = pd.read_csv('../data/sampleSubmission.csv')\n",
    "test.head()"
   ]
  },
  {
   "cell_type": "code",
   "execution_count": 14,
   "metadata": {
    "collapsed": false,
    "scrolled": true
   },
   "outputs": [
    {
     "data": {
      "text/html": [
       "<div>\n",
       "<table border=\"1\" class=\"dataframe\">\n",
       "  <thead>\n",
       "    <tr style=\"text-align: right;\">\n",
       "      <th></th>\n",
       "      <th>UserID</th>\n",
       "      <th>MovieID</th>\n",
       "      <th>Rating</th>\n",
       "    </tr>\n",
       "  </thead>\n",
       "  <tbody>\n",
       "    <tr>\n",
       "      <th>0</th>\n",
       "      <td>37</td>\n",
       "      <td>1</td>\n",
       "      <td>3</td>\n",
       "    </tr>\n",
       "    <tr>\n",
       "      <th>1</th>\n",
       "      <td>73</td>\n",
       "      <td>1</td>\n",
       "      <td>3</td>\n",
       "    </tr>\n",
       "    <tr>\n",
       "      <th>2</th>\n",
       "      <td>156</td>\n",
       "      <td>1</td>\n",
       "      <td>3</td>\n",
       "    </tr>\n",
       "    <tr>\n",
       "      <th>3</th>\n",
       "      <td>160</td>\n",
       "      <td>1</td>\n",
       "      <td>3</td>\n",
       "    </tr>\n",
       "    <tr>\n",
       "      <th>4</th>\n",
       "      <td>248</td>\n",
       "      <td>1</td>\n",
       "      <td>3</td>\n",
       "    </tr>\n",
       "  </tbody>\n",
       "</table>\n",
       "</div>"
      ],
      "text/plain": [
       "   UserID  MovieID  Rating\n",
       "0      37        1       3\n",
       "1      73        1       3\n",
       "2     156        1       3\n",
       "3     160        1       3\n",
       "4     248        1       3"
      ]
     },
     "execution_count": 14,
     "metadata": {},
     "output_type": "execute_result"
    }
   ],
   "source": [
    "# Prepare test for RDD\n",
    "test_prep = test\n",
    "test_prep['UserID'] = test_prep['Id'].apply(lambda x: int(x.split('_')[0][1:]))\n",
    "test_prep['MovieID'] = test_prep['Id'].apply(lambda x: int(x.split('_')[1][1:]))\n",
    "test_prep['Rating'] = test_prep['Prediction']\n",
    "test_prep = test_prep.drop(['Prediction', 'Id'], axis=1)\n",
    "test_prep.head()"
   ]
  },
  {
   "cell_type": "code",
   "execution_count": 15,
   "metadata": {
    "collapsed": false
   },
   "outputs": [
    {
     "data": {
      "text/plain": [
       "[Row(UserID=37, MovieID=1, Rating=3),\n",
       " Row(UserID=73, MovieID=1, Rating=3),\n",
       " Row(UserID=156, MovieID=1, Rating=3)]"
      ]
     },
     "execution_count": 15,
     "metadata": {},
     "output_type": "execute_result"
    }
   ],
   "source": [
    "# First, we transform it using sqlContect\n",
    "test_sql = sqlContext.createDataFrame(test_prep)\n",
    "test_rdd = test_sql.rdd\n",
    "test_rdd.take(3)"
   ]
  },
  {
   "cell_type": "code",
   "execution_count": 16,
   "metadata": {
    "collapsed": false
   },
   "outputs": [],
   "source": [
    "test_RDD_Kaggle = test_rdd.map(lambda x: (x[0], x[1]))\n",
    "predictions = perfect_model.predictAll(test_RDD_Kaggle).map(lambda r: ((r[0], r[1]), r[2]))"
   ]
  },
  {
   "cell_type": "code",
   "execution_count": 17,
   "metadata": {
    "collapsed": false
   },
   "outputs": [
    {
     "data": {
      "text/plain": [
       "[((4904, 864), 3.529433594663348),\n",
       " ((4904, 608), 4.149941621135147),\n",
       " ((4904, 72), 3.005612750677105)]"
      ]
     },
     "execution_count": 17,
     "metadata": {},
     "output_type": "execute_result"
    }
   ],
   "source": [
    "predictions.take(3)"
   ]
  },
  {
   "cell_type": "code",
   "execution_count": 18,
   "metadata": {
    "collapsed": false
   },
   "outputs": [],
   "source": [
    "pred_df = predictions.toDF().toPandas()"
   ]
  },
  {
   "cell_type": "code",
   "execution_count": 19,
   "metadata": {
    "collapsed": false
   },
   "outputs": [
    {
     "data": {
      "text/html": [
       "<div>\n",
       "<table border=\"1\" class=\"dataframe\">\n",
       "  <thead>\n",
       "    <tr style=\"text-align: right;\">\n",
       "      <th></th>\n",
       "      <th>_1</th>\n",
       "      <th>_2</th>\n",
       "    </tr>\n",
       "  </thead>\n",
       "  <tbody>\n",
       "    <tr>\n",
       "      <th>0</th>\n",
       "      <td>(4904, 864)</td>\n",
       "      <td>3.529434</td>\n",
       "    </tr>\n",
       "    <tr>\n",
       "      <th>1</th>\n",
       "      <td>(4904, 608)</td>\n",
       "      <td>4.149942</td>\n",
       "    </tr>\n",
       "    <tr>\n",
       "      <th>2</th>\n",
       "      <td>(4904, 72)</td>\n",
       "      <td>3.005613</td>\n",
       "    </tr>\n",
       "    <tr>\n",
       "      <th>3</th>\n",
       "      <td>(4904, 48)</td>\n",
       "      <td>3.257247</td>\n",
       "    </tr>\n",
       "    <tr>\n",
       "      <th>4</th>\n",
       "      <td>(4904, 193)</td>\n",
       "      <td>3.545536</td>\n",
       "    </tr>\n",
       "  </tbody>\n",
       "</table>\n",
       "</div>"
      ],
      "text/plain": [
       "            _1        _2\n",
       "0  (4904, 864)  3.529434\n",
       "1  (4904, 608)  4.149942\n",
       "2   (4904, 72)  3.005613\n",
       "3   (4904, 48)  3.257247\n",
       "4  (4904, 193)  3.545536"
      ]
     },
     "execution_count": 19,
     "metadata": {},
     "output_type": "execute_result"
    }
   ],
   "source": [
    "pred_df.head()"
   ]
  },
  {
   "cell_type": "code",
   "execution_count": 20,
   "metadata": {
    "collapsed": false
   },
   "outputs": [
    {
     "data": {
      "text/html": [
       "<div>\n",
       "<table border=\"1\" class=\"dataframe\">\n",
       "  <thead>\n",
       "    <tr style=\"text-align: right;\">\n",
       "      <th></th>\n",
       "      <th>UserID</th>\n",
       "      <th>MovieID</th>\n",
       "      <th>Rating</th>\n",
       "    </tr>\n",
       "  </thead>\n",
       "  <tbody>\n",
       "    <tr>\n",
       "      <th>0</th>\n",
       "      <td>4904</td>\n",
       "      <td>864</td>\n",
       "      <td>3.529434</td>\n",
       "    </tr>\n",
       "    <tr>\n",
       "      <th>1</th>\n",
       "      <td>4904</td>\n",
       "      <td>608</td>\n",
       "      <td>4.149942</td>\n",
       "    </tr>\n",
       "    <tr>\n",
       "      <th>2</th>\n",
       "      <td>4904</td>\n",
       "      <td>72</td>\n",
       "      <td>3.005613</td>\n",
       "    </tr>\n",
       "    <tr>\n",
       "      <th>3</th>\n",
       "      <td>4904</td>\n",
       "      <td>48</td>\n",
       "      <td>3.257247</td>\n",
       "    </tr>\n",
       "    <tr>\n",
       "      <th>4</th>\n",
       "      <td>4904</td>\n",
       "      <td>193</td>\n",
       "      <td>3.545536</td>\n",
       "    </tr>\n",
       "  </tbody>\n",
       "</table>\n",
       "</div>"
      ],
      "text/plain": [
       "   UserID  MovieID    Rating\n",
       "0    4904      864  3.529434\n",
       "1    4904      608  4.149942\n",
       "2    4904       72  3.005613\n",
       "3    4904       48  3.257247\n",
       "4    4904      193  3.545536"
      ]
     },
     "execution_count": 20,
     "metadata": {},
     "output_type": "execute_result"
    }
   ],
   "source": [
    "pred_df['UserID'] = pred_df['_1'].apply(lambda x: x['_1'])\n",
    "pred_df['MovieID'] = pred_df['_1'].apply(lambda x: x['_2'])\n",
    "pred_df['Rating'] = pred_df['_2']\n",
    "pred_df = pred_df.drop(['_1', '_2'], axis=1)\n",
    "pred_df.head()\n"
   ]
  },
  {
   "cell_type": "code",
   "execution_count": 21,
   "metadata": {
    "collapsed": false,
    "scrolled": true
   },
   "outputs": [
    {
     "data": {
      "text/html": [
       "<div>\n",
       "<table border=\"1\" class=\"dataframe\">\n",
       "  <thead>\n",
       "    <tr style=\"text-align: right;\">\n",
       "      <th></th>\n",
       "      <th>UserID</th>\n",
       "      <th>MovieID</th>\n",
       "      <th>Rating</th>\n",
       "    </tr>\n",
       "  </thead>\n",
       "  <tbody>\n",
       "    <tr>\n",
       "      <th>840969</th>\n",
       "      <td>37</td>\n",
       "      <td>1</td>\n",
       "      <td>3.195039</td>\n",
       "    </tr>\n",
       "    <tr>\n",
       "      <th>238375</th>\n",
       "      <td>73</td>\n",
       "      <td>1</td>\n",
       "      <td>2.994796</td>\n",
       "    </tr>\n",
       "    <tr>\n",
       "      <th>615219</th>\n",
       "      <td>156</td>\n",
       "      <td>1</td>\n",
       "      <td>3.640388</td>\n",
       "    </tr>\n",
       "    <tr>\n",
       "      <th>2964</th>\n",
       "      <td>160</td>\n",
       "      <td>1</td>\n",
       "      <td>3.235090</td>\n",
       "    </tr>\n",
       "    <tr>\n",
       "      <th>123927</th>\n",
       "      <td>248</td>\n",
       "      <td>1</td>\n",
       "      <td>3.389389</td>\n",
       "    </tr>\n",
       "  </tbody>\n",
       "</table>\n",
       "</div>"
      ],
      "text/plain": [
       "        UserID  MovieID    Rating\n",
       "840969      37        1  3.195039\n",
       "238375      73        1  2.994796\n",
       "615219     156        1  3.640388\n",
       "2964       160        1  3.235090\n",
       "123927     248        1  3.389389"
      ]
     },
     "execution_count": 21,
     "metadata": {},
     "output_type": "execute_result"
    }
   ],
   "source": [
    "pred_df = pred_df.sort_values(by=['MovieID', 'UserID'])\n",
    "pred_df.head()"
   ]
  },
  {
   "cell_type": "code",
   "execution_count": 22,
   "metadata": {
    "collapsed": true
   },
   "outputs": [],
   "source": [
    "pred_df.index = range(len(pred_df))"
   ]
  },
  {
   "cell_type": "code",
   "execution_count": 23,
   "metadata": {
    "collapsed": false
   },
   "outputs": [],
   "source": [
    "test['Prediction'] = pred_df['Rating']"
   ]
  },
  {
   "cell_type": "code",
   "execution_count": 24,
   "metadata": {
    "collapsed": false
   },
   "outputs": [
    {
     "data": {
      "text/html": [
       "<div>\n",
       "<table border=\"1\" class=\"dataframe\">\n",
       "  <thead>\n",
       "    <tr style=\"text-align: right;\">\n",
       "      <th></th>\n",
       "      <th>Id</th>\n",
       "      <th>Prediction</th>\n",
       "      <th>UserID</th>\n",
       "      <th>MovieID</th>\n",
       "      <th>Rating</th>\n",
       "    </tr>\n",
       "  </thead>\n",
       "  <tbody>\n",
       "    <tr>\n",
       "      <th>0</th>\n",
       "      <td>r37_c1</td>\n",
       "      <td>3.195039</td>\n",
       "      <td>37</td>\n",
       "      <td>1</td>\n",
       "      <td>3</td>\n",
       "    </tr>\n",
       "    <tr>\n",
       "      <th>1</th>\n",
       "      <td>r73_c1</td>\n",
       "      <td>2.994796</td>\n",
       "      <td>73</td>\n",
       "      <td>1</td>\n",
       "      <td>3</td>\n",
       "    </tr>\n",
       "    <tr>\n",
       "      <th>2</th>\n",
       "      <td>r156_c1</td>\n",
       "      <td>3.640388</td>\n",
       "      <td>156</td>\n",
       "      <td>1</td>\n",
       "      <td>3</td>\n",
       "    </tr>\n",
       "    <tr>\n",
       "      <th>3</th>\n",
       "      <td>r160_c1</td>\n",
       "      <td>3.235090</td>\n",
       "      <td>160</td>\n",
       "      <td>1</td>\n",
       "      <td>3</td>\n",
       "    </tr>\n",
       "    <tr>\n",
       "      <th>4</th>\n",
       "      <td>r248_c1</td>\n",
       "      <td>3.389389</td>\n",
       "      <td>248</td>\n",
       "      <td>1</td>\n",
       "      <td>3</td>\n",
       "    </tr>\n",
       "  </tbody>\n",
       "</table>\n",
       "</div>"
      ],
      "text/plain": [
       "        Id  Prediction  UserID  MovieID  Rating\n",
       "0   r37_c1    3.195039      37        1       3\n",
       "1   r73_c1    2.994796      73        1       3\n",
       "2  r156_c1    3.640388     156        1       3\n",
       "3  r160_c1    3.235090     160        1       3\n",
       "4  r248_c1    3.389389     248        1       3"
      ]
     },
     "execution_count": 24,
     "metadata": {},
     "output_type": "execute_result"
    }
   ],
   "source": [
    "test.head()"
   ]
  },
  {
   "cell_type": "code",
   "execution_count": 25,
   "metadata": {
    "collapsed": true
   },
   "outputs": [],
   "source": [
    "test = test.drop(['UserID', 'MovieID', 'Rating'], axis=1)"
   ]
  },
  {
   "cell_type": "code",
   "execution_count": 26,
   "metadata": {
    "collapsed": false
   },
   "outputs": [],
   "source": [
    "test.to_csv('pred_pyspark_als.csv', index=False)"
   ]
  },
  {
   "cell_type": "code",
   "execution_count": null,
   "metadata": {
    "collapsed": true
   },
   "outputs": [],
   "source": []
  }
 ],
 "metadata": {
  "anaconda-cloud": {},
  "kernelspec": {
   "display_name": "Python [conda root]",
   "language": "python",
   "name": "conda-root-py"
  },
  "language_info": {
   "codemirror_mode": {
    "name": "ipython",
    "version": 3
   },
   "file_extension": ".py",
   "mimetype": "text/x-python",
   "name": "python",
   "nbconvert_exporter": "python",
   "pygments_lexer": "ipython3",
   "version": "3.5.2"
  }
 },
 "nbformat": 4,
 "nbformat_minor": 1
}
