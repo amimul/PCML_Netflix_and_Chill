{
 "cells": [
  {
   "cell_type": "code",
   "execution_count": 9,
   "metadata": {
    "collapsed": false
   },
   "outputs": [],
   "source": [
    "# Import the fucking useful libraries =)\n",
    "import pandas as pd\n",
    "import numpy as np\n",
    "\n",
    "import os\n",
    "import matplotlib.pyplot as plt\n",
    "import scipy.stats as sp\n",
    "import scipy.spatial.distance as spsd\n",
    "from operator import itemgetter\n",
    "import random\n",
    "from IPython import display\n",
    "from helpers import *\n",
    "import pickle\n",
    "\n",
    "%matplotlib inline\n",
    "%reload_ext autoreload\n",
    "%autoreload 2\n",
    "\n",
    "# There's a lot of columns in the DF. \n",
    "# Therefore, we add this option so that we can see more columns\n",
    "pd.options.display.max_columns = 100"
   ]
  },
  {
   "cell_type": "code",
   "execution_count": 2,
   "metadata": {
    "collapsed": true
   },
   "outputs": [],
   "source": [
    "# Define here the data set\n",
    "dataset = '../data/data_train.csv'"
   ]
  },
  {
   "cell_type": "code",
   "execution_count": 3,
   "metadata": {
    "collapsed": false
   },
   "outputs": [
    {
     "name": "stdout",
     "output_type": "stream",
     "text": [
      "Load the dataset\n"
     ]
    }
   ],
   "source": [
    "data = prepare_data(dataset)"
   ]
  },
  {
   "cell_type": "code",
   "execution_count": 4,
   "metadata": {
    "collapsed": false,
    "scrolled": true
   },
   "outputs": [
    {
     "data": {
      "text/html": [
       "<div>\n",
       "<table border=\"1\" class=\"dataframe\">\n",
       "  <thead>\n",
       "    <tr style=\"text-align: right;\">\n",
       "      <th></th>\n",
       "      <th>Id</th>\n",
       "      <th>Prediction</th>\n",
       "      <th>UserID</th>\n",
       "      <th>MovieID</th>\n",
       "    </tr>\n",
       "  </thead>\n",
       "  <tbody>\n",
       "    <tr>\n",
       "      <th>0</th>\n",
       "      <td>r44_c1</td>\n",
       "      <td>4</td>\n",
       "      <td>43</td>\n",
       "      <td>0</td>\n",
       "    </tr>\n",
       "    <tr>\n",
       "      <th>1</th>\n",
       "      <td>r61_c1</td>\n",
       "      <td>3</td>\n",
       "      <td>60</td>\n",
       "      <td>0</td>\n",
       "    </tr>\n",
       "    <tr>\n",
       "      <th>2</th>\n",
       "      <td>r67_c1</td>\n",
       "      <td>4</td>\n",
       "      <td>66</td>\n",
       "      <td>0</td>\n",
       "    </tr>\n",
       "    <tr>\n",
       "      <th>3</th>\n",
       "      <td>r72_c1</td>\n",
       "      <td>3</td>\n",
       "      <td>71</td>\n",
       "      <td>0</td>\n",
       "    </tr>\n",
       "    <tr>\n",
       "      <th>4</th>\n",
       "      <td>r86_c1</td>\n",
       "      <td>5</td>\n",
       "      <td>85</td>\n",
       "      <td>0</td>\n",
       "    </tr>\n",
       "  </tbody>\n",
       "</table>\n",
       "</div>"
      ],
      "text/plain": [
       "       Id  Prediction  UserID  MovieID\n",
       "0  r44_c1           4      43        0\n",
       "1  r61_c1           3      60        0\n",
       "2  r67_c1           4      66        0\n",
       "3  r72_c1           3      71        0\n",
       "4  r86_c1           5      85        0"
      ]
     },
     "execution_count": 4,
     "metadata": {},
     "output_type": "execute_result"
    }
   ],
   "source": [
    "data.head()\n"
   ]
  },
  {
   "cell_type": "code",
   "execution_count": 5,
   "metadata": {
    "collapsed": false
   },
   "outputs": [
    {
     "name": "stdout",
     "output_type": "stream",
     "text": [
      "Prepare the variables\n"
     ]
    }
   ],
   "source": [
    "U, I, R, U_i = variables(data)"
   ]
  },
  {
   "cell_type": "code",
   "execution_count": 6,
   "metadata": {
    "collapsed": true
   },
   "outputs": [],
   "source": [
    "folder = \"./pickles/\"\n"
   ]
  },
  {
   "cell_type": "code",
   "execution_count": 10,
   "metadata": {
    "collapsed": false
   },
   "outputs": [
    {
     "name": "stdout",
     "output_type": "stream",
     "text": [
      "Start Calculating Nearest Neighbors for method msd\n",
      "  100/1000 done!\n",
      "  200/1000 done!\n",
      "  300/1000 done!\n",
      "  400/1000 done!\n",
      "  500/1000 done!\n",
      "  600/1000 done!\n",
      "  700/1000 done!\n",
      "  800/1000 done!\n",
      "  900/1000 done!\n",
      "  1000/1000 done!\n",
      "CPU times: user 4min 47s, sys: 228 ms, total: 4min 47s\n",
      "Wall time: 4min 47s\n"
     ]
    }
   ],
   "source": [
    "%%time\n",
    "nearest_neighbors(folder, R, I, U_i, method=\"msd\")"
   ]
  },
  {
   "cell_type": "code",
   "execution_count": 11,
   "metadata": {
    "collapsed": false
   },
   "outputs": [
    {
     "name": "stdout",
     "output_type": "stream",
     "text": [
      "Start Calculating Nearest Neighbors for method pearson\n",
      "  100/1000 done!\n",
      "  200/1000 done!\n",
      "  300/1000 done!\n",
      "  400/1000 done!\n",
      "  500/1000 done!\n",
      "  600/1000 done!\n",
      "  700/1000 done!\n",
      "  800/1000 done!\n",
      "  900/1000 done!\n",
      "  1000/1000 done!\n",
      "CPU times: user 5min 2s, sys: 172 ms, total: 5min 2s\n",
      "Wall time: 5min 2s\n"
     ]
    }
   ],
   "source": [
    "%%time\n",
    "nearest_neighbors(folder, R, I, U_i, method=\"pearson\")"
   ]
  },
  {
   "cell_type": "code",
   "execution_count": 12,
   "metadata": {
    "collapsed": false
   },
   "outputs": [
    {
     "name": "stdout",
     "output_type": "stream",
     "text": [
      "Start Calculating Nearest Neighbors for method cosine\n",
      "  100/1000 done!\n",
      "  200/1000 done!\n",
      "  300/1000 done!\n",
      "  400/1000 done!\n",
      "  500/1000 done!\n",
      "  600/1000 done!\n",
      "  700/1000 done!\n",
      "  800/1000 done!\n",
      "  900/1000 done!\n",
      "  1000/1000 done!\n",
      "CPU times: user 4min 43s, sys: 132 ms, total: 4min 43s\n",
      "Wall time: 4min 43s\n"
     ]
    }
   ],
   "source": [
    "%%time\n",
    "nearest_neighbors(folder, R, I, U_i, method=\"cosine\")"
   ]
  },
  {
   "cell_type": "code",
   "execution_count": null,
   "metadata": {
    "collapsed": true
   },
   "outputs": [],
   "source": []
  }
 ],
 "metadata": {
  "kernelspec": {
   "display_name": "Python [conda root]",
   "language": "python",
   "name": "conda-root-py"
  },
  "language_info": {
   "codemirror_mode": {
    "name": "ipython",
    "version": 3
   },
   "file_extension": ".py",
   "mimetype": "text/x-python",
   "name": "python",
   "nbconvert_exporter": "python",
   "pygments_lexer": "ipython3",
   "version": "3.5.2"
  }
 },
 "nbformat": 4,
 "nbformat_minor": 1
}
