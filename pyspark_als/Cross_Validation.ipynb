{
 "cells": [
  {
   "cell_type": "markdown",
   "metadata": {},
   "source": [
    "# Cross validation of the ALS method using Spark\n",
    "We refer to this tutorial: http://spark.apache.org/docs/latest/ml-tuning.html#example-model-selection-via-cross-validation\n",
    "\n",
    "The tutorial was not clear: we used SKLearn to split the dataset"
   ]
  },
  {
   "cell_type": "markdown",
   "metadata": {},
   "source": [
    "# Import"
   ]
  },
  {
   "cell_type": "code",
   "execution_count": 1,
   "metadata": {
    "collapsed": false
   },
   "outputs": [],
   "source": [
    "import pandas as pd\n",
    "import numpy as np\n",
    "import os\n",
    "import matplotlib.pyplot as plt\n",
    "import itertools\n",
    "from pyspark.mllib.recommendation import ALS\n",
    "import math\n",
    "\n",
    "%matplotlib inline\n",
    "%load_ext autoreload\n",
    "%autoreload 2\n",
    "\n",
    "pd.options.display.max_columns = 100\n"
   ]
  },
  {
   "cell_type": "code",
   "execution_count": 2,
   "metadata": {
    "collapsed": false
   },
   "outputs": [],
   "source": [
    "from pyspark.sql.functions import col"
   ]
  },
  {
   "cell_type": "code",
   "execution_count": 3,
   "metadata": {
    "collapsed": false
   },
   "outputs": [],
   "source": [
    "from helpers_cross_validation import KFoldIndexes,CrossValidation"
   ]
  },
  {
   "cell_type": "code",
   "execution_count": 4,
   "metadata": {
    "collapsed": true
   },
   "outputs": [],
   "source": [
    "from als import get_predictions_ALS"
   ]
  },
  {
   "cell_type": "code",
   "execution_count": 5,
   "metadata": {
    "collapsed": false
   },
   "outputs": [],
   "source": [
    "import helpers"
   ]
  },
  {
   "cell_type": "code",
   "execution_count": 6,
   "metadata": {
    "collapsed": false
   },
   "outputs": [],
   "source": [
    "import random\n"
   ]
  },
  {
   "cell_type": "markdown",
   "metadata": {},
   "source": [
    "# Models"
   ]
  },
  {
   "cell_type": "code",
   "execution_count": 7,
   "metadata": {
    "collapsed": false
   },
   "outputs": [],
   "source": [
    "class ALSModel:\n",
    "    \n",
    "    def __init__(self):\n",
    "        pass\n",
    "    \n",
    "    def fit(self,data,**arg):\n",
    "        self.model = ALS.train(data, **arg)\n",
    "    \n",
    "    def predict(self,data):\n",
    "        data_for_preditions=data.map(lambda x: (x[0], x[1]))\n",
    "        self.predictions = self.model.predictAll(data_for_preditions).map(lambda r: ((r[0], r[1]), r[2]))\n",
    "    \n",
    "    def evaluate(self,data):\n",
    "        rates_and_preds = data.map(lambda r: ((int(r[0]), int(r[1])), float(r[2]))).join(self.predictions)\n",
    "        error = math.sqrt(rates_and_preds.map(lambda r: (r[1][0] - r[1][1])**2).mean())\n",
    "        return error"
   ]
  },
  {
   "cell_type": "markdown",
   "metadata": {},
   "source": [
    "# Dataframe creation"
   ]
  },
  {
   "cell_type": "code",
   "execution_count": 8,
   "metadata": {
    "collapsed": false
   },
   "outputs": [
    {
     "data": {
      "text/html": [
       "<div>\n",
       "<table border=\"1\" class=\"dataframe\">\n",
       "  <thead>\n",
       "    <tr style=\"text-align: right;\">\n",
       "      <th></th>\n",
       "      <th>UserID</th>\n",
       "      <th>MovieID</th>\n",
       "      <th>Rating</th>\n",
       "    </tr>\n",
       "  </thead>\n",
       "  <tbody>\n",
       "    <tr>\n",
       "      <th>0</th>\n",
       "      <td>44</td>\n",
       "      <td>1</td>\n",
       "      <td>4</td>\n",
       "    </tr>\n",
       "    <tr>\n",
       "      <th>1</th>\n",
       "      <td>61</td>\n",
       "      <td>1</td>\n",
       "      <td>3</td>\n",
       "    </tr>\n",
       "    <tr>\n",
       "      <th>2</th>\n",
       "      <td>67</td>\n",
       "      <td>1</td>\n",
       "      <td>4</td>\n",
       "    </tr>\n",
       "    <tr>\n",
       "      <th>3</th>\n",
       "      <td>72</td>\n",
       "      <td>1</td>\n",
       "      <td>3</td>\n",
       "    </tr>\n",
       "    <tr>\n",
       "      <th>4</th>\n",
       "      <td>86</td>\n",
       "      <td>1</td>\n",
       "      <td>5</td>\n",
       "    </tr>\n",
       "  </tbody>\n",
       "</table>\n",
       "</div>"
      ],
      "text/plain": [
       "   UserID  MovieID  Rating\n",
       "0      44        1       4\n",
       "1      61        1       3\n",
       "2      67        1       4\n",
       "3      72        1       3\n",
       "4      86        1       5"
      ]
     },
     "execution_count": 8,
     "metadata": {},
     "output_type": "execute_result"
    }
   ],
   "source": [
    "train = helpers.load_csv()\n",
    "train.head()"
   ]
  },
  {
   "cell_type": "code",
   "execution_count": null,
   "metadata": {
    "collapsed": false
   },
   "outputs": [],
   "source": [
    "# First, we transform it using sqlContect\n",
    "train_rdd = helpers.to_rdd(sqlContext, train)\n",
    "train_rdd.take(3)"
   ]
  },
  {
   "cell_type": "code",
   "execution_count": 9,
   "metadata": {
    "collapsed": false,
    "scrolled": true
   },
   "outputs": [
    {
     "data": {
      "text/plain": [
       "1176952"
      ]
     },
     "execution_count": 9,
     "metadata": {},
     "output_type": "execute_result"
    }
   ],
   "source": [
    "train.shape[0]"
   ]
  },
  {
   "cell_type": "markdown",
   "metadata": {},
   "source": [
    "# Cross validation"
   ]
  },
  {
   "cell_type": "code",
   "execution_count": null,
   "metadata": {
    "collapsed": false
   },
   "outputs": [],
   "source": [
    "cv=CrossValidation(train,4,True,sc)"
   ]
  },
  {
   "cell_type": "code",
   "execution_count": null,
   "metadata": {
    "collapsed": true
   },
   "outputs": [],
   "source": [
    "ranks = [8]\n",
    "lambdas = [0.08,0.081,0.082,0.083,0.084,0.085,0.086,0.087,0.088,0.089,0.09]\n",
    "numIters = [24]\n",
    "nbr_models = len(ranks)*len(lambdas)*len(numIters)\n",
    "\n",
    "bestModel = None\n",
    "bestValidationRmse = float(\"inf\")\n",
    "bestRank = 0\n",
    "bestLambda = -1.0\n",
    "bestNumIter = -1"
   ]
  },
  {
   "cell_type": "code",
   "execution_count": null,
   "metadata": {
    "collapsed": false,
    "scrolled": true
   },
   "outputs": [],
   "source": [
    "bestLambda"
   ]
  },
  {
   "cell_type": "code",
   "execution_count": null,
   "metadata": {
    "collapsed": false
   },
   "outputs": [],
   "source": [
    "i = 0\n",
    "for rank, lmbda, numIter in itertools.product(ranks, lambdas, numIters):\n",
    "    try:\n",
    "        print(rank,lmbda,numIter)\n",
    "        validationRmse = cv.evaluate(ALSModel(),rank=rank,lambda_=lmbda, iterations=numIter, nonnegative=True)\n",
    "        validationRmse = np.mean(validationRmse)\n",
    "        print(\"Model %i/%i: RMSE (validation) = %f\" %(i+1, nbr_models, validationRmse))\n",
    "        print(\"  Trained with rank = %d, lambda = %.1f, and numIter = %d.\" % (rank, lmbda, numIter))\n",
    "        print(\"\")\n",
    "        if (validationRmse < bestValidationRmse):\n",
    "#             bestModel = model\n",
    "            bestValidationRmse = validationRmse\n",
    "            bestRank = rank\n",
    "            bestLambda = lmbda\n",
    "            bestNumIter = numIter\n",
    "    except:\n",
    "        print(\"Model %i/%i failed!\" %(i+1, nbr_models))\n",
    "        print(\"  Parameters: rank = %d, lambda = %.1f, and numIter = %d.\" % (rank, lmbda, numIter))\n",
    "\n",
    "    i += 1\n",
    "    \n",
    "# Evaluate the best model on the training set\n",
    "print(\"The best model was trained with rank = %d and lambda = %.1f, \" % (bestRank, bestLambda) \\\n",
    "  + \"and numIter = %d, and its RMSE on the training set is %f\" % (bestNumIter, bestValidationRmse))\n",
    "\n",
    "# # Evaluate the best model on the test set\n",
    "# testRmse = computeRMSE(bestModel, test_for_predict_RDD, test_RDD)\n",
    "# print(\"RMSE on the test set: %f\"%(testRmse))\n"
   ]
  },
  {
   "cell_type": "markdown",
   "metadata": {},
   "source": [
    "# Prepare data for submission"
   ]
  },
  {
   "cell_type": "code",
   "execution_count": null,
   "metadata": {
    "collapsed": false
   },
   "outputs": [],
   "source": [
    "test = pd.read_csv('../data/sampleSubmission.csv')\n",
    "test.head()"
   ]
  },
  {
   "cell_type": "code",
   "execution_count": null,
   "metadata": {
    "collapsed": false
   },
   "outputs": [],
   "source": [
    "# Prepare test for RDD\n",
    "test_prep = test\n",
    "test_prep['UserID'] = test_prep['Id'].apply(lambda x: int(x.split('_')[0][1:]))\n",
    "test_prep['MovieID'] = test_prep['Id'].apply(lambda x: int(x.split('_')[1][1:]))\n",
    "test_prep['Rating'] = test_prep['Prediction']\n",
    "test_prep = test_prep.drop(['Prediction', 'Id'], axis=1)\n",
    "test_prep.head()"
   ]
  },
  {
   "cell_type": "code",
   "execution_count": null,
   "metadata": {
    "collapsed": false
   },
   "outputs": [],
   "source": [
    "# First, we transform it using sqlContect\n",
    "test_sql = sqlContext.createDataFrame(test_prep)\n",
    "test_rdd = test_sql.rdd\n",
    "test_rdd.take(3)"
   ]
  },
  {
   "cell_type": "code",
   "execution_count": null,
   "metadata": {
    "collapsed": false
   },
   "outputs": [],
   "source": [
    "bestModel=ALSModel()\n",
    "bestModel.fit(train_rdd,rank=8,lambda_=0.081, iterations=24, nonnegative=True)"
   ]
  },
  {
   "cell_type": "code",
   "execution_count": null,
   "metadata": {
    "collapsed": false
   },
   "outputs": [],
   "source": [
    "bestModel.predict(test_rdd)\n",
    "predictions=bestModel.predictions\n",
    "# predictions = bestModel.predictAll(test_RDD_Kaggle).map(lambda r: ((r[0], r[1]), r[2]))"
   ]
  },
  {
   "cell_type": "code",
   "execution_count": null,
   "metadata": {
    "collapsed": false
   },
   "outputs": [],
   "source": [
    "predictions.take(3)"
   ]
  },
  {
   "cell_type": "code",
   "execution_count": null,
   "metadata": {
    "collapsed": true
   },
   "outputs": [],
   "source": [
    "pred_df = predictions.toDF().toPandas()"
   ]
  },
  {
   "cell_type": "code",
   "execution_count": null,
   "metadata": {
    "collapsed": false
   },
   "outputs": [],
   "source": [
    "pred_df['UserID'] = pred_df['_1'].apply(lambda x: x['_1'])\n",
    "pred_df['MovieID'] = pred_df['_1'].apply(lambda x: x['_2'])\n",
    "pred_df['Rating'] = pred_df['_2']\n",
    "pred_df = pred_df.drop(['_1', '_2'], axis=1)\n",
    "pred_df.head()"
   ]
  },
  {
   "cell_type": "code",
   "execution_count": null,
   "metadata": {
    "collapsed": false,
    "scrolled": true
   },
   "outputs": [],
   "source": [
    "pred_df = pred_df.sort_values(by=['MovieID', 'UserID'])\n",
    "pred_df.head()"
   ]
  },
  {
   "cell_type": "code",
   "execution_count": null,
   "metadata": {
    "collapsed": true
   },
   "outputs": [],
   "source": [
    "pred_df.index = range(len(pred_df))"
   ]
  },
  {
   "cell_type": "code",
   "execution_count": null,
   "metadata": {
    "collapsed": true
   },
   "outputs": [],
   "source": [
    "test['Prediction'] = pred_df['Rating']\n"
   ]
  },
  {
   "cell_type": "code",
   "execution_count": null,
   "metadata": {
    "collapsed": false
   },
   "outputs": [],
   "source": [
    "test.head()"
   ]
  },
  {
   "cell_type": "code",
   "execution_count": null,
   "metadata": {
    "collapsed": false
   },
   "outputs": [],
   "source": [
    "test = test.drop(['UserID', 'MovieID', 'Rating'], axis=1)\n"
   ]
  },
  {
   "cell_type": "code",
   "execution_count": null,
   "metadata": {
    "collapsed": true
   },
   "outputs": [],
   "source": [
    "test.to_csv('pred_pyspark_als.csv', index=False)"
   ]
  },
  {
   "cell_type": "code",
   "execution_count": null,
   "metadata": {
    "collapsed": true
   },
   "outputs": [],
   "source": []
  },
  {
   "cell_type": "markdown",
   "metadata": {},
   "source": [
    "# Test with get_predictions_ALS function"
   ]
  },
  {
   "cell_type": "code",
   "execution_count": 10,
   "metadata": {
    "collapsed": true
   },
   "outputs": [],
   "source": [
    "import random"
   ]
  },
  {
   "cell_type": "code",
   "execution_count": 11,
   "metadata": {
    "collapsed": true
   },
   "outputs": [],
   "source": [
    "train_index=random.sample(range(1176952),1000000)\n",
    "train_index.sort()"
   ]
  },
  {
   "cell_type": "code",
   "execution_count": 12,
   "metadata": {
    "collapsed": false
   },
   "outputs": [],
   "source": [
    "test_index=list(set(range(1176952))-set(train_index))\n",
    "test_index.sort()"
   ]
  },
  {
   "cell_type": "code",
   "execution_count": 13,
   "metadata": {
    "collapsed": false
   },
   "outputs": [],
   "source": [
    "training=train.loc[train_index]"
   ]
  },
  {
   "cell_type": "code",
   "execution_count": 14,
   "metadata": {
    "collapsed": false
   },
   "outputs": [],
   "source": [
    "testing=train.loc[test_index]"
   ]
  },
  {
   "cell_type": "code",
   "execution_count": 16,
   "metadata": {
    "collapsed": false,
    "scrolled": true
   },
   "outputs": [
    {
     "data": {
      "text/html": [
       "<div>\n",
       "<table border=\"1\" class=\"dataframe\">\n",
       "  <thead>\n",
       "    <tr style=\"text-align: right;\">\n",
       "      <th></th>\n",
       "      <th>User</th>\n",
       "      <th>Movie</th>\n",
       "      <th>Rating</th>\n",
       "    </tr>\n",
       "  </thead>\n",
       "  <tbody>\n",
       "    <tr>\n",
       "      <th>0</th>\n",
       "      <td>72</td>\n",
       "      <td>1</td>\n",
       "      <td>3.332143</td>\n",
       "    </tr>\n",
       "    <tr>\n",
       "      <th>1</th>\n",
       "      <td>333</td>\n",
       "      <td>1</td>\n",
       "      <td>3.294733</td>\n",
       "    </tr>\n",
       "    <tr>\n",
       "      <th>2</th>\n",
       "      <td>743</td>\n",
       "      <td>1</td>\n",
       "      <td>3.666692</td>\n",
       "    </tr>\n",
       "    <tr>\n",
       "      <th>3</th>\n",
       "      <td>930</td>\n",
       "      <td>1</td>\n",
       "      <td>3.345466</td>\n",
       "    </tr>\n",
       "    <tr>\n",
       "      <th>4</th>\n",
       "      <td>981</td>\n",
       "      <td>1</td>\n",
       "      <td>3.361476</td>\n",
       "    </tr>\n",
       "    <tr>\n",
       "      <th>5</th>\n",
       "      <td>1107</td>\n",
       "      <td>1</td>\n",
       "      <td>3.119422</td>\n",
       "    </tr>\n",
       "    <tr>\n",
       "      <th>6</th>\n",
       "      <td>1407</td>\n",
       "      <td>1</td>\n",
       "      <td>2.994545</td>\n",
       "    </tr>\n",
       "    <tr>\n",
       "      <th>7</th>\n",
       "      <td>1435</td>\n",
       "      <td>1</td>\n",
       "      <td>3.148449</td>\n",
       "    </tr>\n",
       "    <tr>\n",
       "      <th>8</th>\n",
       "      <td>1549</td>\n",
       "      <td>1</td>\n",
       "      <td>2.984605</td>\n",
       "    </tr>\n",
       "    <tr>\n",
       "      <th>9</th>\n",
       "      <td>1802</td>\n",
       "      <td>1</td>\n",
       "      <td>2.918144</td>\n",
       "    </tr>\n",
       "    <tr>\n",
       "      <th>10</th>\n",
       "      <td>2081</td>\n",
       "      <td>1</td>\n",
       "      <td>3.347261</td>\n",
       "    </tr>\n",
       "    <tr>\n",
       "      <th>11</th>\n",
       "      <td>2090</td>\n",
       "      <td>1</td>\n",
       "      <td>2.920905</td>\n",
       "    </tr>\n",
       "    <tr>\n",
       "      <th>12</th>\n",
       "      <td>2195</td>\n",
       "      <td>1</td>\n",
       "      <td>3.123570</td>\n",
       "    </tr>\n",
       "    <tr>\n",
       "      <th>13</th>\n",
       "      <td>2244</td>\n",
       "      <td>1</td>\n",
       "      <td>2.771981</td>\n",
       "    </tr>\n",
       "    <tr>\n",
       "      <th>14</th>\n",
       "      <td>2357</td>\n",
       "      <td>1</td>\n",
       "      <td>3.511024</td>\n",
       "    </tr>\n",
       "    <tr>\n",
       "      <th>15</th>\n",
       "      <td>2476</td>\n",
       "      <td>1</td>\n",
       "      <td>2.890182</td>\n",
       "    </tr>\n",
       "    <tr>\n",
       "      <th>16</th>\n",
       "      <td>2479</td>\n",
       "      <td>1</td>\n",
       "      <td>2.925849</td>\n",
       "    </tr>\n",
       "    <tr>\n",
       "      <th>17</th>\n",
       "      <td>2572</td>\n",
       "      <td>1</td>\n",
       "      <td>2.938729</td>\n",
       "    </tr>\n",
       "    <tr>\n",
       "      <th>18</th>\n",
       "      <td>2939</td>\n",
       "      <td>1</td>\n",
       "      <td>2.921689</td>\n",
       "    </tr>\n",
       "    <tr>\n",
       "      <th>19</th>\n",
       "      <td>3930</td>\n",
       "      <td>1</td>\n",
       "      <td>3.438598</td>\n",
       "    </tr>\n",
       "    <tr>\n",
       "      <th>20</th>\n",
       "      <td>3996</td>\n",
       "      <td>1</td>\n",
       "      <td>3.287711</td>\n",
       "    </tr>\n",
       "    <tr>\n",
       "      <th>21</th>\n",
       "      <td>4061</td>\n",
       "      <td>1</td>\n",
       "      <td>3.449302</td>\n",
       "    </tr>\n",
       "    <tr>\n",
       "      <th>22</th>\n",
       "      <td>4146</td>\n",
       "      <td>1</td>\n",
       "      <td>3.305765</td>\n",
       "    </tr>\n",
       "    <tr>\n",
       "      <th>23</th>\n",
       "      <td>4524</td>\n",
       "      <td>1</td>\n",
       "      <td>3.308094</td>\n",
       "    </tr>\n",
       "    <tr>\n",
       "      <th>24</th>\n",
       "      <td>4607</td>\n",
       "      <td>1</td>\n",
       "      <td>3.322710</td>\n",
       "    </tr>\n",
       "    <tr>\n",
       "      <th>25</th>\n",
       "      <td>4944</td>\n",
       "      <td>1</td>\n",
       "      <td>3.098876</td>\n",
       "    </tr>\n",
       "    <tr>\n",
       "      <th>26</th>\n",
       "      <td>5002</td>\n",
       "      <td>1</td>\n",
       "      <td>3.686298</td>\n",
       "    </tr>\n",
       "    <tr>\n",
       "      <th>27</th>\n",
       "      <td>5749</td>\n",
       "      <td>1</td>\n",
       "      <td>3.119320</td>\n",
       "    </tr>\n",
       "    <tr>\n",
       "      <th>28</th>\n",
       "      <td>5977</td>\n",
       "      <td>1</td>\n",
       "      <td>3.395790</td>\n",
       "    </tr>\n",
       "    <tr>\n",
       "      <th>29</th>\n",
       "      <td>6411</td>\n",
       "      <td>1</td>\n",
       "      <td>2.747360</td>\n",
       "    </tr>\n",
       "    <tr>\n",
       "      <th>...</th>\n",
       "      <td>...</td>\n",
       "      <td>...</td>\n",
       "      <td>...</td>\n",
       "    </tr>\n",
       "    <tr>\n",
       "      <th>176922</th>\n",
       "      <td>9020</td>\n",
       "      <td>1000</td>\n",
       "      <td>3.761762</td>\n",
       "    </tr>\n",
       "    <tr>\n",
       "      <th>176923</th>\n",
       "      <td>9036</td>\n",
       "      <td>1000</td>\n",
       "      <td>3.485750</td>\n",
       "    </tr>\n",
       "    <tr>\n",
       "      <th>176924</th>\n",
       "      <td>9038</td>\n",
       "      <td>1000</td>\n",
       "      <td>3.478902</td>\n",
       "    </tr>\n",
       "    <tr>\n",
       "      <th>176925</th>\n",
       "      <td>9066</td>\n",
       "      <td>1000</td>\n",
       "      <td>3.426668</td>\n",
       "    </tr>\n",
       "    <tr>\n",
       "      <th>176926</th>\n",
       "      <td>9140</td>\n",
       "      <td>1000</td>\n",
       "      <td>3.367069</td>\n",
       "    </tr>\n",
       "    <tr>\n",
       "      <th>176927</th>\n",
       "      <td>9195</td>\n",
       "      <td>1000</td>\n",
       "      <td>3.850260</td>\n",
       "    </tr>\n",
       "    <tr>\n",
       "      <th>176928</th>\n",
       "      <td>9249</td>\n",
       "      <td>1000</td>\n",
       "      <td>3.532908</td>\n",
       "    </tr>\n",
       "    <tr>\n",
       "      <th>176929</th>\n",
       "      <td>9287</td>\n",
       "      <td>1000</td>\n",
       "      <td>3.993728</td>\n",
       "    </tr>\n",
       "    <tr>\n",
       "      <th>176930</th>\n",
       "      <td>9306</td>\n",
       "      <td>1000</td>\n",
       "      <td>4.030610</td>\n",
       "    </tr>\n",
       "    <tr>\n",
       "      <th>176931</th>\n",
       "      <td>9470</td>\n",
       "      <td>1000</td>\n",
       "      <td>3.958596</td>\n",
       "    </tr>\n",
       "    <tr>\n",
       "      <th>176932</th>\n",
       "      <td>9471</td>\n",
       "      <td>1000</td>\n",
       "      <td>3.836196</td>\n",
       "    </tr>\n",
       "    <tr>\n",
       "      <th>176933</th>\n",
       "      <td>9539</td>\n",
       "      <td>1000</td>\n",
       "      <td>3.617135</td>\n",
       "    </tr>\n",
       "    <tr>\n",
       "      <th>176934</th>\n",
       "      <td>9548</td>\n",
       "      <td>1000</td>\n",
       "      <td>3.681067</td>\n",
       "    </tr>\n",
       "    <tr>\n",
       "      <th>176935</th>\n",
       "      <td>9642</td>\n",
       "      <td>1000</td>\n",
       "      <td>3.445052</td>\n",
       "    </tr>\n",
       "    <tr>\n",
       "      <th>176936</th>\n",
       "      <td>9669</td>\n",
       "      <td>1000</td>\n",
       "      <td>3.862573</td>\n",
       "    </tr>\n",
       "    <tr>\n",
       "      <th>176937</th>\n",
       "      <td>9671</td>\n",
       "      <td>1000</td>\n",
       "      <td>2.689621</td>\n",
       "    </tr>\n",
       "    <tr>\n",
       "      <th>176938</th>\n",
       "      <td>9677</td>\n",
       "      <td>1000</td>\n",
       "      <td>3.758258</td>\n",
       "    </tr>\n",
       "    <tr>\n",
       "      <th>176939</th>\n",
       "      <td>9756</td>\n",
       "      <td>1000</td>\n",
       "      <td>3.400455</td>\n",
       "    </tr>\n",
       "    <tr>\n",
       "      <th>176940</th>\n",
       "      <td>9771</td>\n",
       "      <td>1000</td>\n",
       "      <td>3.904313</td>\n",
       "    </tr>\n",
       "    <tr>\n",
       "      <th>176941</th>\n",
       "      <td>9777</td>\n",
       "      <td>1000</td>\n",
       "      <td>3.688983</td>\n",
       "    </tr>\n",
       "    <tr>\n",
       "      <th>176942</th>\n",
       "      <td>9779</td>\n",
       "      <td>1000</td>\n",
       "      <td>3.539534</td>\n",
       "    </tr>\n",
       "    <tr>\n",
       "      <th>176943</th>\n",
       "      <td>9839</td>\n",
       "      <td>1000</td>\n",
       "      <td>3.802205</td>\n",
       "    </tr>\n",
       "    <tr>\n",
       "      <th>176944</th>\n",
       "      <td>9855</td>\n",
       "      <td>1000</td>\n",
       "      <td>3.557959</td>\n",
       "    </tr>\n",
       "    <tr>\n",
       "      <th>176945</th>\n",
       "      <td>9904</td>\n",
       "      <td>1000</td>\n",
       "      <td>3.570943</td>\n",
       "    </tr>\n",
       "    <tr>\n",
       "      <th>176946</th>\n",
       "      <td>9936</td>\n",
       "      <td>1000</td>\n",
       "      <td>3.876480</td>\n",
       "    </tr>\n",
       "    <tr>\n",
       "      <th>176947</th>\n",
       "      <td>9960</td>\n",
       "      <td>1000</td>\n",
       "      <td>3.655916</td>\n",
       "    </tr>\n",
       "    <tr>\n",
       "      <th>176948</th>\n",
       "      <td>9968</td>\n",
       "      <td>1000</td>\n",
       "      <td>3.673992</td>\n",
       "    </tr>\n",
       "    <tr>\n",
       "      <th>176949</th>\n",
       "      <td>9976</td>\n",
       "      <td>1000</td>\n",
       "      <td>3.719650</td>\n",
       "    </tr>\n",
       "    <tr>\n",
       "      <th>176950</th>\n",
       "      <td>9997</td>\n",
       "      <td>1000</td>\n",
       "      <td>3.094704</td>\n",
       "    </tr>\n",
       "    <tr>\n",
       "      <th>176951</th>\n",
       "      <td>10000</td>\n",
       "      <td>1000</td>\n",
       "      <td>3.510452</td>\n",
       "    </tr>\n",
       "  </tbody>\n",
       "</table>\n",
       "<p>176952 rows × 3 columns</p>\n",
       "</div>"
      ],
      "text/plain": [
       "         User  Movie    Rating\n",
       "0          72      1  3.332143\n",
       "1         333      1  3.294733\n",
       "2         743      1  3.666692\n",
       "3         930      1  3.345466\n",
       "4         981      1  3.361476\n",
       "5        1107      1  3.119422\n",
       "6        1407      1  2.994545\n",
       "7        1435      1  3.148449\n",
       "8        1549      1  2.984605\n",
       "9        1802      1  2.918144\n",
       "10       2081      1  3.347261\n",
       "11       2090      1  2.920905\n",
       "12       2195      1  3.123570\n",
       "13       2244      1  2.771981\n",
       "14       2357      1  3.511024\n",
       "15       2476      1  2.890182\n",
       "16       2479      1  2.925849\n",
       "17       2572      1  2.938729\n",
       "18       2939      1  2.921689\n",
       "19       3930      1  3.438598\n",
       "20       3996      1  3.287711\n",
       "21       4061      1  3.449302\n",
       "22       4146      1  3.305765\n",
       "23       4524      1  3.308094\n",
       "24       4607      1  3.322710\n",
       "25       4944      1  3.098876\n",
       "26       5002      1  3.686298\n",
       "27       5749      1  3.119320\n",
       "28       5977      1  3.395790\n",
       "29       6411      1  2.747360\n",
       "...       ...    ...       ...\n",
       "176922   9020   1000  3.761762\n",
       "176923   9036   1000  3.485750\n",
       "176924   9038   1000  3.478902\n",
       "176925   9066   1000  3.426668\n",
       "176926   9140   1000  3.367069\n",
       "176927   9195   1000  3.850260\n",
       "176928   9249   1000  3.532908\n",
       "176929   9287   1000  3.993728\n",
       "176930   9306   1000  4.030610\n",
       "176931   9470   1000  3.958596\n",
       "176932   9471   1000  3.836196\n",
       "176933   9539   1000  3.617135\n",
       "176934   9548   1000  3.681067\n",
       "176935   9642   1000  3.445052\n",
       "176936   9669   1000  3.862573\n",
       "176937   9671   1000  2.689621\n",
       "176938   9677   1000  3.758258\n",
       "176939   9756   1000  3.400455\n",
       "176940   9771   1000  3.904313\n",
       "176941   9777   1000  3.688983\n",
       "176942   9779   1000  3.539534\n",
       "176943   9839   1000  3.802205\n",
       "176944   9855   1000  3.557959\n",
       "176945   9904   1000  3.570943\n",
       "176946   9936   1000  3.876480\n",
       "176947   9960   1000  3.655916\n",
       "176948   9968   1000  3.673992\n",
       "176949   9976   1000  3.719650\n",
       "176950   9997   1000  3.094704\n",
       "176951  10000   1000  3.510452\n",
       "\n",
       "[176952 rows x 3 columns]"
      ]
     },
     "execution_count": 16,
     "metadata": {},
     "output_type": "execute_result"
    }
   ],
   "source": [
    "get_predictions_ALS(training,testing,sc,rank=8,lambda_=0.081, iterations=24, nonnegative=True)"
   ]
  },
  {
   "cell_type": "code",
   "execution_count": null,
   "metadata": {
    "collapsed": true
   },
   "outputs": [],
   "source": []
  }
 ],
 "metadata": {
  "anaconda-cloud": {},
  "kernelspec": {
   "display_name": "Python [Root]",
   "language": "python",
   "name": "Python [Root]"
  },
  "language_info": {
   "codemirror_mode": {
    "name": "ipython",
    "version": 3
   },
   "file_extension": ".py",
   "mimetype": "text/x-python",
   "name": "python",
   "nbconvert_exporter": "python",
   "pygments_lexer": "ipython3",
   "version": "3.5.2"
  }
 },
 "nbformat": 4,
 "nbformat_minor": 0
}
