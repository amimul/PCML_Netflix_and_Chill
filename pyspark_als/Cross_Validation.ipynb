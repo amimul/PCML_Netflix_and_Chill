{
 "cells": [
  {
   "cell_type": "markdown",
   "metadata": {},
   "source": [
    "# Cross validation of the ALS method using Spark\n",
    "We refer to this tutorial: http://spark.apache.org/docs/latest/ml-tuning.html#example-model-selection-via-cross-validation\n",
    "\n",
    "The tutorial was not clear: we used SKLearn to split the dataset"
   ]
  },
  {
   "cell_type": "markdown",
   "metadata": {},
   "source": [
    "# Import"
   ]
  },
  {
   "cell_type": "code",
   "execution_count": 17,
   "metadata": {
    "collapsed": false
   },
   "outputs": [
    {
     "name": "stdout",
     "output_type": "stream",
     "text": [
      "The autoreload extension is already loaded. To reload it, use:\n",
      "  %reload_ext autoreload\n"
     ]
    }
   ],
   "source": [
    "import pandas as pd\n",
    "import numpy as np\n",
    "import os\n",
    "import matplotlib.pyplot as plt\n",
    "import itertools\n",
    "from pyspark.mllib.recommendation import ALS\n",
    "import math\n",
    "\n",
    "%matplotlib inline\n",
    "%load_ext autoreload\n",
    "%autoreload 2\n",
    "\n",
    "pd.options.display.max_columns = 100\n"
   ]
  },
  {
   "cell_type": "code",
   "execution_count": 18,
   "metadata": {
    "collapsed": false
   },
   "outputs": [],
   "source": [
    "from pyspark.sql.functions import col"
   ]
  },
  {
   "cell_type": "code",
   "execution_count": 19,
   "metadata": {
    "collapsed": false
   },
   "outputs": [],
   "source": [
    "from helpers_cross_validation import KFoldIndexes,CrossValidation"
   ]
  },
  {
   "cell_type": "code",
   "execution_count": 20,
   "metadata": {
    "collapsed": true
   },
   "outputs": [],
   "source": [
    "from helpers_als import get_predictions_ALS"
   ]
  },
  {
   "cell_type": "code",
   "execution_count": 21,
   "metadata": {
    "collapsed": false
   },
   "outputs": [],
   "source": [
    "import helpers"
   ]
  },
  {
   "cell_type": "code",
   "execution_count": 22,
   "metadata": {
    "collapsed": false
   },
   "outputs": [],
   "source": [
    "import random\n"
   ]
  },
  {
   "cell_type": "markdown",
   "metadata": {},
   "source": [
    "# Models"
   ]
  },
  {
   "cell_type": "code",
   "execution_count": 7,
   "metadata": {
    "collapsed": false
   },
   "outputs": [],
   "source": [
    "class ALSModel:\n",
    "    \n",
    "    def __init__(self):\n",
    "        pass\n",
    "    \n",
    "    def fit(self,data,**arg):\n",
    "        self.model = ALS.train(data, **arg)\n",
    "    \n",
    "    def predict(self,data):\n",
    "        data_for_preditions=data.map(lambda x: (x[0], x[1]))\n",
    "        self.predictions = self.model.predictAll(data_for_preditions).map(lambda r: ((r[0], r[1]), r[2]))\n",
    "    \n",
    "    def evaluate(self,data):\n",
    "        rates_and_preds = data.map(lambda r: ((int(r[0]), int(r[1])), float(r[2]))).join(self.predictions)\n",
    "        error = math.sqrt(rates_and_preds.map(lambda r: (r[1][0] - r[1][1])**2).mean())\n",
    "        return error"
   ]
  },
  {
   "cell_type": "markdown",
   "metadata": {},
   "source": [
    "# Dataframe creation"
   ]
  },
  {
   "cell_type": "code",
   "execution_count": 8,
   "metadata": {
    "collapsed": false
   },
   "outputs": [
    {
     "data": {
      "text/html": [
       "<div>\n",
       "<table border=\"1\" class=\"dataframe\">\n",
       "  <thead>\n",
       "    <tr style=\"text-align: right;\">\n",
       "      <th></th>\n",
       "      <th>UserID</th>\n",
       "      <th>MovieID</th>\n",
       "      <th>Rating</th>\n",
       "    </tr>\n",
       "  </thead>\n",
       "  <tbody>\n",
       "    <tr>\n",
       "      <th>0</th>\n",
       "      <td>44</td>\n",
       "      <td>1</td>\n",
       "      <td>4</td>\n",
       "    </tr>\n",
       "    <tr>\n",
       "      <th>1</th>\n",
       "      <td>61</td>\n",
       "      <td>1</td>\n",
       "      <td>3</td>\n",
       "    </tr>\n",
       "    <tr>\n",
       "      <th>2</th>\n",
       "      <td>67</td>\n",
       "      <td>1</td>\n",
       "      <td>4</td>\n",
       "    </tr>\n",
       "    <tr>\n",
       "      <th>3</th>\n",
       "      <td>72</td>\n",
       "      <td>1</td>\n",
       "      <td>3</td>\n",
       "    </tr>\n",
       "    <tr>\n",
       "      <th>4</th>\n",
       "      <td>86</td>\n",
       "      <td>1</td>\n",
       "      <td>5</td>\n",
       "    </tr>\n",
       "  </tbody>\n",
       "</table>\n",
       "</div>"
      ],
      "text/plain": [
       "   UserID  MovieID  Rating\n",
       "0      44        1       4\n",
       "1      61        1       3\n",
       "2      67        1       4\n",
       "3      72        1       3\n",
       "4      86        1       5"
      ]
     },
     "execution_count": 8,
     "metadata": {},
     "output_type": "execute_result"
    }
   ],
   "source": [
    "train = helpers.load_csv()\n",
    "train.head()"
   ]
  },
  {
   "cell_type": "code",
   "execution_count": 9,
   "metadata": {
    "collapsed": false
   },
   "outputs": [
    {
     "data": {
      "text/plain": [
       "[Row(UserID=44, MovieID=1, Rating=4),\n",
       " Row(UserID=61, MovieID=1, Rating=3),\n",
       " Row(UserID=67, MovieID=1, Rating=4)]"
      ]
     },
     "execution_count": 9,
     "metadata": {},
     "output_type": "execute_result"
    }
   ],
   "source": [
    "# First, we transform it using sqlContect\n",
    "train_rdd = helpers.to_rdd(sqlContext, train)\n",
    "train_rdd.take(3)"
   ]
  },
  {
   "cell_type": "code",
   "execution_count": 10,
   "metadata": {
    "collapsed": false,
    "scrolled": true
   },
   "outputs": [
    {
     "data": {
      "text/plain": [
       "1176952"
      ]
     },
     "execution_count": 10,
     "metadata": {},
     "output_type": "execute_result"
    }
   ],
   "source": [
    "train.shape[0]"
   ]
  },
  {
   "cell_type": "markdown",
   "metadata": {},
   "source": [
    "# Cross validation"
   ]
  },
  {
   "cell_type": "code",
   "execution_count": null,
   "metadata": {
    "collapsed": false
   },
   "outputs": [],
   "source": [
    "cv=CrossValidation(train,4,True,sc)"
   ]
  },
  {
   "cell_type": "code",
   "execution_count": null,
   "metadata": {
    "collapsed": true
   },
   "outputs": [],
   "source": [
    "ranks = [8]\n",
    "lambdas = [0.08,0.081,0.082,0.083,0.084,0.085,0.086,0.087,0.088,0.089,0.09]\n",
    "numIters = [24]\n",
    "nbr_models = len(ranks)*len(lambdas)*len(numIters)\n",
    "\n",
    "bestModel = None\n",
    "bestValidationRmse = float(\"inf\")\n",
    "bestRank = 0\n",
    "bestLambda = -1.0\n",
    "bestNumIter = -1"
   ]
  },
  {
   "cell_type": "code",
   "execution_count": null,
   "metadata": {
    "collapsed": false,
    "scrolled": true
   },
   "outputs": [],
   "source": [
    "bestLambda"
   ]
  },
  {
   "cell_type": "code",
   "execution_count": null,
   "metadata": {
    "collapsed": false
   },
   "outputs": [],
   "source": [
    "i = 0\n",
    "for rank, lmbda, numIter in itertools.product(ranks, lambdas, numIters):\n",
    "    try:\n",
    "        print(rank,lmbda,numIter)\n",
    "        validationRmse = cv.evaluate(ALSModel(),rank=rank,lambda_=lmbda, iterations=numIter, nonnegative=True)\n",
    "        validationRmse = np.mean(validationRmse)\n",
    "        print(\"Model %i/%i: RMSE (validation) = %f\" %(i+1, nbr_models, validationRmse))\n",
    "        print(\"  Trained with rank = %d, lambda = %.1f, and numIter = %d.\" % (rank, lmbda, numIter))\n",
    "        print(\"\")\n",
    "        if (validationRmse < bestValidationRmse):\n",
    "#             bestModel = model\n",
    "            bestValidationRmse = validationRmse\n",
    "            bestRank = rank\n",
    "            bestLambda = lmbda\n",
    "            bestNumIter = numIter\n",
    "    except:\n",
    "        print(\"Model %i/%i failed!\" %(i+1, nbr_models))\n",
    "        print(\"  Parameters: rank = %d, lambda = %.1f, and numIter = %d.\" % (rank, lmbda, numIter))\n",
    "\n",
    "    i += 1\n",
    "    \n",
    "# Evaluate the best model on the training set\n",
    "print(\"The best model was trained with rank = %d and lambda = %.1f, \" % (bestRank, bestLambda) \\\n",
    "  + \"and numIter = %d, and its RMSE on the training set is %f\" % (bestNumIter, bestValidationRmse))\n",
    "\n",
    "# # Evaluate the best model on the test set\n",
    "# testRmse = computeRMSE(bestModel, test_for_predict_RDD, test_RDD)\n",
    "# print(\"RMSE on the test set: %f\"%(testRmse))\n"
   ]
  },
  {
   "cell_type": "markdown",
   "metadata": {},
   "source": [
    "# Prepare data for submission"
   ]
  },
  {
   "cell_type": "code",
   "execution_count": null,
   "metadata": {
    "collapsed": false
   },
   "outputs": [],
   "source": [
    "test = pd.read_csv('../data/sampleSubmission.csv')\n",
    "test.head()"
   ]
  },
  {
   "cell_type": "code",
   "execution_count": null,
   "metadata": {
    "collapsed": false
   },
   "outputs": [],
   "source": [
    "# Prepare test for RDD\n",
    "test_prep = test\n",
    "test_prep['UserID'] = test_prep['Id'].apply(lambda x: int(x.split('_')[0][1:]))\n",
    "test_prep['MovieID'] = test_prep['Id'].apply(lambda x: int(x.split('_')[1][1:]))\n",
    "test_prep['Rating'] = test_prep['Prediction']\n",
    "test_prep = test_prep.drop(['Prediction', 'Id'], axis=1)\n",
    "test_prep.head()"
   ]
  },
  {
   "cell_type": "code",
   "execution_count": null,
   "metadata": {
    "collapsed": false
   },
   "outputs": [],
   "source": [
    "# First, we transform it using sqlContect\n",
    "test_sql = sqlContext.createDataFrame(test_prep)\n",
    "test_rdd = test_sql.rdd\n",
    "test_rdd.take(3)"
   ]
  },
  {
   "cell_type": "code",
   "execution_count": null,
   "metadata": {
    "collapsed": false
   },
   "outputs": [],
   "source": [
    "bestModel=ALSModel()\n",
    "bestModel.fit(train_rdd,rank=8,lambda_=0.081, iterations=24, nonnegative=True)"
   ]
  },
  {
   "cell_type": "code",
   "execution_count": null,
   "metadata": {
    "collapsed": false
   },
   "outputs": [],
   "source": [
    "bestModel.predict(test_rdd)\n",
    "predictions=bestModel.predictions\n",
    "# predictions = bestModel.predictAll(test_RDD_Kaggle).map(lambda r: ((r[0], r[1]), r[2]))"
   ]
  },
  {
   "cell_type": "code",
   "execution_count": null,
   "metadata": {
    "collapsed": false
   },
   "outputs": [],
   "source": [
    "predictions.take(3)"
   ]
  },
  {
   "cell_type": "code",
   "execution_count": null,
   "metadata": {
    "collapsed": true
   },
   "outputs": [],
   "source": [
    "pred_df = predictions.toDF().toPandas()"
   ]
  },
  {
   "cell_type": "code",
   "execution_count": null,
   "metadata": {
    "collapsed": false
   },
   "outputs": [],
   "source": [
    "pred_df['UserID'] = pred_df['_1'].apply(lambda x: x['_1'])\n",
    "pred_df['MovieID'] = pred_df['_1'].apply(lambda x: x['_2'])\n",
    "pred_df['Rating'] = pred_df['_2']\n",
    "pred_df = pred_df.drop(['_1', '_2'], axis=1)\n",
    "pred_df.head()"
   ]
  },
  {
   "cell_type": "code",
   "execution_count": null,
   "metadata": {
    "collapsed": false,
    "scrolled": true
   },
   "outputs": [],
   "source": [
    "pred_df = pred_df.sort_values(by=['MovieID', 'UserID'])\n",
    "pred_df.head()"
   ]
  },
  {
   "cell_type": "code",
   "execution_count": null,
   "metadata": {
    "collapsed": true
   },
   "outputs": [],
   "source": [
    "pred_df.index = range(len(pred_df))"
   ]
  },
  {
   "cell_type": "code",
   "execution_count": null,
   "metadata": {
    "collapsed": true
   },
   "outputs": [],
   "source": [
    "test['Prediction'] = pred_df['Rating']\n"
   ]
  },
  {
   "cell_type": "code",
   "execution_count": null,
   "metadata": {
    "collapsed": false
   },
   "outputs": [],
   "source": [
    "test.head()"
   ]
  },
  {
   "cell_type": "code",
   "execution_count": null,
   "metadata": {
    "collapsed": false
   },
   "outputs": [],
   "source": [
    "test = test.drop(['UserID', 'MovieID', 'Rating'], axis=1)\n"
   ]
  },
  {
   "cell_type": "code",
   "execution_count": null,
   "metadata": {
    "collapsed": true
   },
   "outputs": [],
   "source": [
    "test.to_csv('pred_pyspark_als.csv', index=False)"
   ]
  },
  {
   "cell_type": "code",
   "execution_count": null,
   "metadata": {
    "collapsed": true
   },
   "outputs": [],
   "source": []
  },
  {
   "cell_type": "markdown",
   "metadata": {},
   "source": [
    "# Test with get_predictions_ALS function"
   ]
  },
  {
   "cell_type": "code",
   "execution_count": 11,
   "metadata": {
    "collapsed": true
   },
   "outputs": [],
   "source": [
    "import random"
   ]
  },
  {
   "cell_type": "code",
   "execution_count": 12,
   "metadata": {
    "collapsed": true
   },
   "outputs": [],
   "source": [
    "train_index=random.sample(range(1176952),1000000)\n",
    "train_index.sort()"
   ]
  },
  {
   "cell_type": "code",
   "execution_count": 13,
   "metadata": {
    "collapsed": false
   },
   "outputs": [],
   "source": [
    "test_index=list(set(range(1176952))-set(train_index))\n",
    "test_index.sort()"
   ]
  },
  {
   "cell_type": "code",
   "execution_count": 14,
   "metadata": {
    "collapsed": false
   },
   "outputs": [],
   "source": [
    "training=train.loc[train_index]"
   ]
  },
  {
   "cell_type": "code",
   "execution_count": 15,
   "metadata": {
    "collapsed": false
   },
   "outputs": [],
   "source": [
    "testing=train.loc[test_index]"
   ]
  },
  {
   "cell_type": "code",
   "execution_count": 23,
   "metadata": {
    "collapsed": false,
    "scrolled": true
   },
   "outputs": [
    {
     "data": {
      "text/html": [
       "<div>\n",
       "<table border=\"1\" class=\"dataframe\">\n",
       "  <thead>\n",
       "    <tr style=\"text-align: right;\">\n",
       "      <th></th>\n",
       "      <th>UserID</th>\n",
       "      <th>MovieID</th>\n",
       "      <th>Rating</th>\n",
       "    </tr>\n",
       "  </thead>\n",
       "  <tbody>\n",
       "    <tr>\n",
       "      <th>0</th>\n",
       "      <td>182</td>\n",
       "      <td>1</td>\n",
       "      <td>3.260075</td>\n",
       "    </tr>\n",
       "    <tr>\n",
       "      <th>1</th>\n",
       "      <td>670</td>\n",
       "      <td>1</td>\n",
       "      <td>3.177308</td>\n",
       "    </tr>\n",
       "    <tr>\n",
       "      <th>2</th>\n",
       "      <td>872</td>\n",
       "      <td>1</td>\n",
       "      <td>2.977831</td>\n",
       "    </tr>\n",
       "    <tr>\n",
       "      <th>3</th>\n",
       "      <td>967</td>\n",
       "      <td>1</td>\n",
       "      <td>3.484442</td>\n",
       "    </tr>\n",
       "    <tr>\n",
       "      <th>4</th>\n",
       "      <td>981</td>\n",
       "      <td>1</td>\n",
       "      <td>3.349462</td>\n",
       "    </tr>\n",
       "    <tr>\n",
       "      <th>5</th>\n",
       "      <td>1034</td>\n",
       "      <td>1</td>\n",
       "      <td>3.298134</td>\n",
       "    </tr>\n",
       "    <tr>\n",
       "      <th>6</th>\n",
       "      <td>1107</td>\n",
       "      <td>1</td>\n",
       "      <td>3.195127</td>\n",
       "    </tr>\n",
       "    <tr>\n",
       "      <th>7</th>\n",
       "      <td>1230</td>\n",
       "      <td>1</td>\n",
       "      <td>3.288920</td>\n",
       "    </tr>\n",
       "    <tr>\n",
       "      <th>8</th>\n",
       "      <td>1489</td>\n",
       "      <td>1</td>\n",
       "      <td>3.357065</td>\n",
       "    </tr>\n",
       "    <tr>\n",
       "      <th>9</th>\n",
       "      <td>2090</td>\n",
       "      <td>1</td>\n",
       "      <td>3.041825</td>\n",
       "    </tr>\n",
       "    <tr>\n",
       "      <th>10</th>\n",
       "      <td>2107</td>\n",
       "      <td>1</td>\n",
       "      <td>3.414084</td>\n",
       "    </tr>\n",
       "    <tr>\n",
       "      <th>11</th>\n",
       "      <td>2225</td>\n",
       "      <td>1</td>\n",
       "      <td>3.906126</td>\n",
       "    </tr>\n",
       "    <tr>\n",
       "      <th>12</th>\n",
       "      <td>2357</td>\n",
       "      <td>1</td>\n",
       "      <td>3.639506</td>\n",
       "    </tr>\n",
       "    <tr>\n",
       "      <th>13</th>\n",
       "      <td>2428</td>\n",
       "      <td>1</td>\n",
       "      <td>2.597996</td>\n",
       "    </tr>\n",
       "    <tr>\n",
       "      <th>14</th>\n",
       "      <td>2518</td>\n",
       "      <td>1</td>\n",
       "      <td>3.636480</td>\n",
       "    </tr>\n",
       "    <tr>\n",
       "      <th>15</th>\n",
       "      <td>3161</td>\n",
       "      <td>1</td>\n",
       "      <td>3.668589</td>\n",
       "    </tr>\n",
       "    <tr>\n",
       "      <th>16</th>\n",
       "      <td>3331</td>\n",
       "      <td>1</td>\n",
       "      <td>3.497082</td>\n",
       "    </tr>\n",
       "    <tr>\n",
       "      <th>17</th>\n",
       "      <td>3415</td>\n",
       "      <td>1</td>\n",
       "      <td>3.556500</td>\n",
       "    </tr>\n",
       "    <tr>\n",
       "      <th>18</th>\n",
       "      <td>4061</td>\n",
       "      <td>1</td>\n",
       "      <td>3.318388</td>\n",
       "    </tr>\n",
       "    <tr>\n",
       "      <th>19</th>\n",
       "      <td>4764</td>\n",
       "      <td>1</td>\n",
       "      <td>3.561201</td>\n",
       "    </tr>\n",
       "    <tr>\n",
       "      <th>20</th>\n",
       "      <td>4854</td>\n",
       "      <td>1</td>\n",
       "      <td>2.928520</td>\n",
       "    </tr>\n",
       "    <tr>\n",
       "      <th>21</th>\n",
       "      <td>5063</td>\n",
       "      <td>1</td>\n",
       "      <td>3.320232</td>\n",
       "    </tr>\n",
       "    <tr>\n",
       "      <th>22</th>\n",
       "      <td>5104</td>\n",
       "      <td>1</td>\n",
       "      <td>4.026980</td>\n",
       "    </tr>\n",
       "    <tr>\n",
       "      <th>23</th>\n",
       "      <td>5116</td>\n",
       "      <td>1</td>\n",
       "      <td>3.665445</td>\n",
       "    </tr>\n",
       "    <tr>\n",
       "      <th>24</th>\n",
       "      <td>5150</td>\n",
       "      <td>1</td>\n",
       "      <td>3.138376</td>\n",
       "    </tr>\n",
       "    <tr>\n",
       "      <th>25</th>\n",
       "      <td>5308</td>\n",
       "      <td>1</td>\n",
       "      <td>3.361450</td>\n",
       "    </tr>\n",
       "    <tr>\n",
       "      <th>26</th>\n",
       "      <td>5387</td>\n",
       "      <td>1</td>\n",
       "      <td>3.521374</td>\n",
       "    </tr>\n",
       "    <tr>\n",
       "      <th>27</th>\n",
       "      <td>5938</td>\n",
       "      <td>1</td>\n",
       "      <td>4.026916</td>\n",
       "    </tr>\n",
       "    <tr>\n",
       "      <th>28</th>\n",
       "      <td>6219</td>\n",
       "      <td>1</td>\n",
       "      <td>3.207233</td>\n",
       "    </tr>\n",
       "    <tr>\n",
       "      <th>29</th>\n",
       "      <td>6388</td>\n",
       "      <td>1</td>\n",
       "      <td>3.639460</td>\n",
       "    </tr>\n",
       "    <tr>\n",
       "      <th>...</th>\n",
       "      <td>...</td>\n",
       "      <td>...</td>\n",
       "      <td>...</td>\n",
       "    </tr>\n",
       "    <tr>\n",
       "      <th>176922</th>\n",
       "      <td>9022</td>\n",
       "      <td>1000</td>\n",
       "      <td>3.547784</td>\n",
       "    </tr>\n",
       "    <tr>\n",
       "      <th>176923</th>\n",
       "      <td>9062</td>\n",
       "      <td>1000</td>\n",
       "      <td>3.447310</td>\n",
       "    </tr>\n",
       "    <tr>\n",
       "      <th>176924</th>\n",
       "      <td>9067</td>\n",
       "      <td>1000</td>\n",
       "      <td>3.126287</td>\n",
       "    </tr>\n",
       "    <tr>\n",
       "      <th>176925</th>\n",
       "      <td>9095</td>\n",
       "      <td>1000</td>\n",
       "      <td>3.516694</td>\n",
       "    </tr>\n",
       "    <tr>\n",
       "      <th>176926</th>\n",
       "      <td>9164</td>\n",
       "      <td>1000</td>\n",
       "      <td>3.807059</td>\n",
       "    </tr>\n",
       "    <tr>\n",
       "      <th>176927</th>\n",
       "      <td>9195</td>\n",
       "      <td>1000</td>\n",
       "      <td>3.753125</td>\n",
       "    </tr>\n",
       "    <tr>\n",
       "      <th>176928</th>\n",
       "      <td>9202</td>\n",
       "      <td>1000</td>\n",
       "      <td>3.815664</td>\n",
       "    </tr>\n",
       "    <tr>\n",
       "      <th>176929</th>\n",
       "      <td>9273</td>\n",
       "      <td>1000</td>\n",
       "      <td>3.367169</td>\n",
       "    </tr>\n",
       "    <tr>\n",
       "      <th>176930</th>\n",
       "      <td>9297</td>\n",
       "      <td>1000</td>\n",
       "      <td>4.091277</td>\n",
       "    </tr>\n",
       "    <tr>\n",
       "      <th>176931</th>\n",
       "      <td>9381</td>\n",
       "      <td>1000</td>\n",
       "      <td>3.898486</td>\n",
       "    </tr>\n",
       "    <tr>\n",
       "      <th>176932</th>\n",
       "      <td>9395</td>\n",
       "      <td>1000</td>\n",
       "      <td>3.784958</td>\n",
       "    </tr>\n",
       "    <tr>\n",
       "      <th>176933</th>\n",
       "      <td>9433</td>\n",
       "      <td>1000</td>\n",
       "      <td>3.930984</td>\n",
       "    </tr>\n",
       "    <tr>\n",
       "      <th>176934</th>\n",
       "      <td>9471</td>\n",
       "      <td>1000</td>\n",
       "      <td>3.759637</td>\n",
       "    </tr>\n",
       "    <tr>\n",
       "      <th>176935</th>\n",
       "      <td>9517</td>\n",
       "      <td>1000</td>\n",
       "      <td>3.700528</td>\n",
       "    </tr>\n",
       "    <tr>\n",
       "      <th>176936</th>\n",
       "      <td>9520</td>\n",
       "      <td>1000</td>\n",
       "      <td>3.632162</td>\n",
       "    </tr>\n",
       "    <tr>\n",
       "      <th>176937</th>\n",
       "      <td>9547</td>\n",
       "      <td>1000</td>\n",
       "      <td>3.145152</td>\n",
       "    </tr>\n",
       "    <tr>\n",
       "      <th>176938</th>\n",
       "      <td>9584</td>\n",
       "      <td>1000</td>\n",
       "      <td>3.167910</td>\n",
       "    </tr>\n",
       "    <tr>\n",
       "      <th>176939</th>\n",
       "      <td>9591</td>\n",
       "      <td>1000</td>\n",
       "      <td>3.643570</td>\n",
       "    </tr>\n",
       "    <tr>\n",
       "      <th>176940</th>\n",
       "      <td>9605</td>\n",
       "      <td>1000</td>\n",
       "      <td>3.810493</td>\n",
       "    </tr>\n",
       "    <tr>\n",
       "      <th>176941</th>\n",
       "      <td>9646</td>\n",
       "      <td>1000</td>\n",
       "      <td>3.372871</td>\n",
       "    </tr>\n",
       "    <tr>\n",
       "      <th>176942</th>\n",
       "      <td>9659</td>\n",
       "      <td>1000</td>\n",
       "      <td>3.731533</td>\n",
       "    </tr>\n",
       "    <tr>\n",
       "      <th>176943</th>\n",
       "      <td>9669</td>\n",
       "      <td>1000</td>\n",
       "      <td>3.831765</td>\n",
       "    </tr>\n",
       "    <tr>\n",
       "      <th>176944</th>\n",
       "      <td>9700</td>\n",
       "      <td>1000</td>\n",
       "      <td>3.344379</td>\n",
       "    </tr>\n",
       "    <tr>\n",
       "      <th>176945</th>\n",
       "      <td>9701</td>\n",
       "      <td>1000</td>\n",
       "      <td>3.393438</td>\n",
       "    </tr>\n",
       "    <tr>\n",
       "      <th>176946</th>\n",
       "      <td>9703</td>\n",
       "      <td>1000</td>\n",
       "      <td>3.843665</td>\n",
       "    </tr>\n",
       "    <tr>\n",
       "      <th>176947</th>\n",
       "      <td>9737</td>\n",
       "      <td>1000</td>\n",
       "      <td>3.896222</td>\n",
       "    </tr>\n",
       "    <tr>\n",
       "      <th>176948</th>\n",
       "      <td>9751</td>\n",
       "      <td>1000</td>\n",
       "      <td>3.492278</td>\n",
       "    </tr>\n",
       "    <tr>\n",
       "      <th>176949</th>\n",
       "      <td>9867</td>\n",
       "      <td>1000</td>\n",
       "      <td>3.262361</td>\n",
       "    </tr>\n",
       "    <tr>\n",
       "      <th>176950</th>\n",
       "      <td>9874</td>\n",
       "      <td>1000</td>\n",
       "      <td>3.774603</td>\n",
       "    </tr>\n",
       "    <tr>\n",
       "      <th>176951</th>\n",
       "      <td>9890</td>\n",
       "      <td>1000</td>\n",
       "      <td>3.615172</td>\n",
       "    </tr>\n",
       "  </tbody>\n",
       "</table>\n",
       "<p>176952 rows × 3 columns</p>\n",
       "</div>"
      ],
      "text/plain": [
       "        UserID  MovieID    Rating\n",
       "0          182        1  3.260075\n",
       "1          670        1  3.177308\n",
       "2          872        1  2.977831\n",
       "3          967        1  3.484442\n",
       "4          981        1  3.349462\n",
       "5         1034        1  3.298134\n",
       "6         1107        1  3.195127\n",
       "7         1230        1  3.288920\n",
       "8         1489        1  3.357065\n",
       "9         2090        1  3.041825\n",
       "10        2107        1  3.414084\n",
       "11        2225        1  3.906126\n",
       "12        2357        1  3.639506\n",
       "13        2428        1  2.597996\n",
       "14        2518        1  3.636480\n",
       "15        3161        1  3.668589\n",
       "16        3331        1  3.497082\n",
       "17        3415        1  3.556500\n",
       "18        4061        1  3.318388\n",
       "19        4764        1  3.561201\n",
       "20        4854        1  2.928520\n",
       "21        5063        1  3.320232\n",
       "22        5104        1  4.026980\n",
       "23        5116        1  3.665445\n",
       "24        5150        1  3.138376\n",
       "25        5308        1  3.361450\n",
       "26        5387        1  3.521374\n",
       "27        5938        1  4.026916\n",
       "28        6219        1  3.207233\n",
       "29        6388        1  3.639460\n",
       "...        ...      ...       ...\n",
       "176922    9022     1000  3.547784\n",
       "176923    9062     1000  3.447310\n",
       "176924    9067     1000  3.126287\n",
       "176925    9095     1000  3.516694\n",
       "176926    9164     1000  3.807059\n",
       "176927    9195     1000  3.753125\n",
       "176928    9202     1000  3.815664\n",
       "176929    9273     1000  3.367169\n",
       "176930    9297     1000  4.091277\n",
       "176931    9381     1000  3.898486\n",
       "176932    9395     1000  3.784958\n",
       "176933    9433     1000  3.930984\n",
       "176934    9471     1000  3.759637\n",
       "176935    9517     1000  3.700528\n",
       "176936    9520     1000  3.632162\n",
       "176937    9547     1000  3.145152\n",
       "176938    9584     1000  3.167910\n",
       "176939    9591     1000  3.643570\n",
       "176940    9605     1000  3.810493\n",
       "176941    9646     1000  3.372871\n",
       "176942    9659     1000  3.731533\n",
       "176943    9669     1000  3.831765\n",
       "176944    9700     1000  3.344379\n",
       "176945    9701     1000  3.393438\n",
       "176946    9703     1000  3.843665\n",
       "176947    9737     1000  3.896222\n",
       "176948    9751     1000  3.492278\n",
       "176949    9867     1000  3.262361\n",
       "176950    9874     1000  3.774603\n",
       "176951    9890     1000  3.615172\n",
       "\n",
       "[176952 rows x 3 columns]"
      ]
     },
     "execution_count": 23,
     "metadata": {},
     "output_type": "execute_result"
    }
   ],
   "source": [
    "get_predictions_ALS(training,testing,sc,rank=8,lambda_=0.081, iterations=24, nonnegative=True)"
   ]
  }
 ],
 "metadata": {
  "anaconda-cloud": {},
  "kernelspec": {
   "display_name": "Python [Root]",
   "language": "python",
   "name": "Python [Root]"
  },
  "language_info": {
   "codemirror_mode": {
    "name": "ipython",
    "version": 3
   },
   "file_extension": ".py",
   "mimetype": "text/x-python",
   "name": "python",
   "nbconvert_exporter": "python",
   "pygments_lexer": "ipython3",
   "version": "3.5.2"
  }
 },
 "nbformat": 4,
 "nbformat_minor": 0
}
