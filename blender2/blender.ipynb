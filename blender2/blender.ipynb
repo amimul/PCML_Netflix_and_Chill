{
 "cells": [
  {
   "cell_type": "code",
   "execution_count": 3,
   "metadata": {
    "collapsed": false
   },
   "outputs": [],
   "source": [
    "import pandas as pd\n",
    "import numpy as np\n",
    "import os\n",
    "import matplotlib.pyplot as plt\n",
    "import itertools\n",
    "from pyspark.mllib.recommendation import ALS\n",
    "from pyspark.sql.functions import col\n",
    "import math\n",
    "import random\n",
    "import itertools\n",
    "import copy\n",
    "from joblib import Parallel, delayed\n",
    "import multiprocessing\n",
    "import pickle\n",
    "import scipy.optimize as sco\n",
    "\n",
    "from cross_validator import *\n",
    "from models.als import *\n",
    "from models.means import *\n",
    "from models.medians import *\n",
    "from models.helpers_scipy import *\n",
    "from models.MF_RR import *\n",
    "from models.MF_SGD import *\n",
    "from models.pyfm import *\n",
    "from models.surprise_models import *\n",
    "from helpers import *\n",
    "\n",
    "%matplotlib inline\n",
    "%reload_ext autoreload\n",
    "%autoreload 2\n",
    "\n",
    "pd.options.display.max_columns = 100\n",
    "sc.setCheckpointDir('./checkpoint/')"
   ]
  },
  {
   "cell_type": "code",
   "execution_count": 4,
   "metadata": {
    "collapsed": false,
    "scrolled": true
   },
   "outputs": [
    {
     "data": {
      "text/html": [
       "<div>\n",
       "<table border=\"1\" class=\"dataframe\">\n",
       "  <thead>\n",
       "    <tr style=\"text-align: right;\">\n",
       "      <th></th>\n",
       "      <th>User</th>\n",
       "      <th>Movie</th>\n",
       "      <th>Rating</th>\n",
       "    </tr>\n",
       "  </thead>\n",
       "  <tbody>\n",
       "    <tr>\n",
       "      <th>0</th>\n",
       "      <td>44</td>\n",
       "      <td>1</td>\n",
       "      <td>4</td>\n",
       "    </tr>\n",
       "    <tr>\n",
       "      <th>1</th>\n",
       "      <td>61</td>\n",
       "      <td>1</td>\n",
       "      <td>3</td>\n",
       "    </tr>\n",
       "    <tr>\n",
       "      <th>2</th>\n",
       "      <td>67</td>\n",
       "      <td>1</td>\n",
       "      <td>4</td>\n",
       "    </tr>\n",
       "    <tr>\n",
       "      <th>3</th>\n",
       "      <td>72</td>\n",
       "      <td>1</td>\n",
       "      <td>3</td>\n",
       "    </tr>\n",
       "    <tr>\n",
       "      <th>4</th>\n",
       "      <td>86</td>\n",
       "      <td>1</td>\n",
       "      <td>5</td>\n",
       "    </tr>\n",
       "  </tbody>\n",
       "</table>\n",
       "</div>"
      ],
      "text/plain": [
       "   User  Movie  Rating\n",
       "0    44      1       4\n",
       "1    61      1       3\n",
       "2    67      1       4\n",
       "3    72      1       3\n",
       "4    86      1       5"
      ]
     },
     "execution_count": 4,
     "metadata": {},
     "output_type": "execute_result"
    }
   ],
   "source": [
    "df = load_csv()\n",
    "df.head()"
   ]
  },
  {
   "cell_type": "code",
   "execution_count": 5,
   "metadata": {
    "collapsed": false
   },
   "outputs": [
    {
     "data": {
      "text/plain": [
       "30"
      ]
     },
     "execution_count": 5,
     "metadata": {},
     "output_type": "execute_result"
    }
   ],
   "source": [
    "models = {\n",
    "    'global_mean': {\n",
    "        'function': global_mean,\n",
    "        'params': {}    \n",
    "    },\n",
    "    'global_median': {\n",
    "        'function': global_median,\n",
    "        'params': {}    \n",
    "    },     \n",
    "    'user_mean': {\n",
    "        'function': user_mean,\n",
    "        'params': {}\n",
    "    },\n",
    "    'user_median': {\n",
    "        'function': user_median,\n",
    "        'params': {}\n",
    "    },    \n",
    "    'movie_mean': {\n",
    "        'function': movie_mean,\n",
    "        'params': {}\n",
    "    }, \n",
    "    'movie_mean_rescaled': {\n",
    "        'function': movie_mean_rescaled,\n",
    "        'params': {}\n",
    "    },  \n",
    "    'movie_median': {\n",
    "        'function': movie_median,\n",
    "        'params': {}\n",
    "    },    \n",
    "    'movie_median_rescaled': {\n",
    "        'function': movie_median_rescaled,\n",
    "        'params': {}\n",
    "    },\n",
    "    'movie_mean_deviation_user': {\n",
    "        'function': movie_mean_deviation_user,\n",
    "        'params': {}\n",
    "    },\n",
    "    'movie_mean_deviation_user_rescaled': {\n",
    "        'function': movie_mean_deviation_user_rescaled,\n",
    "        'params': {}\n",
    "    },    \n",
    "    'movie_median_deviation_user': {\n",
    "        'function': movie_median_deviation_user,\n",
    "        'params': {}\n",
    "    },\n",
    "    'movie_median_deviation_user_rescaled': {\n",
    "        'function': movie_median_deviation_user_rescaled,\n",
    "        'params': {}\n",
    "    },    \n",
    "    'als': {\n",
    "        'function': predictions_ALS,\n",
    "        'params': {\n",
    "            'spark_context': sc,\n",
    "            'rank': 8,\n",
    "            'lambda_': 0.081, \n",
    "            'iterations': 24, \n",
    "            'nonnegative': True\n",
    "        }\n",
    "    },\n",
    "    'als_rescaled': {\n",
    "        'function': predictions_ALS_rescaled,\n",
    "        'params': {\n",
    "            'spark_context': sc,\n",
    "            'rank': 8,\n",
    "            'lambda_': 0.081, \n",
    "            'iterations': 24, \n",
    "            'nonnegative': True\n",
    "        }\n",
    "    },    \n",
    "    'mf_rr': {\n",
    "        'function': mf_RR,\n",
    "        'params': {\n",
    "            'movie_features':20, \n",
    "            'alpha':19\n",
    "        }  \n",
    "    },\n",
    "    'mf_rr_rescaled': {\n",
    "        'function': mf_RR_rescaled,\n",
    "        'params': {\n",
    "            'movie_features':20, \n",
    "            'alpha':19\n",
    "        }  \n",
    "    },    \n",
    "    'mf_sgd': {\n",
    "        'function': mf_SGD,\n",
    "        'params': {\n",
    "            'gamma': 0.004,\n",
    "            'n_features': 20,\n",
    "            'n_iter': 20,\n",
    "            'init_method': 'global_mean'\n",
    "        }\n",
    "    },  \n",
    "    'mf_sgd_rescaled': {\n",
    "        'function': mf_SGD_rescaled,\n",
    "        'params': {\n",
    "            'gamma': 0.004,\n",
    "            'n_features': 20,\n",
    "            'n_iter': 20,\n",
    "            'init_method': 'global_mean'\n",
    "        }\n",
    "    },    \n",
    "    'pyfm': {\n",
    "        'function': pyfm,\n",
    "        'params': {\n",
    "            'num_factors': 20,\n",
    "            'num_iter': 200,\n",
    "            'init_lr': 0.001,\n",
    "        }\n",
    "    },\n",
    "    'pyfm_rescaled': {\n",
    "        'function': pyfm_rescaled,\n",
    "        'params': {\n",
    "            'num_factors': 20,\n",
    "            'num_iter': 200,\n",
    "            'init_lr': 0.001,\n",
    "        }\n",
    "    },\n",
    "    'knn_ib': {\n",
    "        'function': knn,\n",
    "        'params': {\n",
    "            'k': 60,\n",
    "            'sim_options': {\n",
    "                'name': 'pearson_baseline',\n",
    "                'user_based': False\n",
    "            }\n",
    "        }\n",
    "    },\n",
    "    'knn_ib_rescaled': {\n",
    "        'function': knn_rescaled,\n",
    "        'params': {\n",
    "            'k': 60,\n",
    "            'sim_options': {\n",
    "                'name': 'pearson_baseline',\n",
    "                'user_based': False\n",
    "            }\n",
    "        }\n",
    "    },\n",
    "    'knn_ub': {\n",
    "        'function': knn,\n",
    "        'params': {\n",
    "            'k': 300,\n",
    "            'sim_options': {\n",
    "                'name': 'pearson_baseline',\n",
    "                'user_based': True\n",
    "            }\n",
    "        }\n",
    "    },\n",
    "    'knn_ub_rescaled': {\n",
    "        'function': knn_rescaled,\n",
    "        'params': {\n",
    "            'k': 300,\n",
    "            'sim_options': {\n",
    "                'name': 'pearson_baseline',\n",
    "                'user_based': True\n",
    "            }\n",
    "        }\n",
    "    },    \n",
    "    'svd': {\n",
    "        'function': svd,\n",
    "        'params': {\n",
    "            'n_epochs': 30,\n",
    "            'lr_all': 0.001,\n",
    "            'reg_all': 0.001\n",
    "        }\n",
    "    },\n",
    "    'svd_rescaled': {\n",
    "        'function': svd_rescaled,\n",
    "        'params': {\n",
    "            'n_epochs': 30,\n",
    "            'lr_all': 0.001,\n",
    "            'reg_all': 0.001\n",
    "        }\n",
    "    },\n",
    "    'slope_one': {\n",
    "        'function': slope_one,\n",
    "        'params': {}\n",
    "    },\n",
    "    'slope_one_rescaled': {\n",
    "        'function': slope_one_rescaled,\n",
    "        'params': {}\n",
    "    },\n",
    "    'baseline': {\n",
    "        'function': baseline,\n",
    "        'params': {}\n",
    "    },\n",
    "    'baseline_rescaled': {\n",
    "        'function': baseline_rescaled,\n",
    "        'params': {}\n",
    "    }    \n",
    "}\n",
    "\n",
    "len(models)"
   ]
  },
  {
   "cell_type": "code",
   "execution_count": 6,
   "metadata": {
    "collapsed": true
   },
   "outputs": [],
   "source": [
    "def eval_(x, cv, models):\n",
    "    dict_try = {}\n",
    "    for idx, key in enumerate(models.keys()):\n",
    "        dict_try[key] = x[idx] \n",
    "        \n",
    "    return cv.evaluate_blending(dict_try)\n",
    "\n",
    "def test_blending(cv, best_dict):\n",
    "    cv.evaluation_all_models()\n",
    "        \n",
    "    print()\n",
    "    rmse = cv.evaluate_blending(best_dict)\n",
    "    print(\"Best blending: %s\"%best_dict)\n",
    "    print(\"RMSE best blending: %.5f\"%rmse)"
   ]
  },
  {
   "cell_type": "code",
   "execution_count": 7,
   "metadata": {
    "collapsed": false
   },
   "outputs": [],
   "source": [
    "cv = CrossValidator()\n",
    "#cv.shuffle_indices_and_store(df, 5)\n",
    "a = cv.load_indices()\n",
    "b = cv.define_ground_truth(df)"
   ]
  },
  {
   "cell_type": "code",
   "execution_count": null,
   "metadata": {
    "collapsed": false,
    "scrolled": false
   },
   "outputs": [
    {
     "name": "stdout",
     "output_type": "stream",
     "text": [
      "Predict and store for Model mf_rr (1/30)\n",
      "Predict and store for Model slope_one_rescaled (2/30)\n",
      "Predict and store for Model movie_mean_deviation_user (3/30)\n",
      "Predict and store for Model knn_ib (4/30)\n",
      "Predict and store for Model movie_median_deviation_user (5/30)\n",
      "Predict and store for Model movie_median_deviation_user_rescaled (6/30)\n",
      "Predict and store for Model mf_sgd_rescaled (7/30)\n",
      "Predict and store for Model movie_median_rescaled (8/30)\n",
      "Predict and store for Model movie_mean_rescaled (9/30)\n",
      "Predict and store for Model global_mean (10/30)\n",
      "Predict and store for Model mf_rr_rescaled (11/30)\n",
      "Predict and store for Model user_mean (12/30)\n",
      "Predict and store for Model knn_ib_rescaled (13/30)\n",
      "Predict and store for Model mf_sgd (14/30)\n",
      "Predict and store for Model als (15/30)\n",
      "Predict and store for Model baseline (17/30)\n",
      "Predict and store for Model movie_median (18/30)\n",
      "Predict and store for Model movie_mean (19/30)\n",
      "Predict and store for Model user_median (20/30)\n",
      "Predict and store for Model knn_ub (21/30)\n",
      "Estimating biases using als...\n"
     ]
    }
   ],
   "source": [
    "for idx, mdl in enumerate(models.keys()):\n",
    "    if \"pyfm\" not in mdl:\n",
    "        print(\"Predict and store for Model %s (%i/%i)\"%(mdl, idx+1, len(models.keys())))\n",
    "        cv.k_fold_predictions_and_store(df, models[mdl]['function'], mdl, override=False, **models[mdl]['params'])"
   ]
  },
  {
   "cell_type": "code",
   "execution_count": 19,
   "metadata": {
    "collapsed": false
   },
   "outputs": [],
   "source": [
    "model_names = list(models.keys())\n",
    "a = cv.load_predictions(model_names)"
   ]
  },
  {
   "cell_type": "code",
   "execution_count": 28,
   "metadata": {
    "collapsed": false
   },
   "outputs": [
    {
     "name": "stdout",
     "output_type": "stream",
     "text": [
      "Optimization terminated successfully.    (Exit mode 0)\n",
      "            Current function value: 0.980657618105\n",
      "            Iterations: 19\n",
      "            Function evaluations: 535\n",
      "            Gradient evaluations: 19\n"
     ]
    }
   ],
   "source": [
    "x0 = 1/len(models)*np.ones(len(models))\n",
    "bnds = ((0, None), (0, None), (0, None), (0, None), (0, None), (0, None), (0, None), (0, None), (0, None), (0, None), (0, None), (0, None), (0, None), (0, None), (0, None), (0, None), (0, None), (0, None), (0, None), (0, None), (0, None), (0, None), (0, None), (0, None), (0, None), (0, None))\n",
    "res = sco.minimize(eval_, x0, method='SLSQP', args=(cv, models), options={'maxiter':1000, 'disp':True})"
   ]
  },
  {
   "cell_type": "code",
   "execution_count": 25,
   "metadata": {
    "collapsed": false
   },
   "outputs": [
    {
     "data": {
      "text/plain": [
       "array([ 0.09875201,  1.88712089,  0.16996783,  0.91807928,  0.99628493,\n",
       "        0.04140426, -0.41886259, -0.8516105 , -1.94169478,  0.1488136 ,\n",
       "       -1.71508448,  0.14825008, -0.67447281,  0.40948983,  0.09875325,\n",
       "        0.14881726, -0.92986879,  0.03919194, -0.00226493,  0.03621587,\n",
       "        0.89441847,  0.0471551 ,  0.29754789, -0.09377009,  0.86223095,\n",
       "        0.3478734 ])"
      ]
     },
     "execution_count": 25,
     "metadata": {},
     "output_type": "execute_result"
    }
   ],
   "source": [
    "res.x"
   ]
  },
  {
   "cell_type": "code",
   "execution_count": 29,
   "metadata": {
    "collapsed": true
   },
   "outputs": [],
   "source": [
    "best_dict = {}\n",
    "for idx, key in enumerate(models.keys()):\n",
    "    best_dict[key] = res.x[idx]"
   ]
  },
  {
   "cell_type": "code",
   "execution_count": 30,
   "metadata": {
    "collapsed": false
   },
   "outputs": [
    {
     "name": "stdout",
     "output_type": "stream",
     "text": [
      "RMSE for  slope_one_rescaled  :  1.00032081157\n",
      "RMSE for  movie_mean_deviation_user  :  0.996612661275\n",
      "RMSE for  knn_ib  :  0.990312758998\n",
      "RMSE for  movie_median_deviation_user  :  1.0722079529\n",
      "RMSE for  movie_median_deviation_user_rescaled  :  1.06465213764\n",
      "RMSE for  collab_filt  :  1.02774839578\n",
      "RMSE for  slope_one  :  1.00010502221\n",
      "RMSE for  user_median  :  1.15146416557\n",
      "RMSE for  movie_mean_rescaled  :  1.00562209798\n",
      "RMSE for  mf_sgd_rescaled  :  0.999931853884\n",
      "RMSE for  user_mean  :  1.09516860129\n",
      "RMSE for  knn_ib_rescaled  :  0.99043827713\n",
      "RMSE for  mf_sgd  :  1.00080284886\n",
      "RMSE for  als  :  0.9887407042\n",
      "RMSE for  baseline_rescaled  :  1.00032081157\n",
      "RMSE for  baseline  :  1.00010502221\n",
      "RMSE for  movie_median  :  1.09968357705\n",
      "RMSE for  movie_mean  :  1.03043151776\n",
      "RMSE for  movie_median_rescaled  :  1.0226743167\n",
      "RMSE for  svd_rescaled  :  0.998400266617\n",
      "RMSE for  global_median  :  1.12811994776\n",
      "RMSE for  collab_filt_rescaled  :  1.02746150517\n",
      "RMSE for  svd  :  0.99835151007\n",
      "RMSE for  movie_mean_deviation_user_rescaled  :  1.04494088282\n",
      "RMSE for  global_mean  :  1.11905704579\n",
      "RMSE for  als_rescaled  :  0.989033893185\n",
      "\n",
      "Best blending: {'slope_one_rescaled': 3.1077604985614256e-18, 'movie_mean_deviation_user': 0.12991856785322003, 'knn_ib': 0.11121603645782936, 'movie_median_deviation_user': 0.0075594248114744435, 'movie_median_deviation_user_rescaled': 0.0, 'collab_filt': 0.0, 'slope_one': 0.0, 'user_median': 3.1218353276690183e-18, 'movie_mean_rescaled': 0.0, 'mf_sgd_rescaled': 7.1394249214165864e-18, 'user_mean': 5.1493538497336423e-18, 'knn_ib_rescaled': 0.091225701520170552, 'mf_sgd': 0.0, 'als': 0.351936945342332, 'baseline_rescaled': 2.7707578192591534e-18, 'baseline': 0.0, 'movie_median': 0.0, 'movie_mean': 0.0085269597964269823, 'movie_median_rescaled': 2.7481942692342765e-18, 'svd_rescaled': 3.0646680673524504e-18, 'global_median': 0.00017020986568746707, 'collab_filt_rescaled': 0.0, 'svd': 5.2458433781124542e-18, 'movie_mean_deviation_user_rescaled': 0.0, 'global_mean': 0.00011578973766799585, 'als_rescaled': 0.31533484251850114}\n",
      "RMSE best blending: 0.98066\n"
     ]
    }
   ],
   "source": [
    "test_blending(cv, best_dict)"
   ]
  },
  {
   "cell_type": "code",
   "execution_count": null,
   "metadata": {
    "collapsed": true
   },
   "outputs": [],
   "source": []
  }
 ],
 "metadata": {
  "anaconda-cloud": {},
  "kernelspec": {
   "display_name": "Python [conda root]",
   "language": "python",
   "name": "conda-root-py"
  },
  "language_info": {
   "codemirror_mode": {
    "name": "ipython",
    "version": 3
   },
   "file_extension": ".py",
   "mimetype": "text/x-python",
   "name": "python",
   "nbconvert_exporter": "python",
   "pygments_lexer": "ipython3",
   "version": "3.5.2"
  }
 },
 "nbformat": 4,
 "nbformat_minor": 1
}
