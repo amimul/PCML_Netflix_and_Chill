{
 "cells": [
  {
   "cell_type": "code",
   "execution_count": 2,
   "metadata": {
    "collapsed": false
   },
   "outputs": [
    {
     "data": {
      "text/plain": [
       "<pyspark.context.SparkContext at 0x10480e5f8>"
      ]
     },
     "execution_count": 2,
     "metadata": {},
     "output_type": "execute_result"
    }
   ],
   "source": [
    "sc"
   ]
  },
  {
   "cell_type": "code",
   "execution_count": 3,
   "metadata": {
    "collapsed": false
   },
   "outputs": [
    {
     "name": "stdout",
     "output_type": "stream",
     "text": [
      "The autoreload extension is already loaded. To reload it, use:\n",
      "  %reload_ext autoreload\n"
     ]
    }
   ],
   "source": [
    "import pandas as pd\n",
    "import numpy as np\n",
    "import os\n",
    "import matplotlib.pyplot as plt\n",
    "import itertools\n",
    "from pyspark.mllib.recommendation import ALS\n",
    "from pyspark.sql.functions import col\n",
    "import math\n",
    "import random\n",
    "import itertools\n",
    "\n",
    "from models.als import predictions_ALS\n",
    "from models.MF_SGD import matrix_factorization_SGD\n",
    "from models.means import *\n",
    "from models.medians import *\n",
    "from helpers import *\n",
    "from models.helpers_scipy import *\n",
    "from rescaler import *\n",
    "\n",
    "%matplotlib inline\n",
    "%load_ext autoreload\n",
    "%autoreload 2\n",
    "\n",
    "pd.options.display.max_columns = 100"
   ]
  },
  {
   "cell_type": "code",
   "execution_count": 4,
   "metadata": {
    "collapsed": false
   },
   "outputs": [
    {
     "data": {
      "text/html": [
       "<div>\n",
       "<table border=\"1\" class=\"dataframe\">\n",
       "  <thead>\n",
       "    <tr style=\"text-align: right;\">\n",
       "      <th></th>\n",
       "      <th>User</th>\n",
       "      <th>Movie</th>\n",
       "      <th>Rating</th>\n",
       "    </tr>\n",
       "  </thead>\n",
       "  <tbody>\n",
       "    <tr>\n",
       "      <th>0</th>\n",
       "      <td>44</td>\n",
       "      <td>1</td>\n",
       "      <td>4</td>\n",
       "    </tr>\n",
       "    <tr>\n",
       "      <th>1</th>\n",
       "      <td>61</td>\n",
       "      <td>1</td>\n",
       "      <td>3</td>\n",
       "    </tr>\n",
       "    <tr>\n",
       "      <th>2</th>\n",
       "      <td>67</td>\n",
       "      <td>1</td>\n",
       "      <td>4</td>\n",
       "    </tr>\n",
       "    <tr>\n",
       "      <th>3</th>\n",
       "      <td>72</td>\n",
       "      <td>1</td>\n",
       "      <td>3</td>\n",
       "    </tr>\n",
       "    <tr>\n",
       "      <th>4</th>\n",
       "      <td>86</td>\n",
       "      <td>1</td>\n",
       "      <td>5</td>\n",
       "    </tr>\n",
       "  </tbody>\n",
       "</table>\n",
       "</div>"
      ],
      "text/plain": [
       "   User  Movie  Rating\n",
       "0    44      1       4\n",
       "1    61      1       3\n",
       "2    67      1       4\n",
       "3    72      1       3\n",
       "4    86      1       5"
      ]
     },
     "execution_count": 4,
     "metadata": {},
     "output_type": "execute_result"
    }
   ],
   "source": [
    "df = load_csv()\n",
    "df.head()"
   ]
  },
  {
   "cell_type": "code",
   "execution_count": 5,
   "metadata": {
    "collapsed": false
   },
   "outputs": [
    {
     "data": {
      "text/plain": [
       "1176952"
      ]
     },
     "execution_count": 5,
     "metadata": {},
     "output_type": "execute_result"
    }
   ],
   "source": [
    "df.shape[0]"
   ]
  },
  {
   "cell_type": "code",
   "execution_count": 6,
   "metadata": {
    "collapsed": true
   },
   "outputs": [],
   "source": [
    "np.random.seed(42)"
   ]
  },
  {
   "cell_type": "code",
   "execution_count": 7,
   "metadata": {
    "collapsed": false
   },
   "outputs": [
    {
     "data": {
      "text/plain": [
       "[1, 2]"
      ]
     },
     "execution_count": 7,
     "metadata": {},
     "output_type": "execute_result"
    }
   ],
   "source": [
    "l = [1, 2, 3, 4, 5, 6, 7]\n",
    "l[0:2]"
   ]
  },
  {
   "cell_type": "code",
   "execution_count": 31,
   "metadata": {
    "collapsed": false
   },
   "outputs": [
    {
     "name": "stdout",
     "output_type": "stream",
     "text": [
      "global_mean\n"
     ]
    }
   ],
   "source": [
    "from cross_validator import *\n",
    "cv2 = CrossValidator()\n",
    "%reload_ext autoreload\n",
    "%autoreload 2\n",
    "\n",
    "\n",
    "\n",
    "a = cv2.shuffle_indices(df, 3)\n",
    "\n",
    "b = cv2.cross_validate(df, global_mean, 'global_mean')"
   ]
  },
  {
   "cell_type": "code",
   "execution_count": 32,
   "metadata": {
    "collapsed": false
   },
   "outputs": [
    {
     "data": {
      "text/plain": [
       "1.1180021257962498"
      ]
     },
     "execution_count": 32,
     "metadata": {},
     "output_type": "execute_result"
    }
   ],
   "source": [
    "cv2.evaluate_model('global_mean', df)"
   ]
  },
  {
   "cell_type": "code",
   "execution_count": 33,
   "metadata": {
    "collapsed": false
   },
   "outputs": [
    {
     "name": "stdout",
     "output_type": "stream",
     "text": [
      "['global_mean']\n"
     ]
    }
   ],
   "source": [
    "cv2.print_models()"
   ]
  },
  {
   "cell_type": "code",
   "execution_count": 80,
   "metadata": {
    "collapsed": false
   },
   "outputs": [],
   "source": [
    "pred_dict = cv2.load_model(['global_mean'])"
   ]
  },
  {
   "cell_type": "code",
   "execution_count": 85,
   "metadata": {
    "collapsed": false
   },
   "outputs": [
    {
     "data": {
      "text/html": [
       "<div>\n",
       "<table border=\"1\" class=\"dataframe\">\n",
       "  <thead>\n",
       "    <tr style=\"text-align: right;\">\n",
       "      <th></th>\n",
       "      <th>User</th>\n",
       "      <th>Movie</th>\n",
       "      <th>Rating</th>\n",
       "    </tr>\n",
       "  </thead>\n",
       "  <tbody>\n",
       "    <tr>\n",
       "      <th>0</th>\n",
       "      <td>44</td>\n",
       "      <td>1</td>\n",
       "      <td>3.85677</td>\n",
       "    </tr>\n",
       "    <tr>\n",
       "      <th>1</th>\n",
       "      <td>67</td>\n",
       "      <td>1</td>\n",
       "      <td>3.85677</td>\n",
       "    </tr>\n",
       "    <tr>\n",
       "      <th>2</th>\n",
       "      <td>72</td>\n",
       "      <td>1</td>\n",
       "      <td>3.85677</td>\n",
       "    </tr>\n",
       "    <tr>\n",
       "      <th>3</th>\n",
       "      <td>90</td>\n",
       "      <td>1</td>\n",
       "      <td>3.85677</td>\n",
       "    </tr>\n",
       "    <tr>\n",
       "      <th>4</th>\n",
       "      <td>108</td>\n",
       "      <td>1</td>\n",
       "      <td>3.85677</td>\n",
       "    </tr>\n",
       "    <tr>\n",
       "      <th>5</th>\n",
       "      <td>114</td>\n",
       "      <td>1</td>\n",
       "      <td>3.85677</td>\n",
       "    </tr>\n",
       "    <tr>\n",
       "      <th>6</th>\n",
       "      <td>135</td>\n",
       "      <td>1</td>\n",
       "      <td>3.85677</td>\n",
       "    </tr>\n",
       "    <tr>\n",
       "      <th>7</th>\n",
       "      <td>152</td>\n",
       "      <td>1</td>\n",
       "      <td>3.85677</td>\n",
       "    </tr>\n",
       "    <tr>\n",
       "      <th>8</th>\n",
       "      <td>165</td>\n",
       "      <td>1</td>\n",
       "      <td>3.85677</td>\n",
       "    </tr>\n",
       "    <tr>\n",
       "      <th>9</th>\n",
       "      <td>182</td>\n",
       "      <td>1</td>\n",
       "      <td>3.85677</td>\n",
       "    </tr>\n",
       "    <tr>\n",
       "      <th>10</th>\n",
       "      <td>310</td>\n",
       "      <td>1</td>\n",
       "      <td>3.85677</td>\n",
       "    </tr>\n",
       "    <tr>\n",
       "      <th>11</th>\n",
       "      <td>318</td>\n",
       "      <td>1</td>\n",
       "      <td>3.85677</td>\n",
       "    </tr>\n",
       "    <tr>\n",
       "      <th>12</th>\n",
       "      <td>390</td>\n",
       "      <td>1</td>\n",
       "      <td>3.85677</td>\n",
       "    </tr>\n",
       "    <tr>\n",
       "      <th>13</th>\n",
       "      <td>401</td>\n",
       "      <td>1</td>\n",
       "      <td>3.85677</td>\n",
       "    </tr>\n",
       "    <tr>\n",
       "      <th>14</th>\n",
       "      <td>418</td>\n",
       "      <td>1</td>\n",
       "      <td>3.85677</td>\n",
       "    </tr>\n",
       "    <tr>\n",
       "      <th>15</th>\n",
       "      <td>516</td>\n",
       "      <td>1</td>\n",
       "      <td>3.85677</td>\n",
       "    </tr>\n",
       "    <tr>\n",
       "      <th>16</th>\n",
       "      <td>595</td>\n",
       "      <td>1</td>\n",
       "      <td>3.85677</td>\n",
       "    </tr>\n",
       "    <tr>\n",
       "      <th>17</th>\n",
       "      <td>708</td>\n",
       "      <td>1</td>\n",
       "      <td>3.85677</td>\n",
       "    </tr>\n",
       "    <tr>\n",
       "      <th>18</th>\n",
       "      <td>720</td>\n",
       "      <td>1</td>\n",
       "      <td>3.85677</td>\n",
       "    </tr>\n",
       "    <tr>\n",
       "      <th>19</th>\n",
       "      <td>743</td>\n",
       "      <td>1</td>\n",
       "      <td>3.85677</td>\n",
       "    </tr>\n",
       "    <tr>\n",
       "      <th>20</th>\n",
       "      <td>777</td>\n",
       "      <td>1</td>\n",
       "      <td>3.85677</td>\n",
       "    </tr>\n",
       "    <tr>\n",
       "      <th>21</th>\n",
       "      <td>861</td>\n",
       "      <td>1</td>\n",
       "      <td>3.85677</td>\n",
       "    </tr>\n",
       "    <tr>\n",
       "      <th>22</th>\n",
       "      <td>872</td>\n",
       "      <td>1</td>\n",
       "      <td>3.85677</td>\n",
       "    </tr>\n",
       "    <tr>\n",
       "      <th>23</th>\n",
       "      <td>930</td>\n",
       "      <td>1</td>\n",
       "      <td>3.85677</td>\n",
       "    </tr>\n",
       "    <tr>\n",
       "      <th>24</th>\n",
       "      <td>981</td>\n",
       "      <td>1</td>\n",
       "      <td>3.85677</td>\n",
       "    </tr>\n",
       "    <tr>\n",
       "      <th>25</th>\n",
       "      <td>1034</td>\n",
       "      <td>1</td>\n",
       "      <td>3.85677</td>\n",
       "    </tr>\n",
       "    <tr>\n",
       "      <th>26</th>\n",
       "      <td>1220</td>\n",
       "      <td>1</td>\n",
       "      <td>3.85677</td>\n",
       "    </tr>\n",
       "    <tr>\n",
       "      <th>27</th>\n",
       "      <td>1230</td>\n",
       "      <td>1</td>\n",
       "      <td>3.85677</td>\n",
       "    </tr>\n",
       "    <tr>\n",
       "      <th>28</th>\n",
       "      <td>1254</td>\n",
       "      <td>1</td>\n",
       "      <td>3.85677</td>\n",
       "    </tr>\n",
       "    <tr>\n",
       "      <th>29</th>\n",
       "      <td>1407</td>\n",
       "      <td>1</td>\n",
       "      <td>3.85677</td>\n",
       "    </tr>\n",
       "    <tr>\n",
       "      <th>...</th>\n",
       "      <td>...</td>\n",
       "      <td>...</td>\n",
       "      <td>...</td>\n",
       "    </tr>\n",
       "    <tr>\n",
       "      <th>784604</th>\n",
       "      <td>9749</td>\n",
       "      <td>1000</td>\n",
       "      <td>3.85677</td>\n",
       "    </tr>\n",
       "    <tr>\n",
       "      <th>784605</th>\n",
       "      <td>9751</td>\n",
       "      <td>1000</td>\n",
       "      <td>3.85677</td>\n",
       "    </tr>\n",
       "    <tr>\n",
       "      <th>784606</th>\n",
       "      <td>9756</td>\n",
       "      <td>1000</td>\n",
       "      <td>3.85677</td>\n",
       "    </tr>\n",
       "    <tr>\n",
       "      <th>784607</th>\n",
       "      <td>9777</td>\n",
       "      <td>1000</td>\n",
       "      <td>3.85677</td>\n",
       "    </tr>\n",
       "    <tr>\n",
       "      <th>784608</th>\n",
       "      <td>9779</td>\n",
       "      <td>1000</td>\n",
       "      <td>3.85677</td>\n",
       "    </tr>\n",
       "    <tr>\n",
       "      <th>784609</th>\n",
       "      <td>9840</td>\n",
       "      <td>1000</td>\n",
       "      <td>3.85677</td>\n",
       "    </tr>\n",
       "    <tr>\n",
       "      <th>784610</th>\n",
       "      <td>9841</td>\n",
       "      <td>1000</td>\n",
       "      <td>3.85677</td>\n",
       "    </tr>\n",
       "    <tr>\n",
       "      <th>784611</th>\n",
       "      <td>9846</td>\n",
       "      <td>1000</td>\n",
       "      <td>3.85677</td>\n",
       "    </tr>\n",
       "    <tr>\n",
       "      <th>784612</th>\n",
       "      <td>9867</td>\n",
       "      <td>1000</td>\n",
       "      <td>3.85677</td>\n",
       "    </tr>\n",
       "    <tr>\n",
       "      <th>784613</th>\n",
       "      <td>9874</td>\n",
       "      <td>1000</td>\n",
       "      <td>3.85677</td>\n",
       "    </tr>\n",
       "    <tr>\n",
       "      <th>784614</th>\n",
       "      <td>9875</td>\n",
       "      <td>1000</td>\n",
       "      <td>3.85677</td>\n",
       "    </tr>\n",
       "    <tr>\n",
       "      <th>784615</th>\n",
       "      <td>9884</td>\n",
       "      <td>1000</td>\n",
       "      <td>3.85677</td>\n",
       "    </tr>\n",
       "    <tr>\n",
       "      <th>784616</th>\n",
       "      <td>9890</td>\n",
       "      <td>1000</td>\n",
       "      <td>3.85677</td>\n",
       "    </tr>\n",
       "    <tr>\n",
       "      <th>784617</th>\n",
       "      <td>9904</td>\n",
       "      <td>1000</td>\n",
       "      <td>3.85677</td>\n",
       "    </tr>\n",
       "    <tr>\n",
       "      <th>784618</th>\n",
       "      <td>9913</td>\n",
       "      <td>1000</td>\n",
       "      <td>3.85677</td>\n",
       "    </tr>\n",
       "    <tr>\n",
       "      <th>784619</th>\n",
       "      <td>9922</td>\n",
       "      <td>1000</td>\n",
       "      <td>3.85677</td>\n",
       "    </tr>\n",
       "    <tr>\n",
       "      <th>784620</th>\n",
       "      <td>9925</td>\n",
       "      <td>1000</td>\n",
       "      <td>3.85677</td>\n",
       "    </tr>\n",
       "    <tr>\n",
       "      <th>784621</th>\n",
       "      <td>9944</td>\n",
       "      <td>1000</td>\n",
       "      <td>3.85677</td>\n",
       "    </tr>\n",
       "    <tr>\n",
       "      <th>784622</th>\n",
       "      <td>9945</td>\n",
       "      <td>1000</td>\n",
       "      <td>3.85677</td>\n",
       "    </tr>\n",
       "    <tr>\n",
       "      <th>784623</th>\n",
       "      <td>9949</td>\n",
       "      <td>1000</td>\n",
       "      <td>3.85677</td>\n",
       "    </tr>\n",
       "    <tr>\n",
       "      <th>784624</th>\n",
       "      <td>9957</td>\n",
       "      <td>1000</td>\n",
       "      <td>3.85677</td>\n",
       "    </tr>\n",
       "    <tr>\n",
       "      <th>784625</th>\n",
       "      <td>9958</td>\n",
       "      <td>1000</td>\n",
       "      <td>3.85677</td>\n",
       "    </tr>\n",
       "    <tr>\n",
       "      <th>784626</th>\n",
       "      <td>9960</td>\n",
       "      <td>1000</td>\n",
       "      <td>3.85677</td>\n",
       "    </tr>\n",
       "    <tr>\n",
       "      <th>784627</th>\n",
       "      <td>9964</td>\n",
       "      <td>1000</td>\n",
       "      <td>3.85677</td>\n",
       "    </tr>\n",
       "    <tr>\n",
       "      <th>784628</th>\n",
       "      <td>9970</td>\n",
       "      <td>1000</td>\n",
       "      <td>3.85677</td>\n",
       "    </tr>\n",
       "    <tr>\n",
       "      <th>784629</th>\n",
       "      <td>9976</td>\n",
       "      <td>1000</td>\n",
       "      <td>3.85677</td>\n",
       "    </tr>\n",
       "    <tr>\n",
       "      <th>784630</th>\n",
       "      <td>9992</td>\n",
       "      <td>1000</td>\n",
       "      <td>3.85677</td>\n",
       "    </tr>\n",
       "    <tr>\n",
       "      <th>784631</th>\n",
       "      <td>9994</td>\n",
       "      <td>1000</td>\n",
       "      <td>3.85677</td>\n",
       "    </tr>\n",
       "    <tr>\n",
       "      <th>784632</th>\n",
       "      <td>9997</td>\n",
       "      <td>1000</td>\n",
       "      <td>3.85677</td>\n",
       "    </tr>\n",
       "    <tr>\n",
       "      <th>784633</th>\n",
       "      <td>10000</td>\n",
       "      <td>1000</td>\n",
       "      <td>3.85677</td>\n",
       "    </tr>\n",
       "  </tbody>\n",
       "</table>\n",
       "<p>784634 rows × 3 columns</p>\n",
       "</div>"
      ],
      "text/plain": [
       "         User  Movie   Rating\n",
       "0          44      1  3.85677\n",
       "1          67      1  3.85677\n",
       "2          72      1  3.85677\n",
       "3          90      1  3.85677\n",
       "4         108      1  3.85677\n",
       "5         114      1  3.85677\n",
       "6         135      1  3.85677\n",
       "7         152      1  3.85677\n",
       "8         165      1  3.85677\n",
       "9         182      1  3.85677\n",
       "10        310      1  3.85677\n",
       "11        318      1  3.85677\n",
       "12        390      1  3.85677\n",
       "13        401      1  3.85677\n",
       "14        418      1  3.85677\n",
       "15        516      1  3.85677\n",
       "16        595      1  3.85677\n",
       "17        708      1  3.85677\n",
       "18        720      1  3.85677\n",
       "19        743      1  3.85677\n",
       "20        777      1  3.85677\n",
       "21        861      1  3.85677\n",
       "22        872      1  3.85677\n",
       "23        930      1  3.85677\n",
       "24        981      1  3.85677\n",
       "25       1034      1  3.85677\n",
       "26       1220      1  3.85677\n",
       "27       1230      1  3.85677\n",
       "28       1254      1  3.85677\n",
       "29       1407      1  3.85677\n",
       "...       ...    ...      ...\n",
       "784604   9749   1000  3.85677\n",
       "784605   9751   1000  3.85677\n",
       "784606   9756   1000  3.85677\n",
       "784607   9777   1000  3.85677\n",
       "784608   9779   1000  3.85677\n",
       "784609   9840   1000  3.85677\n",
       "784610   9841   1000  3.85677\n",
       "784611   9846   1000  3.85677\n",
       "784612   9867   1000  3.85677\n",
       "784613   9874   1000  3.85677\n",
       "784614   9875   1000  3.85677\n",
       "784615   9884   1000  3.85677\n",
       "784616   9890   1000  3.85677\n",
       "784617   9904   1000  3.85677\n",
       "784618   9913   1000  3.85677\n",
       "784619   9922   1000  3.85677\n",
       "784620   9925   1000  3.85677\n",
       "784621   9944   1000  3.85677\n",
       "784622   9945   1000  3.85677\n",
       "784623   9949   1000  3.85677\n",
       "784624   9957   1000  3.85677\n",
       "784625   9958   1000  3.85677\n",
       "784626   9960   1000  3.85677\n",
       "784627   9964   1000  3.85677\n",
       "784628   9970   1000  3.85677\n",
       "784629   9976   1000  3.85677\n",
       "784630   9992   1000  3.85677\n",
       "784631   9994   1000  3.85677\n",
       "784632   9997   1000  3.85677\n",
       "784633  10000   1000  3.85677\n",
       "\n",
       "[784634 rows x 3 columns]"
      ]
     },
     "execution_count": 85,
     "metadata": {},
     "output_type": "execute_result"
    }
   ],
   "source": [
    "pred_dict['global_mean'][2]"
   ]
  },
  {
   "cell_type": "code",
   "execution_count": null,
   "metadata": {
    "collapsed": true
   },
   "outputs": [],
   "source": [
    ""
   ]
  },
  {
   "cell_type": "code",
   "execution_count": 58,
   "metadata": {
    "collapsed": false
   },
   "outputs": [],
   "source": [
    "cv2.store_indices()"
   ]
  },
  {
   "cell_type": "code",
   "execution_count": 44,
   "metadata": {
    "collapsed": false
   },
   "outputs": [
    {
     "name": "stderr",
     "output_type": "stream",
     "text": [
      "/Users/joachimmuth/anaconda3/lib/python3.5/site-packages/pandas/types/dtypes.py:127: FutureWarning: elementwise comparison failed; returning scalar instead, but in the future will perform elementwise comparison\n",
      "  if string == 'category':\n"
     ]
    },
    {
     "name": "stdout",
     "output_type": "stream",
     "text": [
      "global_mean\n"
     ]
    }
   ],
   "source": [
    "b = cv2.cross_validate_and_store(df, global_mean, 'global_mean')"
   ]
  },
  {
   "cell_type": "code",
   "execution_count": 63,
   "metadata": {
    "collapsed": false
   },
   "outputs": [],
   "source": [
    "dic = cv2.load_indices()"
   ]
  },
  {
   "cell_type": "code",
   "execution_count": 72,
   "metadata": {
    "collapsed": false
   },
   "outputs": [
    {
     "data": {
      "text/plain": [
       "392317"
      ]
     },
     "execution_count": 72,
     "metadata": {},
     "output_type": "execute_result"
    }
   ],
   "source": [
    "len(dic[1]['test'])"
   ]
  },
  {
   "cell_type": "code",
   "execution_count": null,
   "metadata": {
    "collapsed": true
   },
   "outputs": [],
   "source": [
    ""
   ]
  },
  {
   "cell_type": "code",
   "execution_count": 50,
   "metadata": {
    "collapsed": false
   },
   "outputs": [
    {
     "ename": "TypeError",
     "evalue": "'NoneType' object is not subscriptable",
     "traceback": [
      "\u001b[0;31m---------------------------------------------------------------------------\u001b[0m",
      "\u001b[0;31mTypeError\u001b[0m                                 Traceback (most recent call last)",
      "\u001b[0;32m<ipython-input-50-82ff9263ab14>\u001b[0m in \u001b[0;36m<module>\u001b[0;34m()\u001b[0m\n\u001b[0;32m----> 1\u001b[0;31m \u001b[0mb\u001b[0m\u001b[0;34m[\u001b[0m\u001b[0;36m2\u001b[0m\u001b[0;34m]\u001b[0m\u001b[0;34m.\u001b[0m\u001b[0mto_csv\u001b[0m\u001b[0;34m(\u001b[0m\u001b[0;34m'coucou.csv'\u001b[0m\u001b[0;34m)\u001b[0m\u001b[0;34m\u001b[0m\u001b[0m\n\u001b[0m",
      "\u001b[0;31mTypeError\u001b[0m: 'NoneType' object is not subscriptable"
     ],
     "output_type": "error"
    }
   ],
   "source": [
    "b[2].to_csv('coucou.csv')"
   ]
  },
  {
   "cell_type": "code",
   "execution_count": null,
   "metadata": {
    "collapsed": true
   },
   "outputs": [],
   "source": [
    ""
   ]
  },
  {
   "cell_type": "code",
   "execution_count": null,
   "metadata": {
    "collapsed": false
   },
   "outputs": [],
   "source": [
    "len(a[3]['train'])"
   ]
  },
  {
   "cell_type": "code",
   "execution_count": null,
   "metadata": {
    "collapsed": false
   },
   "outputs": [],
   "source": [
    "len(a[1]['test'])"
   ]
  },
  {
   "cell_type": "code",
   "execution_count": null,
   "metadata": {
    "collapsed": false
   },
   "outputs": [],
   "source": [
    "len(a[0]['test']) + len(a[0]['train'])"
   ]
  },
  {
   "cell_type": "code",
   "execution_count": null,
   "metadata": {
    "collapsed": false
   },
   "outputs": [],
   "source": [
    "len(a)"
   ]
  },
  {
   "cell_type": "code",
   "execution_count": null,
   "metadata": {
    "collapsed": false
   },
   "outputs": [],
   "source": [
    "cv.shuffle_indices(df, 3)"
   ]
  },
  {
   "cell_type": "code",
   "execution_count": null,
   "metadata": {
    "collapsed": true
   },
   "outputs": [],
   "source": [
    "cv."
   ]
  },
  {
   "cell_type": "code",
   "execution_count": null,
   "metadata": {
    "collapsed": true
   },
   "outputs": [],
   "source": [
    ""
   ]
  },
  {
   "cell_type": "code",
   "execution_count": null,
   "metadata": {
    "collapsed": false
   },
   "outputs": [],
   "source": [
    "rescaler = Rescaler(df)\n",
    "new_df = rescaler.normalize()"
   ]
  },
  {
   "cell_type": "code",
   "execution_count": null,
   "metadata": {
    "collapsed": false
   },
   "outputs": [],
   "source": [
    "new_df.head(5)"
   ]
  },
  {
   "cell_type": "code",
   "execution_count": null,
   "metadata": {
    "collapsed": false
   },
   "outputs": [],
   "source": [
    "train, test = split(df, 0.1)\n",
    "train_norm, test_norm = split(new_df, 0.1)"
   ]
  },
  {
   "cell_type": "code",
   "execution_count": null,
   "metadata": {
    "collapsed": false
   },
   "outputs": [],
   "source": [
    "MF_SGD = matrix_factorization_SGD(train, test,n_iter=3)\n",
    "print(\"MF_SGD: \", evaluate(MF_SGD, test))\n",
    "user_m = user_mean(train, test)\n",
    "print(\"user mean: \", evaluate(user_m, test))\n",
    "movie_m = movie_mean(train, test)\n",
    "print(\"movie_mean: \", evaluate(movie_m, test))"
   ]
  },
  {
   "cell_type": "code",
   "execution_count": null,
   "metadata": {
    "collapsed": false
   },
   "outputs": [],
   "source": [
    "blend = blender([MF_SGD, user_m, movie_m], [0.8, 0., 0.2])\n",
    "print(\"blend: \", evaluate(blend, test))\n",
    "blend.head()"
   ]
  },
  {
   "cell_type": "markdown",
   "metadata": {},
   "source": [
    "## And now: rescaled"
   ]
  },
  {
   "cell_type": "code",
   "execution_count": null,
   "metadata": {
    "collapsed": false
   },
   "outputs": [],
   "source": [
    "MF_SGD_norm = rescaler.recover(matrix_factorization_SGD(train_norm, test,n_iter=3))\n",
    "print(\"MF_SGD: \", evaluate(MF_SGD_norm, test))\n",
    "user_m_norm = rescaler.recover(user_mean(train_norm, test))\n",
    "print(\"user mean: \", evaluate(user_m_norm, test))\n",
    "movie_m_norm = rescaler.recover(movie_mean(train_norm, test))\n",
    "print(\"movie_mean: \", evaluate(movie_m_norm, test))"
   ]
  },
  {
   "cell_type": "code",
   "execution_count": null,
   "metadata": {
    "collapsed": false
   },
   "outputs": [],
   "source": [
    "blend_norm = blender([MF_SGD_norm, user_m_norm, movie_m_norm], [0.8, 0., 0.2])\n",
    "print(\"blend: \", evaluate(blend_norm, test))\n",
    "blend.head()"
   ]
  },
  {
   "cell_type": "markdown",
   "metadata": {},
   "source": [
    "## Normalize only mean"
   ]
  },
  {
   "cell_type": "code",
   "execution_count": null,
   "metadata": {
    "collapsed": false
   },
   "outputs": [],
   "source": [
    "from rescaler import *\n",
    "rescaler2 = Rescaler(df)\n",
    "mean_df = rescaler2.normalize_only_mean()\n",
    "train_norm_mean, test_norm_mean = split(mean_df, 0.1)"
   ]
  },
  {
   "cell_type": "code",
   "execution_count": null,
   "metadata": {
    "collapsed": false
   },
   "outputs": [],
   "source": [
    "MF_SGD_norm_mean.head(5)"
   ]
  },
  {
   "cell_type": "code",
   "execution_count": null,
   "metadata": {
    "collapsed": false
   },
   "outputs": [],
   "source": [
    "user_m_norm_mean = rescaler2.recover_only_mean(user_mean(train_norm_mean, test))\n",
    "print(\"user mean: \", evaluate(user_m_norm_mean, test))\n",
    "movie_m_norm_mean = rescaler2.recover_only_mean(movie_mean(train_norm_mean, test))\n",
    "print(\"movie_mean: \", evaluate(movie_m_norm_mean, test))\n",
    "MF_SGD_norm_mean = rescaler2.recover_only_mean(matrix_factorization_SGD(train_norm_mean, test,n_iter=3))\n",
    "print(\"MF_SGD: \", evaluate(MF_SGD_norm_mean, test))"
   ]
  },
  {
   "cell_type": "markdown",
   "metadata": {},
   "source": [
    "## deviation"
   ]
  },
  {
   "cell_type": "code",
   "execution_count": null,
   "metadata": {
    "collapsed": true
   },
   "outputs": [],
   "source": [
    "from rescaler import *\n",
    "rescaler = Rescaler(df)\n",
    "dev_df = rescaler.normalize_deviation()\n",
    "train_dev, test_dev = split(dev_df, 0.1)"
   ]
  },
  {
   "cell_type": "code",
   "execution_count": null,
   "metadata": {
    "collapsed": false
   },
   "outputs": [],
   "source": [
    "user_m_dev = rescaler.recover_deviation(user_mean(train_dev, test))\n",
    "print(\"user mean: \", evaluate(user_m_dev, test))\n",
    "movie_m_dev = rescaler.recover_deviation(movie_mean(train_dev, test))\n",
    "print(\"movie_mean: \", evaluate(movie_m_dev, test))\n",
    "MF_SGD_dev = rescaler.recover_deviation(matrix_factorization_SGD(train_dev, test,n_iter=3))\n",
    "print(\"MF_SGD: \", evaluate(MF_SGD_dev, test))"
   ]
  },
  {
   "cell_type": "code",
   "execution_count": null,
   "metadata": {
    "collapsed": false
   },
   "outputs": [],
   "source": [
    "print(\"MF_SGD standard: \", evaluate(MF_SGD, test))\n",
    "print(\"MF_SGD deviation normalization: \", evaluate(MF_SGD_dev, test))\n",
    "print(\"improve: \", evaluate(MF_SGD, test) - evaluate(MF_SGD_dev, test))"
   ]
  },
  {
   "cell_type": "code",
   "execution_count": null,
   "metadata": {
    "collapsed": true
   },
   "outputs": [],
   "source": [
    ""
   ]
  },
  {
   "cell_type": "code",
   "execution_count": null,
   "metadata": {
    "collapsed": true
   },
   "outputs": [],
   "source": [
    ""
   ]
  },
  {
   "cell_type": "code",
   "execution_count": null,
   "metadata": {
    "collapsed": true
   },
   "outputs": [],
   "source": [
    ""
   ]
  },
  {
   "cell_type": "code",
   "execution_count": null,
   "metadata": {
    "collapsed": false
   },
   "outputs": [],
   "source": [
    "d = dict(df.groupby('User').mean().Rating)"
   ]
  },
  {
   "cell_type": "code",
   "execution_count": null,
   "metadata": {
    "collapsed": false
   },
   "outputs": [],
   "source": [
    "np.mean(list(d.values()))"
   ]
  },
  {
   "cell_type": "code",
   "execution_count": null,
   "metadata": {
    "collapsed": false
   },
   "outputs": [],
   "source": [
    "sgd_ws = np.arange(0.1, 1, 0.02)\n",
    "scores = []\n",
    "\n",
    "for sgd_w in sgd_ws:\n",
    "    mean_w = (1 - sgd_w) / 4\n",
    "    blender = blend([MF_SGD, movie_m, user_m], [sgd_w, 4 * mean_w, 0* mean_w])\n",
    "    score = evaluate(blender, test)\n",
    "    scores.append(score)"
   ]
  },
  {
   "cell_type": "code",
   "execution_count": null,
   "metadata": {
    "collapsed": false
   },
   "outputs": [],
   "source": [
    "plt.plot(sgd_ws, scores)"
   ]
  },
  {
   "cell_type": "code",
   "execution_count": null,
   "metadata": {
    "collapsed": false
   },
   "outputs": [],
   "source": [
    "blender = blend2([MF_SGD, movie_m, user_m], [0.8, 0.2 , 0])"
   ]
  },
  {
   "cell_type": "code",
   "execution_count": null,
   "metadata": {
    "collapsed": false
   },
   "outputs": [],
   "source": [
    "blender.head()"
   ]
  },
  {
   "cell_type": "markdown",
   "metadata": {},
   "source": [
    "## Do the prediction"
   ]
  },
  {
   "cell_type": "code",
   "execution_count": null,
   "metadata": {
    "collapsed": false
   },
   "outputs": [],
   "source": [
    "df_kaggle = load_csv_kaggle()"
   ]
  },
  {
   "cell_type": "code",
   "execution_count": null,
   "metadata": {
    "collapsed": false
   },
   "outputs": [],
   "source": [
    "df_kaggle.shape"
   ]
  },
  {
   "cell_type": "code",
   "execution_count": null,
   "metadata": {
    "collapsed": false
   },
   "outputs": [],
   "source": [
    "pred_MF = matrix_factorization_SGD(df, df_kaggle)"
   ]
  },
  {
   "cell_type": "code",
   "execution_count": null,
   "metadata": {
    "collapsed": false
   },
   "outputs": [],
   "source": [
    "pred_user = user_mean(df, df_kaggle)\n",
    "pred_movie = movie_mean(df, df_kaggle)"
   ]
  },
  {
   "cell_type": "code",
   "execution_count": null,
   "metadata": {
    "collapsed": false
   },
   "outputs": [],
   "source": [
    "blend = blender([pred_MF, pred_movie, pred_user], [0.8, 0.2, 0])\n",
    "blend.head()"
   ]
  },
  {
   "cell_type": "code",
   "execution_count": null,
   "metadata": {
    "collapsed": true
   },
   "outputs": [],
   "source": [
    "submission = submission_table(blend, 'User', 'Movie', 'Rating')"
   ]
  },
  {
   "cell_type": "code",
   "execution_count": null,
   "metadata": {
    "collapsed": false
   },
   "outputs": [],
   "source": [
    "submission.head()"
   ]
  },
  {
   "cell_type": "code",
   "execution_count": null,
   "metadata": {
    "collapsed": false
   },
   "outputs": [],
   "source": [
    "submission.to_csv('../preds/blend_0.8MF_0.2MovieM.csv', index=False)"
   ]
  },
  {
   "cell_type": "code",
   "execution_count": null,
   "metadata": {
    "collapsed": true
   },
   "outputs": [],
   "source": [
    ""
   ]
  }
 ],
 "metadata": {
  "anaconda-cloud": {},
  "kernelspec": {
   "display_name": "Python [conda root]",
   "language": "python",
   "name": "conda-root-py"
  },
  "language_info": {
   "codemirror_mode": {
    "name": "ipython",
    "version": 3.0
   },
   "file_extension": ".py",
   "mimetype": "text/x-python",
   "name": "python",
   "nbconvert_exporter": "python",
   "pygments_lexer": "ipython3",
   "version": "3.5.2"
  }
 },
 "nbformat": 4,
 "nbformat_minor": 0
}